{
 "cells": [
  {
   "cell_type": "markdown",
   "source": [
    "# <h1><center>Q-learning Tutorial</center></h1>\n",
    "\n",
    "This notebook provides an introductory tutorial to Q-learning. Specifically, we will implement Q-Learning using a Q-table in JAX and use it to steer a simplified brittle star robot towards a random target. The [brittle star robot and its environment](https://github.com/Co-Evolve/brb/tree/new-framework/brb/brittle_star) is part of the [**the Bio-inspired Robotics Benchmark (BRB)**](https://github.com/Co-Evolve/brb). Instead of directly outputting joint-level actions, we will use our Q-learned controller to modulate a CPG that in turn outputs the joint-level actions.\n"
   ],
   "metadata": {
    "collapsed": false
   },
   "id": "d19319df3ee69e93"
  },
  {
   "cell_type": "markdown",
   "source": [
    "## Q-Learning\n",
    "\n",
    "* Belongs to the class of model-free algorithms, meaning that it does not require prior knowledge (or a model) of the environment.\n",
    "* Is an off-policy algorithm, meaning that it does not necessarily use the 'current policy' to produce actions\n",
    "* As it name entails, the goal of the algorithm is to learn the Q-function\n",
    "    * The Q-function receives state and action pairs, and (tries to) return the expected cumulative reward\n",
    "        * In other words, it tries to predict the expected payoff of doing a certain action in a given state\n",
    "* In this tutorial we will focus on tabular Q-learning\n",
    "    * We will optimize the values of a two-dimensional table with states as rows and actions as columns.\n",
    "    * Each cell in this table corresponds to the Q value of a state and action\n",
    "        * As we use a table, the state and actions have to be discretized.\n",
    "    * Initially, this Q-table will be populated with arbitrary values or zeros\n",
    "    * The q-learning algorithm then tries to optimize the values in this table through an iterative process of exploration and exploitation.\n",
    "        * During the exploration phase, the agent will take random actions to gather information about the environment and update the Q-table accordingly\n",
    "        * As the agent explores more, it gradually transitions to the exploitation phase, where it leverages the learned Q-values to make more informed decisions and maximize the cumulative reward\n",
    "    * The Q-learning algorithm can be summarized as follows:\n",
    "        1. Initialize the Q-table with arbitrary values or zeros\n",
    "        2. Observe the current state of the environment\n",
    "        3. Choose an action to take based on a exploration-exploitation trade-off. This can for instance be done by using an exploration strategy like epsilon-greedy, where the agent selects a random action with a certain probability and chooses the action with the highest Q-value with a complementary probability.\n",
    "        4. Perform the chosen action and observe the reward and the resulting next state\n",
    "        5. Update the Q-value of the state-action pair using the Q-learning update rule:<br>\n",
    "        $Q(s,a) = (1 - \\alpha) Q(s,a) + \\alpha(r + \\gamma\\max(Q(s', a')))$<br>\n",
    "                where alpha $\\alpha$ is the learning rate, gamma $\\gamma$ is the discount factor that determines the importance of future rewards, $r$ is the immediate reward obtained (given by the environment), and $\\max(Q(s', a'))$ represents the maximum Q-value for the next state. \n",
    "        6. Repeat steps $2$ to $5$ until convergence or a predefined number of iterations.\n",
    "* A natural extension of the tabular Q-learning algorithm is the Deep-QLearning (DQN) algorithm. As it name gives away, the DQN algorithm swaps the Q-table for a deep Q-neural-network. This neural network maps states to Q(s, a) values. \n",
    "\n",
    "* This tutorial will focus on Q-Table learning "
   ],
   "metadata": {
    "collapsed": false
   },
   "id": "32ecd84ea867e0d5"
  },
  {
   "cell_type": "markdown",
   "source": [
    "## Implementing tabular Q-learning in JAX"
   ],
   "metadata": {
    "collapsed": false
   },
   "id": "1594f329c5fed9fb"
  },
  {
   "cell_type": "markdown",
   "source": [
    "When implementing something in JAX it's important to remember that JAX follows the functional programming paradigm. Put simply, we thus rely on pure functions (deterministic and without side effects) and immutable data structures (instead of changing data in place, new data structures are created with the desired modifications) as primary building blocks.\n",
    "\n",
    "We will thus start by creating a data structure that we will use to hold our current Q-Learner's state and its related learning (hyper)parameters."
   ],
   "metadata": {
    "collapsed": false
   },
   "id": "4fa47ef6c2af8b55"
  },
  {
   "cell_type": "code",
   "outputs": [],
   "source": [
    "import random\n",
    "\n",
    "import gymnasium\n",
    "from flax import struct\n",
    "import jax\n",
    "import jax.numpy as jnp\n",
    "\n",
    "\n",
    "@struct.dataclass\n",
    "class QLearnerState:\n",
    "    q_table: jnp.ndarray\n",
    "    alpha: float\n",
    "    epsilon: float\n",
    "    gamma: float\n",
    "\n",
    "\n",
    "def initialize_q_learning_state(\n",
    "        num_states: int,\n",
    "        num_actions: int,\n",
    "        alpha: float,\n",
    "        epsilon: float,\n",
    "        gamma: float,\n",
    "        rng: jnp.ndarray\n",
    "        ) -> QLearnerState:\n",
    "    # noinspection PyArgumentList\n",
    "    return QLearnerState(\n",
    "            q_table=jax.random.uniform(\n",
    "                    key=rng, shape=(num_states, num_actions), dtype=jnp.float32, minval=-0.001, maxval=0.001\n",
    "                    ), alpha=alpha, epsilon=epsilon, gamma=gamma\n",
    "            )"
   ],
   "metadata": {
    "collapsed": false,
    "ExecuteTime": {
     "end_time": "2024-01-17T16:28:22.715484Z",
     "start_time": "2024-01-17T16:28:22.710038Z"
    }
   },
   "id": "e8bb1f509d9b18a0",
   "execution_count": 8
  },
  {
   "cell_type": "markdown",
   "source": [
    "The `QLearnerState` will be the main data structure that we'll pass around between functions.\n",
    "Next, we can implement a function that receives the current `QLearnerState`, an environment state index (which represents the environment's state in a discretized manner), an action index, and a reward, and in turn returns an updated `QLearnerState` after applying the Q-learning update rule. "
   ],
   "metadata": {
    "collapsed": false
   },
   "id": "c2a4c6d040dee353"
  },
  {
   "cell_type": "code",
   "outputs": [],
   "source": [
    "def apply_q_learning_update_rule(\n",
    "        q_learner_state: QLearnerState,\n",
    "        state_index: int,\n",
    "        next_state_index: int,\n",
    "        action_index: int,\n",
    "        reward: float\n",
    "        ) -> QLearnerState:\n",
    "    old_q_value = q_learner_state.q_table[state_index, action_index]\n",
    "    best_future_q_value = jnp.max(q_learner_state.q_table[next_state_index])\n",
    "    q_value_update = reward + q_learner_state.gamma * best_future_q_value\n",
    "    new_q_value = (1 - q_learner_state.alpha) * old_q_value + q_learner_state.alpha * q_value_update\n",
    "\n",
    "    new_q_table = q_learner_state.q_table.at[state_index, action_index].set(new_q_value)\n",
    "    return q_learner_state.replace(q_table=new_q_table)"
   ],
   "metadata": {
    "collapsed": false,
    "ExecuteTime": {
     "end_time": "2024-01-17T16:28:24.746158Z",
     "start_time": "2024-01-17T16:28:24.742770Z"
    }
   },
   "id": "b7b936a5891d0675",
   "execution_count": 9
  },
  {
   "cell_type": "markdown",
   "source": [
    "Next, we can implement a function that represents our policy. This function will receive the current `QLeanerState`, uses the epsilon-greedy strategy to handle the trade-off between exploration and exploitation, and returns an action index."
   ],
   "metadata": {
    "collapsed": false
   },
   "id": "a09e646c3d856ccb"
  },
  {
   "cell_type": "code",
   "outputs": [],
   "source": [
    "def epsilon_greedy_policy(\n",
    "        q_learner_state: QLearnerState,\n",
    "        rng: jnp.ndarray,\n",
    "        state_index: int\n",
    "        ) -> int:\n",
    "    explore_rng, random_action_rng = jax.random.split(rng, 2)\n",
    "    explore = jax.random.uniform(explore_rng) < q_learner_state.epsilon\n",
    "\n",
    "    def get_random_action() -> int:\n",
    "        return jax.random.choice(key=random_action_rng, a=jnp.arange(q_learner_state.q_table.shape[1]))\n",
    "\n",
    "    def get_greedy_action() -> int:\n",
    "        return jnp.argmax(q_learner_state.q_table[state_index])\n",
    "\n",
    "    action_index = jax.lax.cond(\n",
    "            pred=explore, true_fun=get_random_action, false_fun=get_greedy_action\n",
    "            )\n",
    "\n",
    "    return action_index"
   ],
   "metadata": {
    "collapsed": false,
    "ExecuteTime": {
     "end_time": "2024-01-17T16:28:25.461662Z",
     "start_time": "2024-01-17T16:28:25.458213Z"
    }
   },
   "id": "3f333e4906a67f3d",
   "execution_count": 10
  },
  {
   "cell_type": "markdown",
   "source": [
    "A general training loop:"
   ],
   "metadata": {
    "collapsed": false
   },
   "id": "6a63d1da3b1c2793"
  },
  {
   "cell_type": "code",
   "outputs": [],
   "source": [
    "from typing import Any, Callable, Dict, Tuple\n",
    "from tqdm import tqdm\n",
    "from mujoco_utils.environment.mjx_env import MJXGymEnvWrapper\n",
    "\n",
    "ActionMapperState = Any\n",
    "\n",
    "def train_q_learning_agent(\n",
    "        q_learner_state: QLearnerState,\n",
    "        num_episodes: int,\n",
    "        env: MJXGymEnvWrapper,\n",
    "        seed: int,\n",
    "        state_indexer: Callable[[Dict[str, jnp.ndarray]], int],\n",
    "        action_mapper: Callable[[ActionMapperState, int], Tuple[ActionMapperState, jnp.ndarray]],\n",
    "        action_mapper_state: ActionMapperState\n",
    "        ) -> QLearnerState:\n",
    "    key = jax.random.PRNGKey(seed=seed)\n",
    "\n",
    "    for _ in tqdm(range(num_episodes)):\n",
    "        obs, info = env.reset()\n",
    "        state_index = state_indexer(obs)\n",
    "\n",
    "        done = False\n",
    "        while not done:\n",
    "            key, action_rng = jax.random.split(key, 2)\n",
    "\n",
    "            action_index = epsilon_greedy_policy(\n",
    "                    q_learner_state=q_learner_state, rng=action_rng, state_index=state_index\n",
    "                    )\n",
    "            action_mapper_state, actions = action_mapper(action_mapper_state, action_index)\n",
    "            obs, reward, terminated, truncated, info = env.step(actions=actions)\n",
    "\n",
    "            new_state_index = state_indexer(obs)\n",
    "            q_learner_state = apply_q_learning_update_rule(\n",
    "                    q_learner_state=q_learner_state,\n",
    "                    state_index=state_index,\n",
    "                    next_state_index=new_state_index,\n",
    "                    action_index=action_index,\n",
    "                    reward=reward\n",
    "                    )\n",
    "\n",
    "            done = jnp.any(terminated | truncated)\n",
    "            state_index = new_state_index\n",
    "\n",
    "    return q_learner_state"
   ],
   "metadata": {
    "collapsed": false,
    "ExecuteTime": {
     "end_time": "2024-01-17T16:36:58.585446Z",
     "start_time": "2024-01-17T16:36:54.310560Z"
    }
   },
   "id": "e94dfbc649127ed8",
   "execution_count": 11
  },
  {
   "cell_type": "markdown",
   "source": [
    "We can also create a general evaluation loop that we can use later to visualize our learned policy:"
   ],
   "metadata": {
    "collapsed": false
   },
   "id": "27cc07fb0f489467"
  },
  {
   "cell_type": "code",
   "outputs": [],
   "source": [
    "import numpy as np\n",
    "from typing import List\n",
    "\n",
    "\n",
    "def visualize_q_learning_agent(\n",
    "        q_learner_state: QLearnerState,\n",
    "        env: MJXGymEnvWrapper,\n",
    "        seed: int,\n",
    "        state_indexer: Callable[[Dict[str, jnp.ndarray]], int],\n",
    "        action_mapper: Callable[[int], jnp.ndarray]\n",
    "        ) -> List[np.ndarray]:\n",
    "    key = jax.random.PRNGKey(seed=seed)\n",
    "\n",
    "    obs, info = env.reset()\n",
    "    state_index = state_indexer(obs)\n",
    "\n",
    "    frames = []\n",
    "    done = False\n",
    "    while not done:\n",
    "        key, action_rng = jax.random.split(key, 2)\n",
    "\n",
    "        action_index = epsilon_greedy_policy(\n",
    "                q_learner_state=q_learner_state, rng=action_rng, state_index=state_index\n",
    "                )\n",
    "        actions = action_mapper(action_index)\n",
    "        obs, reward, terminated, truncated, info = env.step(actions=actions)\n",
    "\n",
    "        frames.append(env.render())\n",
    "        done = jnp.any(terminated | truncated)\n",
    "\n",
    "    return frames"
   ],
   "metadata": {
    "collapsed": false,
    "ExecuteTime": {
     "end_time": "2024-01-17T16:42:54.621764Z",
     "start_time": "2024-01-17T16:42:54.617619Z"
    }
   },
   "id": "4027bc6ad724db3c",
   "execution_count": 13
  },
  {
   "cell_type": "markdown",
   "source": [
    "Great, we have implemented the tabular Q-learning algorithm. Time to test it out with the brittle star environment!"
   ],
   "metadata": {
    "collapsed": false
   },
   "id": "14bfccb28f3054df"
  },
  {
   "cell_type": "markdown",
   "source": [
    "## Case study: CPG modulations for directed brittle star locomotion"
   ],
   "metadata": {
    "collapsed": false
   },
   "id": "e4f3b6a2ead0ed7"
  },
  {
   "cell_type": "markdown",
   "source": [
    "### Environment setup\n",
    "* Load BRB's brittle star environment -> targeted locomotion\n",
    "* Create a state indexer\n",
    "* Create an action mapper "
   ],
   "metadata": {
    "collapsed": false
   },
   "id": "acf71a68021b859b"
  },
  {
   "cell_type": "code",
   "outputs": [],
   "source": [
    "from mujoco_utils.environment.base import MuJoCoEnvironmentConfiguration\n",
    "from typing import Union\n",
    "import mediapy as media\n",
    "from brb.brittle_star.environment.target.mjx_env import BrittleStarTargetMJXEnvironment\n",
    "from brb.brittle_star.mjcf.morphology.morphology import MJCFBrittleStarMorphology\n",
    "from brb.brittle_star.mjcf.morphology.specification.default import default_brittle_star_morphology_specification\n",
    "from brb.brittle_star.mjcf.arena.aquarium import AquariumArenaConfiguration, MJCFAquariumArena\n",
    "from brb.brittle_star.environment.target.mjc_env import BrittleStarTargetEnvironmentConfiguration\n",
    "\n",
    "morphology_specification = default_brittle_star_morphology_specification(\n",
    "        num_arms=5, num_segments_per_arm=[2, 0, 2, 0, 0], use_p_control=True, use_torque_control=False\n",
    "        )\n",
    "arena_configuration = AquariumArenaConfiguration(\n",
    "        size=(10, 5), sand_ground_color=False, attach_target=True, wall_height=1.5, wall_thickness=0.1\n",
    "        )\n",
    "environment_configuration = BrittleStarTargetEnvironmentConfiguration(\n",
    "        # Distance to put our target at (targets are spawned on a circle around the starting location with this given radius).\n",
    "        target_distance=3.0,\n",
    "        joint_randomization_noise_scale=0.0,\n",
    "        render_mode=\"rgb_array\",\n",
    "        simulation_time=10,\n",
    "        num_physics_steps_per_control_step=10,\n",
    "        camera_ids=[0, 1]\n",
    "        )\n",
    "\n",
    "def create_environment(\n",
    "        num_environments: int = 1\n",
    "        ) -> MJXGymEnvWrapper:\n",
    "    morphology = MJCFBrittleStarMorphology(\n",
    "            specification=morphology_specification\n",
    "            )\n",
    "    arena = MJCFAquariumArena(\n",
    "            configuration=arena_configuration\n",
    "            )\n",
    "    env = BrittleStarTargetMJXEnvironment(morphology=morphology, arena=arena, configuration=environment_configuration)\n",
    "    return MJXGymEnvWrapper(env=env, num_envs=num_environments)\n",
    "\n",
    "\n",
    "def post_environment_render(\n",
    "        render_output: Union[np.ndarray, List[np.ndarray]],\n",
    "        ) -> np.ndarray:\n",
    "    if len(environment_configuration.camera_ids) > 1:\n",
    "        render_output = np.concatenate(render_output, axis=1)\n",
    "    \n",
    "    return render_output[:, :, ::-1]  # RGB to BGR"
   ],
   "metadata": {
    "collapsed": false,
    "ExecuteTime": {
     "end_time": "2024-01-17T17:14:15.687412Z",
     "start_time": "2024-01-17T17:14:15.684712Z"
    }
   },
   "id": "f3df4a5004f1aa81",
   "execution_count": 33
  },
  {
   "cell_type": "code",
   "outputs": [
    {
     "name": "stdout",
     "output_type": "stream",
     "text": [
      "Observation space:\n",
      "Dict('disk_angular_velocity': Box(-inf, inf, (3,), float32), 'disk_linear_velocity': Box(-inf, inf, (3,), float32), 'disk_position': Box(-inf, inf, (3,), float32), 'disk_rotation': Box(-3.1415927, 3.1415927, (3,), float32), 'in_plane_joint_position': Box(-0.5235988, 0.5235988, (4,), float32), 'in_plane_joint_velocity': Box(-inf, inf, (4,), float32), 'out_of_plane_joint_position': Box(-0.5235988, 0.5235988, (4,), float32), 'out_of_plane_joint_velocity': Box(-inf, inf, (4,), float32), 'segment_contact': Box(0.0, 1.0, (4,), float32), 'unit_xy_direction_to_target': Box(-1.0, 1.0, (2,), float32), 'xy_distance_to_target': Box(0.0, inf, (1,), float32))\n",
      "\n",
      "Action space:\n",
      "Box(-0.5235988, 0.5235988, (8,), float32)\n"
     ]
    },
    {
     "data": {
      "text/plain": "<IPython.core.display.HTML object>",
      "text/html": "<table class=\"show_images\" style=\"border-spacing:0px;\"><tr><td style=\"padding:1px;\"><img width=\"640\" height=\"240\" style=\"image-rendering:auto; object-fit:cover;\" src=\"data:image/png;base64,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\"/></td></tr></table>"
     },
     "metadata": {},
     "output_type": "display_data"
    }
   ],
   "source": [
    "env = create_environment(num_environments=1)\n",
    "print(\"Observation space:\")\n",
    "print(env.observation_space)\n",
    "print()\n",
    "print(\"Action space:\")\n",
    "print(env.action_space)\n",
    "env.reset()\n",
    "media.show_image(post_environment_render(env.render()))\n",
    "env.close()"
   ],
   "metadata": {
    "collapsed": false,
    "ExecuteTime": {
     "end_time": "2024-01-17T17:14:28.271968Z",
     "start_time": "2024-01-17T17:14:18.711340Z"
    }
   },
   "id": "51b4b9cc27fe20f6",
   "execution_count": 34
  },
  {
   "cell_type": "markdown",
   "source": [],
   "metadata": {
    "collapsed": false
   },
   "id": "5c68481e231a858d"
  },
  {
   "cell_type": "markdown",
   "source": [
    "### CPG setup\n",
    "\n",
    "* CPG model from Sproewitz paper\n",
    "* 2 bi-directionally connected oscillators per arm\n",
    "    * One for in plane and one for out-of plane\n",
    "        * these should be in anti-phase (in plane forward should align with out of plane upward)\n",
    "    * we will modulate the amplitude\n",
    "    * every segment of one arm will use the same action \n",
    "* In plane oscillator of arm 1 is connected to in plane oscillator of arm 2 (same for out of plane)\n",
    "    * we keep these in the same phase\n",
    "* Show image of oscillator to body mapping"
   ],
   "metadata": {
    "collapsed": false
   },
   "id": "b604a397298308ee"
  },
  {
   "cell_type": "code",
   "outputs": [],
   "source": [
    "# Constants\n",
    "NUM_OSCILLATORS = 4 # [arm1_in_plane, arm1_out_of_plane, arm2_in_plane, arm2_out_of_plane]\n",
    "AMPLITUDE_GAIN = 20\n",
    "OFFSET_GAIN = 20\n",
    "ADJACENCY_MATRIX = jnp.array([\n",
    "        [0, 1, 1, 0],\n",
    "        [1, 0, 0, 1],\n",
    "        [1, 0, 0, 1],\n",
    "        [0, 1, 1, 0]\n",
    "        ]) \n",
    "WEIGHTS = ADJACENCY_MATRIX * 5.0\n",
    "OFFSETS = jnp.zeros(NUM_OSCILLATORS)\n",
    "anti_phase_oscillator_pairs = [(0, 1), (2, 3), (0, 2)]\n",
    "RHOS = jnp.zeros_like(ADJACENCY_MATRIX, dtype=jnp.float32)\n",
    "for i, j in anti_phase_oscillator_pairs:\n",
    "    RHOS = RHOS.at[i, j].set(jnp.pi)\n",
    "OMEGAS = jnp.ones(NUM_OSCILLATORS) * 2 * jnp.pi"
   ],
   "metadata": {
    "collapsed": false,
    "ExecuteTime": {
     "end_time": "2024-01-17T22:18:04.652180Z",
     "start_time": "2024-01-17T22:18:04.646948Z"
    }
   },
   "id": "39d27cb7e9da9327",
   "execution_count": 44
  },
  {
   "cell_type": "markdown",
   "source": [
    "Copied CPG implementation from the CPG tutorial:"
   ],
   "metadata": {
    "collapsed": false
   },
   "id": "611d6966bc1f7830"
  },
  {
   "cell_type": "code",
   "outputs": [],
   "source": [
    "@struct.dataclass\n",
    "class CPGState:\n",
    "    time: float\n",
    "    phases: jnp.ndarray\n",
    "    dot_amplitudes: jnp.ndarray  # first order derivative of the amplitude\n",
    "    amplitudes: jnp.ndarray\n",
    "    dot_offsets: jnp.ndarray  # first order derivative of the offset \n",
    "    offsets: jnp.ndarray\n",
    "    outputs: jnp.ndarray\n",
    "\n",
    "# Initial conditions\n",
    "def get_random_initial_state(\n",
    "        rng: jnp.ndarray\n",
    "        ) -> CPGState:\n",
    "    phase_rng, amplitude_rng, offsets_rng = jax.random.split(rng, 3) \n",
    "    # noinspection PyArgumentList\n",
    "    state = CPGState(\n",
    "            phases=jax.random.uniform(\n",
    "                    key=phase_rng, shape=(NUM_OSCILLATORS,), dtype=jnp.float32, minval=-jnp.pi, maxval=jnp.pi\n",
    "                    ),\n",
    "            amplitudes=jax.random.uniform(\n",
    "                    key=phase_rng, shape=(NUM_OSCILLATORS,), dtype=jnp.float32, minval=0, maxval=1\n",
    "                    ),\n",
    "            offsets=jax.random.uniform(key=phase_rng, shape=(NUM_OSCILLATORS,), dtype=jnp.float32, minval=-1, maxval=1),\n",
    "            dot_amplitudes=jnp.zeros(ADJACENCY_MATRIX.shape[0]),\n",
    "            dot_offsets=jnp.zeros(ADJACENCY_MATRIX.shape[0]),\n",
    "            outputs=jnp.zeros(ADJACENCY_MATRIX.shape[0]),\n",
    "            time=0.0\n",
    "            )\n",
    "    return state\n",
    "\n",
    "def rk4_solver(\n",
    "        current_time: float,\n",
    "        y: float,\n",
    "        derivative_fn: Callable[[float, float], float],\n",
    "        delta_time: float\n",
    "        ) -> float:\n",
    "    # This is the original euler\n",
    "    slope1 = derivative_fn(current_time, y)\n",
    "    # These are additional slope calculations that improve our approximation of the true slope  \n",
    "    slope2 = derivative_fn(current_time + delta_time / 2, y + slope1 * delta_time / 2)\n",
    "    slope3 = derivative_fn(current_time + delta_time / 2, y + slope2 * delta_time / 2)\n",
    "    slope4 = derivative_fn(current_time + delta_time, y + slope3 * delta_time)\n",
    "    average_slope = (slope1 + 2 * slope2 + 2 * slope3 + slope4) / 6\n",
    "    next_y = y + average_slope * delta_time\n",
    "    return next_y\n",
    "\n",
    "def phase_de(\n",
    "        omegas: jnp.ndarray,\n",
    "        amplitudes: jnp.ndarray,\n",
    "        phases: jnp.ndarray,\n",
    "        phase_biases: jnp.ndarray\n",
    "        ) -> jnp.ndarray:\n",
    "    @jax.vmap  # vectorizes this function for us over an additional batch dimension (in this case over all oscillators)\n",
    "    def sine_term(\n",
    "            phase_i: float,\n",
    "            phase_biases_i: float\n",
    "            ) -> jnp.ndarray:\n",
    "        return jnp.sin(phases - phase_i - phase_biases_i)\n",
    "\n",
    "    couplings = jnp.sum(WEIGHTS * amplitudes * sine_term(phase_i=phases, phase_biases_i=phase_biases), axis=1)\n",
    "    return omegas + couplings\n",
    "\n",
    "def second_order_de(\n",
    "        gain: jnp.ndarray,\n",
    "        modulator: jnp.ndarray,\n",
    "        values: jnp.ndarray,\n",
    "        dot_values: jnp.ndarray\n",
    "        ) -> jnp.ndarray:\n",
    "    return gain * ((gain / 4) * (modulator - values) - dot_values)\n",
    "\n",
    "\n",
    "def first_order_de(\n",
    "        dot_values: jnp.ndarray\n",
    "        ) -> jnp.ndarray:\n",
    "    return dot_values\n",
    "def output(\n",
    "        offsets: jnp.ndarray,\n",
    "        amplitudes: jnp.ndarray,\n",
    "        phases: jnp.ndarray\n",
    "        ) -> jnp.ndarray:\n",
    "    return offsets + amplitudes * jnp.cos(phases)\n",
    "\n",
    "# Remember: derivative_fn expects (time, y)\n",
    "def step_cpg(\n",
    "        delta_time: float,\n",
    "        state: CPGState,\n",
    "        solver: Callable,\n",
    "        # Modulation parameters\n",
    "        omegas: jnp.ndarray,\n",
    "        R: jnp.ndarray,\n",
    "        X: jnp.ndarray,\n",
    "        rhos: jnp.ndarray\n",
    "        ) -> CPGState:\n",
    "    # Update phase\n",
    "    new_phases = solver(\n",
    "            current_time=state.time,\n",
    "            y=state.phases,\n",
    "            derivative_fn=lambda\n",
    "                t,\n",
    "                y: phase_de(\n",
    "                    omegas=omegas, amplitudes=state.amplitudes, phases=y, phase_biases=rhos\n",
    "                    ),\n",
    "            delta_time=delta_time\n",
    "            )\n",
    "    new_dot_amplitudes = solver(\n",
    "            current_time=state.time,\n",
    "            y=state.dot_amplitudes,\n",
    "            derivative_fn=lambda\n",
    "                t,\n",
    "                y: second_order_de(gain=AMPLITUDE_GAIN, modulator=R, values=state.amplitudes, dot_values=y),\n",
    "            delta_time=delta_time\n",
    "            )\n",
    "    new_amplitudes = solver(\n",
    "            current_time=state.time,\n",
    "            y=state.amplitudes,\n",
    "            derivative_fn=lambda\n",
    "                t,\n",
    "                y: first_order_de(dot_values=state.dot_amplitudes),\n",
    "            delta_time=delta_time\n",
    "            )\n",
    "    new_dot_offsets = solver(\n",
    "            current_time=0,\n",
    "            y=state.dot_offsets,\n",
    "            derivative_fn=lambda\n",
    "                t,\n",
    "                y: second_order_de(gain=OFFSET_GAIN, modulator=X, values=state.offsets, dot_values=y),\n",
    "            delta_time=delta_time\n",
    "            )\n",
    "    new_offsets = solver(\n",
    "            current_time=0,\n",
    "            y=state.offsets,\n",
    "            derivative_fn=lambda\n",
    "                t,\n",
    "                y: first_order_de(dot_values=state.dot_offsets),\n",
    "            delta_time=delta_time\n",
    "            )\n",
    "\n",
    "    new_outputs = output(offsets=new_offsets, amplitudes=new_amplitudes, phases=new_phases)\n",
    "    # noinspection PyUnresolvedReferences\n",
    "    return state.replace(\n",
    "            phases=new_phases,\n",
    "            dot_amplitudes=new_dot_amplitudes,\n",
    "            amplitudes=new_amplitudes,\n",
    "            dot_offsets=new_dot_offsets,\n",
    "            offsets=new_offsets,\n",
    "            outputs=new_outputs,\n",
    "            time=state.time + delta_time\n",
    "            )\n"
   ],
   "metadata": {
    "collapsed": false,
    "ExecuteTime": {
     "end_time": "2024-01-17T22:18:05.447176Z",
     "start_time": "2024-01-17T22:18:05.440548Z"
    }
   },
   "id": "8c2214b36e742650",
   "execution_count": 45
  },
  {
   "cell_type": "markdown",
   "source": [
    "Connecting the CPG to the environment\n",
    "* Make sure actions are within the given action space range\n",
    "* Match times (i.e. CPG has a timeline and env has a timeline -> Make it match) "
   ],
   "metadata": {
    "collapsed": false
   },
   "id": "af6b093500fa3e2b"
  },
  {
   "cell_type": "code",
   "outputs": [],
   "source": [],
   "metadata": {
    "collapsed": false
   },
   "id": "be0988c38cd81e13"
  },
  {
   "cell_type": "code",
   "outputs": [],
   "source": [
    "env = create_environment(1)"
   ],
   "metadata": {
    "collapsed": false
   },
   "id": "b9ec46e2e7bd5ace"
  },
  {
   "cell_type": "markdown",
   "source": [
    "### Exploit JAX: vectorize!\n",
    "Todo: compare training times"
   ],
   "metadata": {
    "collapsed": false
   },
   "id": "affd42fbc860baa6"
  },
  {
   "cell_type": "code",
   "execution_count": null,
   "id": "initial_id",
   "metadata": {
    "collapsed": true
   },
   "outputs": [],
   "source": []
  }
 ],
 "metadata": {
  "kernelspec": {
   "display_name": "Python 3",
   "language": "python",
   "name": "python3"
  },
  "language_info": {
   "codemirror_mode": {
    "name": "ipython",
    "version": 2
   },
   "file_extension": ".py",
   "mimetype": "text/x-python",
   "name": "python",
   "nbconvert_exporter": "python",
   "pygments_lexer": "ipython2",
   "version": "2.7.6"
  }
 },
 "nbformat": 4,
 "nbformat_minor": 5
}
