{
 "cells": [
  {
   "cell_type": "markdown",
   "source": [
    "# <h1><center>Q-learning Tutorial</center></h1>\n",
    "\n",
    "This notebook provides an introductory tutorial to Q-learning. Specifically, we will implement Q-Learning using a Q-table in JAX and use it to steer a simplified brittle star robot towards a random target. The [brittle star robot and its environment](https://github.com/Co-Evolve/brb/tree/new-framework/brb/brittle_star) is part of the [**the Bio-inspired Robotics Benchmark (BRB)**](https://github.com/Co-Evolve/brb). Instead of directly outputting joint-level actions, we will use our Q-learned controller to modulate a CPG that in turn outputs the joint-level actions.\n"
   ],
   "metadata": {
    "collapsed": false
   },
   "id": "d19319df3ee69e93"
  },
  {
   "cell_type": "markdown",
   "source": [
    "## Q-Learning\n",
    "\n",
    "* Belongs to the class of model-free algorithms, meaning that it does not require prior knowledge (or a model) of the environment.\n",
    "* Is an off-policy algorithm, meaning that it does not necessarily use the 'current policy' to produce actions\n",
    "* As it name entails, the goal of the algorithm is to learn the Q-function\n",
    "    * The Q-function receives state and action pairs, and (tries to) return the expected cumulative reward\n",
    "        * In other words, it tries to predict the expected payoff of doing a certain action in a given state\n",
    "* In this tutorial we will focus on tabular Q-learning\n",
    "    * We will optimize the values of a two-dimensional table with states as rows and actions as columns.\n",
    "    * Each cell in this table corresponds to the Q value of a state and action\n",
    "        * As we use a table, the state and actions have to be discretized.\n",
    "    * Initially, this Q-table will be populated with arbitrary values or zeros\n",
    "    * The q-learning algorithm then tries to optimize the values in this table through an iterative process of exploration and exploitation.\n",
    "        * During the exploration phase, the agent will take random actions to gather information about the environment and update the Q-table accordingly\n",
    "        * As the agent explores more, it gradually transitions to the exploitation phase, where it leverages the learned Q-values to make more informed decisions and maximize the cumulative reward\n",
    "    * The Q-learning algorithm can be summarized as follows:\n",
    "        1. Initialize the Q-table with arbitrary values or zeros\n",
    "        2. Observe the current state of the environment\n",
    "        3. Choose an action to take based on a exploration-exploitation trade-off. This can for instance be done by using an exploration strategy like epsilon-greedy, where the agent selects a random action with a certain probability and chooses the action with the highest Q-value with a complementary probability.\n",
    "        4. Perform the chosen action and observe the reward and the resulting next state\n",
    "        5. Update the Q-value of the state-action pair using the Q-learning update rule:<br>\n",
    "        $Q(s,a) = (1 - \\alpha) Q(s,a) + \\alpha(r + \\gamma\\max(Q(s', a')))$<br>\n",
    "                where alpha $\\alpha$ is the learning rate, gamma $\\gamma$ is the discount factor that determines the importance of future rewards, $r$ is the immediate reward obtained (given by the environment), and $\\max(Q(s', a'))$ represents the maximum Q-value for the next state. \n",
    "        6. Repeat steps $2$ to $5$ until convergence or a predefined number of iterations.\n",
    "* A natural extension of the tabular Q-learning algorithm is the Deep-QLearning (DQN) algorithm. As it name gives away, the DQN algorithm swaps the Q-table for a deep Q-neural-network. This neural network maps states to Q(s, a) values. \n",
    "\n",
    "* This tutorial will focus on Q-Table learning "
   ],
   "metadata": {
    "collapsed": false
   },
   "id": "32ecd84ea867e0d5"
  },
  {
   "cell_type": "markdown",
   "source": [
    "## Implementing tabular Q-learning in JAX\n",
    "\n",
    "When implementing something in JAX it's important to remember that JAX follows the functional programming paradigm. Put simply, we thus rely on pure functions (deterministic and without side effects) and immutable data structures (instead of changing data in place, new data structures are created with the desired modifications) as primary building blocks.\n",
    "\n",
    "We will thus start by creating a data structure that we will use to hold our current Q-Learner's state and its related learning (hyper)parameters."
   ],
   "metadata": {
    "collapsed": false
   },
   "id": "1594f329c5fed9fb"
  },
  {
   "cell_type": "code",
   "outputs": [],
   "source": [
    "import random\n",
    "\n",
    "import gymnasium\n",
    "from flax import struct\n",
    "import jax\n",
    "import jax.numpy as jnp\n",
    "\n",
    "\n",
    "@struct.dataclass\n",
    "class QLearnerState:\n",
    "    q_table: jnp.ndarray\n",
    "    alpha: float\n",
    "    epsilon: float\n",
    "    gamma: float\n",
    "\n",
    "\n",
    "def initialize_q_learning_state(\n",
    "        num_states: int,\n",
    "        num_actions: int,\n",
    "        alpha: float,\n",
    "        epsilon: float,\n",
    "        gamma: float,\n",
    "        rng: jnp.ndarray\n",
    "        ) -> QLearnerState:\n",
    "    # noinspection PyArgumentList\n",
    "    return QLearnerState(\n",
    "            q_table=jax.random.uniform(\n",
    "                    key=rng, shape=(num_states, num_actions), dtype=jnp.float32, minval=-0.001, maxval=0.001\n",
    "                    ), alpha=alpha, epsilon=epsilon, gamma=gamma\n",
    "            )"
   ],
   "metadata": {
    "collapsed": false,
    "ExecuteTime": {
     "end_time": "2024-01-23T09:31:30.376765Z",
     "start_time": "2024-01-23T09:31:27.986018Z"
    }
   },
   "id": "e8bb1f509d9b18a0",
   "execution_count": 2
  },
  {
   "cell_type": "markdown",
   "source": [
    "The `QLearnerState` will be the main data structure that we'll pass around between functions.\n",
    "Next, we can implement a function that receives the current `QLearnerState`, an environment state index (which represents the environment's state in a discretized manner), an action index, and a reward, and in turn returns an updated `QLearnerState` after applying the Q-learning update rule. "
   ],
   "metadata": {
    "collapsed": false
   },
   "id": "c2a4c6d040dee353"
  },
  {
   "cell_type": "code",
   "outputs": [],
   "source": [
    "@jax.jit\n",
    "def apply_q_learning_update_rule(\n",
    "        q_learner_state: QLearnerState,\n",
    "        state_index: int,\n",
    "        next_state_index: int,\n",
    "        action_index: int,\n",
    "        reward: float\n",
    "        ) -> QLearnerState:\n",
    "    old_q_value = q_learner_state.q_table[state_index, action_index]\n",
    "    best_future_q_value = jnp.max(q_learner_state.q_table[next_state_index])\n",
    "    q_value_update = reward + q_learner_state.gamma * best_future_q_value\n",
    "    new_q_value = (1 - q_learner_state.alpha) * old_q_value + q_learner_state.alpha * q_value_update\n",
    "\n",
    "    new_q_table = q_learner_state.q_table.at[state_index, action_index].set(new_q_value)\n",
    "    return q_learner_state.replace(q_table=new_q_table)"
   ],
   "metadata": {
    "collapsed": false,
    "ExecuteTime": {
     "end_time": "2024-01-23T10:39:35.037615Z",
     "start_time": "2024-01-23T10:39:35.017741Z"
    }
   },
   "id": "b7b936a5891d0675",
   "execution_count": 70
  },
  {
   "cell_type": "markdown",
   "source": [
    "Next, we can implement a function that represents our policy. This function will receive the current `QLeanerState`, uses the epsilon-greedy strategy to handle the trade-off between exploration and exploitation, and returns an action index."
   ],
   "metadata": {
    "collapsed": false
   },
   "id": "a09e646c3d856ccb"
  },
  {
   "cell_type": "code",
   "outputs": [],
   "source": [
    "@jax.jit\n",
    "def epsilon_greedy_policy(\n",
    "        q_learner_state: QLearnerState,\n",
    "        rng: jnp.ndarray,\n",
    "        state_index: int\n",
    "        ) -> int:\n",
    "    explore_rng, random_action_rng = jax.random.split(rng, 2)\n",
    "    explore = jax.random.uniform(explore_rng) < q_learner_state.epsilon\n",
    "\n",
    "    def get_random_action() -> int:\n",
    "        return jax.random.choice(key=random_action_rng, a=jnp.arange(q_learner_state.q_table.shape[1]))\n",
    "\n",
    "    def get_greedy_action() -> int:\n",
    "        return jnp.argmax(q_learner_state.q_table[state_index])\n",
    "\n",
    "    action_index = jax.lax.cond(\n",
    "            pred=explore, true_fun=get_random_action, false_fun=get_greedy_action\n",
    "            )\n",
    "\n",
    "    return action_index"
   ],
   "metadata": {
    "collapsed": false,
    "ExecuteTime": {
     "end_time": "2024-01-23T10:39:36.073959Z",
     "start_time": "2024-01-23T10:39:36.066496Z"
    }
   },
   "id": "3f333e4906a67f3d",
   "execution_count": 71
  },
  {
   "cell_type": "markdown",
   "source": [
    "A general training loop:"
   ],
   "metadata": {
    "collapsed": false
   },
   "id": "6a63d1da3b1c2793"
  },
  {
   "cell_type": "code",
   "outputs": [],
   "source": [
    "from typing import Any, Callable, Dict, Tuple\n",
    "from tqdm import tqdm\n",
    "from mujoco_utils.environment.mjx_env import MJXGymEnvWrapper\n",
    "\n",
    "ActionMapperState = Any\n",
    "\n",
    "\n",
    "def train_q_learning_agent(\n",
    "        q_learner_state: QLearnerState,\n",
    "        num_episodes: int,\n",
    "        env: MJXGymEnvWrapper,\n",
    "        state_indexer: Callable[[Dict[str, jnp.ndarray]], int],\n",
    "        action_mapper: Callable[[ActionMapperState, int], Tuple[ActionMapperState, jnp.ndarray]],\n",
    "        action_mapper_state: ActionMapperState,\n",
    "        rng: jnp.ndarray\n",
    "        ) -> QLearnerState:\n",
    "\n",
    "\n",
    "    for _ in tqdm(range(num_episodes)):\n",
    "        obs, info = env.reset()\n",
    "        state_index = state_indexer(obs)\n",
    "\n",
    "        done = False\n",
    "        while not done:\n",
    "            rng, action_rng = jax.random.split(rng, 2)\n",
    "\n",
    "            action_index = epsilon_greedy_policy(\n",
    "                    q_learner_state=q_learner_state, rng=action_rng, state_index=state_index\n",
    "                    )\n",
    "            action_mapper_state, actions = action_mapper(action_mapper_state, action_index)\n",
    "            obs, reward, terminated, truncated, info = env.step(actions=actions)\n",
    "\n",
    "            new_state_index = state_indexer(obs)\n",
    "            q_learner_state = apply_q_learning_update_rule(\n",
    "                    q_learner_state=q_learner_state,\n",
    "                    state_index=state_index,\n",
    "                    next_state_index=new_state_index,\n",
    "                    action_index=action_index,\n",
    "                    reward=reward\n",
    "                    )\n",
    "\n",
    "            done = jnp.any(terminated | truncated)\n",
    "            state_index = new_state_index\n",
    "\n",
    "    return q_learner_state"
   ],
   "metadata": {
    "collapsed": false,
    "ExecuteTime": {
     "end_time": "2024-01-23T10:39:40.421606Z",
     "start_time": "2024-01-23T10:39:40.414173Z"
    }
   },
   "id": "e94dfbc649127ed8",
   "execution_count": 72
  },
  {
   "cell_type": "markdown",
   "source": [
    "We can also create a general evaluation loop that we can use later to visualize our learned policy:"
   ],
   "metadata": {
    "collapsed": false
   },
   "id": "27cc07fb0f489467"
  },
  {
   "cell_type": "code",
   "outputs": [],
   "source": [
    "import numpy as np\n",
    "from typing import List\n",
    "\n",
    "\n",
    "def visualize_q_learning_agent(\n",
    "        q_learner_state: QLearnerState,\n",
    "        env: MJXGymEnvWrapper,\n",
    "        state_indexer: Callable[[Dict[str, jnp.ndarray]], int],\n",
    "        action_mapper: Callable[[int], jnp.ndarray], ) -> List[np.ndarray]:\n",
    "    obs, info = env.reset()\n",
    "\n",
    "    # noinspection PyUnresolvedReferences\n",
    "    #   no more random actions\n",
    "    q_learner_state = q_learner_state.replace(epsilon=0)\n",
    "    action_rng = jax.random.PRNGKey(0)\n",
    "\n",
    "    frames = []\n",
    "    done = False\n",
    "    while not done:\n",
    "        state_index = state_indexer(obs)\n",
    "\n",
    "        action_index = epsilon_greedy_policy(\n",
    "                q_learner_state=q_learner_state, rng=action_rng, state_index=state_index\n",
    "                )\n",
    "        actions = action_mapper(action_index)\n",
    "        obs, reward, terminated, truncated, info = env.step(actions=actions)\n",
    "\n",
    "        frames.append(env.render())\n",
    "        done = jnp.any(terminated | truncated)\n",
    "\n",
    "    return frames"
   ],
   "metadata": {
    "collapsed": false,
    "ExecuteTime": {
     "end_time": "2024-01-23T10:23:29.517089Z",
     "start_time": "2024-01-23T10:23:29.497054Z"
    }
   },
   "id": "4027bc6ad724db3c",
   "execution_count": 63
  },
  {
   "cell_type": "markdown",
   "source": [
    "TODO: visualize QTable"
   ],
   "metadata": {
    "collapsed": false
   },
   "id": "57e9f63383db3cd0"
  },
  {
   "cell_type": "code",
   "outputs": [],
   "source": [],
   "metadata": {
    "collapsed": false
   },
   "id": "9a58c69bd38f966f"
  },
  {
   "cell_type": "markdown",
   "source": [
    "Great, we have implemented the tabular Q-learning algorithm. Time to test it out with the brittle star environment!"
   ],
   "metadata": {
    "collapsed": false
   },
   "id": "14bfccb28f3054df"
  },
  {
   "cell_type": "markdown",
   "source": [
    "## Case study: CPG modulations for directed brittle star locomotion"
   ],
   "metadata": {
    "collapsed": false
   },
   "id": "e4f3b6a2ead0ed7"
  },
  {
   "cell_type": "markdown",
   "source": [
    "### Environment setup\n",
    "* Load BRB's brittle star environment -> targeted locomotion\n",
    "* Create a state indexer\n",
    "* Create an action mapper "
   ],
   "metadata": {
    "collapsed": false
   },
   "id": "acf71a68021b859b"
  },
  {
   "cell_type": "code",
   "outputs": [],
   "source": [
    "from mujoco_utils.environment.base import MuJoCoEnvironmentConfiguration\n",
    "from typing import Union\n",
    "import mediapy as media\n",
    "from brb.brittle_star.environment.target.mjx_env import BrittleStarTargetMJXEnvironment\n",
    "from brb.brittle_star.mjcf.morphology.morphology import MJCFBrittleStarMorphology\n",
    "from brb.brittle_star.mjcf.morphology.specification.default import default_brittle_star_morphology_specification\n",
    "from brb.brittle_star.mjcf.arena.aquarium import AquariumArenaConfiguration, MJCFAquariumArena\n",
    "from brb.brittle_star.environment.target.mjc_env import BrittleStarTargetEnvironmentConfiguration\n",
    "\n",
    "morphology_specification = default_brittle_star_morphology_specification(\n",
    "        num_arms=5, num_segments_per_arm=5, use_p_control=True, use_torque_control=False\n",
    "        )\n",
    "arena_configuration = AquariumArenaConfiguration(\n",
    "        size=(10, 5), sand_ground_color=False, attach_target=True, wall_height=1.5, wall_thickness=0.1\n",
    "        )\n",
    "environment_configuration = BrittleStarTargetEnvironmentConfiguration(\n",
    "        # Distance to put our target at (targets are spawned on a circle around the starting location with this given radius).\n",
    "        target_distance=3.0,\n",
    "        joint_randomization_noise_scale=0.0,\n",
    "        render_mode=\"rgb_array\",\n",
    "        simulation_time=10,\n",
    "        num_physics_steps_per_control_step=10,\n",
    "        camera_ids=[0, 1]\n",
    "        )\n",
    "\n",
    "\n",
    "def create_environment(\n",
    "        num_environments: int = 1\n",
    "        ) -> MJXGymEnvWrapper:\n",
    "    morphology = MJCFBrittleStarMorphology(\n",
    "            specification=morphology_specification\n",
    "            )\n",
    "    arena = MJCFAquariumArena(\n",
    "            configuration=arena_configuration\n",
    "            )\n",
    "    env = BrittleStarTargetMJXEnvironment(morphology=morphology, arena=arena, configuration=environment_configuration)\n",
    "    return MJXGymEnvWrapper(env=env, num_envs=num_environments)\n",
    "\n",
    "\n",
    "def post_environment_render(\n",
    "        render_output: Union[np.ndarray, List[np.ndarray]], ) -> np.ndarray:\n",
    "    if len(environment_configuration.camera_ids) > 1:\n",
    "        render_output = np.concatenate(render_output, axis=1)\n",
    "\n",
    "    return render_output[:, :, ::-1]  # RGB to BGR"
   ],
   "metadata": {
    "collapsed": false,
    "ExecuteTime": {
     "end_time": "2024-01-23T09:34:33.834951Z",
     "start_time": "2024-01-23T09:34:33.818424Z"
    }
   },
   "id": "f3df4a5004f1aa81",
   "execution_count": 16
  },
  {
   "cell_type": "code",
   "outputs": [
    {
     "name": "stdout",
     "output_type": "stream",
     "text": [
      "Observation space:\n",
      "Dict('disk_angular_velocity': Box(-inf, inf, (3,), float32), 'disk_linear_velocity': Box(-inf, inf, (3,), float32), 'disk_position': Box(-inf, inf, (3,), float32), 'disk_rotation': Box(-3.1415927, 3.1415927, (3,), float32), 'in_plane_joint_position': Box(-0.5235988, 0.5235988, (4,), float32), 'in_plane_joint_velocity': Box(-inf, inf, (4,), float32), 'out_of_plane_joint_position': Box(-0.5235988, 0.5235988, (4,), float32), 'out_of_plane_joint_velocity': Box(-inf, inf, (4,), float32), 'segment_contact': Box(0.0, 1.0, (4,), float32), 'unit_xy_direction_to_target': Box(-1.0, 1.0, (2,), float32), 'xy_distance_to_target': Box(0.0, inf, (1,), float32))\n",
      "\n",
      "Action space:\n",
      "Box(-0.5235988, 0.5235988, (8,), float32)\n"
     ]
    },
    {
     "data": {
      "text/plain": "<IPython.core.display.HTML object>",
      "text/html": "<table class=\"show_images\" style=\"border-spacing:0px;\"><tr><td style=\"padding:1px;\"><img width=\"640\" height=\"240\" style=\"image-rendering:auto; object-fit:cover;\" src=\"data:image/png;base64,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\"/></td></tr></table>"
     },
     "metadata": {},
     "output_type": "display_data"
    }
   ],
   "source": [
    "env = create_environment(num_environments=1)\n",
    "print(\"Observation space:\")\n",
    "print(env.observation_space)\n",
    "print()\n",
    "print(\"Action space:\")\n",
    "print(env.action_space)\n",
    "env.reset()\n",
    "media.show_image(post_environment_render(env.render()))\n",
    "env.close()"
   ],
   "metadata": {
    "collapsed": false,
    "ExecuteTime": {
     "end_time": "2024-01-23T09:31:46.755816Z",
     "start_time": "2024-01-23T09:31:36.130551Z"
    }
   },
   "id": "51b4b9cc27fe20f6",
   "execution_count": 8
  },
  {
   "cell_type": "markdown",
   "source": [
    "### CPG setup\n",
    "\n",
    "* CPG model from Sproewitz paper\n",
    "* Oscillator system from the CPG tutorial"
   ],
   "metadata": {
    "collapsed": false
   },
   "id": "b604a397298308ee"
  },
  {
   "cell_type": "markdown",
   "source": [
    "Copied CPG implementation from the CPG tutorial:"
   ],
   "metadata": {
    "collapsed": false
   },
   "id": "611d6966bc1f7830"
  },
  {
   "cell_type": "code",
   "outputs": [],
   "source": [
    "from functools import partial\n",
    "from flax import struct\n",
    "import jax\n",
    "import jax.numpy as jnp\n",
    "\n",
    "\n",
    "@struct.dataclass\n",
    "class CPGState:\n",
    "    time: float\n",
    "    phases: jnp.ndarray\n",
    "    dot_amplitudes: jnp.ndarray  # first order derivative of the amplitude\n",
    "    amplitudes: jnp.ndarray\n",
    "    dot_offsets: jnp.ndarray  # first order derivative of the offset \n",
    "    offsets: jnp.ndarray\n",
    "    outputs: jnp.ndarray\n",
    "\n",
    "\n",
    "@struct.dataclass\n",
    "class CPGConstants:\n",
    "    num_oscillators: int\n",
    "    amplitude_gain: float\n",
    "    offset_gain: float\n",
    "    weights: jnp.ndarray\n",
    "    dt: float\n",
    "\n",
    "\n",
    "@struct.dataclass\n",
    "class CPGModulators:\n",
    "    R: jnp.ndarray\n",
    "    X: jnp.ndarray\n",
    "    omegas: jnp.ndarray\n",
    "    rhos: jnp.ndarray\n",
    "\n",
    "\n",
    "@struct.dataclass\n",
    "class CPG:\n",
    "    state: CPGState\n",
    "    constants: CPGConstants\n",
    "    modulators: CPGModulators\n",
    "\n",
    "\n",
    "def phase_de(\n",
    "        weights: jnp.ndarray,\n",
    "        amplitudes: jnp.ndarray,\n",
    "        phases: jnp.ndarray,\n",
    "        phase_biases: jnp.ndarray,\n",
    "        omegas: jnp.ndarray\n",
    "        ) -> jnp.ndarray:\n",
    "    @jax.vmap  # vectorizes this function for us over an additional batch dimension (in this case over all oscillators)\n",
    "    def sine_term(\n",
    "            phase_i: float,\n",
    "            phase_biases_i: float\n",
    "            ) -> jnp.ndarray:\n",
    "        return jnp.sin(phases - phase_i - phase_biases_i)\n",
    "\n",
    "    couplings = jnp.sum(weights * amplitudes * sine_term(phase_i=phases, phase_biases_i=phase_biases), axis=1)\n",
    "    return omegas + couplings\n",
    "\n",
    "\n",
    "def second_order_de(\n",
    "        gain: jnp.ndarray,\n",
    "        modulator: jnp.ndarray,\n",
    "        values: jnp.ndarray,\n",
    "        dot_values: jnp.ndarray\n",
    "        ) -> jnp.ndarray:\n",
    "    return gain * ((gain / 4) * (modulator - values) - dot_values)\n",
    "\n",
    "\n",
    "def first_order_de(\n",
    "        dot_values: jnp.ndarray\n",
    "        ) -> jnp.ndarray:\n",
    "    return dot_values\n",
    "\n",
    "\n",
    "def output(\n",
    "        offsets: jnp.ndarray,\n",
    "        amplitudes: jnp.ndarray,\n",
    "        phases: jnp.ndarray\n",
    "        ) -> jnp.ndarray:\n",
    "    return offsets + amplitudes * jnp.cos(phases)\n",
    "\n",
    "\n",
    "@partial(jax.jit, static_argnums=(1,))\n",
    "def step_cpg(\n",
    "        cpg: CPG,\n",
    "        solver: Callable\n",
    "        ) -> CPGState:\n",
    "    # Update phase\n",
    "    new_phases = solver(\n",
    "            current_time=cpg.state.time,\n",
    "            y=cpg.state.phases,\n",
    "            derivative_fn=lambda\n",
    "                t,\n",
    "                y: phase_de(\n",
    "                    omegas=cpg.modulators.omegas,\n",
    "                    amplitudes=cpg.state.amplitudes,\n",
    "                    phases=y,\n",
    "                    phase_biases=cpg.modulators.rhos,\n",
    "                    weights=cpg.constants.weights\n",
    "                    ),\n",
    "            delta_time=cpg.constants.dt\n",
    "            )\n",
    "    new_dot_amplitudes = solver(\n",
    "            current_time=cpg.state.time,\n",
    "            y=cpg.state.dot_amplitudes,\n",
    "            derivative_fn=lambda\n",
    "                t,\n",
    "                y: second_order_de(\n",
    "                    gain=cpg.constants.amplitude_gain,\n",
    "                    modulator=cpg.modulators.R,\n",
    "                    values=cpg.state.amplitudes,\n",
    "                    dot_values=y\n",
    "                    ),\n",
    "            delta_time=cpg.constants.dt\n",
    "            )\n",
    "    new_amplitudes = solver(\n",
    "            current_time=cpg.state.time,\n",
    "            y=cpg.state.amplitudes,\n",
    "            derivative_fn=lambda\n",
    "                t,\n",
    "                y: first_order_de(dot_values=cpg.state.dot_amplitudes),\n",
    "            delta_time=cpg.constants.dt\n",
    "            )\n",
    "    new_dot_offsets = solver(\n",
    "            current_time=cpg.state.time,\n",
    "            y=cpg.state.dot_offsets,\n",
    "            derivative_fn=lambda\n",
    "                t,\n",
    "                y: second_order_de(\n",
    "                    gain=cpg.constants.offset_gain, modulator=cpg.modulators.X, values=cpg.state.offsets, dot_values=y\n",
    "                    ),\n",
    "            delta_time=cpg.constants.dt\n",
    "            )\n",
    "    new_offsets = solver(\n",
    "            current_time=0,\n",
    "            y=cpg.state.offsets,\n",
    "            derivative_fn=lambda\n",
    "                t,\n",
    "                y: first_order_de(dot_values=cpg.state.dot_offsets),\n",
    "            delta_time=cpg.constants.dt\n",
    "            )\n",
    "\n",
    "    new_outputs = output(offsets=new_offsets, amplitudes=new_amplitudes, phases=new_phases)\n",
    "    # noinspection PyUnresolvedReferences\n",
    "    return cpg.replace(\n",
    "            state=cpg.state.replace(\n",
    "                    phases=new_phases,\n",
    "                    dot_amplitudes=new_dot_amplitudes,\n",
    "                    amplitudes=new_amplitudes,\n",
    "                    dot_offsets=new_dot_offsets,\n",
    "                    offsets=new_offsets,\n",
    "                    outputs=new_outputs,\n",
    "                    time=cpg.state.time + cpg.constants.dt\n",
    "                    )\n",
    "            )\n",
    "\n",
    "\n",
    "def get_random_initial_cpg_state(\n",
    "        rng: jnp.ndarray,\n",
    "        cpg_constants: CPGConstants\n",
    "        ) -> CPGState:\n",
    "    phase_rng, amplitude_rng, offsets_rng = jax.random.split(rng, 3)\n",
    "    # noinspection PyArgumentList\n",
    "    state = CPGState(\n",
    "            phases=jax.random.uniform(\n",
    "                    key=phase_rng,\n",
    "                    shape=(cpg_constants.num_oscillators,),\n",
    "                    dtype=jnp.float32,\n",
    "                    minval=-jnp.pi,\n",
    "                    maxval=jnp.pi\n",
    "                    ),\n",
    "            amplitudes=jnp.zeros(cpg_constants.num_oscillators),\n",
    "            offsets=jnp.zeros(cpg_constants.num_oscillators),\n",
    "            dot_amplitudes=jnp.zeros(cpg_constants.num_oscillators),\n",
    "            dot_offsets=jnp.zeros(cpg_constants.num_oscillators),\n",
    "            outputs=jnp.zeros(cpg_constants.num_oscillators),\n",
    "            time=0.0\n",
    "            )\n",
    "    return state\n",
    "\n",
    "\n",
    "def euler_solver(\n",
    "        current_time: float,\n",
    "        y: float,\n",
    "        derivative_fn: Callable[[float, float], float],\n",
    "        delta_time: float\n",
    "        ) -> float:\n",
    "    slope = derivative_fn(current_time, y)\n",
    "    next_y = y + delta_time * slope\n",
    "    return next_y"
   ],
   "metadata": {
    "collapsed": false,
    "ExecuteTime": {
     "end_time": "2024-01-23T10:40:28.371571Z",
     "start_time": "2024-01-23T10:40:28.358896Z"
    }
   },
   "id": "8c2214b36e742650",
   "execution_count": 73
  },
  {
   "cell_type": "markdown",
   "source": [
    "Helper function to create our CPG system:"
   ],
   "metadata": {
    "collapsed": false
   },
   "id": "d03538f596710d13"
  },
  {
   "cell_type": "code",
   "outputs": [],
   "source": [
    "def create_cpg(\n",
    "        rng: jnp.ndarray\n",
    "        ) -> CPG:\n",
    "    ip_oscillator_indices = jnp.arange(0, 10, 2)\n",
    "    oop_oscillator_indices = jnp.arange(1, 10, 2)\n",
    "\n",
    "    adjacency_matrix = jnp.zeros((10, 10))\n",
    "    # Connect oscillators within an arm\n",
    "    adjacency_matrix = adjacency_matrix.at[ip_oscillator_indices, oop_oscillator_indices].set(1)\n",
    "    # Connect IP oscillators of neighbouring arms\n",
    "    adjacency_matrix = adjacency_matrix.at[\n",
    "        ip_oscillator_indices, jnp.concatenate((ip_oscillator_indices[1:], jnp.array([ip_oscillator_indices[0]])))].set(\n",
    "            1\n",
    "            )\n",
    "    # Connect OOP oscillators of neighbouring arms\n",
    "    adjacency_matrix = adjacency_matrix.at[oop_oscillator_indices, jnp.concatenate(\n",
    "            (oop_oscillator_indices[1:], jnp.array([oop_oscillator_indices[0]]))\n",
    "            )].set(1)\n",
    "\n",
    "    # Make adjacency matrix symmetric (i.e. make all connections bi-directional)\n",
    "    adjacency_matrix = jnp.maximum(adjacency_matrix, adjacency_matrix.T)\n",
    "    # Connect oscillators within an arm\n",
    "    ip_oscillator_indices = jnp.arange(0, 10, 2)\n",
    "    oop_oscillator_indices = jnp.arange(1, 10, 2)\n",
    "    adjacency_matrix = adjacency_matrix.at[ip_oscillator_indices, oop_oscillator_indices].set(1)\n",
    "\n",
    "    # We will overwrite this in our modulation later!\n",
    "    rhos = jnp.zeros_like(adjacency_matrix, dtype=jnp.float32)\n",
    "\n",
    "    # noinspection PyArgumentList\n",
    "    cpg_constants = CPGConstants(\n",
    "            num_oscillators=10,\n",
    "            amplitude_gain=20,\n",
    "            offset_gain=20,\n",
    "            weights=5 * adjacency_matrix,\n",
    "            dt=environment_configuration.control_timestep\n",
    "            )\n",
    "\n",
    "    cpg_state = get_random_initial_cpg_state(rng=rng, cpg_constants=cpg_constants)\n",
    "    # noinspection PyArgumentList\n",
    "    cpg_modulators = CPGModulators(\n",
    "            R=jnp.zeros(cpg_constants.num_oscillators),\n",
    "            X=jnp.zeros(cpg_constants.num_oscillators),\n",
    "            omegas=jnp.pi * jnp.ones(cpg_constants.num_oscillators),\n",
    "            rhos=rhos\n",
    "            )\n",
    "    # noinspection PyArgumentList\n",
    "    cpg = CPG(\n",
    "            state=cpg_state, constants=cpg_constants, modulators=cpg_modulators\n",
    "            )\n",
    "    return cpg\n",
    "\n",
    "\n",
    "from typing import Tuple\n",
    "\n",
    "\n",
    "def get_oscillator_indices_for_arm(\n",
    "        arm_index: int\n",
    "        ) -> Tuple[int, int]:\n",
    "    return arm_index * 2, arm_index * 2 + 1\n",
    "\n",
    "\n",
    "def modulate_cpg(\n",
    "        cpg: CPG,\n",
    "        leading_arm_index: int,\n",
    "        joint_limit: float, \n",
    "        ) -> CPG:\n",
    "    left_rower_arm_indices = [(leading_arm_index - 1) % 5, (leading_arm_index - 2) % 5]\n",
    "    right_rower_arm_indices = [(leading_arm_index + 1) % 5, (leading_arm_index + 2) % 5]\n",
    "\n",
    "    leading_arm_ip_oscillator_index, leading_arm_oop_oscillator_index = get_oscillator_indices_for_arm(\n",
    "            arm_index=leading_arm_index\n",
    "            )\n",
    "\n",
    "    R = jnp.zeros(cpg.constants.num_oscillators)\n",
    "    X = jnp.zeros(cpg.constants.num_oscillators)\n",
    "    omegas = cpg.modulators.omegas\n",
    "    rhos = jnp.zeros_like(cpg.modulators.rhos)\n",
    "\n",
    "    phases_bias_pairs = []\n",
    "\n",
    "    for arm_index in range(5):\n",
    "        ip_oscillator_index, oop_oscillator_index = get_oscillator_indices_for_arm(arm_index=arm_index)\n",
    "\n",
    "        if arm_index == leading_arm_index:\n",
    "            X = X.at[oop_oscillator_index].set(joint_limit)\n",
    "        else:\n",
    "            R = R.at[ip_oscillator_index].set(joint_limit)\n",
    "            R = R.at[oop_oscillator_index].set(joint_limit)\n",
    "\n",
    "            if arm_index in left_rower_arm_indices:\n",
    "                phases_bias_pairs.append((ip_oscillator_index, oop_oscillator_index, jnp.pi / 2))\n",
    "\n",
    "                if arm_index == left_rower_arm_indices[0]:\n",
    "                    phases_bias_pairs.append((ip_oscillator_index, leading_arm_ip_oscillator_index, jnp.pi / 4))\n",
    "                    phases_bias_pairs.append((leading_arm_oop_oscillator_index, oop_oscillator_index, jnp.pi / 4))\n",
    "            else:\n",
    "                phases_bias_pairs.append((oop_oscillator_index, ip_oscillator_index, jnp.pi / 2))\n",
    "\n",
    "                if arm_index == right_rower_arm_indices[0]:\n",
    "                    phases_bias_pairs.append((leading_arm_ip_oscillator_index, ip_oscillator_index, jnp.pi / 4))\n",
    "                    phases_bias_pairs.append((oop_oscillator_index, leading_arm_oop_oscillator_index, jnp.pi / 4))\n",
    "\n",
    "    # Handle the coupling between the second arm's oscillator ond the left and right of the leading arm\n",
    "    #   Make the IP oscillators run in anti phase\n",
    "    left_ip_oscillator_index, _ = get_oscillator_indices_for_arm(arm_index=left_rower_arm_indices[1])\n",
    "    right_ip_oscillator_index, _ = get_oscillator_indices_for_arm(arm_index=right_rower_arm_indices[1])\n",
    "    phases_bias_pairs.append((left_ip_oscillator_index, right_ip_oscillator_index, jnp.pi))\n",
    "\n",
    "    for oscillator1, oscillator2, bias in phases_bias_pairs:\n",
    "        rhos = rhos.at[oscillator1, oscillator2].set(bias)\n",
    "        rhos = rhos.at[oscillator2, oscillator1].set(-bias)\n",
    "\n",
    "    # noinspection PyArgumentList\n",
    "    new_modulators = CPGModulators(\n",
    "            R=R, X=X, omegas=omegas, rhos=rhos\n",
    "            )\n",
    "    # noinspection PyUnresolvedReferences\n",
    "    return cpg.replace(modulators=new_modulators)\n",
    "\n",
    "\n",
    "def map_cpg_outputs_to_actions(\n",
    "        cpg: CPG\n",
    "        ) -> jnp.ndarray:\n",
    "    num_arms = morphology_specification.number_of_arms\n",
    "    num_oscillators_per_arm = 2\n",
    "    num_segments_per_arm = morphology_specification.number_of_segments_per_arm[0]\n",
    "\n",
    "    cpg_outputs_per_arm = cpg.state.outputs.reshape((num_arms, num_oscillators_per_arm))\n",
    "    cpg_outputs_per_segment = cpg_outputs_per_arm.repeat(num_segments_per_arm, axis=0)\n",
    "\n",
    "    actions = cpg_outputs_per_segment.flatten()\n",
    "    return actions"
   ],
   "metadata": {
    "collapsed": false,
    "ExecuteTime": {
     "end_time": "2024-01-23T10:47:38.931343Z",
     "start_time": "2024-01-23T10:47:38.919539Z"
    }
   },
   "id": "be09fe434545e56d",
   "execution_count": 91
  },
  {
   "cell_type": "markdown",
   "source": [
    "Implement the action mapper: in this case our `action_index` is the leading arm for our CPG modulation."
   ],
   "metadata": {
    "collapsed": false
   },
   "id": "25f769cd0bed53df"
  },
  {
   "cell_type": "code",
   "outputs": [],
   "source": [
    "def cpg_action_mapper(\n",
    "        cpg: CPG,\n",
    "        action_index: int,\n",
    "        joint_limit: float\n",
    "        ) -> Tuple[CPG, jnp.ndarray]:\n",
    "    cpg = modulate_cpg(cpg=cpg, leading_arm_index=action_index, joint_limit=joint_limit)\n",
    "    cpg = step_cpg(cpg=cpg, solver=euler_solver)\n",
    "    actions = map_cpg_outputs_to_actions(cpg=cpg)\n",
    "    return cpg, actions"
   ],
   "metadata": {
    "collapsed": false,
    "ExecuteTime": {
     "end_time": "2024-01-23T10:47:39.619296Z",
     "start_time": "2024-01-23T10:47:39.609973Z"
    }
   },
   "id": "c50f3682bd2b5e60",
   "execution_count": 92
  },
  {
   "cell_type": "markdown",
   "source": [
    "Implement the state indexer. In this case, we will only use the `unit_xy_direction_to_target` observation. We'll convert this into an actual angle w.r.t. the robot's orientation and descretize it in 5 areas (one per arm)."
   ],
   "metadata": {
    "collapsed": false
   },
   "id": "f2833c023148fad7"
  },
  {
   "cell_type": "code",
   "outputs": [],
   "source": [
    "@jax.jit\n",
    "def state_indexer(\n",
    "        observations: Dict[str, jnp.ndarray]\n",
    "        ) -> int:\n",
    "    direction_to_target = observations[\"unit_xy_direction_to_target\"]\n",
    "    angle_to_target_wrt_x_axis = jnp.arctan2(direction_to_target[1], direction_to_target[0])\n",
    "    disk_rotation_wrt_x_axis = observations[\"disk_rotation\"][-1]\n",
    "\n",
    "    angle_to_target_wrt_first_arm = angle_to_target_wrt_x_axis - disk_rotation_wrt_x_axis\n",
    "\n",
    "    num_arms = morphology_specification.number_of_arms\n",
    "    a = jnp.pi / num_arms\n",
    "    bin_edges = jnp.arange(-num_arms * a, (num_arms + 1) * a, 2 * a)\n",
    "    bin_index = jnp.digitize(angle_to_target_wrt_first_arm, bin_edges, right=False) - 1\n",
    "    bin_index_to_arm_index = jnp.array([3, 4, 0, 1, 2])\n",
    "\n",
    "    return bin_index_to_arm_index[bin_index]"
   ],
   "metadata": {
    "collapsed": false,
    "ExecuteTime": {
     "end_time": "2024-01-23T10:45:51.090774Z",
     "start_time": "2024-01-23T10:45:51.082103Z"
    }
   },
   "id": "e296ee160afb3d1",
   "execution_count": 89
  },
  {
   "cell_type": "code",
   "outputs": [],
   "source": [
    "env = create_environment(1)"
   ],
   "metadata": {
    "collapsed": false,
    "ExecuteTime": {
     "end_time": "2024-01-23T09:35:07.985339Z",
     "start_time": "2024-01-23T09:34:50.535706Z"
    }
   },
   "id": "48fe5553afdfe077",
   "execution_count": 18
  },
  {
   "cell_type": "code",
   "outputs": [
    {
     "data": {
      "text/plain": "0.5235988"
     },
     "execution_count": 87,
     "metadata": {},
     "output_type": "execute_result"
    }
   ],
   "source": [
    "obs, info = env.reset()"
   ],
   "metadata": {
    "collapsed": false,
    "ExecuteTime": {
     "end_time": "2024-01-23T10:45:27.935086Z",
     "start_time": "2024-01-23T10:45:27.914735Z"
    }
   },
   "id": "bae8536983af915c",
   "execution_count": 87
  },
  {
   "cell_type": "code",
   "outputs": [
    {
     "data": {
      "text/plain": "<IPython.core.display.HTML object>",
      "text/html": "<table class=\"show_images\" style=\"border-spacing:0px;\"><tr><td style=\"padding:1px;\"><img width=\"640\" height=\"240\" style=\"image-rendering:auto; object-fit:cover;\" src=\"data:image/png;base64,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\"/></td></tr></table>"
     },
     "metadata": {},
     "output_type": "display_data"
    }
   ],
   "source": [
    "media.show_image(post_environment_render(env.render()))\n",
    "media.write_image(\"image.png\", post_environment_render(env.render()))"
   ],
   "metadata": {
    "collapsed": false,
    "ExecuteTime": {
     "end_time": "2024-01-23T10:00:19.993996Z",
     "start_time": "2024-01-23T10:00:19.904599Z"
    }
   },
   "id": "fd202d5bc3d7e80a",
   "execution_count": 51
  },
  {
   "cell_type": "code",
   "outputs": [],
   "source": [
    "rng = jax.random.PRNGKey(seed=0)\n",
    "rng, q_learner_rng, cpg_rng, train_rng = jax.random.split(rng, 4)\n",
    "\n",
    "q_learner_state = initialize_q_learning_state(\n",
    "        num_states=morphology_specification.number_of_arms,\n",
    "        num_actions=morphology_specification.number_of_arms,\n",
    "        alpha=0.1,\n",
    "        epsilon=0.3,\n",
    "        gamma=0.99,\n",
    "        rng=q_learner_rng\n",
    "        )\n",
    "cpg = create_cpg(rng=cpg_rng)"
   ],
   "metadata": {
    "collapsed": false,
    "ExecuteTime": {
     "end_time": "2024-01-23T10:41:33.710325Z",
     "start_time": "2024-01-23T10:41:33.690839Z"
    }
   },
   "id": "23dc6829b006dd82",
   "execution_count": 78
  },
  {
   "cell_type": "code",
   "outputs": [
    {
     "name": "stderr",
     "output_type": "stream",
     "text": [
      "  1%|          | 6/1000 [02:25<6:42:37, 24.30s/it]\n"
     ]
    },
    {
     "ename": "KeyboardInterrupt",
     "evalue": "",
     "output_type": "error",
     "traceback": [
      "\u001B[0;31m---------------------------------------------------------------------------\u001B[0m",
      "\u001B[0;31mKeyboardInterrupt\u001B[0m                         Traceback (most recent call last)",
      "Cell \u001B[0;32mIn[93], line 1\u001B[0m\n\u001B[0;32m----> 1\u001B[0m trained_q_learner_state \u001B[38;5;241m=\u001B[39m \u001B[43mtrain_q_learning_agent\u001B[49m\u001B[43m(\u001B[49m\n\u001B[1;32m      2\u001B[0m \u001B[43m        \u001B[49m\u001B[43mq_learner_state\u001B[49m\u001B[38;5;241;43m=\u001B[39;49m\u001B[43mq_learner_state\u001B[49m\u001B[43m,\u001B[49m\n\u001B[1;32m      3\u001B[0m \u001B[43m        \u001B[49m\u001B[43mnum_episodes\u001B[49m\u001B[38;5;241;43m=\u001B[39;49m\u001B[38;5;241;43m1000\u001B[39;49m\u001B[43m,\u001B[49m\n\u001B[1;32m      4\u001B[0m \u001B[43m        \u001B[49m\u001B[43menv\u001B[49m\u001B[38;5;241;43m=\u001B[39;49m\u001B[43menv\u001B[49m\u001B[43m,\u001B[49m\n\u001B[1;32m      5\u001B[0m \u001B[43m        \u001B[49m\u001B[43mstate_indexer\u001B[49m\u001B[38;5;241;43m=\u001B[39;49m\u001B[43mstate_indexer\u001B[49m\u001B[43m,\u001B[49m\n\u001B[1;32m      6\u001B[0m \u001B[43m        \u001B[49m\u001B[43maction_mapper\u001B[49m\u001B[38;5;241;43m=\u001B[39;49m\u001B[43mpartial\u001B[49m\u001B[43m(\u001B[49m\u001B[43mcpg_action_mapper\u001B[49m\u001B[43m,\u001B[49m\u001B[43m \u001B[49m\u001B[43mjoint_limit\u001B[49m\u001B[38;5;241;43m=\u001B[39;49m\u001B[43menv\u001B[49m\u001B[38;5;241;43m.\u001B[39;49m\u001B[43maction_space\u001B[49m\u001B[38;5;241;43m.\u001B[39;49m\u001B[43mhigh\u001B[49m\u001B[43m[\u001B[49m\u001B[38;5;241;43m0\u001B[39;49m\u001B[43m]\u001B[49m\u001B[43m)\u001B[49m\u001B[43m,\u001B[49m\n\u001B[1;32m      7\u001B[0m \u001B[43m        \u001B[49m\u001B[43maction_mapper_state\u001B[49m\u001B[38;5;241;43m=\u001B[39;49m\u001B[43mcpg\u001B[49m\u001B[43m,\u001B[49m\n\u001B[1;32m      8\u001B[0m \u001B[43m        \u001B[49m\u001B[43mrng\u001B[49m\u001B[38;5;241;43m=\u001B[39;49m\u001B[43mtrain_rng\u001B[49m\n\u001B[1;32m      9\u001B[0m \u001B[43m        \u001B[49m\u001B[43m)\u001B[49m\n",
      "Cell \u001B[0;32mIn[72], line 31\u001B[0m, in \u001B[0;36mtrain_q_learning_agent\u001B[0;34m(q_learner_state, num_episodes, env, state_indexer, action_mapper, action_mapper_state, rng)\u001B[0m\n\u001B[1;32m     27\u001B[0m action_index \u001B[38;5;241m=\u001B[39m epsilon_greedy_policy(\n\u001B[1;32m     28\u001B[0m         q_learner_state\u001B[38;5;241m=\u001B[39mq_learner_state, rng\u001B[38;5;241m=\u001B[39maction_rng, state_index\u001B[38;5;241m=\u001B[39mstate_index\n\u001B[1;32m     29\u001B[0m         )\n\u001B[1;32m     30\u001B[0m action_mapper_state, actions \u001B[38;5;241m=\u001B[39m action_mapper(action_mapper_state, action_index)\n\u001B[0;32m---> 31\u001B[0m obs, reward, terminated, truncated, info \u001B[38;5;241m=\u001B[39m \u001B[43menv\u001B[49m\u001B[38;5;241;43m.\u001B[39;49m\u001B[43mstep\u001B[49m\u001B[43m(\u001B[49m\u001B[43mactions\u001B[49m\u001B[38;5;241;43m=\u001B[39;49m\u001B[43mactions\u001B[49m\u001B[43m)\u001B[49m\n\u001B[1;32m     33\u001B[0m new_state_index \u001B[38;5;241m=\u001B[39m state_indexer(obs)\n\u001B[1;32m     34\u001B[0m q_learner_state \u001B[38;5;241m=\u001B[39m apply_q_learning_update_rule(\n\u001B[1;32m     35\u001B[0m         q_learner_state\u001B[38;5;241m=\u001B[39mq_learner_state,\n\u001B[1;32m     36\u001B[0m         state_index\u001B[38;5;241m=\u001B[39mstate_index,\n\u001B[0;32m   (...)\u001B[0m\n\u001B[1;32m     39\u001B[0m         reward\u001B[38;5;241m=\u001B[39mreward\n\u001B[1;32m     40\u001B[0m         )\n",
      "File \u001B[0;32m~/miniforge3/envs/SEL3-2024/lib/python3.11/site-packages/mujoco_utils/environment/mjx_env.py:394\u001B[0m, in \u001B[0;36mMJXGymEnvWrapper.step\u001B[0;34m(self, actions)\u001B[0m\n\u001B[1;32m    389\u001B[0m \u001B[38;5;28;01mdef\u001B[39;00m \u001B[38;5;21mstep\u001B[39m(\n\u001B[1;32m    390\u001B[0m         \u001B[38;5;28mself\u001B[39m,\n\u001B[1;32m    391\u001B[0m         actions: ActType\n\u001B[1;32m    392\u001B[0m         ) \u001B[38;5;241m-\u001B[39m\u001B[38;5;241m>\u001B[39m Union[StepReturnType, StepBatchReturnType]:\n\u001B[1;32m    393\u001B[0m \u001B[38;5;250m    \u001B[39m\u001B[38;5;124;03m\"\"\"Steps through the environment with action.\"\"\"\u001B[39;00m\n\u001B[0;32m--> 394\u001B[0m     \u001B[38;5;28mself\u001B[39m\u001B[38;5;241m.\u001B[39m_mjx_state \u001B[38;5;241m=\u001B[39m \u001B[38;5;28;43mself\u001B[39;49m\u001B[38;5;241;43m.\u001B[39;49m\u001B[43m_jit_step\u001B[49m\u001B[43m(\u001B[49m\u001B[38;5;28;43mself\u001B[39;49m\u001B[38;5;241;43m.\u001B[39;49m\u001B[43m_mjx_state\u001B[49m\u001B[43m,\u001B[49m\u001B[43m \u001B[49m\u001B[43mactions\u001B[49m\u001B[43m)\u001B[49m\n\u001B[1;32m    396\u001B[0m     \u001B[38;5;28;01mreturn\u001B[39;00m (\n\u001B[1;32m    397\u001B[0m     \u001B[38;5;28mself\u001B[39m\u001B[38;5;241m.\u001B[39m_mjx_state\u001B[38;5;241m.\u001B[39mobservations, \u001B[38;5;28mself\u001B[39m\u001B[38;5;241m.\u001B[39m_mjx_state\u001B[38;5;241m.\u001B[39mreward, \u001B[38;5;28mself\u001B[39m\u001B[38;5;241m.\u001B[39m_mjx_state\u001B[38;5;241m.\u001B[39mterminated, \u001B[38;5;28mself\u001B[39m\u001B[38;5;241m.\u001B[39m_mjx_state\u001B[38;5;241m.\u001B[39mtruncated,\n\u001B[1;32m    398\u001B[0m     \u001B[38;5;28mself\u001B[39m\u001B[38;5;241m.\u001B[39m_mjx_state\u001B[38;5;241m.\u001B[39minfo)\n",
      "File \u001B[0;32m~/miniforge3/envs/SEL3-2024/lib/python3.11/site-packages/mujoco/mjx/_src/dataclasses.py:74\u001B[0m, in \u001B[0;36mdataclass.<locals>.clz_from_iterable\u001B[0;34m(meta, data)\u001B[0m\n\u001B[1;32m     71\u001B[0m   meta \u001B[38;5;241m=\u001B[39m \u001B[38;5;28mtuple\u001B[39m(to_meta(f, x) \u001B[38;5;28;01mfor\u001B[39;00m f \u001B[38;5;129;01min\u001B[39;00m meta_fields)\n\u001B[1;32m     72\u001B[0m   \u001B[38;5;28;01mreturn\u001B[39;00m data, meta\n\u001B[0;32m---> 74\u001B[0m \u001B[38;5;28;01mdef\u001B[39;00m \u001B[38;5;21mclz_from_iterable\u001B[39m(meta, data):\n\u001B[1;32m     76\u001B[0m   \u001B[38;5;28;01mdef\u001B[39;00m \u001B[38;5;21mfrom_meta\u001B[39m(field, meta):\n\u001B[1;32m     77\u001B[0m     \u001B[38;5;28;01mif\u001B[39;00m field\u001B[38;5;241m.\u001B[39mtype \u001B[38;5;129;01mis\u001B[39;00m np\u001B[38;5;241m.\u001B[39mndarray:\n",
      "\u001B[0;31mKeyboardInterrupt\u001B[0m: "
     ]
    }
   ],
   "source": [
    "trained_q_learner_state = train_q_learning_agent(\n",
    "        q_learner_state=q_learner_state,\n",
    "        num_episodes=1000,\n",
    "        env=env,\n",
    "        state_indexer=state_indexer,\n",
    "        action_mapper=partial(cpg_action_mapper, joint_limit=env.action_space.high[0]),\n",
    "        action_mapper_state=cpg,\n",
    "        rng=train_rng\n",
    "        )"
   ],
   "metadata": {
    "collapsed": false,
    "ExecuteTime": {
     "end_time": "2024-01-23T10:50:21.474268Z",
     "start_time": "2024-01-23T10:47:55.633535Z"
    }
   },
   "id": "9141041fce69178c",
   "execution_count": 93
  },
  {
   "cell_type": "code",
   "outputs": [
    {
     "data": {
      "text/plain": "5000"
     },
     "execution_count": 60,
     "metadata": {},
     "output_type": "execute_result"
    }
   ],
   "source": [],
   "metadata": {
    "collapsed": false,
    "ExecuteTime": {
     "end_time": "2024-01-23T10:07:40.437829Z",
     "start_time": "2024-01-23T10:07:40.414925Z"
    }
   },
   "id": "bf78ae3ba63b7de4",
   "execution_count": 60
  },
  {
   "cell_type": "code",
   "outputs": [],
   "source": [
    "env.close()"
   ],
   "metadata": {
    "collapsed": false,
    "ExecuteTime": {
     "end_time": "2024-01-23T09:34:48.473462Z",
     "start_time": "2024-01-23T09:34:48.456275Z"
    }
   },
   "id": "3bfb15d77bf72bc5",
   "execution_count": 17
  },
  {
   "cell_type": "markdown",
   "source": [
    "### Exploit JAX: vectorize!\n",
    "Todo: compare training times"
   ],
   "metadata": {
    "collapsed": false
   },
   "id": "affd42fbc860baa6"
  },
  {
   "cell_type": "code",
   "execution_count": null,
   "id": "initial_id",
   "metadata": {
    "collapsed": true
   },
   "outputs": [],
   "source": []
  },
  {
   "cell_type": "markdown",
   "source": [
    "## Exercise\n",
    "* Reduce the epsilon over time\n",
    "* Make the controller decentralized\n",
    "    * You'll need to make the states and actions arm specific\n",
    "    * E.g. like this:\n",
    "        * Actions = [leading arm, left rower, right rower]\n",
    "                * Or: [amplitude 0, amplitude 0.5, amplitude 1]\n",
    "        * State = [arm is closest to target, arm is on left axis, arm is on right axis]\n",
    "        * You'll have to modify the CPG as well!"
   ],
   "metadata": {
    "collapsed": false
   },
   "id": "745532fe57357b2c"
  },
  {
   "cell_type": "code",
   "outputs": [],
   "source": [],
   "metadata": {
    "collapsed": false
   },
   "id": "597678147c8ccf2b"
  }
 ],
 "metadata": {
  "kernelspec": {
   "display_name": "Python 3",
   "language": "python",
   "name": "python3"
  },
  "language_info": {
   "codemirror_mode": {
    "name": "ipython",
    "version": 2
   },
   "file_extension": ".py",
   "mimetype": "text/x-python",
   "name": "python",
   "nbconvert_exporter": "python",
   "pygments_lexer": "ipython2",
   "version": "2.7.6"
  }
 },
 "nbformat": 4,
 "nbformat_minor": 5
}
