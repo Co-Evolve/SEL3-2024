{
 "cells": [
  {
   "cell_type": "code",
   "execution_count": 28,
   "id": "686c2830-5811-4613-9034-27954e9eb7bb",
   "metadata": {
    "ExecuteTime": {
     "end_time": "2024-02-02T14:02:10.060596Z",
     "start_time": "2024-02-02T14:02:10.055198Z"
    }
   },
   "outputs": [
    {
     "name": "stderr",
     "output_type": "stream",
     "text": [
      "WARNING:root:Failed to initialize GPU. Everything will run on the cpu.\n"
     ]
    },
    {
     "name": "stdout",
     "output_type": "stream",
     "text": [
      "Checking that the mujoco installation succeeded:\n",
      "MuJoCo installation successful.\n"
     ]
    }
   ],
   "source": [
    "import os\n",
    "import subprocess\n",
    "import logging\n",
    "\n",
    "try:\n",
    "    if subprocess.run('nvidia-smi').returncode:\n",
    "        raise RuntimeError(\n",
    "                'Cannot communicate with GPU. '\n",
    "                'Make sure you are using a GPU Colab runtime. '\n",
    "                'Go to the Runtime menu and select Choose runtime type.'\n",
    "                )\n",
    "\n",
    "    # Add an ICD config so that glvnd can pick up the Nvidia EGL driver.\n",
    "    # This is usually installed as part of an Nvidia driver package, but the Colab\n",
    "    # kernel doesn't install its driver via APT, and as a result the ICD is missing.\n",
    "    # (https://github.com/NVIDIA/libglvnd/blob/master/src/EGL/icd_enumeration.md)\n",
    "    NVIDIA_ICD_CONFIG_PATH = '/usr/share/glvnd/egl_vendor.d/10_nvidia.json'\n",
    "    if not os.path.exists(NVIDIA_ICD_CONFIG_PATH):\n",
    "        with open(NVIDIA_ICD_CONFIG_PATH, 'w') as f:\n",
    "            f.write(\n",
    "                    \"\"\"{\n",
    "                            \"file_format_version\" : \"1.0.0\",\n",
    "                            \"ICD\" : {\n",
    "                                \"library_path\" : \"libEGL_nvidia.so.0\"\n",
    "                            }\n",
    "                        }\n",
    "                        \"\"\"\n",
    "                    )\n",
    "\n",
    "    # Configure MuJoCo to use the EGL rendering backend (requires GPU)\n",
    "    print('Setting environment variable to use GPU rendering:')\n",
    "    %env MUJOCO_GL=egl\n",
    "\n",
    "    # Check if jax finds the GPU\n",
    "    import jax\n",
    "\n",
    "    print(jax.devices('gpu'))\n",
    "except Exception:\n",
    "    logging.warning(\"Failed to initialize GPU. Everything will run on the cpu.\")\n",
    "\n",
    "try:\n",
    "    print('Checking that the mujoco installation succeeded:')\n",
    "    import mujoco\n",
    "\n",
    "    mujoco.MjModel.from_xml_string('<mujoco/>')\n",
    "except Exception as e:\n",
    "    raise e from RuntimeError(\n",
    "            'Something went wrong during installation. Check the shell output above '\n",
    "            'for more information.\\n'\n",
    "            'If using a hosted Colab runtime, make sure you enable GPU acceleration '\n",
    "            'by going to the Runtime menu and selecting \"Choose runtime type\".'\n",
    "            )\n",
    "\n",
    "print('MuJoCo installation successful.')"
   ]
  },
  {
   "cell_type": "code",
   "execution_count": 29,
   "id": "ba476dbe-5b5f-4a45-90f4-5342941a92f1",
   "metadata": {
    "ExecuteTime": {
     "end_time": "2024-02-02T14:02:10.286768Z",
     "start_time": "2024-02-02T14:02:10.284003Z"
    }
   },
   "outputs": [],
   "source": [
    "import mediapy as media\n",
    "from mujoco_utils.environment.base import MuJoCoEnvironmentConfiguration\n",
    "from typing import List\n",
    "import numpy as np\n",
    "\n",
    "\n",
    "def post_render(\n",
    "        render_output: List[np.ndarray],\n",
    "        environment_configuration: MuJoCoEnvironmentConfiguration\n",
    "        ) -> np.ndarray:\n",
    "    if render_output is None:\n",
    "        # Temporary workaround until https://github.com/google-deepmind/mujoco/issues/1379 is fixed\n",
    "        return None\n",
    "\n",
    "    num_cameras = len(environment_configuration.camera_ids)\n",
    "    num_envs = len(render_output) // num_cameras\n",
    "\n",
    "    if num_cameras > 1:\n",
    "        # Horizontally stack frames of the same environment\n",
    "        frames_per_env = np.array_split(render_output, num_envs)\n",
    "        render_output = [np.concatenate(env_frames, axis=1) for env_frames in frames_per_env]\n",
    "\n",
    "    # Vertically stack frames of different environments\n",
    "    render_output = np.concatenate(render_output, axis=0)\n",
    "\n",
    "    return render_output[:, :, ::-1]  # RGB to BGR\n",
    "\n",
    "\n",
    "def show_video(\n",
    "        images: List[np.ndarray | None],\n",
    "        path: str | None = None\n",
    "        ) -> str | None:\n",
    "    # Temporary workaround until https://github.com/google-deepmind/mujoco/issues/1379 is fixed\n",
    "    filtered_images = [image for image in images if image is not None]\n",
    "    num_nones = len(images) - len(filtered_images)\n",
    "    if num_nones > 0:\n",
    "        logging.warning(\n",
    "                f\"env.render produced {num_nones} None's. Resulting video might be a bit choppy (consquence of https://github.com/google-deepmind/mujoco/issues/1379).\"\n",
    "                )\n",
    "    if path:\n",
    "        media.write_video(path=path, images=filtered_images)\n",
    "    return media.show_video(images=filtered_images)"
   ]
  },
  {
   "cell_type": "code",
   "execution_count": 30,
   "id": "f85dee8884acbc7b",
   "metadata": {
    "collapsed": false,
    "ExecuteTime": {
     "end_time": "2024-02-02T14:02:10.501317Z",
     "start_time": "2024-02-02T14:02:10.496806Z"
    }
   },
   "outputs": [],
   "source": [
    "from typing import  Tuple\n",
    "import jax.numpy as jnp\n",
    "import jax.random\n",
    "import numpy as np\n",
    "import mujoco.mjx as mjx\n",
    "\n",
    "from brb.brittle_star.mjcf.arena.aquarium import AquariumArenaConfiguration, MJCFAquariumArena\n",
    "from brb.brittle_star.mjcf.morphology.morphology import MJCFBrittleStarMorphology\n",
    "from brb.brittle_star.mjcf.morphology.specification.default import default_brittle_star_morphology_specification\n",
    "\n",
    "morphology_spec = default_brittle_star_morphology_specification(\n",
    "        num_arms=5, num_segments_per_arm=5, use_p_control=True\n",
    "        )\n",
    "morphology = MJCFBrittleStarMorphology(morphology_spec)\n",
    "arena_config = AquariumArenaConfiguration()\n",
    "arena = MJCFAquariumArena(configuration=arena_config)\n",
    "\n",
    "arena.attach(other=morphology)\n",
    "\n",
    "xml = arena.get_mjcf_str()\n"
   ]
  },
  {
   "cell_type": "code",
   "outputs": [],
   "source": [
    "mj_model = mujoco.MjModel.from_xml_string(xml=xml)\n",
    "mj_model.vis.global_.offheight = 480\n",
    "mj_model.vis.global_.offwidth = 640\n",
    "mj_data = mujoco.MjData(mj_model)\n",
    "\n",
    "renderer = mujoco.Renderer(\n",
    "    model=mj_model,\n",
    "    height=480,\n",
    "    width=640\n",
    "    )"
   ],
   "metadata": {
    "collapsed": false,
    "ExecuteTime": {
     "end_time": "2024-02-02T14:02:10.625472Z",
     "start_time": "2024-02-02T14:02:10.598122Z"
    }
   },
   "id": "1f1a9412cb00b89f",
   "execution_count": 31
  },
  {
   "cell_type": "code",
   "outputs": [],
   "source": [
    "def reset_env(\n",
    "        ) -> Tuple[mjx.Model, mjx.Data]:\n",
    "    mjx_model = mjx.put_model(mj_model)\n",
    "    mjx_data = mjx.put_data(mj_model, mj_data)\n",
    "    \n",
    "    # Set the initial brittle star position in mjx model\n",
    "    #   While this could be done through the mjx data and with the joints, I do require this functionality for other environments (in which I need to randomly position objects with no joints)\n",
    "    disk_body_id = mj_model.body(\"BrittleStarMorphology/central_disk\").id\n",
    "    morphology_pos = jnp.array([0.0, 0.0, 0.11])\n",
    "    mjx_model = mjx_model.replace(body_pos=mjx_model.body_pos.at[disk_body_id].set(morphology_pos))\n",
    "    \n",
    "    mjx_data = mjx.forward(mjx_model, mjx_data)\n",
    "    return mjx_model, mjx_data\n",
    "\n",
    "@jax.jit\n",
    "def step_env(\n",
    "        mjx_data: mjx.Data,\n",
    "        ctrl: jnp.ndarray\n",
    "        ) -> mjx.Data:\n",
    "    def _simulation_step(\n",
    "            _data,\n",
    "            _\n",
    "            ) -> Tuple[mjx.Data, None]:\n",
    "        _data = _data.replace(ctrl=ctrl)\n",
    "        return mjx.step(mjx_model, _data), None\n",
    "\n",
    "    mjx_data, _ = jax.lax.scan(\n",
    "            _simulation_step, mjx_data, (), 10\n",
    "            )\n",
    "\n",
    "    return mjx_data"
   ],
   "metadata": {
    "ExecuteTime": {
     "end_time": "2024-02-02T14:02:10.921022Z",
     "start_time": "2024-02-02T14:02:10.914909Z"
    }
   },
   "id": "18900f38-889e-4355-9ab5-615eab1d3ad5",
   "execution_count": 32
  },
  {
   "cell_type": "code",
   "outputs": [],
   "source": [
    "import copy\n",
    "\n",
    "\n",
    "def mjx_get_model(\n",
    "        mj_model: mujoco.MjModel,\n",
    "        mjx_model: mjx.Model,\n",
    "        n_mj_models: int = 1\n",
    "        ) -> List[mujoco.MjModel]:\n",
    "    \"\"\"\n",
    "    Transfer mjx.Model to mujoco.MjModel\n",
    "    \"\"\"\n",
    "    mj_models = [copy.deepcopy(mj_model) for _ in range(n_mj_models)]\n",
    "\n",
    "    offloaded_mjx_model = jax.device_get(mjx_model)\n",
    "    for key, v in vars(offloaded_mjx_model).items():\n",
    "        try:\n",
    "            for i, model in enumerate(mj_models):\n",
    "                previous_value = getattr(model, key)\n",
    "                if isinstance(previous_value, np.ndarray):\n",
    "                    if previous_value.shape != v.shape:\n",
    "                        actual_value = v[i]\n",
    "                    else:\n",
    "                        actual_value = v\n",
    "                    previous_value[:] = actual_value\n",
    "                else:\n",
    "                    setattr(model, key, v)\n",
    "        except AttributeError:\n",
    "            pass\n",
    "        except ValueError:\n",
    "            pass\n",
    "    return mj_models\n",
    "\n",
    "def render_env(mjx_model: mjx.Model, mjx_data: mjx.Data) -> np.ndarray:\n",
    "    # We need to update mj_model and mj_data\n",
    "    # (mj_model requires an update as well because we updated mjx.Model!)\n",
    "    model = mjx_get_model(mj_model=mj_model, mjx_model=mjx_model, n_mj_models=1) \n",
    "    data = mjx.get_data(m=mj_model, d=mjx_data)\n",
    "    mujoco.mj_forward(m=model, d=data) \n",
    "    renderer.update_scene(data=mj_data, camera=1)\n",
    "    return renderer.render()"
   ],
   "metadata": {
    "collapsed": false,
    "ExecuteTime": {
     "end_time": "2024-02-02T14:02:10.921309Z",
     "start_time": "2024-02-02T14:02:10.919759Z"
    }
   },
   "id": "21de7e774ec1cc95",
   "execution_count": 33
  },
  {
   "cell_type": "code",
   "execution_count": 34,
   "id": "56a862cb-f4f7-4730-94df-ecc633f10220",
   "metadata": {
    "ExecuteTime": {
     "end_time": "2024-02-02T14:02:11.017507Z",
     "start_time": "2024-02-02T14:02:11.014853Z"
    }
   },
   "outputs": [],
   "source": [
    "def open_loop_controller(\n",
    "        t: float\n",
    "        ) -> jnp.ndarray:\n",
    "    actions = jnp.ones(mj_model.nu)\n",
    "    actions = actions.at[jnp.arange(0, len(actions), 2)].set(jnp.cos(5 * t))\n",
    "    actions = actions.at[jnp.arange(1, len(actions), 2)].set(jnp.sin(5 * t))\n",
    "    actions = actions.at[jnp.arange(len(actions) // 2, len(actions), 2)].set(\n",
    "            actions[jnp.arange(len(actions) // 2, len(actions), 2)] * -1\n",
    "            )\n",
    "    return actions"
   ]
  },
  {
   "cell_type": "code",
   "execution_count": null,
   "id": "228334e8-d608-4fb8-b41e-7373b0007a27",
   "metadata": {
    "is_executing": true,
    "ExecuteTime": {
     "start_time": "2024-02-02T14:02:11.157882Z"
    }
   },
   "outputs": [
    {
     "name": "stderr",
     "output_type": "stream",
     "text": [
      "Exception ignored in: <function Renderer.__del__ at 0x1123bede0>\n",
      "Traceback (most recent call last):\n",
      "  File \"/Users/driesmarzougui/miniforge3/envs/SEL3-2024/lib/python3.11/site-packages/mujoco/renderer.py\", line 327, in __del__\n",
      "    self.close()\n",
      "  File \"/Users/driesmarzougui/miniforge3/envs/SEL3-2024/lib/python3.11/site-packages/mujoco/renderer.py\", line 315, in close\n",
      "    if self._gl_context:\n",
      "       ^^^^^^^^^^^^^^^^\n",
      "AttributeError: 'Renderer' object has no attribute '_gl_context'\n"
     ]
    }
   ],
   "source": [
    "mjx_model, mjx_data = reset_env()\n",
    "\n",
    "frames = []\n",
    "while mjx_data.time < 10:\n",
    "    action = open_loop_controller(mjx_data.time)\n",
    "    mjx_data = step_env(mjx_data, action)\n",
    "    frame = render_env(mjx_model=mjx_model, mjx_data=mjx_data)\n",
    "    frames.append(frame)\n",
    "    print(mjx_data.time) "
   ]
  },
  {
   "cell_type": "code",
   "execution_count": null,
   "id": "70fdb090-f479-4cc2-8ced-a7be895daebc",
   "metadata": {
    "is_executing": true
   },
   "outputs": [],
   "source": [
    "import mediapy as media\n",
    "media.show_video(frames)"
   ]
  },
  {
   "cell_type": "code",
   "execution_count": null,
   "id": "4ddb0fbb-3fd1-4cca-8098-81dc2f042a45",
   "metadata": {
    "is_executing": true
   },
   "outputs": [],
   "source": []
  },
  {
   "cell_type": "code",
   "outputs": [],
   "source": [],
   "metadata": {
    "collapsed": false,
    "is_executing": true
   },
   "id": "134dc94347e678e5"
  },
  {
   "cell_type": "code",
   "outputs": [],
   "source": [],
   "metadata": {
    "collapsed": false
   },
   "id": "95e1bafabd54cb0"
  }
 ],
 "metadata": {
  "kernelspec": {
   "name": "python3",
   "language": "python",
   "display_name": "Python 3 (ipykernel)"
  },
  "language_info": {
   "codemirror_mode": {
    "name": "ipython",
    "version": 3
   },
   "file_extension": ".py",
   "mimetype": "text/x-python",
   "name": "python",
   "nbconvert_exporter": "python",
   "pygments_lexer": "ipython3",
   "version": "3.11.7"
  }
 },
 "nbformat": 4,
 "nbformat_minor": 5
}
