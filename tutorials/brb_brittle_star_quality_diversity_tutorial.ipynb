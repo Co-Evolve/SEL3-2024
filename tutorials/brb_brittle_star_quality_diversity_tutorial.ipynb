{
 "cells": [
  {
   "cell_type": "markdown",
   "id": "5ab6b4a8-d15b-4bde-9e73-e5adaba3f913",
   "metadata": {},
   "source": [
    "# <h1><center>Quality Diversity Tutorial</center></h1>\n",
    "\n",
    "This notebook provides an introductory tutorial to Quality Diversity algorithms. Specifically, we will apply MAP-Elites to acquire a diverse set of locomotion behaviours for a simplified brittle star robot. The [brittle star robot and its environment](https://github.com/Co-Evolve/brb/tree/new-framework/brb/brittle_star) is part of the [**the Bio-inspired Robotics Benchmark (BRB)**](https://github.com/Co-Evolve/brb). Instead of directly evolving joint-level actions, we will evolve modulation parameters for a Central Pattern Generator, that in turn outputs the joint-level actions."
   ]
  },
  {
   "cell_type": "markdown",
   "id": "901ad080-5a82-4517-9d11-281cc353d4a3",
   "metadata": {},
   "source": [
    "## Quality Diversity algorithms\n",
    "\n",
    "### MAP-Elites"
   ]
  },
  {
   "cell_type": "code",
   "execution_count": null,
   "id": "a3a78bdd-4734-48e1-aaf2-ed56ebc93e3d",
   "metadata": {},
   "outputs": [],
   "source": [
    "\n",
    "def random_selection(rng: chex, archive):\n",
    "    pass\n",
    "\n",
    "def map_elites(num_iterations: int, \n",
    "               evaluation_fn: Callable[[jnp.ndarray], Tuple[jnp.ndarray, float]],\n",
    "              )"
   ]
  },
  {
   "cell_type": "markdown",
   "id": "f3e32b6e-35c3-46a7-9647-6cf5fb5293d8",
   "metadata": {},
   "source": [
    "## Case study: CPG modulations for brittle star locomotion"
   ]
  },
  {
   "cell_type": "markdown",
   "id": "a6b77ba3-33b8-4e69-a6f9-f48df2e0f7e0",
   "metadata": {},
   "source": [
    "### Modulation parameters\n",
    "\n",
    "* Uncoupled CPG oscillators (simplify things)\n",
    "* Per oscillator: amplitude, offset, bias\n",
    "* General: common frequency\n",
    "\n",
    "* 5 armed brittle star, 3 segments per arm, arm segments behave the same -> 2 oscillators per arm -> 10 oscillators in total -> 30 parameters (oscillator ones) + 1 (common frequency)"
   ]
  },
  {
   "cell_type": "markdown",
   "id": "0a4ac0f8-34d3-4061-9789-3d8e26858a1c",
   "metadata": {},
   "source": [
    "### Environment setup"
   ]
  },
  {
   "cell_type": "markdown",
   "id": "284f9703-9f99-4159-8c62-bea447ee4842",
   "metadata": {},
   "source": [
    "### CPG Setup"
   ]
  },
  {
   "cell_type": "markdown",
   "id": "4c87fa54-bc81-4c4e-a0f1-e4f648cae65a",
   "metadata": {},
   "source": [
    "### Behaviour descriptor and fitness\n",
    "* Behaviour: Final XY position\n",
    "* Fitness: distance travelled in a given timeframe"
   ]
  },
  {
   "cell_type": "markdown",
   "id": "a4cd73e4-b41f-4a70-9f87-6db98164c828",
   "metadata": {},
   "source": [
    "### Evaluation function\n",
    "* input: parameters (i.e. modulation parameters)\n",
    "* output: fitness, behaviour description"
   ]
  },
  {
   "cell_type": "code",
   "execution_count": null,
   "id": "09e47595-5d68-4b72-b679-c5cea5d4d775",
   "metadata": {},
   "outputs": [],
   "source": []
  },
  {
   "cell_type": "markdown",
   "id": "3c97cbab-6a69-4ee0-810b-3410d0b13970",
   "metadata": {},
   "source": [
    "### Optimization"
   ]
  },
  {
   "cell_type": "markdown",
   "id": "b7e021b9-ac84-42bd-a5bc-e173b3d607bd",
   "metadata": {},
   "source": [
    "### Result evaluation"
   ]
  },
  {
   "cell_type": "code",
   "execution_count": null,
   "id": "9c92f40d-ec90-4be9-b2ca-2b21b451279b",
   "metadata": {},
   "outputs": [],
   "source": []
  },
  {
   "cell_type": "markdown",
   "id": "94d44352-6ece-4303-aa0c-da4d43124bca",
   "metadata": {},
   "source": [
    "## Next steps\n",
    "* Try to do this for non-shared oscillators per arm segments -> more complex behaviours possible\n",
    "* Incorporate our prior knowledge on brittle star behaviour -> leading arm + rowers -> we can share parameters between rowers on same side / invert the in-plane motion for left and right rowers\n",
    "    * Do this for forward locomotion only -> changing direction is just changing roles of arms\n",
    "    * fitness: energy efficiency\n",
    "    * behaviour: find a nice way to describe a rowing motion (could be a dimensionality reduction technique applied to our modulation parameters)"
   ]
  },
  {
   "cell_type": "code",
   "execution_count": null,
   "id": "a05ec4a6-599c-4c73-8fe5-18a350e4e77a",
   "metadata": {},
   "outputs": [],
   "source": []
  }
 ],
 "metadata": {
  "kernelspec": {
   "display_name": "example-env-kernel",
   "language": "python",
   "name": "example-env-kernel"
  },
  "language_info": {
   "codemirror_mode": {
    "name": "ipython",
    "version": 3
   },
   "file_extension": ".py",
   "mimetype": "text/x-python",
   "name": "python",
   "nbconvert_exporter": "python",
   "pygments_lexer": "ipython3",
   "version": "3.11.7"
  }
 },
 "nbformat": 4,
 "nbformat_minor": 5
}
