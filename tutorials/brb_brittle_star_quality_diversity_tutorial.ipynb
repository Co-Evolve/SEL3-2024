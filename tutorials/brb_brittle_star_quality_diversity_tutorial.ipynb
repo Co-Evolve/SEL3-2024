{
 "cells": [
  {
   "cell_type": "markdown",
   "id": "5ab6b4a8-d15b-4bde-9e73-e5adaba3f913",
   "metadata": {},
   "source": [
    "# <h1><center>Quality Diversity Tutorial</center></h1>\n",
    "\n",
    "This notebook provides an introductory tutorial to Quality Diversity algorithms. Specifically, we will apply MAP-Elites to acquire a diverse set of locomotion behaviours for a simplified brittle star robot. The [brittle star robot and its environment](https://github.com/Co-Evolve/brb/tree/new-framework/brb/brittle_star) is part of the [**the Bio-inspired Robotics Benchmark (BRB)**](https://github.com/Co-Evolve/brb). Instead of directly evolving joint-level actions, we will evolve modulation parameters for a Central Pattern Generator, that in turn outputs the joint-level actions."
   ]
  },
  {
   "cell_type": "markdown",
   "id": "901ad080-5a82-4517-9d11-281cc353d4a3",
   "metadata": {},
   "source": [
    "## Quality Diversity algorithms\n",
    "\n",
    "* Todo: short intro on Quality-Diversity algorithms\n",
    "    * Evolutionary algorithm\n",
    "    * Try to simultaneously maximise diversity and quality \n",
    "\n",
    "### MAP-Elites\n",
    "\n",
    "* Todo: short intro on MAP-Elites\n",
    "    * Show picture of algorithm\n",
    "* Basic implementation shown below: genome here is just an array of parameters (i.e. direct encoding) "
   ]
  },
  {
   "cell_type": "code",
   "execution_count": 1,
   "id": "a3a78bdd-4734-48e1-aaf2-ed56ebc93e3d",
   "metadata": {
    "ExecuteTime": {
     "end_time": "2024-02-01T20:53:08.012930Z",
     "start_time": "2024-02-01T20:53:07.596644Z"
    }
   },
   "outputs": [],
   "source": [
    "from functools import partial\n",
    "import chex\n",
    "import tqdm\n",
    "from flax import struct\n",
    "import jax.numpy as jnp\n",
    "import jax\n",
    "from typing import Tuple, Type, Callable\n",
    "\n",
    "\n",
    "@struct.dataclass\n",
    "class MAPElitesState:\n",
    "    parameter_archive: jnp.ndarray\n",
    "    fitness_archive: jnp.ndarray\n",
    "    descriptor_archive: jnp.ndarray\n",
    "    filled_mask: jnp.ndarray\n",
    "\n",
    "\n",
    "class MAPElites:\n",
    "    def __init__(\n",
    "            self,\n",
    "            dimensions: Tuple[int, ...],\n",
    "            num_parameters: int,\n",
    "            noise_scale: float,\n",
    "            descriptor_low: jnp.ndarray,\n",
    "            descriptor_high: jnp.ndarray,\n",
    "            parameters_low: jnp.ndarray,\n",
    "            parameters_high: jnp.ndarray,\n",
    "            evaluation_fn: Callable[[chex.PRNGKey, jnp.ndarray], jnp.ndarray]\n",
    "            ) -> None:\n",
    "        self._dimensions = dimensions\n",
    "        self._num_parameters = num_parameters\n",
    "        self._noise_scale = noise_scale\n",
    "        self._descriptor_low = descriptor_low\n",
    "        self._descriptor_high = descriptor_high\n",
    "        self._parameters_low = parameters_low\n",
    "        self._parameters_high = parameters_high\n",
    "        self._evaluation_fn = evaluation_fn\n",
    "\n",
    "    @partial(jax.jit, static_argnums=(0,))\n",
    "    def _select_random_parameters(\n",
    "            self,\n",
    "            rng: chex.PRNGKey,\n",
    "            state: MAPElitesState\n",
    "            ) -> jnp.ndarray:\n",
    "        \"\"\"\n",
    "        Returns a random cell's parameters\n",
    "        \"\"\"\n",
    "        cell_index = jax.random.randint(\n",
    "                key=rng,\n",
    "                shape=(len(self._dimensions),),\n",
    "                minval=jnp.zeros(len(self._dimensions)),\n",
    "                maxval=jnp.array(self._dimensions)\n",
    "                )\n",
    "        parameters = state.parameter_archive[*cell_index]\n",
    "        return parameters\n",
    "\n",
    "    @partial(jax.jit, static_argnums=(0,))\n",
    "    def _mutate_parameters(\n",
    "            self,\n",
    "            rng: chex.PRNGKey,\n",
    "            parameters: jnp.ndarray\n",
    "            ) -> jnp.ndarray:\n",
    "        noise = jax.random.normal(key=rng, shape=(len(parameters),)) * self._noise_scale\n",
    "        parameters = parameters + noise\n",
    "        parameters = jnp.clip(a=parameters, a_min=self._parameters_low, a_max=self._parameters_high)\n",
    "        return parameters\n",
    "\n",
    "    @partial(jax.jit, static_argnums=(0,))\n",
    "    def _get_cell_index(\n",
    "            self,\n",
    "            descriptor: jnp.ndarray\n",
    "            ) -> Tuple[int, ...]:\n",
    "        descriptor = jnp.clip(a=descriptor, a_min=self._descriptor_low, a_max=self._descriptor_high)\n",
    "\n",
    "        # Renormalize descriptor to [0, 1] range\n",
    "        descriptor = (descriptor - self._descriptor_low) / (self._descriptor_high - self._descriptor_low)\n",
    "        cell_index = (descriptor * jnp.array(self._dimensions)).astype(jnp.int32)\n",
    "        return cell_index\n",
    "\n",
    "    @partial(jax.jit, static_argnums=(0,))\n",
    "    def _add_to_archive(\n",
    "            self,\n",
    "            state: MAPElitesState,\n",
    "            descriptor: jnp.ndarray,\n",
    "            fitness: float,\n",
    "            parameters: jnp.ndarray\n",
    "            ) -> MAPElitesState:\n",
    "        cell_index = self._get_cell_index(descriptor=descriptor)\n",
    "\n",
    "        pred = ~state.filled_mask[*cell_index] | (fitness > state.fitness_archive[*cell_index])\n",
    "\n",
    "        def _replace() -> MAPElitesState:\n",
    "            # noinspection PyUnresolvedReferences\n",
    "            return state.replace(\n",
    "                    parameter_archive=state.parameter_archive.at[*cell_index].set(parameters),\n",
    "                    fitness_archive=state.fitness_archive.at[*cell_index].set(fitness),\n",
    "                    descriptor_archive=state.descriptor_archive.at[*cell_index].set(descriptor),\n",
    "                    filled_mask=state.filled_mask.at[*cell_index].set(True)\n",
    "                    )\n",
    "\n",
    "        def _do_not_replace() -> MAPElitesState:\n",
    "            return state\n",
    "\n",
    "        return jax.lax.cond(\n",
    "                pred, _replace, _do_not_replace\n",
    "                )\n",
    "\n",
    "    @partial(jax.jit, static_argnums=(0,))\n",
    "    def step(\n",
    "            self,\n",
    "            state: MAPElitesState,\n",
    "            rng: chex.PRNGKey\n",
    "            ) -> MAPElitesState:\n",
    "        selection_rng, mutation_rng, evaluation_rng = jax.random.split(key=rng, num=3)\n",
    "\n",
    "        parameters = self._select_random_parameters(rng=selection_rng, state=state)\n",
    "        parameters = self._mutate_parameters(rng=mutation_rng, parameters=parameters)\n",
    "\n",
    "        fitness, descriptor = self._evaluation_fn(evaluation_rng, parameters)\n",
    "\n",
    "        state = self._add_to_archive(\n",
    "                state=state, fitness=fitness, descriptor=descriptor, parameters=parameters\n",
    "                )\n",
    "\n",
    "        return state\n",
    "\n",
    "    @partial(jax.jit, static_argnums=(0,))\n",
    "    def reset(\n",
    "            self,\n",
    "            rng: chex.PRNGKey\n",
    "            ) -> MAPElitesState:\n",
    "        # noinspection PyArgumentList\n",
    "        return MAPElitesState(\n",
    "                parameter_archive=jax.random.uniform(\n",
    "                        key=rng,\n",
    "                        shape=self._dimensions + (len(self._parameters_low),),\n",
    "                        dtype=jnp.float32,\n",
    "                        minval=self._parameters_low,\n",
    "                        maxval=self._parameters_high\n",
    "                        ),\n",
    "                fitness_archive=-jnp.inf * jnp.ones(self._dimensions),\n",
    "                descriptor_archive=jnp.zeros(self._dimensions + (len(self._descriptor_low),)),\n",
    "                filled_mask=jnp.zeros(self._dimensions).astype(bool)\n",
    "                )"
   ]
  },
  {
   "cell_type": "markdown",
   "id": "f3e32b6e-35c3-46a7-9647-6cf5fb5293d8",
   "metadata": {},
   "source": [
    "## Case study: CPG modulations for brittle star locomotion\n",
    "\n",
    "* Todo: explain goals\n",
    "    * We will use MAP-Elites to acquire a diverse set of locomotion behaviours (i.e. gaits) for a simplified brittle star robot\n",
    "    * Our diversity: final XY position after 5 seconds of simulation\n",
    "    * Our quality: minimum energy usage (i.e. if two gaits result in the same end position, we'll give preference to the one that used the least amount of energy)\n",
    "* Our gaits will be encoded by CPGs, so our parameters will be the modulation of a CPG"
   ]
  },
  {
   "cell_type": "markdown",
   "id": "a6b77ba3-33b8-4e69-a6f9-f48df2e0f7e0",
   "metadata": {},
   "source": [
    "### CPG system and modulation parameters\n",
    "\n",
    "* No coupling between oscillators of different arms\n",
    "* 2 oscillators per arm (one in plane, one out-of-plane)\n",
    "    * all segments of arm share these outputs\n",
    "* Parameters\n",
    "    * 1 common frequency\n",
    "    * Per arm: 2 oscillators:\n",
    "        * Per oscillator amplitude, offset\n",
    "        * phase bias for coupling \n",
    "\n",
    "* 5 armed brittle star, 3 segments per arm, arm segments behave the same -> 2 oscillators per arm -> 10 oscillators in total -> 30 parameters (oscillator ones) + 1 (common frequency)"
   ]
  },
  {
   "cell_type": "markdown",
   "id": "0a4ac0f8-34d3-4061-9789-3d8e26858a1c",
   "metadata": {},
   "source": [
    "### Environment setup"
   ]
  },
  {
   "cell_type": "markdown",
   "source": [
    "The next cell does some preliminary checks:\n",
    "- is a GPU available\n",
    "- is MuJoCo (the underlying simulator) correctly installed"
   ],
   "metadata": {
    "collapsed": false
   },
   "id": "e85b1b85ca5b73e3"
  },
  {
   "cell_type": "code",
   "execution_count": 2,
   "id": "3c597b226c449a12",
   "metadata": {
    "collapsed": false,
    "ExecuteTime": {
     "end_time": "2024-02-01T20:53:15.889312Z",
     "start_time": "2024-02-01T20:53:15.820858Z"
    }
   },
   "outputs": [
    {
     "name": "stderr",
     "output_type": "stream",
     "text": [
      "WARNING:root:Failed to initialize GPU. Everything will run on the cpu.\n"
     ]
    },
    {
     "name": "stdout",
     "output_type": "stream",
     "text": [
      "Checking that the mujoco installation succeeded:\n",
      "MuJoCo installation successful.\n"
     ]
    }
   ],
   "source": [
    "import os\n",
    "import subprocess\n",
    "import logging\n",
    "\n",
    "try:\n",
    "    if subprocess.run('nvidia-smi').returncode:\n",
    "        raise RuntimeError(\n",
    "                'Cannot communicate with GPU. '\n",
    "                'Make sure you are using a GPU Colab runtime. '\n",
    "                'Go to the Runtime menu and select Choose runtime type.'\n",
    "                )\n",
    "\n",
    "    # Add an ICD config so that glvnd can pick up the Nvidia EGL driver.\n",
    "    # This is usually installed as part of an Nvidia driver package, but the Colab\n",
    "    # kernel doesn't install its driver via APT, and as a result the ICD is missing.\n",
    "    # (https://github.com/NVIDIA/libglvnd/blob/master/src/EGL/icd_enumeration.md)\n",
    "    NVIDIA_ICD_CONFIG_PATH = '/usr/share/glvnd/egl_vendor.d/10_nvidia.json'\n",
    "    if not os.path.exists(NVIDIA_ICD_CONFIG_PATH):\n",
    "        with open(NVIDIA_ICD_CONFIG_PATH, 'w') as f:\n",
    "            f.write(\n",
    "                    \"\"\"{\n",
    "                            \"file_format_version\" : \"1.0.0\",\n",
    "                            \"ICD\" : {\n",
    "                                \"library_path\" : \"libEGL_nvidia.so.0\"\n",
    "                            }\n",
    "                        }\n",
    "                        \"\"\"\n",
    "                    )\n",
    "\n",
    "    # Configure MuJoCo to use the EGL rendering backend (requires GPU)\n",
    "    print('Setting environment variable to use GPU rendering:')\n",
    "    %env MUJOCO_GL=egl\n",
    "\n",
    "    # Check if jax finds the GPU\n",
    "    import jax\n",
    "\n",
    "    print(jax.devices('gpu'))\n",
    "except Exception:\n",
    "    logging.warning(\"Failed to initialize GPU. Everything will run on the cpu.\")\n",
    "\n",
    "try:\n",
    "    print('Checking that the mujoco installation succeeded:')\n",
    "    import mujoco\n",
    "\n",
    "    mujoco.MjModel.from_xml_string('<mujoco/>')\n",
    "except Exception as e:\n",
    "    raise e from RuntimeError(\n",
    "            'Something went wrong during installation. Check the shell output above '\n",
    "            'for more information.\\n'\n",
    "            'If using a hosted Colab runtime, make sure you enable GPU acceleration '\n",
    "            'by going to the Runtime menu and selecting \"Choose runtime type\".'\n",
    "            )\n",
    "\n",
    "print('MuJoCo installation successful.')"
   ]
  },
  {
   "cell_type": "markdown",
   "source": [
    "This cell defines our environment and prepares some utility functions for creating and rendering the environment. "
   ],
   "metadata": {
    "collapsed": false
   },
   "id": "32e54141367c3379"
  },
  {
   "cell_type": "code",
   "execution_count": 3,
   "id": "27997ee2eb59a7da",
   "metadata": {
    "collapsed": false,
    "ExecuteTime": {
     "end_time": "2024-02-01T20:53:18.374125Z",
     "start_time": "2024-02-01T20:53:17.263590Z"
    }
   },
   "outputs": [],
   "source": [
    "from brb.brittle_star.environment.undirected_locomotion.dual import BrittleStarUndirectedLocomotionEnvironment\n",
    "from brb.brittle_star.environment.undirected_locomotion.shared import \\\n",
    "    BrittleStarUndirectedLocomotionEnvironmentConfiguration\n",
    "import numpy as np\n",
    "from mujoco_utils.environment.base import MuJoCoEnvironmentConfiguration\n",
    "from typing import List\n",
    "import mediapy as media\n",
    "from brb.brittle_star.mjcf.morphology.morphology import MJCFBrittleStarMorphology\n",
    "from brb.brittle_star.mjcf.morphology.specification.default import default_brittle_star_morphology_specification\n",
    "from brb.brittle_star.mjcf.arena.aquarium import AquariumArenaConfiguration, MJCFAquariumArena\n",
    "\n",
    "morphology_specification = default_brittle_star_morphology_specification(\n",
    "        num_arms=5, num_segments_per_arm=3, use_p_control=True, use_torque_control=False\n",
    "        )\n",
    "arena_configuration = AquariumArenaConfiguration(\n",
    "        size=(10, 10), sand_ground_color=False, attach_target=False, wall_height=1.5, wall_thickness=0.1\n",
    "        )\n",
    "environment_configuration = BrittleStarUndirectedLocomotionEnvironmentConfiguration(\n",
    "        joint_randomization_noise_scale=0.0,\n",
    "        render_mode=\"rgb_array\",\n",
    "        simulation_time=5,\n",
    "        num_physics_steps_per_control_step=10,\n",
    "        time_scale=2,\n",
    "        camera_ids=[0, 1],\n",
    "        render_size=(480, 640)\n",
    "        )\n",
    "\n",
    "\n",
    "def create_environment() -> BrittleStarUndirectedLocomotionEnvironment:\n",
    "    morphology = MJCFBrittleStarMorphology(\n",
    "            specification=morphology_specification\n",
    "            )\n",
    "    arena = MJCFAquariumArena(\n",
    "            configuration=arena_configuration\n",
    "            )\n",
    "    env = BrittleStarUndirectedLocomotionEnvironment.from_morphology_and_arena(\n",
    "            morphology=morphology, arena=arena, configuration=environment_configuration, backend=\"MJX\"\n",
    "            )\n",
    "    return env\n",
    "\n",
    "\n",
    "def post_render(\n",
    "        render_output: List[np.ndarray],\n",
    "        environment_configuration: MuJoCoEnvironmentConfiguration\n",
    "        ) -> np.ndarray:\n",
    "    if render_output is None:\n",
    "        # Temporary workaround until https://github.com/google-deepmind/mujoco/issues/1379 is fixed\n",
    "        return None\n",
    "\n",
    "    num_cameras = len(environment_configuration.camera_ids)\n",
    "    num_envs = len(render_output) // num_cameras\n",
    "\n",
    "    if num_cameras > 1:\n",
    "        # Horizontally stack frames of the same environment\n",
    "        frames_per_env = np.array_split(render_output, num_envs)\n",
    "        render_output = [np.concatenate(env_frames, axis=1) for env_frames in frames_per_env]\n",
    "\n",
    "    # Vertically stack frames of different environments\n",
    "    render_output = np.concatenate(render_output, axis=0)\n",
    "\n",
    "    return render_output[:, :, ::-1]  # RGB to BGR\n",
    "\n",
    "\n",
    "def show_video(\n",
    "        images: List[np.ndarray | None],\n",
    "        path: str | None = None\n",
    "        ) -> str | None:\n",
    "    # Temporary workaround until https://github.com/google-deepmind/mujoco/issues/1379 is fixed\n",
    "    filtered_images = [image for image in images if image is not None]\n",
    "    num_nones = len(images) - len(filtered_images)\n",
    "    if num_nones > 0:\n",
    "        logging.warning(\n",
    "                f\"env.render produced {num_nones} None's. Resulting video might be a bit choppy (consquence of https://github.com/google-deepmind/mujoco/issues/1379).\"\n",
    "                )\n",
    "    if path:\n",
    "        media.write_video(path=path, images=filtered_images)\n",
    "    return media.show_video(images=filtered_images)"
   ]
  },
  {
   "cell_type": "markdown",
   "source": [
    "Now we can create our environment and `jax.jit` the `step` and `reset` functions. As we will never change this environment, we only need to do this once. "
   ],
   "metadata": {
    "collapsed": false
   },
   "id": "cb22df603b28ffa5"
  },
  {
   "cell_type": "code",
   "execution_count": 4,
   "id": "c307d9a88b0bec5",
   "metadata": {
    "collapsed": false,
    "ExecuteTime": {
     "end_time": "2024-02-01T20:53:19.164296Z",
     "start_time": "2024-02-01T20:53:18.961925Z"
    }
   },
   "outputs": [],
   "source": [
    "rng = jax.random.PRNGKey(seed=0)\n",
    "env = create_environment()\n",
    "env_reset_fn = jax.jit(env.reset)\n",
    "env_step_fn = jax.jit(env.step)"
   ]
  },
  {
   "cell_type": "markdown",
   "source": [
    "Always a good idea to check the observation and action space of the environment (sheds some light on what it gives us and what it expects as input)."
   ],
   "metadata": {
    "collapsed": false
   },
   "id": "af40bdce2462285f"
  },
  {
   "cell_type": "code",
   "execution_count": 5,
   "id": "5de49c95336cc3ab",
   "metadata": {
    "collapsed": false,
    "ExecuteTime": {
     "end_time": "2024-02-01T20:53:33.491393Z",
     "start_time": "2024-02-01T20:53:20.157867Z"
    }
   },
   "outputs": [
    {
     "name": "stdout",
     "output_type": "stream",
     "text": [
      "Observation space:\n",
      "Dict('joint_position': Box(-0.5235988, 0.5235988, (30,), <class 'jax.numpy.float32'>), 'joint_velocity': Box(-inf, inf, (30,), <class 'jax.numpy.float32'>), 'joint_actuator_force': Box(-inf, inf, (30,), <class 'jax.numpy.float32'>), 'segment_contact': Box(0.0, 1.0, (15,), <class 'jax.numpy.float32'>), 'disk_position': Box(-inf, inf, (3,), <class 'jax.numpy.float32'>), 'disk_rotation': Box(-3.1415927, 3.1415927, (3,), <class 'jax.numpy.float32'>), 'disk_linear_velocity': Box(-inf, inf, (3,), <class 'jax.numpy.float32'>), 'disk_angular_velocity': Box(-inf, inf, (3,), <class 'jax.numpy.float32'>))\n",
      "\n",
      "Action space:\n",
      "Box(-0.5235988, 0.5235988, (30,), <class 'jax.numpy.float32'>)\n"
     ]
    },
    {
     "data": {
      "text/plain": "<IPython.core.display.HTML object>",
      "text/html": "<table class=\"show_images\" style=\"border-spacing:0px;\"><tr><td style=\"padding:1px;\"><img width=\"1280\" height=\"480\" style=\"image-rendering:auto; object-fit:cover;\" src=\"data:image/png;base64,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\"/></td></tr></table>"
     },
     "metadata": {},
     "output_type": "display_data"
    }
   ],
   "source": [
    "print(\"Observation space:\")\n",
    "print(env.observation_space)\n",
    "print()\n",
    "print(\"Action space:\")\n",
    "print(env.action_space)\n",
    "rng, sub_rng = jax.random.split(rng, 2)\n",
    "env_state = env_reset_fn(rng=sub_rng)\n",
    "media.show_image(post_render(env.render(env_state), environment_configuration=env.environment_configuration))"
   ]
  },
  {
   "cell_type": "markdown",
   "id": "284f9703-9f99-4159-8c62-bea447ee4842",
   "metadata": {},
   "source": [
    "### CPG Setup\n",
    "\n",
    "* Same as in CPG tutorial, only difference is that we will not be coupling the oscillators of different arms."
   ]
  },
  {
   "cell_type": "code",
   "execution_count": 6,
   "id": "e6045207b0aaa0cc",
   "metadata": {
    "collapsed": false,
    "ExecuteTime": {
     "end_time": "2024-02-01T20:53:33.504502Z",
     "start_time": "2024-02-01T20:53:33.501041Z"
    }
   },
   "outputs": [],
   "source": [
    "import functools\n",
    "from flax import struct\n",
    "import jax\n",
    "import jax.numpy as jnp\n",
    "import chex\n",
    "from functools import partial\n",
    "from typing import Tuple\n",
    "\n",
    "from typing import Callable\n",
    "\n",
    "\n",
    "def euler_solver(\n",
    "        current_time: float,\n",
    "        y: float,\n",
    "        derivative_fn: Callable[[float, float], float],\n",
    "        delta_time: float\n",
    "        ) -> float:\n",
    "    slope = derivative_fn(current_time, y)\n",
    "    next_y = y + delta_time * slope\n",
    "    return next_y\n",
    "\n",
    "\n",
    "@struct.dataclass\n",
    "class CPGState:\n",
    "    time: float\n",
    "    phases: jnp.ndarray\n",
    "    dot_amplitudes: jnp.ndarray  # first order derivative of the amplitude\n",
    "    amplitudes: jnp.ndarray\n",
    "    dot_offsets: jnp.ndarray  # first order derivative of the offset \n",
    "    offsets: jnp.ndarray\n",
    "    outputs: jnp.ndarray\n",
    "\n",
    "    # We'll make these modulatory parameters part of the state as they will change as well\n",
    "    R: jnp.ndarray\n",
    "    X: jnp.ndarray\n",
    "    omegas: jnp.ndarray\n",
    "    rhos: jnp.ndarray\n",
    "\n",
    "\n",
    "class CPG:\n",
    "    def __init__(\n",
    "            self,\n",
    "            weights: jnp.ndarray,\n",
    "            amplitude_gain: float = 20,\n",
    "            offset_gain: float = 20,\n",
    "            dt: float = 0.01, ) -> None:\n",
    "        self._weights = weights\n",
    "        self._amplitude_gain = amplitude_gain\n",
    "        self._offset_gain = offset_gain\n",
    "        self._dt = dt\n",
    "        self._solver = euler_solver\n",
    "\n",
    "    @property\n",
    "    def num_oscillators(\n",
    "            self\n",
    "            ) -> int:\n",
    "        return self._weights.shape[0]\n",
    "\n",
    "    @staticmethod\n",
    "    def phase_de(\n",
    "            weights: jnp.ndarray,\n",
    "            amplitudes: jnp.ndarray,\n",
    "            phases: jnp.ndarray,\n",
    "            phase_biases: jnp.ndarray,\n",
    "            omegas: jnp.ndarray\n",
    "            ) -> jnp.ndarray:\n",
    "        @jax.vmap  # vectorizes this function for us over an additional batch dimension (in this case over all oscillators)\n",
    "        def sine_term(\n",
    "                phase_i: float,\n",
    "                phase_biases_i: float\n",
    "                ) -> jnp.ndarray:\n",
    "            return jnp.sin(phases - phase_i - phase_biases_i)\n",
    "\n",
    "        couplings = jnp.sum(weights * amplitudes * sine_term(phase_i=phases, phase_biases_i=phase_biases), axis=1)\n",
    "        return omegas + couplings\n",
    "\n",
    "    @staticmethod\n",
    "    def second_order_de(\n",
    "            gain: jnp.ndarray,\n",
    "            modulator: jnp.ndarray,\n",
    "            values: jnp.ndarray,\n",
    "            dot_values: jnp.ndarray\n",
    "            ) -> jnp.ndarray:\n",
    "        return gain * ((gain / 4) * (modulator - values) - dot_values)\n",
    "\n",
    "    @staticmethod\n",
    "    def first_order_de(\n",
    "            dot_values: jnp.ndarray\n",
    "            ) -> jnp.ndarray:\n",
    "        return dot_values\n",
    "\n",
    "    @staticmethod\n",
    "    def output(\n",
    "            offsets: jnp.ndarray,\n",
    "            amplitudes: jnp.ndarray,\n",
    "            phases: jnp.ndarray\n",
    "            ) -> jnp.ndarray:\n",
    "        return offsets + amplitudes * jnp.cos(phases)\n",
    "\n",
    "    def reset(\n",
    "            self,\n",
    "            rng: chex.PRNGKey\n",
    "            ) -> CPGState:\n",
    "        phase_rng, amplitude_rng, offsets_rng = jax.random.split(rng, 3)\n",
    "        # noinspection PyArgumentList\n",
    "        state = CPGState(\n",
    "                phases=jax.random.uniform(\n",
    "                        key=phase_rng, shape=(self.num_oscillators,), dtype=jnp.float32, minval=-0.01, maxval=0.01\n",
    "                        ),\n",
    "                amplitudes=jnp.zeros(self.num_oscillators),\n",
    "                offsets=jnp.zeros(self.num_oscillators),\n",
    "                dot_amplitudes=jnp.zeros(self.num_oscillators),\n",
    "                dot_offsets=jnp.zeros(self.num_oscillators),\n",
    "                outputs=jnp.zeros(self.num_oscillators),\n",
    "                time=0.0,\n",
    "                R=jnp.zeros(self.num_oscillators),\n",
    "                X=jnp.zeros(self.num_oscillators),\n",
    "                omegas=jnp.zeros(self.num_oscillators),\n",
    "                rhos=jnp.zeros_like(self._weights)\n",
    "                )\n",
    "        return state\n",
    "\n",
    "    @functools.partial(jax.jit, static_argnums=(0,))\n",
    "    def step(\n",
    "            self,\n",
    "            state: CPGState\n",
    "            ) -> CPGState:\n",
    "        # Update phase\n",
    "        new_phases = self._solver(\n",
    "                current_time=state.time,\n",
    "                y=state.phases,\n",
    "                derivative_fn=lambda\n",
    "                    t,\n",
    "                    y: self.phase_de(\n",
    "                        omegas=state.omegas,\n",
    "                        amplitudes=state.amplitudes,\n",
    "                        phases=y,\n",
    "                        phase_biases=state.rhos,\n",
    "                        weights=self._weights\n",
    "                        ),\n",
    "                delta_time=self._dt\n",
    "                )\n",
    "        new_dot_amplitudes = self._solver(\n",
    "                current_time=state.time,\n",
    "                y=state.dot_amplitudes,\n",
    "                derivative_fn=lambda\n",
    "                    t,\n",
    "                    y: self.second_order_de(\n",
    "                        gain=self._amplitude_gain, modulator=state.R, values=state.amplitudes, dot_values=y\n",
    "                        ),\n",
    "                delta_time=self._dt\n",
    "                )\n",
    "        new_amplitudes = self._solver(\n",
    "                current_time=state.time,\n",
    "                y=state.amplitudes,\n",
    "                derivative_fn=lambda\n",
    "                    t,\n",
    "                    y: self.first_order_de(dot_values=state.dot_amplitudes),\n",
    "                delta_time=self._dt\n",
    "                )\n",
    "        new_dot_offsets = self._solver(\n",
    "                current_time=state.time,\n",
    "                y=state.dot_offsets,\n",
    "                derivative_fn=lambda\n",
    "                    t,\n",
    "                    y: self.second_order_de(\n",
    "                        gain=self._offset_gain, modulator=state.X, values=state.offsets, dot_values=y\n",
    "                        ),\n",
    "                delta_time=self._dt\n",
    "                )\n",
    "        new_offsets = self._solver(\n",
    "                current_time=0,\n",
    "                y=state.offsets,\n",
    "                derivative_fn=lambda\n",
    "                    t,\n",
    "                    y: self.first_order_de(dot_values=state.dot_offsets),\n",
    "                delta_time=self._dt\n",
    "                )\n",
    "\n",
    "        new_outputs = self.output(offsets=new_offsets, amplitudes=new_amplitudes, phases=new_phases)\n",
    "        # noinspection PyUnresolvedReferences\n",
    "        return state.replace(\n",
    "                phases=new_phases,\n",
    "                dot_amplitudes=new_dot_amplitudes,\n",
    "                amplitudes=new_amplitudes,\n",
    "                dot_offsets=new_dot_offsets,\n",
    "                offsets=new_offsets,\n",
    "                outputs=new_outputs,\n",
    "                time=state.time + self._dt\n",
    "                )\n",
    "\n",
    "\n",
    "def create_cpg() -> CPG:\n",
    "    ip_oscillator_indices = jnp.arange(0, 10, 2)\n",
    "    oop_oscillator_indices = jnp.arange(1, 10, 2)\n",
    "\n",
    "    adjacency_matrix = jnp.zeros((10, 10))\n",
    "\n",
    "    # Connect oscillators within an arm\n",
    "    adjacency_matrix = adjacency_matrix.at[ip_oscillator_indices, oop_oscillator_indices].set(1)\n",
    "    adjacency_matrix = adjacency_matrix.at[oop_oscillator_indices, ip_oscillator_indices].set(1)\n",
    "\n",
    "    return CPG(\n",
    "            weights=5 * adjacency_matrix,\n",
    "            amplitude_gain=20,\n",
    "            offset_gain=20,\n",
    "            dt=environment_configuration.control_timestep\n",
    "            )\n",
    "\n",
    "\n",
    "@jax.jit\n",
    "def map_cpg_outputs_to_actions(\n",
    "        cpg_state: CPGState\n",
    "        ) -> jnp.ndarray:\n",
    "    num_arms = morphology_specification.number_of_arms\n",
    "    num_oscillators_per_arm = 2\n",
    "    num_segments_per_arm = morphology_specification.number_of_segments_per_arm[0]\n",
    "\n",
    "    cpg_outputs_per_arm = cpg_state.outputs.reshape((num_arms, num_oscillators_per_arm))\n",
    "    cpg_outputs_per_segment = cpg_outputs_per_arm.repeat(num_segments_per_arm, axis=0)\n",
    "\n",
    "    actions = cpg_outputs_per_segment.flatten()\n",
    "    return actions"
   ]
  },
  {
   "cell_type": "markdown",
   "id": "a4cd73e4-b41f-4a70-9f87-6db98164c828",
   "metadata": {},
   "source": [
    "### Evaluation function\n",
    "\n",
    "Now we can write our evaluation function, i.e. the function that takes in some parameters and returns the resulting fitness and behaviour descriptor.\n",
    "In this case, the parameters are the CPG modulation parameters, the fitness is the negated amount of \"energy\" (we negate because we always maximise fitness), and the behaviour descriptor is the final XY position of the robot at the end of the episode.\n",
    "\n",
    "Let's start by implementing a helper function that takes in parameters and actually modulates the CPG with them."
   ]
  },
  {
   "cell_type": "code",
   "execution_count": 7,
   "id": "15612282ae623f46",
   "metadata": {
    "collapsed": false,
    "ExecuteTime": {
     "end_time": "2024-02-01T20:53:33.507347Z",
     "start_time": "2024-02-01T20:53:33.504324Z"
    }
   },
   "outputs": [],
   "source": [
    "def modulate_cpg(\n",
    "        cpg_state: CPGState,\n",
    "        parameters: jnp.ndarray\n",
    "        ) -> CPGState:\n",
    "    ip_oscillator_indices = jnp.arange(0, 10, 2)\n",
    "    oop_oscillator_indices = jnp.arange(1, 10, 2)\n",
    "\n",
    "    R = parameters[:10]\n",
    "    X = parameters[10: 20]\n",
    "    omega = parameters[21]\n",
    "    phase_biases = parameters[21:]\n",
    "\n",
    "    # phase biases is a list of 5 elements, which denote the phase bias between the IP and OOP oscillator of every arm\n",
    "    rhos = cpg_state.rhos.at[ip_oscillator_indices, oop_oscillator_indices].set(phase_biases)\n",
    "    rhos = rhos.at[oop_oscillator_indices, ip_oscillator_indices].set(-phase_biases)\n",
    "    # noinspection PyUnresolvedReferences\n",
    "    return cpg_state.replace(\n",
    "            R=R, X=X, omegas=jnp.ones_like(cpg_state.omegas) * omega, rhos=rhos\n",
    "            )"
   ]
  },
  {
   "cell_type": "markdown",
   "source": [
    "Now we can implement the actual evaluation function. This function takes in the modulation parameters, modulates the CPG with it, and then uses that CPG to control a brittle star during a single episode. Afterwards, it returns the fitness (negated average of joint actuator forces, joint actuator forces are the closest proxy that our simulator can give us to actual \"energy usage\") and behaviour descriptor (final XY position)."
   ],
   "metadata": {
    "collapsed": false
   },
   "id": "b25c931e22334409"
  },
  {
   "cell_type": "code",
   "execution_count": 11,
   "id": "98c1511888c14324",
   "metadata": {
    "collapsed": false,
    "ExecuteTime": {
     "end_time": "2024-02-01T20:55:27.080948Z",
     "start_time": "2024-02-01T20:55:27.054171Z"
    }
   },
   "outputs": [],
   "source": [
    "from mujoco_utils.environment.mjx_env import MJXEnvState\n",
    "from typing import Any, Dict\n",
    "\n",
    "cpg = create_cpg()\n",
    "\n",
    "\n",
    "def evaluate_parameters(\n",
    "        rng: chex.PRNGKey,\n",
    "        modulation_parameters: jnp.ndarray\n",
    "        ) -> Tuple[float, jnp.ndarray]:\n",
    "    env_rng, cpg_rng = jax.random.split(rng, 2)\n",
    "    env_state = env_reset_fn(rng=env_rng)\n",
    "    cpg_state = cpg.reset(rng=cpg_rng)\n",
    "\n",
    "    cpg_state = modulate_cpg(cpg_state=cpg_state, parameters=modulation_parameters)\n",
    "\n",
    "    def _take_step(\n",
    "            _state: Tuple[MJXEnvState, CPGState],\n",
    "            _: None\n",
    "            ) -> Tuple[Tuple[MJXEnvState, CPGState], Dict[str, Any]]:\n",
    "        _env_state, _cpg_state = _state\n",
    "\n",
    "        actions = map_cpg_outputs_to_actions(cpg_state=_cpg_state)\n",
    "        actions = jnp.clip(a=actions, a_min=env.action_space.low, a_max=env.action_space.high)\n",
    "\n",
    "        _next_env_state = env_step_fn(state=_env_state, action=actions)\n",
    "        _next_cpg_state = cpg.step(state=_cpg_state)\n",
    "\n",
    "        carry = (_next_env_state, _next_cpg_state)\n",
    "        return carry, jnp.average(jnp.abs(_env_state.observations[\"joint_actuator_force\"]))\n",
    "\n",
    "    carry, scan_out = jax.lax.scan(\n",
    "            _take_step, (env_state, cpg_state), (), env.environment_configuration.total_num_control_steps\n",
    "            )\n",
    "\n",
    "    # fitness: -average amount of energy used (we negate because we maximise fitness)\n",
    "    fitness = -jnp.average(scan_out)\n",
    "\n",
    "    # Descriptor: final XY position\n",
    "    descriptor = carry[0].observations[\"disk_position\"][:2][::-1]\n",
    "\n",
    "    return fitness, descriptor"
   ]
  },
  {
   "cell_type": "markdown",
   "id": "3c97cbab-6a69-4ee0-810b-3410d0b13970",
   "metadata": {},
   "source": [
    "### Optimization\n",
    "\n",
    "We now have everything to run MAP-Elites! First some setup:"
   ]
  },
  {
   "cell_type": "code",
   "execution_count": 65,
   "id": "4cfe0611ee717c12",
   "metadata": {
    "collapsed": false,
    "ExecuteTime": {
     "end_time": "2024-02-01T21:56:18.829800Z",
     "start_time": "2024-02-01T21:56:18.734469Z"
    }
   },
   "outputs": [],
   "source": [
    "DESCRIPTOR_LOW = -3 * jnp.ones(2)\n",
    "DESCRIPTOR_HIGH = 3 * jnp.ones(2)\n",
    "PARAMETERS_LOW = jnp.concatenate(\n",
    "        (jnp.zeros(10), -jnp.ones(10), jnp.zeros(1), -jnp.pi * jnp.ones(5))\n",
    "        )\n",
    "PARAMETERS_HIGH = jnp.concatenate(\n",
    "        (jnp.ones(10), jnp.ones(10), 3 * jnp.pi * jnp.ones(1), jnp.pi * jnp.ones(5))\n",
    "        )\n",
    "\n",
    "map_elites = MAPElites(\n",
    "        dimensions=(30, 30),\n",
    "        num_parameters=31,\n",
    "        noise_scale=0.1,\n",
    "        descriptor_low=DESCRIPTOR_LOW,\n",
    "        descriptor_high=DESCRIPTOR_HIGH,\n",
    "        parameters_low=parameters_low,\n",
    "        parameters_high=parameters_high,\n",
    "        evaluation_fn=evaluate_parameters\n",
    "        )\n",
    "\n",
    "rng, reset_rng = jax.random.split(rng, 2)\n",
    "state = map_elites.reset(rng=reset_rng)"
   ]
  },
  {
   "cell_type": "markdown",
   "source": [
    "The next cell does a single iteration of our MAP-Elites algorithm (note that the first call will be slow due to jit compilation):"
   ],
   "metadata": {
    "collapsed": false
   },
   "id": "75fb7ddfaa9dc7c8"
  },
  {
   "cell_type": "code",
   "execution_count": 15,
   "id": "58db3937f8df8ee5",
   "metadata": {
    "collapsed": false,
    "ExecuteTime": {
     "end_time": "2024-02-01T20:56:35.440634Z",
     "start_time": "2024-02-01T20:55:52.942041Z"
    }
   },
   "outputs": [],
   "source": [
    "rng, iteration_rng = jax.random.split(rng, 2)\n",
    "state = map_elites.step(\n",
    "        state=state, rng=iteration_rng\n",
    "        )"
   ]
  },
  {
   "cell_type": "markdown",
   "id": "33952ce86bdd49ee",
   "metadata": {
    "collapsed": false
   },
   "source": [
    "### Vectorization\n",
    "As always, since we're using JAX, we will exploit the power of our GPU and vectorize things. In this case, we will run these MAP-Elites steps in parallel: "
   ]
  },
  {
   "cell_type": "code",
   "execution_count": 17,
   "id": "c994a92e54bb793f",
   "metadata": {
    "collapsed": false,
    "ExecuteTime": {
     "end_time": "2024-02-01T20:57:21.986538Z",
     "start_time": "2024-02-01T20:57:21.972676Z"
    }
   },
   "outputs": [],
   "source": [
    "vectorized_iteration = jax.jit(jax.vmap(map_elites.step, in_axes=(None, 0)))"
   ]
  },
  {
   "cell_type": "code",
   "execution_count": 22,
   "id": "5bfaa9f40bff370f",
   "metadata": {
    "collapsed": false,
    "ExecuteTime": {
     "end_time": "2024-02-01T21:05:46.503567Z",
     "start_time": "2024-02-01T21:05:45.308412Z"
    }
   },
   "outputs": [
    {
     "name": "stdout",
     "output_type": "stream",
     "text": [
      "Fitness archive shape:\n",
      "\tState:            (30, 30)\n",
      "\tVectorized state  (2, 30, 30)\n"
     ]
    }
   ],
   "source": [
    "num_parallel_evaluations = 2\n",
    "rng, *sub_rngs = jax.random.split(key=rng, num=num_parallel_evaluations + 1)\n",
    "vectorized_state = vectorized_iteration(state, jnp.array(sub_rngs))\n",
    "\n",
    "print(f\"Fitness archive shape:\")\n",
    "print(f\"\\tState:            {state.fitness_archive.shape}\")\n",
    "print(f\"\\tVectorized state  {vectorized_state.fitness_archive.shape}\")"
   ]
  },
  {
   "cell_type": "markdown",
   "source": [
    "As you can see, due to the use of [jax.vmap](https://jax.readthedocs.io/en/latest/_autosummary/jax.vmap.html), we have introduced a batch dimension in our state.\n",
    "We will thus need another helper function that can merge these states back into one:  "
   ],
   "metadata": {
    "collapsed": false
   },
   "id": "916a85623c43430d"
  },
  {
   "cell_type": "code",
   "execution_count": 25,
   "id": "d9a43c700f6fff3b",
   "metadata": {
    "collapsed": false,
    "ExecuteTime": {
     "end_time": "2024-02-01T21:07:07.141634Z",
     "start_time": "2024-02-01T21:07:07.131533Z"
    }
   },
   "outputs": [],
   "source": [
    "@jax.jit\n",
    "def merge_map_elite_states(\n",
    "        vectorized_state: MAPElitesState\n",
    "        ) -> MAPElitesState:\n",
    "    filled_mask = jnp.max(vectorized_state.filled_mask, axis=0)\n",
    "\n",
    "    fitness_archive = jnp.max(vectorized_state.fitness_archive, axis=0)\n",
    "\n",
    "    # Keep the parameters corresponding to the best fitness values\n",
    "    state_indices_of_highest_fitnesses = jnp.argmax(vectorized_state.fitness_archive, axis=0)\n",
    "    parameter_archive = vectorized_state.parameter_archive[\n",
    "        state_indices_of_highest_fitnesses, jnp.arange(vectorized_state.parameter_archive.shape[1])[:,\n",
    "                                            None], jnp.arange(\n",
    "                vectorized_state.parameter_archive.shape[2]\n",
    "                )]\n",
    "    descriptor_archive = vectorized_state.descriptor_archive[\n",
    "        state_indices_of_highest_fitnesses, jnp.arange(vectorized_state.descriptor_archive.shape[1])[:,\n",
    "                                            None], jnp.arange(\n",
    "                vectorized_state.descriptor_archive.shape[2]\n",
    "                )]\n",
    "\n",
    "    # noinspection PyArgumentList\n",
    "    return MAPElitesState(\n",
    "            filled_mask=filled_mask,\n",
    "            fitness_archive=fitness_archive,\n",
    "            parameter_archive=parameter_archive,\n",
    "            descriptor_archive=descriptor_archive\n",
    "            )"
   ]
  },
  {
   "cell_type": "code",
   "outputs": [
    {
     "name": "stdout",
     "output_type": "stream",
     "text": [
      "Fitness archive shape: (30, 30)\n"
     ]
    }
   ],
   "source": [
    "state = merge_map_elite_states(vectorized_state=vectorized_state)\n",
    "print(f\"Fitness archive shape: {state.fitness_archive.shape}\")"
   ],
   "metadata": {
    "collapsed": false,
    "ExecuteTime": {
     "end_time": "2024-02-01T21:07:36.931558Z",
     "start_time": "2024-02-01T21:07:36.910889Z"
    }
   },
   "id": "720cf619ad003b32",
   "execution_count": 28
  },
  {
   "cell_type": "markdown",
   "source": [
    "Great! Our final optimisation loop will thus iteratively do a vectorized MAP-Elites step, followed by a merging of the states. As this isn't the simplest optimisation problem, this loop might however take a while until we get nice results (i.e. a diverse set of energy efficient gaits).\n",
    "\n",
    "Long optimisation loops increase the need for intermediate logging! We never want to be waiting for some results, while unknowingly running a bad or faulty optimisation.\n",
    "Furthermore, intermediate logging is really important in order to compare different optimisation runs."
   ],
   "metadata": {
    "collapsed": false
   },
   "id": "21e155b2cb06ac14"
  },
  {
   "cell_type": "markdown",
   "source": [
    "### Logging\n",
    "We will be using [Weights And Biases (W&B)](https://docs.wandb.ai/quickstart) for logging. W&B is an easy-to-use experiment tracker, and allows us to log to an online dashboard (hosted on the cloud) directly from our python code. Before continuing, checkout the following [quickstart](https://docs.wandb.ai/quickstart). Be sure to create and account!"
   ],
   "metadata": {
    "collapsed": false
   },
   "id": "94621ca6b38ee92c"
  },
  {
   "cell_type": "code",
   "outputs": [
    {
     "name": "stdout",
     "output_type": "stream",
     "text": [
      "Collecting wandb\r\n",
      "  Downloading wandb-0.16.2-py3-none-any.whl.metadata (9.8 kB)\r\n",
      "Requirement already satisfied: Click!=8.0.0,>=7.1 in /Users/driesmarzougui/miniforge3/envs/SEL3-2024/lib/python3.11/site-packages (from wandb) (8.1.7)\r\n",
      "Collecting GitPython!=3.1.29,>=1.0.0 (from wandb)\r\n",
      "  Downloading GitPython-3.1.41-py3-none-any.whl.metadata (14 kB)\r\n",
      "Requirement already satisfied: requests<3,>=2.0.0 in /Users/driesmarzougui/miniforge3/envs/SEL3-2024/lib/python3.11/site-packages (from wandb) (2.31.0)\r\n",
      "Requirement already satisfied: psutil>=5.0.0 in /Users/driesmarzougui/miniforge3/envs/SEL3-2024/lib/python3.11/site-packages (from wandb) (5.9.7)\r\n",
      "Collecting sentry-sdk>=1.0.0 (from wandb)\r\n",
      "  Downloading sentry_sdk-1.40.0-py2.py3-none-any.whl.metadata (9.7 kB)\r\n",
      "Collecting docker-pycreds>=0.4.0 (from wandb)\r\n",
      "  Downloading docker_pycreds-0.4.0-py2.py3-none-any.whl (9.0 kB)\r\n",
      "Requirement already satisfied: PyYAML in /Users/driesmarzougui/miniforge3/envs/SEL3-2024/lib/python3.11/site-packages (from wandb) (6.0.1)\r\n",
      "Collecting setproctitle (from wandb)\r\n",
      "  Downloading setproctitle-1.3.3-cp311-cp311-macosx_10_9_universal2.whl.metadata (9.9 kB)\r\n",
      "Requirement already satisfied: setuptools in /Users/driesmarzougui/miniforge3/envs/SEL3-2024/lib/python3.11/site-packages (from wandb) (69.0.3)\r\n",
      "Collecting appdirs>=1.4.3 (from wandb)\r\n",
      "  Downloading appdirs-1.4.4-py2.py3-none-any.whl (9.6 kB)\r\n",
      "Requirement already satisfied: protobuf!=4.21.0,<5,>=3.19.0 in /Users/driesmarzougui/miniforge3/envs/SEL3-2024/lib/python3.11/site-packages (from wandb) (4.25.1)\r\n",
      "Requirement already satisfied: six>=1.4.0 in /Users/driesmarzougui/miniforge3/envs/SEL3-2024/lib/python3.11/site-packages (from docker-pycreds>=0.4.0->wandb) (1.16.0)\r\n",
      "Collecting gitdb<5,>=4.0.1 (from GitPython!=3.1.29,>=1.0.0->wandb)\r\n",
      "  Downloading gitdb-4.0.11-py3-none-any.whl.metadata (1.2 kB)\r\n",
      "Requirement already satisfied: charset-normalizer<4,>=2 in /Users/driesmarzougui/miniforge3/envs/SEL3-2024/lib/python3.11/site-packages (from requests<3,>=2.0.0->wandb) (3.3.2)\r\n",
      "Requirement already satisfied: idna<4,>=2.5 in /Users/driesmarzougui/miniforge3/envs/SEL3-2024/lib/python3.11/site-packages (from requests<3,>=2.0.0->wandb) (3.6)\r\n",
      "Requirement already satisfied: urllib3<3,>=1.21.1 in /Users/driesmarzougui/miniforge3/envs/SEL3-2024/lib/python3.11/site-packages (from requests<3,>=2.0.0->wandb) (2.1.0)\r\n",
      "Requirement already satisfied: certifi>=2017.4.17 in /Users/driesmarzougui/miniforge3/envs/SEL3-2024/lib/python3.11/site-packages (from requests<3,>=2.0.0->wandb) (2023.11.17)\r\n",
      "Collecting smmap<6,>=3.0.1 (from gitdb<5,>=4.0.1->GitPython!=3.1.29,>=1.0.0->wandb)\r\n",
      "  Downloading smmap-5.0.1-py3-none-any.whl.metadata (4.3 kB)\r\n",
      "Downloading wandb-0.16.2-py3-none-any.whl (2.2 MB)\r\n",
      "\u001B[2K   \u001B[90m━━━━━━━━━━━━━━━━━━━━━━━━━━━━━━━━━━━━━━━━\u001B[0m \u001B[32m2.2/2.2 MB\u001B[0m \u001B[31m3.1 MB/s\u001B[0m eta \u001B[36m0:00:00\u001B[0m00:01\u001B[0m00:01\u001B[0m0m\r\n",
      "\u001B[?25hDownloading GitPython-3.1.41-py3-none-any.whl (196 kB)\r\n",
      "\u001B[2K   \u001B[90m━━━━━━━━━━━━━━━━━━━━━━━━━━━━━━━━━━━━━━━━\u001B[0m \u001B[32m196.4/196.4 kB\u001B[0m \u001B[31m7.5 MB/s\u001B[0m eta \u001B[36m0:00:00\u001B[0m\r\n",
      "\u001B[?25hDownloading sentry_sdk-1.40.0-py2.py3-none-any.whl (257 kB)\r\n",
      "\u001B[2K   \u001B[90m━━━━━━━━━━━━━━━━━━━━━━━━━━━━━━━━━━━━━━━━\u001B[0m \u001B[32m257.5/257.5 kB\u001B[0m \u001B[31m5.8 MB/s\u001B[0m eta \u001B[36m0:00:00\u001B[0m00:01\u001B[0m\r\n",
      "\u001B[?25hDownloading setproctitle-1.3.3-cp311-cp311-macosx_10_9_universal2.whl (16 kB)\r\n",
      "Downloading gitdb-4.0.11-py3-none-any.whl (62 kB)\r\n",
      "\u001B[2K   \u001B[90m━━━━━━━━━━━━━━━━━━━━━━━━━━━━━━━━━━━━━━━━\u001B[0m \u001B[32m62.7/62.7 kB\u001B[0m \u001B[31m3.8 MB/s\u001B[0m eta \u001B[36m0:00:00\u001B[0m\r\n",
      "\u001B[?25hDownloading smmap-5.0.1-py3-none-any.whl (24 kB)\r\n",
      "Installing collected packages: appdirs, smmap, setproctitle, sentry-sdk, docker-pycreds, gitdb, GitPython, wandb\r\n",
      "Successfully installed GitPython-3.1.41 appdirs-1.4.4 docker-pycreds-0.4.0 gitdb-4.0.11 sentry-sdk-1.40.0 setproctitle-1.3.3 smmap-5.0.1 wandb-0.16.2\r\n"
     ]
    }
   ],
   "source": [
    "!{sys.executable} -m pip install wandb"
   ],
   "metadata": {
    "collapsed": false,
    "ExecuteTime": {
     "end_time": "2024-02-01T22:00:45.747106Z",
     "start_time": "2024-02-01T22:00:39.389909Z"
    }
   },
   "id": "620f06a62e4b446f",
   "execution_count": 70
  },
  {
   "cell_type": "markdown",
   "source": [
    "Now, let's start with defining a function that takes in a state and returns interesting scalar metrics to log:"
   ],
   "metadata": {
    "collapsed": false
   },
   "id": "d068a7325df0ab23"
  },
  {
   "cell_type": "code",
   "outputs": [],
   "source": [
    "@jax.jit\n",
    "def get_scalar_metrics(\n",
    "        state: MAPElitesState\n",
    "        ) -> Dict[str, float]:\n",
    "    return {\n",
    "            \"average-fitness\": jnp.sum(jnp.where(state.filled_mask, state.fitness_archive, 0)) / jnp.sum(\n",
    "                    state.filled_mask\n",
    "                    ), \"maximum-fitness\": jnp.max(jnp.where(state.filled_mask, state.fitness_archive, -jnp.inf)),\n",
    "            \"minimum-fitness\": jnp.min(jnp.where(state.filled_mask, state.fitness_archive, jnp.inf)),\n",
    "            \"archive-occupancy\": jnp.sum(state.filled_mask) / state.filled_mask.size,\n",
    "            # Since our descriptor is the final XY position, we can also include this:\n",
    "            \"furthest-distance-travelled\": jnp.max(\n",
    "                    jnp.where(state.filled_mask, jnp.linalg.norm(state.descriptor_archive, axis=-1), -jnp.inf)\n",
    "                    )}"
   ],
   "metadata": {
    "collapsed": false,
    "ExecuteTime": {
     "end_time": "2024-02-01T21:32:34.496278Z",
     "start_time": "2024-02-01T21:32:34.480567Z"
    }
   },
   "id": "10107c103e952e4f",
   "execution_count": 44
  },
  {
   "cell_type": "code",
   "outputs": [
    {
     "name": "stdout",
     "output_type": "stream",
     "text": [
      "{'archive-occupancy': Array(0., dtype=float32), 'average-fitness': Array(nan, dtype=float32), 'furthest-distance-travelled': Array(-inf, dtype=float32), 'maximum-fitness': Array(-inf, dtype=float32), 'minimum-fitness': Array(inf, dtype=float32)}\n"
     ]
    }
   ],
   "source": [
    "print(get_scalar_metrics(state))"
   ],
   "metadata": {
    "collapsed": false,
    "ExecuteTime": {
     "end_time": "2024-02-01T21:58:30.165055Z",
     "start_time": "2024-02-01T21:58:30.150297Z"
    }
   },
   "id": "6d0db4da12723381",
   "execution_count": 69
  },
  {
   "cell_type": "markdown",
   "source": [
    "We can also create a cool visualisation: a heatmap of the archive's fitness. We'll do this with the [seaborn](https://seaborn.pydata.org/) package, so let's first install that:"
   ],
   "metadata": {
    "collapsed": false
   },
   "id": "7631218b96c7b9b5"
  },
  {
   "cell_type": "code",
   "outputs": [
    {
     "name": "stdout",
     "output_type": "stream",
     "text": [
      "Requirement already satisfied: seaborn in /Users/driesmarzougui/miniforge3/envs/SEL3-2024/lib/python3.11/site-packages (0.13.2)\r\n",
      "Requirement already satisfied: numpy!=1.24.0,>=1.20 in /Users/driesmarzougui/miniforge3/envs/SEL3-2024/lib/python3.11/site-packages (from seaborn) (1.26.3)\r\n",
      "Requirement already satisfied: pandas>=1.2 in /Users/driesmarzougui/miniforge3/envs/SEL3-2024/lib/python3.11/site-packages (from seaborn) (2.2.0)\r\n",
      "Requirement already satisfied: matplotlib!=3.6.1,>=3.4 in /Users/driesmarzougui/miniforge3/envs/SEL3-2024/lib/python3.11/site-packages (from seaborn) (3.8.2)\r\n",
      "Requirement already satisfied: contourpy>=1.0.1 in /Users/driesmarzougui/miniforge3/envs/SEL3-2024/lib/python3.11/site-packages (from matplotlib!=3.6.1,>=3.4->seaborn) (1.2.0)\r\n",
      "Requirement already satisfied: cycler>=0.10 in /Users/driesmarzougui/miniforge3/envs/SEL3-2024/lib/python3.11/site-packages (from matplotlib!=3.6.1,>=3.4->seaborn) (0.12.1)\r\n",
      "Requirement already satisfied: fonttools>=4.22.0 in /Users/driesmarzougui/miniforge3/envs/SEL3-2024/lib/python3.11/site-packages (from matplotlib!=3.6.1,>=3.4->seaborn) (4.47.0)\r\n",
      "Requirement already satisfied: kiwisolver>=1.3.1 in /Users/driesmarzougui/miniforge3/envs/SEL3-2024/lib/python3.11/site-packages (from matplotlib!=3.6.1,>=3.4->seaborn) (1.4.5)\r\n",
      "Requirement already satisfied: packaging>=20.0 in /Users/driesmarzougui/miniforge3/envs/SEL3-2024/lib/python3.11/site-packages (from matplotlib!=3.6.1,>=3.4->seaborn) (23.2)\r\n",
      "Requirement already satisfied: pillow>=8 in /Users/driesmarzougui/miniforge3/envs/SEL3-2024/lib/python3.11/site-packages (from matplotlib!=3.6.1,>=3.4->seaborn) (10.2.0)\r\n",
      "Requirement already satisfied: pyparsing>=2.3.1 in /Users/driesmarzougui/miniforge3/envs/SEL3-2024/lib/python3.11/site-packages (from matplotlib!=3.6.1,>=3.4->seaborn) (3.1.1)\r\n",
      "Requirement already satisfied: python-dateutil>=2.7 in /Users/driesmarzougui/miniforge3/envs/SEL3-2024/lib/python3.11/site-packages (from matplotlib!=3.6.1,>=3.4->seaborn) (2.8.2)\r\n",
      "Requirement already satisfied: pytz>=2020.1 in /Users/driesmarzougui/miniforge3/envs/SEL3-2024/lib/python3.11/site-packages (from pandas>=1.2->seaborn) (2023.3.post1)\r\n",
      "Requirement already satisfied: tzdata>=2022.7 in /Users/driesmarzougui/miniforge3/envs/SEL3-2024/lib/python3.11/site-packages (from pandas>=1.2->seaborn) (2023.4)\r\n",
      "Requirement already satisfied: six>=1.5 in /Users/driesmarzougui/miniforge3/envs/SEL3-2024/lib/python3.11/site-packages (from python-dateutil>=2.7->matplotlib!=3.6.1,>=3.4->seaborn) (1.16.0)\r\n"
     ]
    }
   ],
   "source": [
    "!{sys.executable} -m pip install seaborn"
   ],
   "metadata": {
    "collapsed": false,
    "ExecuteTime": {
     "end_time": "2024-02-01T22:00:55.881744Z",
     "start_time": "2024-02-01T22:00:53.695983Z"
    }
   },
   "id": "3674a9c2db15543d",
   "execution_count": 71
  },
  {
   "cell_type": "code",
   "outputs": [],
   "source": [
    "import seaborn as sns\n",
    "import matplotlib.pyplot as plt\n",
    "from io import BytesIO\n",
    "from PIL import Image\n",
    "\n",
    "\n",
    "def create_fitness_archive_heatmap(\n",
    "        state: MAPElitesState,\n",
    "        iteration: int\n",
    "        ) -> np.ndarray:\n",
    "    data = np.array(state.fitness_archive).T\n",
    "    ax = sns.heatmap(data, cmap=\"coolwarm\")  # transpose so that we have YX position\n",
    "    ax.invert_yaxis()\n",
    "    plt.xlabel(\"X position\")\n",
    "    plt.ylabel(\"Y position\")\n",
    "    plt.title(f\"Fitness archive at iteration: {iteration}\")\n",
    "\n",
    "    cbar = ax.collections[0].colorbar\n",
    "    cbar.set_label(\"negated energy usage\")\n",
    "    plt.xticks(ticks=[0, data.shape[1]], labels=[DESCRIPTOR_LOW[0], DESCRIPTOR_HIGH[0]])\n",
    "    plt.yticks(ticks=[0, data.shape[1]], labels=[DESCRIPTOR_HIGH[1], DESCRIPTOR_LOW[1]])\n",
    "\n",
    "    # Save heatmap to a buffer\n",
    "    buf = BytesIO()\n",
    "    plt.savefig(buf, format=\"png\")\n",
    "    buf.seek(0)\n",
    "\n",
    "    image = np.array(Image.open(buf))\n",
    "    buf.close()\n",
    "    return image"
   ],
   "metadata": {
    "collapsed": false,
    "ExecuteTime": {
     "end_time": "2024-02-01T22:11:16.619020Z",
     "start_time": "2024-02-01T22:11:16.602532Z"
    }
   },
   "id": "3a107c568aa4d67c",
   "execution_count": 76
  },
  {
   "cell_type": "markdown",
   "source": [
    "Now we can implement our final optimisation loop and include logging to wandb! The next code cell might require you to login (just follow the steps). To see the logging dashboard, just click on the generated link!"
   ],
   "metadata": {
    "collapsed": false
   },
   "id": "2431513b5b57d806"
  },
  {
   "cell_type": "code",
   "execution_count": 80,
   "id": "1b2219c68ef58386",
   "metadata": {
    "collapsed": false,
    "ExecuteTime": {
     "end_time": "2024-02-01T22:14:49.639607Z",
     "start_time": "2024-02-01T22:13:17.860963Z"
    }
   },
   "outputs": [
    {
     "name": "stderr",
     "output_type": "stream",
     "text": [
      "Filling archive:   0%|          | 0/300 [01:31<?, ?it/s]\n"
     ]
    },
    {
     "ename": "KeyboardInterrupt",
     "evalue": "",
     "output_type": "error",
     "traceback": [
      "\u001B[0;31m---------------------------------------------------------------------------\u001B[0m",
      "\u001B[0;31mKeyboardInterrupt\u001B[0m                         Traceback (most recent call last)",
      "Cell \u001B[0;32mIn[80], line 3\u001B[0m\n\u001B[1;32m      1\u001B[0m \u001B[38;5;28;01mfor\u001B[39;00m iteration \u001B[38;5;129;01min\u001B[39;00m tqdm\u001B[38;5;241m.\u001B[39mtqdm(\u001B[38;5;28mrange\u001B[39m(num_iterations), desc\u001B[38;5;241m=\u001B[39m\u001B[38;5;124m\"\u001B[39m\u001B[38;5;124mFilling archive\u001B[39m\u001B[38;5;124m\"\u001B[39m):\n\u001B[1;32m      2\u001B[0m     rng, \u001B[38;5;241m*\u001B[39msub_rngs \u001B[38;5;241m=\u001B[39m jax\u001B[38;5;241m.\u001B[39mrandom\u001B[38;5;241m.\u001B[39msplit(key\u001B[38;5;241m=\u001B[39mrng, num\u001B[38;5;241m=\u001B[39mnum_parallel_evaluations \u001B[38;5;241m+\u001B[39m \u001B[38;5;241m1\u001B[39m)\n\u001B[0;32m----> 3\u001B[0m     vectorized_state \u001B[38;5;241m=\u001B[39m \u001B[43mvectorized_iteration\u001B[49m\u001B[43m(\u001B[49m\u001B[43mstate\u001B[49m\u001B[43m,\u001B[49m\u001B[43m \u001B[49m\u001B[43mjnp\u001B[49m\u001B[38;5;241;43m.\u001B[39;49m\u001B[43marray\u001B[49m\u001B[43m(\u001B[49m\u001B[43msub_rngs\u001B[49m\u001B[43m)\u001B[49m\u001B[43m)\u001B[49m\n\u001B[1;32m      4\u001B[0m     state \u001B[38;5;241m=\u001B[39m merge_map_elite_states(vectorized_state)\n\u001B[1;32m      6\u001B[0m     metrics \u001B[38;5;241m=\u001B[39m get_scalar_metrics(state)\n",
      "    \u001B[0;31m[... skipping hidden 1 frame]\u001B[0m\n",
      "File \u001B[0;32m~/miniforge3/envs/SEL3-2024/lib/python3.11/site-packages/jax/_src/pjit.py:257\u001B[0m, in \u001B[0;36m_cpp_pjit.<locals>.cache_miss\u001B[0;34m(*args, **kwargs)\u001B[0m\n\u001B[1;32m    255\u001B[0m \u001B[38;5;129m@api_boundary\u001B[39m\n\u001B[1;32m    256\u001B[0m \u001B[38;5;28;01mdef\u001B[39;00m \u001B[38;5;21mcache_miss\u001B[39m(\u001B[38;5;241m*\u001B[39margs, \u001B[38;5;241m*\u001B[39m\u001B[38;5;241m*\u001B[39mkwargs):\n\u001B[0;32m--> 257\u001B[0m   outs, out_flat, out_tree, args_flat, jaxpr \u001B[38;5;241m=\u001B[39m \u001B[43m_python_pjit_helper\u001B[49m\u001B[43m(\u001B[49m\n\u001B[1;32m    258\u001B[0m \u001B[43m      \u001B[49m\u001B[43mfun\u001B[49m\u001B[43m,\u001B[49m\u001B[43m \u001B[49m\u001B[43minfer_params_fn\u001B[49m\u001B[43m,\u001B[49m\u001B[43m \u001B[49m\u001B[38;5;241;43m*\u001B[39;49m\u001B[43margs\u001B[49m\u001B[43m,\u001B[49m\u001B[43m \u001B[49m\u001B[38;5;241;43m*\u001B[39;49m\u001B[38;5;241;43m*\u001B[39;49m\u001B[43mkwargs\u001B[49m\u001B[43m)\u001B[49m\n\u001B[1;32m    259\u001B[0m   executable \u001B[38;5;241m=\u001B[39m _read_most_recent_pjit_call_executable(jaxpr)\n\u001B[1;32m    260\u001B[0m   fastpath_data \u001B[38;5;241m=\u001B[39m _get_fastpath_data(executable, out_tree, args_flat, out_flat)\n",
      "File \u001B[0;32m~/miniforge3/envs/SEL3-2024/lib/python3.11/site-packages/jax/_src/pjit.py:168\u001B[0m, in \u001B[0;36m_python_pjit_helper\u001B[0;34m(fun, infer_params_fn, *args, **kwargs)\u001B[0m\n\u001B[1;32m    166\u001B[0m   dispatch\u001B[38;5;241m.\u001B[39mcheck_arg(arg)\n\u001B[1;32m    167\u001B[0m \u001B[38;5;28;01mtry\u001B[39;00m:\n\u001B[0;32m--> 168\u001B[0m   out_flat \u001B[38;5;241m=\u001B[39m \u001B[43mpjit_p\u001B[49m\u001B[38;5;241;43m.\u001B[39;49m\u001B[43mbind\u001B[49m\u001B[43m(\u001B[49m\u001B[38;5;241;43m*\u001B[39;49m\u001B[43margs_flat\u001B[49m\u001B[43m,\u001B[49m\u001B[43m \u001B[49m\u001B[38;5;241;43m*\u001B[39;49m\u001B[38;5;241;43m*\u001B[39;49m\u001B[43mparams\u001B[49m\u001B[43m)\u001B[49m\n\u001B[1;32m    169\u001B[0m \u001B[38;5;28;01mexcept\u001B[39;00m pxla\u001B[38;5;241m.\u001B[39mDeviceAssignmentMismatchError \u001B[38;5;28;01mas\u001B[39;00m e:\n\u001B[1;32m    170\u001B[0m   fails, \u001B[38;5;241m=\u001B[39m e\u001B[38;5;241m.\u001B[39margs\n",
      "File \u001B[0;32m~/miniforge3/envs/SEL3-2024/lib/python3.11/site-packages/jax/_src/core.py:2740\u001B[0m, in \u001B[0;36mAxisPrimitive.bind\u001B[0;34m(self, *args, **params)\u001B[0m\n\u001B[1;32m   2736\u001B[0m axis_main \u001B[38;5;241m=\u001B[39m \u001B[38;5;28mmax\u001B[39m((axis_frame(a)\u001B[38;5;241m.\u001B[39mmain_trace \u001B[38;5;28;01mfor\u001B[39;00m a \u001B[38;5;129;01min\u001B[39;00m used_axis_names(\u001B[38;5;28mself\u001B[39m, params)),\n\u001B[1;32m   2737\u001B[0m                 default\u001B[38;5;241m=\u001B[39m\u001B[38;5;28;01mNone\u001B[39;00m, key\u001B[38;5;241m=\u001B[39m\u001B[38;5;28;01mlambda\u001B[39;00m t: \u001B[38;5;28mgetattr\u001B[39m(t, \u001B[38;5;124m'\u001B[39m\u001B[38;5;124mlevel\u001B[39m\u001B[38;5;124m'\u001B[39m, \u001B[38;5;241m-\u001B[39m\u001B[38;5;241m1\u001B[39m))\n\u001B[1;32m   2738\u001B[0m top_trace \u001B[38;5;241m=\u001B[39m (top_trace \u001B[38;5;28;01mif\u001B[39;00m \u001B[38;5;129;01mnot\u001B[39;00m axis_main \u001B[38;5;129;01mor\u001B[39;00m axis_main\u001B[38;5;241m.\u001B[39mlevel \u001B[38;5;241m<\u001B[39m top_trace\u001B[38;5;241m.\u001B[39mlevel\n\u001B[1;32m   2739\u001B[0m              \u001B[38;5;28;01melse\u001B[39;00m axis_main\u001B[38;5;241m.\u001B[39mwith_cur_sublevel())\n\u001B[0;32m-> 2740\u001B[0m \u001B[38;5;28;01mreturn\u001B[39;00m \u001B[38;5;28;43mself\u001B[39;49m\u001B[38;5;241;43m.\u001B[39;49m\u001B[43mbind_with_trace\u001B[49m\u001B[43m(\u001B[49m\u001B[43mtop_trace\u001B[49m\u001B[43m,\u001B[49m\u001B[43m \u001B[49m\u001B[43margs\u001B[49m\u001B[43m,\u001B[49m\u001B[43m \u001B[49m\u001B[43mparams\u001B[49m\u001B[43m)\u001B[49m\n",
      "File \u001B[0;32m~/miniforge3/envs/SEL3-2024/lib/python3.11/site-packages/jax/_src/core.py:447\u001B[0m, in \u001B[0;36mPrimitive.bind_with_trace\u001B[0;34m(self, trace, args, params)\u001B[0m\n\u001B[1;32m    446\u001B[0m \u001B[38;5;28;01mdef\u001B[39;00m \u001B[38;5;21mbind_with_trace\u001B[39m(\u001B[38;5;28mself\u001B[39m, trace, args, params):\n\u001B[0;32m--> 447\u001B[0m   out \u001B[38;5;241m=\u001B[39m \u001B[43mtrace\u001B[49m\u001B[38;5;241;43m.\u001B[39;49m\u001B[43mprocess_primitive\u001B[49m\u001B[43m(\u001B[49m\u001B[38;5;28;43mself\u001B[39;49m\u001B[43m,\u001B[49m\u001B[43m \u001B[49m\u001B[38;5;28;43mmap\u001B[39;49m\u001B[43m(\u001B[49m\u001B[43mtrace\u001B[49m\u001B[38;5;241;43m.\u001B[39;49m\u001B[43mfull_raise\u001B[49m\u001B[43m,\u001B[49m\u001B[43m \u001B[49m\u001B[43margs\u001B[49m\u001B[43m)\u001B[49m\u001B[43m,\u001B[49m\u001B[43m \u001B[49m\u001B[43mparams\u001B[49m\u001B[43m)\u001B[49m\n\u001B[1;32m    448\u001B[0m   \u001B[38;5;28;01mreturn\u001B[39;00m \u001B[38;5;28mmap\u001B[39m(full_lower, out) \u001B[38;5;28;01mif\u001B[39;00m \u001B[38;5;28mself\u001B[39m\u001B[38;5;241m.\u001B[39mmultiple_results \u001B[38;5;28;01melse\u001B[39;00m full_lower(out)\n",
      "File \u001B[0;32m~/miniforge3/envs/SEL3-2024/lib/python3.11/site-packages/jax/_src/core.py:935\u001B[0m, in \u001B[0;36mEvalTrace.process_primitive\u001B[0;34m(self, primitive, tracers, params)\u001B[0m\n\u001B[1;32m    934\u001B[0m \u001B[38;5;28;01mdef\u001B[39;00m \u001B[38;5;21mprocess_primitive\u001B[39m(\u001B[38;5;28mself\u001B[39m, primitive, tracers, params):\n\u001B[0;32m--> 935\u001B[0m   \u001B[38;5;28;01mreturn\u001B[39;00m \u001B[43mprimitive\u001B[49m\u001B[38;5;241;43m.\u001B[39;49m\u001B[43mimpl\u001B[49m\u001B[43m(\u001B[49m\u001B[38;5;241;43m*\u001B[39;49m\u001B[43mtracers\u001B[49m\u001B[43m,\u001B[49m\u001B[43m \u001B[49m\u001B[38;5;241;43m*\u001B[39;49m\u001B[38;5;241;43m*\u001B[39;49m\u001B[43mparams\u001B[49m\u001B[43m)\u001B[49m\n",
      "File \u001B[0;32m~/miniforge3/envs/SEL3-2024/lib/python3.11/site-packages/jax/_src/pjit.py:1245\u001B[0m, in \u001B[0;36m_pjit_call_impl\u001B[0;34m(jaxpr, in_shardings, out_shardings, resource_env, donated_invars, name, keep_unused, inline, *args)\u001B[0m\n\u001B[1;32m   1242\u001B[0m donated_argnums \u001B[38;5;241m=\u001B[39m [i \u001B[38;5;28;01mfor\u001B[39;00m i, d \u001B[38;5;129;01min\u001B[39;00m \u001B[38;5;28menumerate\u001B[39m(donated_invars) \u001B[38;5;28;01mif\u001B[39;00m d]\n\u001B[1;32m   1243\u001B[0m has_explicit_sharding \u001B[38;5;241m=\u001B[39m _pjit_explicit_sharding(\n\u001B[1;32m   1244\u001B[0m     in_shardings, out_shardings, \u001B[38;5;28;01mNone\u001B[39;00m, \u001B[38;5;28;01mNone\u001B[39;00m)\n\u001B[0;32m-> 1245\u001B[0m \u001B[38;5;28;01mreturn\u001B[39;00m \u001B[43mxc\u001B[49m\u001B[38;5;241;43m.\u001B[39;49m\u001B[43m_xla\u001B[49m\u001B[38;5;241;43m.\u001B[39;49m\u001B[43mpjit\u001B[49m\u001B[43m(\u001B[49m\u001B[43mname\u001B[49m\u001B[43m,\u001B[49m\u001B[43m \u001B[49m\u001B[43mf\u001B[49m\u001B[43m,\u001B[49m\u001B[43m \u001B[49m\u001B[43mcall_impl_cache_miss\u001B[49m\u001B[43m,\u001B[49m\u001B[43m \u001B[49m\u001B[43m[\u001B[49m\u001B[43m]\u001B[49m\u001B[43m,\u001B[49m\u001B[43m \u001B[49m\u001B[43m[\u001B[49m\u001B[43m]\u001B[49m\u001B[43m,\u001B[49m\u001B[43m \u001B[49m\u001B[43mdonated_argnums\u001B[49m\u001B[43m,\u001B[49m\n\u001B[1;32m   1246\u001B[0m \u001B[43m                    \u001B[49m\u001B[43mtree_util\u001B[49m\u001B[38;5;241;43m.\u001B[39;49m\u001B[43mdispatch_registry\u001B[49m\u001B[43m,\u001B[49m\n\u001B[1;32m   1247\u001B[0m \u001B[43m                    \u001B[49m\u001B[43m_get_cpp_global_cache\u001B[49m\u001B[43m(\u001B[49m\u001B[43mhas_explicit_sharding\u001B[49m\u001B[43m)\u001B[49m\u001B[43m)\u001B[49m\u001B[43m(\u001B[49m\u001B[38;5;241;43m*\u001B[39;49m\u001B[43margs\u001B[49m\u001B[43m)\u001B[49m\n",
      "File \u001B[0;32m~/miniforge3/envs/SEL3-2024/lib/python3.11/site-packages/jax/_src/pjit.py:1229\u001B[0m, in \u001B[0;36m_pjit_call_impl.<locals>.call_impl_cache_miss\u001B[0;34m(*args_, **kwargs_)\u001B[0m\n\u001B[1;32m   1228\u001B[0m \u001B[38;5;28;01mdef\u001B[39;00m \u001B[38;5;21mcall_impl_cache_miss\u001B[39m(\u001B[38;5;241m*\u001B[39margs_, \u001B[38;5;241m*\u001B[39m\u001B[38;5;241m*\u001B[39mkwargs_):\n\u001B[0;32m-> 1229\u001B[0m   out_flat, compiled \u001B[38;5;241m=\u001B[39m \u001B[43m_pjit_call_impl_python\u001B[49m\u001B[43m(\u001B[49m\n\u001B[1;32m   1230\u001B[0m \u001B[43m      \u001B[49m\u001B[38;5;241;43m*\u001B[39;49m\u001B[43margs\u001B[49m\u001B[43m,\u001B[49m\u001B[43m \u001B[49m\u001B[43mjaxpr\u001B[49m\u001B[38;5;241;43m=\u001B[39;49m\u001B[43mjaxpr\u001B[49m\u001B[43m,\u001B[49m\u001B[43m \u001B[49m\u001B[43min_shardings\u001B[49m\u001B[38;5;241;43m=\u001B[39;49m\u001B[43min_shardings\u001B[49m\u001B[43m,\u001B[49m\n\u001B[1;32m   1231\u001B[0m \u001B[43m      \u001B[49m\u001B[43mout_shardings\u001B[49m\u001B[38;5;241;43m=\u001B[39;49m\u001B[43mout_shardings\u001B[49m\u001B[43m,\u001B[49m\u001B[43m \u001B[49m\u001B[43mresource_env\u001B[49m\u001B[38;5;241;43m=\u001B[39;49m\u001B[43mresource_env\u001B[49m\u001B[43m,\u001B[49m\n\u001B[1;32m   1232\u001B[0m \u001B[43m      \u001B[49m\u001B[43mdonated_invars\u001B[49m\u001B[38;5;241;43m=\u001B[39;49m\u001B[43mdonated_invars\u001B[49m\u001B[43m,\u001B[49m\u001B[43m \u001B[49m\u001B[43mname\u001B[49m\u001B[38;5;241;43m=\u001B[39;49m\u001B[43mname\u001B[49m\u001B[43m,\u001B[49m\u001B[43m \u001B[49m\u001B[43mkeep_unused\u001B[49m\u001B[38;5;241;43m=\u001B[39;49m\u001B[43mkeep_unused\u001B[49m\u001B[43m,\u001B[49m\n\u001B[1;32m   1233\u001B[0m \u001B[43m      \u001B[49m\u001B[43minline\u001B[49m\u001B[38;5;241;43m=\u001B[39;49m\u001B[43minline\u001B[49m\u001B[43m)\u001B[49m\n\u001B[1;32m   1234\u001B[0m   fastpath_data \u001B[38;5;241m=\u001B[39m _get_fastpath_data(\n\u001B[1;32m   1235\u001B[0m       compiled, tree_structure(out_flat), args, out_flat)\n\u001B[1;32m   1236\u001B[0m   \u001B[38;5;28;01mreturn\u001B[39;00m out_flat, fastpath_data\n",
      "File \u001B[0;32m~/miniforge3/envs/SEL3-2024/lib/python3.11/site-packages/jax/_src/pjit.py:1185\u001B[0m, in \u001B[0;36m_pjit_call_impl_python\u001B[0;34m(jaxpr, in_shardings, out_shardings, resource_env, donated_invars, name, keep_unused, inline, *args)\u001B[0m\n\u001B[1;32m   1179\u001B[0m   distributed_debug_log((\u001B[38;5;124m\"\u001B[39m\u001B[38;5;124mRunning pjit\u001B[39m\u001B[38;5;124m'\u001B[39m\u001B[38;5;124md function\u001B[39m\u001B[38;5;124m\"\u001B[39m, name),\n\u001B[1;32m   1180\u001B[0m                         (\u001B[38;5;124m\"\u001B[39m\u001B[38;5;124min_shardings\u001B[39m\u001B[38;5;124m\"\u001B[39m, in_shardings),\n\u001B[1;32m   1181\u001B[0m                         (\u001B[38;5;124m\"\u001B[39m\u001B[38;5;124mout_shardings\u001B[39m\u001B[38;5;124m\"\u001B[39m, out_shardings),\n\u001B[1;32m   1182\u001B[0m                         (\u001B[38;5;124m\"\u001B[39m\u001B[38;5;124mabstract args\u001B[39m\u001B[38;5;124m\"\u001B[39m, \u001B[38;5;28mmap\u001B[39m(xla\u001B[38;5;241m.\u001B[39mabstractify, args)),\n\u001B[1;32m   1183\u001B[0m                         (\u001B[38;5;124m\"\u001B[39m\u001B[38;5;124mfingerprint\u001B[39m\u001B[38;5;124m\"\u001B[39m, fingerprint))\n\u001B[1;32m   1184\u001B[0m \u001B[38;5;28;01mtry\u001B[39;00m:\n\u001B[0;32m-> 1185\u001B[0m   \u001B[38;5;28;01mreturn\u001B[39;00m \u001B[43mcompiled\u001B[49m\u001B[38;5;241;43m.\u001B[39;49m\u001B[43munsafe_call\u001B[49m\u001B[43m(\u001B[49m\u001B[38;5;241;43m*\u001B[39;49m\u001B[43margs\u001B[49m\u001B[43m)\u001B[49m, compiled\n\u001B[1;32m   1186\u001B[0m \u001B[38;5;28;01mexcept\u001B[39;00m \u001B[38;5;167;01mFloatingPointError\u001B[39;00m \u001B[38;5;28;01mas\u001B[39;00m e:\n\u001B[1;32m   1187\u001B[0m   \u001B[38;5;28;01massert\u001B[39;00m config\u001B[38;5;241m.\u001B[39mdebug_nans\u001B[38;5;241m.\u001B[39mvalue \u001B[38;5;129;01mor\u001B[39;00m config\u001B[38;5;241m.\u001B[39mdebug_infs\u001B[38;5;241m.\u001B[39mvalue  \u001B[38;5;66;03m# compiled_fun can only raise in this case\u001B[39;00m\n",
      "File \u001B[0;32m~/miniforge3/envs/SEL3-2024/lib/python3.11/site-packages/jax/_src/profiler.py:336\u001B[0m, in \u001B[0;36mannotate_function.<locals>.wrapper\u001B[0;34m(*args, **kwargs)\u001B[0m\n\u001B[1;32m    333\u001B[0m \u001B[38;5;129m@wraps\u001B[39m(func)\n\u001B[1;32m    334\u001B[0m \u001B[38;5;28;01mdef\u001B[39;00m \u001B[38;5;21mwrapper\u001B[39m(\u001B[38;5;241m*\u001B[39margs, \u001B[38;5;241m*\u001B[39m\u001B[38;5;241m*\u001B[39mkwargs):\n\u001B[1;32m    335\u001B[0m   \u001B[38;5;28;01mwith\u001B[39;00m TraceAnnotation(name, \u001B[38;5;241m*\u001B[39m\u001B[38;5;241m*\u001B[39mdecorator_kwargs):\n\u001B[0;32m--> 336\u001B[0m     \u001B[38;5;28;01mreturn\u001B[39;00m \u001B[43mfunc\u001B[49m\u001B[43m(\u001B[49m\u001B[38;5;241;43m*\u001B[39;49m\u001B[43margs\u001B[49m\u001B[43m,\u001B[49m\u001B[43m \u001B[49m\u001B[38;5;241;43m*\u001B[39;49m\u001B[38;5;241;43m*\u001B[39;49m\u001B[43mkwargs\u001B[49m\u001B[43m)\u001B[49m\n\u001B[1;32m    337\u001B[0m   \u001B[38;5;28;01mreturn\u001B[39;00m wrapper\n",
      "File \u001B[0;32m~/miniforge3/envs/SEL3-2024/lib/python3.11/site-packages/jax/_src/interpreters/pxla.py:1159\u001B[0m, in \u001B[0;36mExecuteReplicated.__call__\u001B[0;34m(self, *args)\u001B[0m\n\u001B[1;32m   1157\u001B[0m   \u001B[38;5;28mself\u001B[39m\u001B[38;5;241m.\u001B[39m_handle_token_bufs(result_token_bufs, sharded_runtime_token)\n\u001B[1;32m   1158\u001B[0m \u001B[38;5;28;01melse\u001B[39;00m:\n\u001B[0;32m-> 1159\u001B[0m   results \u001B[38;5;241m=\u001B[39m \u001B[38;5;28;43mself\u001B[39;49m\u001B[38;5;241;43m.\u001B[39;49m\u001B[43mxla_executable\u001B[49m\u001B[38;5;241;43m.\u001B[39;49m\u001B[43mexecute_sharded\u001B[49m\u001B[43m(\u001B[49m\u001B[43minput_bufs\u001B[49m\u001B[43m)\u001B[49m\n\u001B[1;32m   1160\u001B[0m \u001B[38;5;28;01mif\u001B[39;00m dispatch\u001B[38;5;241m.\u001B[39mneeds_check_special():\n\u001B[1;32m   1161\u001B[0m   out_arrays \u001B[38;5;241m=\u001B[39m results\u001B[38;5;241m.\u001B[39mdisassemble_into_single_device_arrays()\n",
      "\u001B[0;31mKeyboardInterrupt\u001B[0m: "
     ]
    }
   ],
   "source": [
    "import wandb\n",
    "\n",
    "# Be sure to check out which other arguments you can pass to wandb.init. 'config' and 'group' are very interesting ones to more easily compare experiments later!\n",
    "wandb.init(\n",
    "        project=\"SEL3-2024-QD-Tutorial\", )\n",
    "\n",
    "rng, reset_rng = jax.random.split(rng, 2)\n",
    "state = map_elites.reset(rng=reset_rng)\n",
    "\n",
    "num_parallel_evaluations = 128\n",
    "num_iterations = 300\n",
    "\n",
    "for iteration in tqdm.tqdm(range(num_iterations), desc=\"Filling archive\"):\n",
    "    rng, *sub_rngs = jax.random.split(key=rng, num=num_parallel_evaluations + 1)\n",
    "    vectorized_state = vectorized_iteration(state, jnp.array(sub_rngs))\n",
    "    state = merge_map_elite_states(vectorized_state)\n",
    "\n",
    "    metrics = get_scalar_metrics(state)\n",
    "    wandb.log(data=metrics, step=iteration)\n",
    "   \n",
    "    if iteration % 10 == 0:\n",
    "        heatmap = create_fitness_archive_heatmap(state=state, iteration=iteration)\n",
    "        image = wandb.Image(heatmap)\n",
    "        wandb.log({\"heatmap\": image}, step=iteration)\n",
    "        \n",
    "# Always finish the wandb run!\n",
    "wandb.finish()"
   ]
  },
  {
   "cell_type": "markdown",
   "id": "b7e021b9-ac84-42bd-a5bc-e173b3d607bd",
   "metadata": {},
   "source": [
    "### Result evaluation"
   ]
  },
  {
   "cell_type": "markdown",
   "id": "c6619ae14313db36",
   "metadata": {
    "collapsed": false
   },
   "source": [
    "todo: Visualize some cells"
   ]
  },
  {
   "cell_type": "code",
   "execution_count": 40,
   "id": "9c92f40d-ec90-4be9-b2ca-2b21b451279b",
   "metadata": {
    "ExecuteTime": {
     "end_time": "2024-02-01T16:36:26.084970Z",
     "start_time": "2024-02-01T16:36:26.074866Z"
    }
   },
   "outputs": [],
   "source": []
  },
  {
   "cell_type": "code",
   "outputs": [],
   "source": [
    "env.close()"
   ],
   "metadata": {
    "collapsed": false
   },
   "id": "4eeeac9d96338ff3"
  },
  {
   "cell_type": "markdown",
   "id": "94d44352-6ece-4303-aa0c-da4d43124bca",
   "metadata": {},
   "source": [
    "## Next steps\n",
    "* Try to do this for non-shared oscillators per arm segments -> more complex behaviours possible\n",
    "* Incorporate cross-over\n",
    "* use https://github.com/adaptive-intelligent-robotics/QDax\n",
    "* Incorporate our prior knowledge on brittle star behaviour -> leading arm + rowers -> we can share parameters between rowers on same side / invert the in-plane motion for left and right rowers\n",
    "    * Do this for forward locomotion only -> changing direction is just changing roles of arms\n",
    "    * fitness: energy efficiency\n",
    "    * behaviour: find a nice way to describe a rowing motion (could be a dimensionality reduction technique applied to our modulation parameters)\n",
    "- E.g. multi level\n",
    "    - Bottom level → segment groups\n",
    "    - Middle level → arm (combines N-SEGMENTS bottom level ones)\n",
    "    - Top level → body (combines N-ARMS middle level ones)\n",
    "        - Descriptor : should promote a diverse group of behaviours\n",
    "        - Quality: top level should do well (e.g. BD: final XY position, F: energy efficiency / disk stability / ...) → fitness is propagated to lower levels"
   ]
  },
  {
   "cell_type": "markdown",
   "id": "d893f574d309dccf",
   "metadata": {
    "collapsed": false
   },
   "source": [
    "## Reading material\n",
    "\n",
    "* Quality diversity review\n",
    "* CVT-MAP-Elites\n",
    "* Multi level ME\n"
   ]
  },
  {
   "cell_type": "code",
   "execution_count": null,
   "id": "a05ec4a6-599c-4c73-8fe5-18a350e4e77a",
   "metadata": {},
   "outputs": [],
   "source": []
  }
 ],
 "metadata": {
  "kernelspec": {
   "name": "python3",
   "language": "python",
   "display_name": "Python 3 (ipykernel)"
  },
  "language_info": {
   "codemirror_mode": {
    "name": "ipython",
    "version": 3
   },
   "file_extension": ".py",
   "mimetype": "text/x-python",
   "name": "python",
   "nbconvert_exporter": "python",
   "pygments_lexer": "ipython3",
   "version": "3.11.7"
  }
 },
 "nbformat": 4,
 "nbformat_minor": 5
}
