{
 "cells": [
  {
   "cell_type": "markdown",
   "id": "5ab6b4a8-d15b-4bde-9e73-e5adaba3f913",
   "metadata": {},
   "source": [
    "# <h1><center>Quality Diversity Tutorial</center></h1>\n",
    "\n",
    "This notebook provides an introductory tutorial to Quality Diversity algorithms. Specifically, we will apply MAP-Elites to acquire a diverse set of locomotion behaviours for a simplified brittle star robot. The [brittle star robot and its environment](https://github.com/Co-Evolve/brb/tree/new-framework/brb/brittle_star) is part of the [**the Bio-inspired Robotics Benchmark (BRB)**](https://github.com/Co-Evolve/brb). Instead of directly evolving joint-level actions, we will evolve modulation parameters for a Central Pattern Generator, that in turn outputs the joint-level actions."
   ]
  },
  {
   "cell_type": "markdown",
   "id": "901ad080-5a82-4517-9d11-281cc353d4a3",
   "metadata": {},
   "source": [
    "## Quality Diversity algorithms\n",
    "\n",
    "### MAP-Elites"
   ]
  },
  {
   "cell_type": "code",
   "execution_count": 24,
   "id": "a3a78bdd-4734-48e1-aaf2-ed56ebc93e3d",
   "metadata": {
    "ExecuteTime": {
     "end_time": "2024-02-01T17:12:49.593501Z",
     "start_time": "2024-02-01T17:12:49.568453Z"
    }
   },
   "outputs": [],
   "source": [
    "from functools import partial\n",
    "import chex\n",
    "import tqdm\n",
    "from flax import struct\n",
    "import jax.numpy as jnp\n",
    "import jax\n",
    "from typing import Tuple, Type\n",
    "\n",
    "\n",
    "@struct.dataclass\n",
    "class MAPElitesState:\n",
    "    parameter_archive: jnp.ndarray\n",
    "    fitness_archive: jnp.ndarray\n",
    "    filled: jnp.ndarray\n",
    "\n",
    "\n",
    "class MAPElites:\n",
    "    def __init__(\n",
    "            self,\n",
    "            dimensions: Tuple[int, ...],\n",
    "            num_parameters: int,\n",
    "            noise_scale: float,\n",
    "            descriptor_low: jnp.ndarray,\n",
    "            descriptor_high: jnp.ndarray,\n",
    "            parameters_low: jnp.ndarray,\n",
    "            parameters_high: jnp.ndarray\n",
    "            ) -> None:\n",
    "        self._dimensions = dimensions\n",
    "        self._num_parameters = num_parameters\n",
    "        self._noise_scale = noise_scale\n",
    "        self._descriptor_low = descriptor_low\n",
    "        self._descriptor_high = descriptor_high\n",
    "        self._parameters_low = parameters_low\n",
    "        self._parameters_high = parameters_high\n",
    "\n",
    "    @partial(jax.jit, static_argnums=(0,))\n",
    "    def select_random_parameters(\n",
    "            self,\n",
    "            rng: chex.PRNGKey,\n",
    "            state: MAPElitesState\n",
    "            ) -> jnp.ndarray:\n",
    "        \"\"\"\n",
    "        Returns a random cell's parameters\n",
    "        \"\"\"\n",
    "        cell_index = jax.random.randint(\n",
    "                key=rng,\n",
    "                shape=(len(self._dimensions),),\n",
    "                minval=jnp.zeros(len(self._dimensions)),\n",
    "                maxval=jnp.array(self._dimensions)\n",
    "                )\n",
    "        parameters = state.parameter_archive[*cell_index]\n",
    "        return parameters\n",
    "\n",
    "    @partial(jax.jit, static_argnums=(0,))\n",
    "    def mutate_parameters(\n",
    "            self,\n",
    "            rng: chex.PRNGKey,\n",
    "            parameters: jnp.ndarray\n",
    "            ) -> jnp.ndarray:\n",
    "        noise = jax.random.normal(key=rng, shape=(len(parameters),)) * self._noise_scale\n",
    "        parameters = parameters + noise\n",
    "        parameters = jnp.clip(a=parameters, a_min=self._parameters_low, a_max=self._parameters_high)\n",
    "        return parameters\n",
    "\n",
    "    @partial(jax.jit, static_argnums=(0,))\n",
    "    def _get_cell_index(\n",
    "            self,\n",
    "            descriptor: jnp.ndarray\n",
    "            ) -> Tuple[int, ...]:\n",
    "        descriptor = jnp.clip(a=descriptor, a_min=self._descriptor_low, a_max=self._descriptor_high)\n",
    "\n",
    "        # Renormalize descriptor to [0, 1] range\n",
    "        descriptor = (descriptor - self._descriptor_low) / (self._descriptor_high - self._descriptor_low)\n",
    "        cell_index = (descriptor * jnp.array(self._dimensions)).astype(jnp.int32)\n",
    "        return cell_index\n",
    "\n",
    "    @partial(jax.jit, static_argnums=(0,))\n",
    "    def add_to_archive(\n",
    "            self,\n",
    "            state: MAPElitesState,\n",
    "            descriptor: jnp.ndarray,\n",
    "            fitness: float,\n",
    "            parameters: jnp.ndarray\n",
    "            ) -> MAPElitesState:\n",
    "        cell_index = self._get_cell_index(descriptor=descriptor)\n",
    "\n",
    "        pred = ~state.filled[*cell_index] | (fitness > state.fitness_archive[*cell_index])\n",
    "\n",
    "        def _replace() -> MAPElitesState:\n",
    "            # noinspection PyUnresolvedReferences\n",
    "            return state.replace(\n",
    "                    parameter_archive=state.parameter_archive.at[*cell_index].set(parameters),\n",
    "                    fitness_archive=state.fitness_archive.at[*cell_index].set(fitness),\n",
    "                    filled=state.filled.at[*cell_index].set(True)\n",
    "                    )\n",
    "\n",
    "        def _do_not_replace() -> MAPElitesState:\n",
    "            return state\n",
    "\n",
    "        return jax.lax.cond(\n",
    "                pred, _replace, _do_not_replace\n",
    "                )\n",
    "\n",
    "    @partial(jax.jit, static_argnums=(0,))\n",
    "    def reset(\n",
    "            self,\n",
    "            rng: chex.PRNGKey\n",
    "            ) -> MAPElitesState:\n",
    "        # noinspection PyArgumentList\n",
    "        return MAPElitesState(\n",
    "                parameter_archive=jax.random.uniform(\n",
    "                        key=rng,\n",
    "                        shape=self._dimensions + (len(self._parameters_low),),\n",
    "                        dtype=jnp.float32,\n",
    "                        minval=self._parameters_low,\n",
    "                        maxval=self._parameters_high\n",
    "                        ), fitness_archive=-jnp.inf * jnp.ones(self._dimensions), filled=jnp.zeros(self._dimensions).astype(bool)\n",
    "                )"
   ]
  },
  {
   "cell_type": "markdown",
   "id": "f3e32b6e-35c3-46a7-9647-6cf5fb5293d8",
   "metadata": {},
   "source": [
    "## Case study: CPG modulations for brittle star locomotion"
   ]
  },
  {
   "cell_type": "markdown",
   "id": "a6b77ba3-33b8-4e69-a6f9-f48df2e0f7e0",
   "metadata": {},
   "source": [
    "### Modulation parameters\n",
    "\n",
    "* No coupling between oscillators of different arms\n",
    "* 2 oscillators per arm (one in plane, one out-of-plane)\n",
    "    * all segments of arm share these outputs\n",
    "* Parameters\n",
    "    * 1 common frequency\n",
    "    * Per arm: 2 oscillators:\n",
    "        * Per oscillator amplitude, offset\n",
    "        * phase bias for coupling \n",
    "\n",
    "* 5 armed brittle star, 3 segments per arm, arm segments behave the same -> 2 oscillators per arm -> 10 oscillators in total -> 30 parameters (oscillator ones) + 1 (common frequency)"
   ]
  },
  {
   "cell_type": "markdown",
   "id": "0a4ac0f8-34d3-4061-9789-3d8e26858a1c",
   "metadata": {},
   "source": [
    "### Environment setup"
   ]
  },
  {
   "cell_type": "code",
   "execution_count": 25,
   "id": "3c597b226c449a12",
   "metadata": {
    "ExecuteTime": {
     "end_time": "2024-02-01T14:48:22.236629Z",
     "start_time": "2024-02-01T14:48:22.160843Z"
    },
    "collapsed": false,
    "jupyter": {
     "outputs_hidden": false
    }
   },
   "outputs": [
    {
     "name": "stdout",
     "output_type": "stream",
     "text": [
      "Thu Feb  1 20:53:50 2024       \n",
      "+---------------------------------------------------------------------------------------+\n",
      "| NVIDIA-SMI 535.129.03             Driver Version: 535.129.03   CUDA Version: 12.2     |\n",
      "|-----------------------------------------+----------------------+----------------------+\n",
      "| GPU  Name                 Persistence-M | Bus-Id        Disp.A | Volatile Uncorr. ECC |\n",
      "| Fan  Temp   Perf          Pwr:Usage/Cap |         Memory-Usage | GPU-Util  Compute M. |\n",
      "|                                         |                      |               MIG M. |\n",
      "|=========================================+======================+======================|\n",
      "|   0  NVIDIA A2                      On  | 00000000:3B:00.0 Off |                    0 |\n",
      "|  0%   53C    P0              20W /  60W |  11553MiB / 15356MiB |      0%      Default |\n",
      "|                                         |                      |                  N/A |\n",
      "+-----------------------------------------+----------------------+----------------------+\n",
      "                                                                                         \n",
      "+---------------------------------------------------------------------------------------+\n",
      "| Processes:                                                                            |\n",
      "|  GPU   GI   CI        PID   Type   Process name                            GPU Memory |\n",
      "|        ID   ID                                                             Usage      |\n",
      "|=======================================================================================|\n",
      "|    0   N/A  N/A    209435    C+G   .../.conda/envs/example-env/bin/python    11536MiB |\n",
      "+---------------------------------------------------------------------------------------+\n",
      "Setting environment variable to use GPU rendering:\n",
      "env: MUJOCO_GL=egl\n",
      "[cuda(id=0)]\n",
      "Checking that the mujoco installation succeeded:\n",
      "MuJoCo installation successful.\n"
     ]
    }
   ],
   "source": [
    "import os\n",
    "import subprocess\n",
    "import logging\n",
    "\n",
    "try:\n",
    "    if subprocess.run('nvidia-smi').returncode:\n",
    "        raise RuntimeError(\n",
    "                'Cannot communicate with GPU. '\n",
    "                'Make sure you are using a GPU Colab runtime. '\n",
    "                'Go to the Runtime menu and select Choose runtime type.'\n",
    "                )\n",
    "\n",
    "    # Add an ICD config so that glvnd can pick up the Nvidia EGL driver.\n",
    "    # This is usually installed as part of an Nvidia driver package, but the Colab\n",
    "    # kernel doesn't install its driver via APT, and as a result the ICD is missing.\n",
    "    # (https://github.com/NVIDIA/libglvnd/blob/master/src/EGL/icd_enumeration.md)\n",
    "    NVIDIA_ICD_CONFIG_PATH = '/usr/share/glvnd/egl_vendor.d/10_nvidia.json'\n",
    "    if not os.path.exists(NVIDIA_ICD_CONFIG_PATH):\n",
    "        with open(NVIDIA_ICD_CONFIG_PATH, 'w') as f:\n",
    "            f.write(\n",
    "                    \"\"\"{\n",
    "                            \"file_format_version\" : \"1.0.0\",\n",
    "                            \"ICD\" : {\n",
    "                                \"library_path\" : \"libEGL_nvidia.so.0\"\n",
    "                            }\n",
    "                        }\n",
    "                        \"\"\"\n",
    "                    )\n",
    "\n",
    "    # Configure MuJoCo to use the EGL rendering backend (requires GPU)\n",
    "    print('Setting environment variable to use GPU rendering:')\n",
    "    %env MUJOCO_GL=egl\n",
    "\n",
    "    # Check if jax finds the GPU\n",
    "    import jax\n",
    "\n",
    "    print(jax.devices('gpu'))\n",
    "except Exception:\n",
    "    logging.warning(\"Failed to initialize GPU. Everything will run on the cpu.\")\n",
    "\n",
    "try:\n",
    "    print('Checking that the mujoco installation succeeded:')\n",
    "    import mujoco\n",
    "\n",
    "    mujoco.MjModel.from_xml_string('<mujoco/>')\n",
    "except Exception as e:\n",
    "    raise e from RuntimeError(\n",
    "            'Something went wrong during installation. Check the shell output above '\n",
    "            'for more information.\\n'\n",
    "            'If using a hosted Colab runtime, make sure you enable GPU acceleration '\n",
    "            'by going to the Runtime menu and selecting \"Choose runtime type\".'\n",
    "            )\n",
    "\n",
    "print('MuJoCo installation successful.')"
   ]
  },
  {
   "cell_type": "code",
   "execution_count": 26,
   "id": "27997ee2eb59a7da",
   "metadata": {
    "ExecuteTime": {
     "end_time": "2024-02-01T14:48:23.356756Z",
     "start_time": "2024-02-01T14:48:22.605497Z"
    },
    "collapsed": false,
    "jupyter": {
     "outputs_hidden": false
    }
   },
   "outputs": [],
   "source": [
    "from brb.brittle_star.environment.undirected_locomotion.dual import BrittleStarUndirectedLocomotionEnvironment\n",
    "from brb.brittle_star.environment.undirected_locomotion.shared import \\\n",
    "    BrittleStarUndirectedLocomotionEnvironmentConfiguration\n",
    "import numpy as np\n",
    "from mujoco_utils.environment.base import MuJoCoEnvironmentConfiguration\n",
    "from typing import List\n",
    "import mediapy as media\n",
    "from brb.brittle_star.mjcf.morphology.morphology import MJCFBrittleStarMorphology\n",
    "from brb.brittle_star.mjcf.morphology.specification.default import default_brittle_star_morphology_specification\n",
    "from brb.brittle_star.mjcf.arena.aquarium import AquariumArenaConfiguration, MJCFAquariumArena\n",
    "\n",
    "morphology_specification = default_brittle_star_morphology_specification(\n",
    "        num_arms=5, num_segments_per_arm=3, use_p_control=True, use_torque_control=False\n",
    "        )\n",
    "arena_configuration = AquariumArenaConfiguration(\n",
    "        size=(10, 10), sand_ground_color=False, attach_target=False, wall_height=1.5, wall_thickness=0.1\n",
    "        )\n",
    "environment_configuration = BrittleStarUndirectedLocomotionEnvironmentConfiguration(\n",
    "        joint_randomization_noise_scale=0.0,\n",
    "        render_mode=\"rgb_array\",\n",
    "        simulation_time=5,\n",
    "        num_physics_steps_per_control_step=10,\n",
    "        time_scale=2,\n",
    "        camera_ids=[0, 1],\n",
    "        render_size=(480, 640)\n",
    "        )\n",
    "\n",
    "\n",
    "def create_environment() -> BrittleStarUndirectedLocomotionEnvironment:\n",
    "    morphology = MJCFBrittleStarMorphology(\n",
    "            specification=morphology_specification\n",
    "            )\n",
    "    arena = MJCFAquariumArena(\n",
    "            configuration=arena_configuration\n",
    "            )\n",
    "    env = BrittleStarUndirectedLocomotionEnvironment.from_morphology_and_arena(\n",
    "            morphology=morphology, arena=arena, configuration=environment_configuration, backend=\"MJX\"\n",
    "            )\n",
    "    return env\n",
    "\n",
    "\n",
    "def post_render(\n",
    "        render_output: List[np.ndarray],\n",
    "        environment_configuration: MuJoCoEnvironmentConfiguration\n",
    "        ) -> np.ndarray:\n",
    "    if render_output is None:\n",
    "        # Temporary workaround until https://github.com/google-deepmind/mujoco/issues/1379 is fixed\n",
    "        return None\n",
    "\n",
    "    num_cameras = len(environment_configuration.camera_ids)\n",
    "    num_envs = len(render_output) // num_cameras\n",
    "\n",
    "    if num_cameras > 1:\n",
    "        # Horizontally stack frames of the same environment\n",
    "        frames_per_env = np.array_split(render_output, num_envs)\n",
    "        render_output = [np.concatenate(env_frames, axis=1) for env_frames in frames_per_env]\n",
    "\n",
    "    # Vertically stack frames of different environments\n",
    "    render_output = np.concatenate(render_output, axis=0)\n",
    "\n",
    "    return render_output[:, :, ::-1]  # RGB to BGR\n",
    "\n",
    "\n",
    "def show_video(\n",
    "        images: List[np.ndarray | None],\n",
    "        path: str | None = None\n",
    "        ) -> str | None:\n",
    "    # Temporary workaround until https://github.com/google-deepmind/mujoco/issues/1379 is fixed\n",
    "    filtered_images = [image for image in images if image is not None]\n",
    "    num_nones = len(images) - len(filtered_images)\n",
    "    if num_nones > 0:\n",
    "        logging.warning(\n",
    "                f\"env.render produced {num_nones} None's. Resulting video might be a bit choppy (consquence of https://github.com/google-deepmind/mujoco/issues/1379).\"\n",
    "                )\n",
    "    if path:\n",
    "        media.write_video(path=path, images=filtered_images)\n",
    "    return media.show_video(images=filtered_images)"
   ]
  },
  {
   "cell_type": "code",
   "execution_count": 27,
   "id": "c307d9a88b0bec5",
   "metadata": {
    "ExecuteTime": {
     "end_time": "2024-02-01T14:48:23.659422Z",
     "start_time": "2024-02-01T14:48:23.445438Z"
    },
    "collapsed": false,
    "jupyter": {
     "outputs_hidden": false
    }
   },
   "outputs": [],
   "source": [
    "rng = jax.random.PRNGKey(seed=0)\n",
    "env = create_environment()\n",
    "env_reset_fn = jax.jit(env.reset)\n",
    "env_step_fn = jax.jit(env.step)"
   ]
  },
  {
   "cell_type": "code",
   "execution_count": 28,
   "id": "5de49c95336cc3ab",
   "metadata": {
    "ExecuteTime": {
     "end_time": "2024-02-01T14:48:35.636617Z",
     "start_time": "2024-02-01T14:48:24.637524Z"
    },
    "collapsed": false,
    "jupyter": {
     "outputs_hidden": false
    }
   },
   "outputs": [
    {
     "name": "stdout",
     "output_type": "stream",
     "text": [
      "Observation space:\n",
      "Dict('joint_position': Box(-0.5235988, 0.5235988, (30,), <class 'jax.numpy.float32'>), 'joint_velocity': Box(-inf, inf, (30,), <class 'jax.numpy.float32'>), 'joint_actuator_force': Box(-inf, inf, (30,), <class 'jax.numpy.float32'>), 'segment_contact': Box(0.0, 1.0, (15,), <class 'jax.numpy.float32'>), 'disk_position': Box(-inf, inf, (3,), <class 'jax.numpy.float32'>), 'disk_rotation': Box(-3.1415927, 3.1415927, (3,), <class 'jax.numpy.float32'>), 'disk_linear_velocity': Box(-inf, inf, (3,), <class 'jax.numpy.float32'>), 'disk_angular_velocity': Box(-inf, inf, (3,), <class 'jax.numpy.float32'>))\n",
      "\n",
      "Action space:\n",
      "Box(-0.5235988, 0.5235988, (30,), <class 'jax.numpy.float32'>)\n"
     ]
    },
    {
     "data": {
      "text/html": [
       "<table class=\"show_images\" style=\"border-spacing:0px;\"><tr><td style=\"padding:1px;\"><img width=\"1280\" height=\"480\" style=\"image-rendering:auto; object-fit:cover;\" src=\"data:image/png;base64,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\"/></td></tr></table>"
      ],
      "text/plain": [
       "<IPython.core.display.HTML object>"
      ]
     },
     "metadata": {},
     "output_type": "display_data"
    }
   ],
   "source": [
    "print(\"Observation space:\")\n",
    "print(env.observation_space)\n",
    "print()\n",
    "print(\"Action space:\")\n",
    "print(env.action_space)\n",
    "rng, sub_rng = jax.random.split(rng, 2)\n",
    "env_state = env_reset_fn(rng=sub_rng)\n",
    "media.show_image(post_render(env.render(env_state), environment_configuration=env.environment_configuration))"
   ]
  },
  {
   "cell_type": "markdown",
   "id": "284f9703-9f99-4159-8c62-bea447ee4842",
   "metadata": {},
   "source": [
    "### CPG Setup\n",
    "* Same as in CPG tutorial, but no couplings between oscillators"
   ]
  },
  {
   "cell_type": "code",
   "execution_count": 29,
   "id": "e6045207b0aaa0cc",
   "metadata": {
    "ExecuteTime": {
     "end_time": "2024-02-01T16:36:18.632768Z",
     "start_time": "2024-02-01T16:36:18.621806Z"
    },
    "collapsed": false,
    "jupyter": {
     "outputs_hidden": false
    }
   },
   "outputs": [],
   "source": [
    "import functools\n",
    "from flax import struct\n",
    "import jax\n",
    "import jax.numpy as jnp\n",
    "import chex\n",
    "from functools import partial\n",
    "from typing import Tuple\n",
    "\n",
    "from typing import Callable\n",
    "\n",
    "\n",
    "def euler_solver(\n",
    "        current_time: float,\n",
    "        y: float,\n",
    "        derivative_fn: Callable[[float, float], float],\n",
    "        delta_time: float\n",
    "        ) -> float:\n",
    "    slope = derivative_fn(current_time, y)\n",
    "    next_y = y + delta_time * slope\n",
    "    return next_y\n",
    "\n",
    "\n",
    "@struct.dataclass\n",
    "class CPGState:\n",
    "    time: float\n",
    "    phases: jnp.ndarray\n",
    "    dot_amplitudes: jnp.ndarray  # first order derivative of the amplitude\n",
    "    amplitudes: jnp.ndarray\n",
    "    dot_offsets: jnp.ndarray  # first order derivative of the offset \n",
    "    offsets: jnp.ndarray\n",
    "    outputs: jnp.ndarray\n",
    "\n",
    "    # We'll make these modulatory parameters part of the state as they will change as well\n",
    "    R: jnp.ndarray\n",
    "    X: jnp.ndarray\n",
    "    omegas: jnp.ndarray\n",
    "    rhos: jnp.ndarray\n",
    "\n",
    "\n",
    "class CPG:\n",
    "    def __init__(\n",
    "            self,\n",
    "            weights: jnp.ndarray,\n",
    "            amplitude_gain: float = 20,\n",
    "            offset_gain: float = 20,\n",
    "            dt: float = 0.01, ) -> None:\n",
    "        self._weights = weights\n",
    "        self._amplitude_gain = amplitude_gain\n",
    "        self._offset_gain = offset_gain\n",
    "        self._dt = dt\n",
    "        self._solver = euler_solver\n",
    "\n",
    "    @property\n",
    "    def num_oscillators(\n",
    "            self\n",
    "            ) -> int:\n",
    "        return self._weights.shape[0]\n",
    "\n",
    "    @staticmethod\n",
    "    def phase_de(\n",
    "            weights: jnp.ndarray,\n",
    "            amplitudes: jnp.ndarray,\n",
    "            phases: jnp.ndarray,\n",
    "            phase_biases: jnp.ndarray,\n",
    "            omegas: jnp.ndarray\n",
    "            ) -> jnp.ndarray:\n",
    "        @jax.vmap  # vectorizes this function for us over an additional batch dimension (in this case over all oscillators)\n",
    "        def sine_term(\n",
    "                phase_i: float,\n",
    "                phase_biases_i: float\n",
    "                ) -> jnp.ndarray:\n",
    "            return jnp.sin(phases - phase_i - phase_biases_i)\n",
    "\n",
    "        couplings = jnp.sum(weights * amplitudes * sine_term(phase_i=phases, phase_biases_i=phase_biases), axis=1)\n",
    "        return omegas + couplings\n",
    "\n",
    "    @staticmethod\n",
    "    def second_order_de(\n",
    "            gain: jnp.ndarray,\n",
    "            modulator: jnp.ndarray,\n",
    "            values: jnp.ndarray,\n",
    "            dot_values: jnp.ndarray\n",
    "            ) -> jnp.ndarray:\n",
    "        return gain * ((gain / 4) * (modulator - values) - dot_values)\n",
    "\n",
    "    @staticmethod\n",
    "    def first_order_de(\n",
    "            dot_values: jnp.ndarray\n",
    "            ) -> jnp.ndarray:\n",
    "        return dot_values\n",
    "\n",
    "    @staticmethod\n",
    "    def output(\n",
    "            offsets: jnp.ndarray,\n",
    "            amplitudes: jnp.ndarray,\n",
    "            phases: jnp.ndarray\n",
    "            ) -> jnp.ndarray:\n",
    "        return offsets + amplitudes * jnp.cos(phases)\n",
    "\n",
    "    def reset(\n",
    "            self,\n",
    "            rng: chex.PRNGKey\n",
    "            ) -> CPGState:\n",
    "        phase_rng, amplitude_rng, offsets_rng = jax.random.split(rng, 3)\n",
    "        # noinspection PyArgumentList\n",
    "        state = CPGState(\n",
    "                phases=jax.random.uniform(\n",
    "                        key=phase_rng, shape=(self.num_oscillators,), dtype=jnp.float32, minval=-0.01, maxval=0.01\n",
    "                        ),\n",
    "                amplitudes=jnp.zeros(self.num_oscillators),\n",
    "                offsets=jnp.zeros(self.num_oscillators),\n",
    "                dot_amplitudes=jnp.zeros(self.num_oscillators),\n",
    "                dot_offsets=jnp.zeros(self.num_oscillators),\n",
    "                outputs=jnp.zeros(self.num_oscillators),\n",
    "                time=0.0,\n",
    "                R=jnp.zeros(self.num_oscillators),\n",
    "                X=jnp.zeros(self.num_oscillators),\n",
    "                omegas=jnp.zeros(self.num_oscillators),\n",
    "                rhos=jnp.zeros_like(self._weights)\n",
    "                )\n",
    "        return state\n",
    "\n",
    "    @functools.partial(jax.jit, static_argnums=(0,))\n",
    "    def step(\n",
    "            self,\n",
    "            state: CPGState\n",
    "            ) -> CPGState:\n",
    "        # Update phase\n",
    "        new_phases = self._solver(\n",
    "                current_time=state.time,\n",
    "                y=state.phases,\n",
    "                derivative_fn=lambda\n",
    "                    t,\n",
    "                    y: self.phase_de(\n",
    "                        omegas=state.omegas,\n",
    "                        amplitudes=state.amplitudes,\n",
    "                        phases=y,\n",
    "                        phase_biases=state.rhos,\n",
    "                        weights=self._weights\n",
    "                        ),\n",
    "                delta_time=self._dt\n",
    "                )\n",
    "        new_dot_amplitudes = self._solver(\n",
    "                current_time=state.time,\n",
    "                y=state.dot_amplitudes,\n",
    "                derivative_fn=lambda\n",
    "                    t,\n",
    "                    y: self.second_order_de(\n",
    "                        gain=self._amplitude_gain, modulator=state.R, values=state.amplitudes, dot_values=y\n",
    "                        ),\n",
    "                delta_time=self._dt\n",
    "                )\n",
    "        new_amplitudes = self._solver(\n",
    "                current_time=state.time,\n",
    "                y=state.amplitudes,\n",
    "                derivative_fn=lambda\n",
    "                    t,\n",
    "                    y: self.first_order_de(dot_values=state.dot_amplitudes),\n",
    "                delta_time=self._dt\n",
    "                )\n",
    "        new_dot_offsets = self._solver(\n",
    "                current_time=state.time,\n",
    "                y=state.dot_offsets,\n",
    "                derivative_fn=lambda\n",
    "                    t,\n",
    "                    y: self.second_order_de(\n",
    "                        gain=self._offset_gain, modulator=state.X, values=state.offsets, dot_values=y\n",
    "                        ),\n",
    "                delta_time=self._dt\n",
    "                )\n",
    "        new_offsets = self._solver(\n",
    "                current_time=0,\n",
    "                y=state.offsets,\n",
    "                derivative_fn=lambda\n",
    "                    t,\n",
    "                    y: self.first_order_de(dot_values=state.dot_offsets),\n",
    "                delta_time=self._dt\n",
    "                )\n",
    "\n",
    "        new_outputs = self.output(offsets=new_offsets, amplitudes=new_amplitudes, phases=new_phases)\n",
    "        # noinspection PyUnresolvedReferences\n",
    "        return state.replace(\n",
    "                phases=new_phases,\n",
    "                dot_amplitudes=new_dot_amplitudes,\n",
    "                amplitudes=new_amplitudes,\n",
    "                dot_offsets=new_dot_offsets,\n",
    "                offsets=new_offsets,\n",
    "                outputs=new_outputs,\n",
    "                time=state.time + self._dt\n",
    "                )\n",
    "\n",
    "\n",
    "def create_cpg() -> CPG:\n",
    "    ip_oscillator_indices = jnp.arange(0, 10, 2)\n",
    "    oop_oscillator_indices = jnp.arange(1, 10, 2)\n",
    "\n",
    "    adjacency_matrix = jnp.zeros((10, 10))\n",
    "\n",
    "    # Connect oscillators within an arm\n",
    "    adjacency_matrix = adjacency_matrix.at[ip_oscillator_indices, oop_oscillator_indices].set(1)\n",
    "    adjacency_matrix = adjacency_matrix.at[oop_oscillator_indices, ip_oscillator_indices].set(1)\n",
    "\n",
    "    return CPG(\n",
    "            weights=5 * adjacency_matrix,\n",
    "            amplitude_gain=20,\n",
    "            offset_gain=20,\n",
    "            dt=environment_configuration.control_timestep\n",
    "            )\n",
    "\n",
    "@jax.jit\n",
    "def map_cpg_outputs_to_actions(\n",
    "        cpg_state: CPGState\n",
    "        ) -> jnp.ndarray:\n",
    "    num_arms = morphology_specification.number_of_arms\n",
    "    num_oscillators_per_arm = 2\n",
    "    num_segments_per_arm = morphology_specification.number_of_segments_per_arm[0]\n",
    "\n",
    "    cpg_outputs_per_arm = cpg_state.outputs.reshape((num_arms, num_oscillators_per_arm))\n",
    "    cpg_outputs_per_segment = cpg_outputs_per_arm.repeat(num_segments_per_arm, axis=0)\n",
    "\n",
    "    actions = cpg_outputs_per_segment.flatten()\n",
    "    return actions"
   ]
  },
  {
   "cell_type": "markdown",
   "id": "4c87fa54-bc81-4c4e-a0f1-e4f648cae65a",
   "metadata": {},
   "source": [
    "### Behaviour descriptor and fitness\n",
    "* Behaviour: Final XY position\n",
    "* Fitness: energy efficiency "
   ]
  },
  {
   "cell_type": "markdown",
   "id": "a4cd73e4-b41f-4a70-9f87-6db98164c828",
   "metadata": {},
   "source": [
    "### Evaluation function\n",
    "* input: parameters (i.e. modulation parameters)\n",
    "* output: fitness, behaviour description"
   ]
  },
  {
   "cell_type": "code",
   "execution_count": 30,
   "id": "15612282ae623f46",
   "metadata": {
    "ExecuteTime": {
     "end_time": "2024-02-01T16:36:19.587029Z",
     "start_time": "2024-02-01T16:36:19.576847Z"
    },
    "collapsed": false,
    "jupyter": {
     "outputs_hidden": false
    }
   },
   "outputs": [],
   "source": [
    "def modulate_cpg(\n",
    "        cpg_state: CPGState,\n",
    "        parameters: jnp.ndarray\n",
    "        ) -> CPGState:\n",
    "    ip_oscillator_indices = jnp.arange(0, 10, 2)\n",
    "    oop_oscillator_indices = jnp.arange(1, 10, 2)\n",
    "\n",
    "    R = parameters[:10]\n",
    "    X = parameters[10: 20]\n",
    "    omega = parameters[21]\n",
    "    phase_biases = parameters[21:]\n",
    "\n",
    "    # phase biases is a list of 5 elements, which denote the phase bias between the IP and OOP oscillator of every arm\n",
    "    rhos = cpg_state.rhos.at[ip_oscillator_indices, oop_oscillator_indices].set(phase_biases)\n",
    "    rhos = rhos.at[oop_oscillator_indices, ip_oscillator_indices].set(-phase_biases)\n",
    "    # noinspection PyUnresolvedReferences\n",
    "    return cpg_state.replace(\n",
    "            R=R, X=X, omegas=jnp.ones_like(cpg_state.omegas) * omega, rhos=rhos\n",
    "            )"
   ]
  },
  {
   "cell_type": "code",
   "execution_count": 31,
   "id": "98c1511888c14324",
   "metadata": {
    "ExecuteTime": {
     "end_time": "2024-02-01T16:45:35.680349Z",
     "start_time": "2024-02-01T16:45:35.666662Z"
    },
    "collapsed": false,
    "jupyter": {
     "outputs_hidden": false
    }
   },
   "outputs": [],
   "source": [
    "from mujoco_utils.environment.mjx_env import MJXEnvState\n",
    "from typing import Any, Dict\n",
    "\n",
    "\n",
    "@partial(jax.jit, static_argnums=(0,))\n",
    "def evaluate_parameters(\n",
    "        cpg: CPG,\n",
    "        rng: chex.PRNGKey,\n",
    "        modulation_parameters: jnp.ndarray\n",
    "        ) -> Tuple[float, jnp.ndarray]:\n",
    "    env_rng, cpg_rng = jax.random.split(rng, 2)\n",
    "    env_state = env_reset_fn(rng=env_rng)\n",
    "    cpg_state = cpg.reset(rng=cpg_rng)\n",
    "\n",
    "    cpg_state = modulate_cpg(cpg_state=cpg_state, parameters=modulation_parameters)\n",
    "\n",
    "    def _take_step(\n",
    "            _state: Tuple[MJXEnvState, CPGState],\n",
    "            _: None\n",
    "            ) -> Tuple[Tuple[MJXEnvState, CPGState], Dict[str, Any]]:\n",
    "        _env_state, _cpg_state = _state\n",
    "\n",
    "        actions = map_cpg_outputs_to_actions(cpg_state=_cpg_state)\n",
    "        actions = jnp.clip(a=actions, a_min=env.action_space.low, a_max=env.action_space.high)\n",
    "\n",
    "        _next_env_state = env_step_fn(state=_env_state, action=actions)\n",
    "        _next_cpg_state = cpg.step(state=_cpg_state)\n",
    "\n",
    "        carry = (_next_env_state, _next_cpg_state)\n",
    "        return carry, jnp.average(jnp.abs(_env_state.observations[\"joint_actuator_force\"]))\n",
    "\n",
    "    carry, scan_out = jax.lax.scan(\n",
    "            _take_step, (env_state, cpg_state), (), env.environment_configuration.total_num_control_steps\n",
    "            )\n",
    "\n",
    "    # fitness: -average amount of energy used (we negate because we maximise fitness)\n",
    "    fitness = -jnp.average(scan_out)\n",
    "\n",
    "    # Descriptor: final XY position\n",
    "    descriptor = carry[0].observations[\"disk_position\"][:2]\n",
    "\n",
    "    return fitness, descriptor"
   ]
  },
  {
   "cell_type": "markdown",
   "id": "3c97cbab-6a69-4ee0-810b-3410d0b13970",
   "metadata": {},
   "source": [
    "### Optimization"
   ]
  },
  {
   "cell_type": "code",
   "execution_count": 32,
   "id": "4de9e3abf26401c0",
   "metadata": {
    "ExecuteTime": {
     "end_time": "2024-02-01T17:13:00.634919Z",
     "start_time": "2024-02-01T17:13:00.621908Z"
    },
    "collapsed": false,
    "jupyter": {
     "outputs_hidden": false
    }
   },
   "outputs": [],
   "source": [
    "@partial(jax.jit, static_argnums=(0, 1))\n",
    "def MAP_elites_iteration(\n",
    "        map_elites: MAPElites,\n",
    "        cpg: CPG,\n",
    "        map_elites_state: MAPElitesState,\n",
    "        rng: chex.PRNGKey\n",
    "        ) -> MAPElitesState:\n",
    "    selection_rng, mutation_rng, evaluation_rng = jax.random.split(key=rng, num=3)\n",
    "\n",
    "    parameters = map_elites.select_random_parameters(rng=selection_rng, state=map_elites_state)\n",
    "    parameters = map_elites.mutate_parameters(rng=mutation_rng, parameters=parameters)\n",
    "\n",
    "    fitness, descriptor = evaluate_parameters(cpg=cpg, rng=evaluation_rng, modulation_parameters=parameters)\n",
    "\n",
    "    map_elites_state = map_elites.add_to_archive(\n",
    "            state=map_elites_state, fitness=fitness, descriptor=descriptor, parameters=parameters\n",
    "            )\n",
    "\n",
    "    return map_elites_state"
   ]
  },
  {
   "cell_type": "code",
   "execution_count": 33,
   "id": "4cfe0611ee717c12",
   "metadata": {
    "ExecuteTime": {
     "end_time": "2024-02-01T17:13:02.125623Z",
     "start_time": "2024-02-01T17:13:02.037380Z"
    },
    "collapsed": false,
    "jupyter": {
     "outputs_hidden": false
    }
   },
   "outputs": [],
   "source": [
    "parameters_low = jnp.concatenate(\n",
    "        (jnp.zeros(10), -jnp.ones(10), jnp.zeros(1), -jnp.pi * jnp.ones(5))\n",
    "        )\n",
    "parameters_high = jnp.concatenate(\n",
    "        (jnp.ones(10), jnp.ones(10), 3 * jnp.pi * jnp.ones(1), jnp.pi * jnp.ones(5))\n",
    "        )\n",
    "\n",
    "map_elites = MAPElites(\n",
    "        dimensions=(30, 30),\n",
    "        num_parameters=31,\n",
    "        noise_scale=0.1,\n",
    "        descriptor_low=-5 * jnp.ones(2),\n",
    "        descriptor_high=5 * jnp.ones(2),\n",
    "        parameters_low=parameters_low,\n",
    "        parameters_high=parameters_high\n",
    "        )\n",
    "cpg = create_cpg()\n",
    "\n",
    "rng = jax.random.PRNGKey(seed=0)\n",
    "rng, reset_rng = jax.random.split(rng, 2)\n",
    "map_elites_state = map_elites.reset(rng=reset_rng)"
   ]
  },
  {
   "cell_type": "code",
   "execution_count": 34,
   "id": "58db3937f8df8ee5",
   "metadata": {
    "ExecuteTime": {
     "end_time": "2024-02-01T17:13:42.853811Z",
     "start_time": "2024-02-01T17:13:05.685260Z"
    },
    "collapsed": false,
    "jupyter": {
     "outputs_hidden": false
    }
   },
   "outputs": [],
   "source": [
    "rng, iteration_rng = jax.random.split(rng, 2)\n",
    "map_elites_state = MAP_elites_iteration(\n",
    "        map_elites=map_elites, cpg=cpg, map_elites_state=map_elites_state, rng=iteration_rng\n",
    "        )"
   ]
  },
  {
   "cell_type": "markdown",
   "id": "33952ce86bdd49ee",
   "metadata": {
    "collapsed": false,
    "jupyter": {
     "outputs_hidden": false
    }
   },
   "source": [
    "Vectorization"
   ]
  },
  {
   "cell_type": "code",
   "execution_count": 35,
   "id": "c994a92e54bb793f",
   "metadata": {
    "ExecuteTime": {
     "end_time": "2024-02-01T17:14:39.291823Z",
     "start_time": "2024-02-01T17:14:39.288725Z"
    },
    "collapsed": false,
    "jupyter": {
     "outputs_hidden": false
    }
   },
   "outputs": [],
   "source": [
    "vectorized_iteration = jax.jit(jax.vmap(MAP_elites_iteration, in_axes=(None, None, None, 0)), static_argnums=(0, 1))"
   ]
  },
  {
   "cell_type": "code",
   "execution_count": 36,
   "id": "5bfaa9f40bff370f",
   "metadata": {
    "ExecuteTime": {
     "end_time": "2024-02-01T17:15:35.344239Z",
     "start_time": "2024-02-01T17:14:39.880712Z"
    },
    "collapsed": false,
    "jupyter": {
     "outputs_hidden": false
    }
   },
   "outputs": [],
   "source": [
    "num_parallel_evaluations = 2\n",
    "rng, *sub_rngs = jax.random.split(key=rng, num=num_parallel_evaluations + 1)\n",
    "map_elites_states = vectorized_iteration(map_elites, cpg, map_elites_state, jnp.array(sub_rngs))"
   ]
  },
  {
   "cell_type": "code",
   "execution_count": 37,
   "id": "d9a43c700f6fff3b",
   "metadata": {
    "ExecuteTime": {
     "end_time": "2024-02-01T17:45:22.582936Z",
     "start_time": "2024-02-01T17:45:22.567162Z"
    },
    "collapsed": false,
    "jupyter": {
     "outputs_hidden": false
    }
   },
   "outputs": [],
   "source": [
    "@jax.jit\n",
    "def merge_map_elite_states(\n",
    "        states: MAPElitesState\n",
    "        ) -> MAPElitesState:\n",
    "    filled = jnp.max(states.filled, axis=0)\n",
    "\n",
    "    fitness_archive = jnp.max(states.fitness_archive, axis=0)\n",
    "\n",
    "    # Keep the parameters corresponding to the best fitness values\n",
    "    state_indices_of_highest_fitnesses = jnp.argmax(states.fitness_archive, axis=0)\n",
    "    parameter_archive = states.parameter_archive[\n",
    "        state_indices_of_highest_fitnesses, jnp.arange(states.parameter_archive.shape[1])[:, None], jnp.arange(\n",
    "                states.parameter_archive.shape[2]\n",
    "                )]\n",
    "\n",
    "    # noinspection PyArgumentList\n",
    "    return MAPElitesState(\n",
    "            filled=filled, fitness_archive=fitness_archive, parameter_archive=parameter_archive\n",
    "            )\n",
    "\n"
   ]
  },
  {
   "cell_type": "code",
   "execution_count": 38,
   "id": "20002e0648ad605c",
   "metadata": {
    "ExecuteTime": {
     "end_time": "2024-02-01T17:50:21.555262Z",
     "start_time": "2024-02-01T17:50:21.538724Z"
    },
    "collapsed": false,
    "jupyter": {
     "outputs_hidden": false
    }
   },
   "outputs": [],
   "source": [
    "rng, reset_rng = jax.random.split(rng, 2)\n",
    "map_elites_state = map_elites.reset(rng=reset_rng)\n",
    "\n",
    "num_parallel_evaluations = 128\n",
    "num_iterations = 300"
   ]
  },
  {
   "cell_type": "code",
   "execution_count": null,
   "id": "1b2219c68ef58386",
   "metadata": {
    "ExecuteTime": {
     "end_time": "2024-02-01T17:47:35.466249Z",
     "start_time": "2024-02-01T17:47:33.450729Z"
    },
    "collapsed": false,
    "jupyter": {
     "outputs_hidden": false
    }
   },
   "outputs": [
    {
     "name": "stderr",
     "output_type": "stream",
     "text": [
      "Filling archive:  12%|█▏        | 35/300 [05:10<34:49,  7.88s/it] "
     ]
    }
   ],
   "source": [
    "for _ in tqdm.tqdm(range(num_iterations), desc=\"Filling archive\"):\n",
    "    rng, *sub_rngs = jax.random.split(key=rng, num=num_parallel_evaluations + 1)\n",
    "    map_elites_states = vectorized_iteration(map_elites, cpg, map_elites_state, jnp.array(sub_rngs))\n",
    "    map_elites_state = merge_map_elite_states(map_elites_states)"
   ]
  },
  {
   "cell_type": "markdown",
   "id": "8ef3330049a4192",
   "metadata": {
    "collapsed": false,
    "jupyter": {
     "outputs_hidden": false
    }
   },
   "source": [
    "Logging -> every 10 generations:\n",
    "- Average, min, max fitness\n",
    "- Num filled, abs and relative\n",
    "- Archive visualization"
   ]
  },
  {
   "cell_type": "code",
   "execution_count": null,
   "id": "f0a9ced5-2a5b-40b8-bd8a-3fded1c64d9c",
   "metadata": {},
   "outputs": [],
   "source": []
  },
  {
   "cell_type": "markdown",
   "id": "b7e021b9-ac84-42bd-a5bc-e173b3d607bd",
   "metadata": {},
   "source": [
    "### Result evaluation"
   ]
  },
  {
   "cell_type": "markdown",
   "id": "c6619ae14313db36",
   "metadata": {
    "collapsed": false,
    "jupyter": {
     "outputs_hidden": false
    }
   },
   "source": [
    "todo: Visualize some cells"
   ]
  },
  {
   "cell_type": "code",
   "execution_count": 40,
   "id": "9c92f40d-ec90-4be9-b2ca-2b21b451279b",
   "metadata": {
    "ExecuteTime": {
     "end_time": "2024-02-01T16:36:26.084970Z",
     "start_time": "2024-02-01T16:36:26.074866Z"
    }
   },
   "outputs": [],
   "source": []
  },
  {
   "cell_type": "markdown",
   "id": "94d44352-6ece-4303-aa0c-da4d43124bca",
   "metadata": {},
   "source": [
    "## Next steps\n",
    "* Try to do this for non-shared oscillators per arm segments -> more complex behaviours possible\n",
    "* Incorporate cross-over\n",
    "* use https://github.com/adaptive-intelligent-robotics/QDax\n",
    "* Incorporate our prior knowledge on brittle star behaviour -> leading arm + rowers -> we can share parameters between rowers on same side / invert the in-plane motion for left and right rowers\n",
    "    * Do this for forward locomotion only -> changing direction is just changing roles of arms\n",
    "    * fitness: energy efficiency\n",
    "    * behaviour: find a nice way to describe a rowing motion (could be a dimensionality reduction technique applied to our modulation parameters)\n",
    "- E.g. multi level\n",
    "    - Bottom level → segment groups\n",
    "    - Middle level → arm (combines N-SEGMENTS bottom level ones)\n",
    "    - Top level → body (combines N-ARMS middle level ones)\n",
    "        - Descriptor : should promote a diverse group of behaviours\n",
    "        - Quality: top level should do well (e.g. BD: final XY position, F: energy efficiency / disk stability / ...) → fitness is propagated to lower levels"
   ]
  },
  {
   "cell_type": "markdown",
   "id": "d893f574d309dccf",
   "metadata": {
    "collapsed": false,
    "jupyter": {
     "outputs_hidden": false
    }
   },
   "source": [
    "## Reading material\n",
    "\n",
    "* Quality diversity review\n",
    "* CVT-MAP-Elites\n",
    "* Multi level ME\n"
   ]
  },
  {
   "cell_type": "code",
   "execution_count": null,
   "id": "a05ec4a6-599c-4c73-8fe5-18a350e4e77a",
   "metadata": {},
   "outputs": [],
   "source": []
  }
 ],
 "metadata": {
  "kernelspec": {
   "display_name": "example-env-kernel",
   "language": "python",
   "name": "example-env-kernel"
  },
  "language_info": {
   "codemirror_mode": {
    "name": "ipython",
    "version": 3
   },
   "file_extension": ".py",
   "mimetype": "text/x-python",
   "name": "python",
   "nbconvert_exporter": "python",
   "pygments_lexer": "ipython3",
   "version": "3.11.7"
  }
 },
 "nbformat": 4,
 "nbformat_minor": 5
}
