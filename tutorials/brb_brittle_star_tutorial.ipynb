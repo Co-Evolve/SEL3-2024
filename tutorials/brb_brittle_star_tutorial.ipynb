{
 "cells": [
  {
   "cell_type": "markdown",
   "metadata": {
    "id": "uMCyuX8mSr6O"
   },
   "source": [
    "\n",
    "# <h1><center>Brittle Star Environment Tutorial</center></h1>\n",
    "\n",
    "This notebook provides an introductory tutorial to the [Brittle Star environment](https://github.com/Co-Evolve/brb/tree/new-framework/brb/brittle_star), which is part of the [**the Bio-inspired Robotics Benchmark (BRB)**](https://github.com/Co-Evolve/brb).\n",
    "\n",
    "Preferably use a Jupyter runtime with GPU acceleration enabled.  "
   ]
  },
  {
   "cell_type": "markdown",
   "metadata": {
    "collapsed": false
   },
   "source": [
    "## The Bio-inspired Robotics Benchmark (BRB)\n",
    "The Bio-Inspired Robotics Benchmark represents a significant stride in the convergence of robotics and experimental biology, offering a unique platform that leverages the MuJoCo physics simulator to create a collection of bio-inspired robotics simulation environments. This initiative is more than just a technical tool; it serves as a crucible for cross-disciplinary dialogue and innovation, uniting two fields that, while distinct, share a common goal of understanding and emulating complex biological systems.\n",
    "\n",
    "In the realm of robotics, this benchmark addresses a pivotal challenge: the design and control of bio-inspired robots. These robots, inspired by the intricacies of biological organisms, present novel hurdles that contemporary optimization methodologies struggle to surmount. By providing a benchmark specifically tailored to these challenges, the initiative not only facilitates the validation of existing methodologies but also catalyzes the development of new approaches. This is crucial for advancing the field, as it pushes the boundaries of what we can achieve in robotic design and control, drawing inspiration from the most sophisticated systems found in nature.\n",
    "\n",
    "On the biological front, the application of robotics serves as a powerful comparative method. It offers a more controlled environment for conducting comparative studies, essential for dissecting complex behaviors, ecological interactions, and the evolutionary histories of organisms. In essence, robotics becomes a lens through which biologists can observe and understand the myriad of interacting elements that constitute life's diversity. This perspective is invaluable, as it transcends traditional observational methods, allowing for more precise and insightful analyses.\n",
    "\n",
    "Overall, the Bio-Inspired Robotics Benchmark is a testament to the symbiotic potential of robotics and biology. It not only advances our technical capabilities in creating machines that mimic life but also deepens our understanding of the biological phenomena that inspire these creations. This benchmark is a stepping stone towards a future where the interplay between robotics and biology yields innovations that are as profound as they are transformative. \n",
    "\n",
    "\n",
    "The Bio-Inspired Robotics Benchmark distinguishes itself with its capability to effortlessly simulate various morphological variations of bio-inspired robots. This flexibility is largely enabled by the use of the [Framework for Parameterized Robot Specifications (FPRS)](https://github.com/Co-Evolve/fprs), a framework that centralizes the adaptable definition of a robot's morphology. In FPRS, a 'Specification' acts as a comprehensive bundle, encapsulating all the modifiable parameters that define the robot's form and structure. This approach to morphology parameterization not only simplifies the modification process but also enhances the reproducibility and comparability of different morphological setups within the BRB.\n",
    "\n",
    "The implementation of environments within the BRB adheres to framework defined in the [mujoco-utils package](https://github.com/Co-Evolve/mujoco-utils/tree/new-framework). This framework defines an environment as a combination of a parameterized morphology, as defined by FPRS, and a configurable arena. Both the morphology and the arena in this context are essentially generators for MJCF (MuJoCo XML) files, allowing for dynamic and customizable environment creation. This design philosophy ensures that each environment within the BRB is both flexible and specific to the needs of the experiment at hand.\n",
    "\n",
    "Furthermore, the BRB environments are designed to be compatible with the [Gymnasium interface](https://gymnasium.farama.org/content/basic_usage/). This compatibility is significant as it allows for seamless integration with a wide range of existing machine learning and robotics research tools, fostering ease of use and accessibility for researchers from various fields.\n",
    "\n",
    "In terms of simulation capabilities, the BRB offers environments in both native MuJoCo and MuJoCo XLA (MJX) formats. This dual availability caters to diverse computational needs and preferences, ensuring that researchers can select the simulation environment that best suits their specific requirements, whether it's the high-fidelity physics of native MuJoCo or the accelerated computation offered by MuJoCo XLA.\n",
    "\n",
    "In summary, the BRB's unique approach to morphology parameterization through FPRS, adherence to the mujoco-utils framework for environment implementation, compatibility with the gymnasium interface, and availability in both MuJoCo and MJX formats, collectively contribute to its status as a versatile and powerful tool for bio-inspired robotics research. This tool not only facilitates a deeper exploration of robotic morphologies but also bridges the gap between theoretical research and practical application in the field of bio-inspired robotics."
   ]
  },
  {
   "cell_type": "markdown",
   "metadata": {
    "id": "fVurZ9tFTzLC"
   },
   "source": [
    "### BRB installation"
   ]
  },
  {
   "cell_type": "markdown",
   "metadata": {
    "collapsed": false
   },
   "source": [
    "Before continuing, check if the following points towards your conda environment. If not, follow these [steps](https://medium.com/@nrk25693/how-to-add-your-conda-environment-to-your-jupyter-notebook-in-just-4-steps-abeab8b8d084)."
   ]
  },
  {
   "cell_type": "code",
   "execution_count": 1,
   "metadata": {
    "ExecuteTime": {
     "end_time": "2024-01-16T14:13:07.400430Z",
     "start_time": "2024-01-16T14:13:07.396653Z"
    }
   },
   "outputs": [
    {
     "name": "stdout",
     "output_type": "stream",
     "text": [
      "/Users/driesmarzougui/miniforge3/envs/SEL3-2024/bin/python\n"
     ]
    }
   ],
   "source": [
    "import sys\n",
    "\n",
    "print(sys.executable)"
   ]
  },
  {
   "cell_type": "markdown",
   "metadata": {
    "collapsed": false
   },
   "source": [
    "Install the BRB package and its dependencies."
   ]
  },
  {
   "cell_type": "code",
   "execution_count": 2,
   "metadata": {
    "ExecuteTime": {
     "end_time": "2024-01-16T14:13:07.532396Z",
     "start_time": "2024-01-16T14:13:07.400638Z"
    },
    "colab": {
     "base_uri": "https://localhost:8080/",
     "height": 1000
    },
    "id": "DgMIXEQ7SDGX",
    "outputId": "c3f8d6fd-7c63-401c-f46f-aca2b7e4e372"
   },
   "outputs": [],
   "source": [
    "try:\n",
    "    import brb\n",
    "except ImportError:\n",
    "    !{sys.executable} -m pip install git+https://github.com/Co-Evolve/brb@new-framework"
   ]
  },
  {
   "cell_type": "markdown",
   "metadata": {
    "collapsed": false
   },
   "source": [
    "Check if the underlying MuJoCo installation was successful. This will also check if Jax is able to find the GPU. If not, a warning will be printed."
   ]
  },
  {
   "cell_type": "code",
   "execution_count": 3,
   "metadata": {
    "ExecuteTime": {
     "end_time": "2024-01-16T14:13:07.584628Z",
     "start_time": "2024-01-16T14:13:07.519018Z"
    },
    "colab": {
     "base_uri": "https://localhost:8080/"
    },
    "editable": true,
    "id": "t8x-3cSlT-QM",
    "outputId": "4e58291d-c73d-44bd-8332-4da59915e96c",
    "slideshow": {
     "slide_type": ""
    },
    "tags": []
   },
   "outputs": [
    {
     "name": "stderr",
     "output_type": "stream",
     "text": [
      "WARNING:root:Failed to initialize GPU. Everything will run on the cpu.\n"
     ]
    },
    {
     "name": "stdout",
     "output_type": "stream",
     "text": [
      "Checking that the mujoco installation succeeded:\n",
      "MuJoCo installation successful.\n"
     ]
    }
   ],
   "source": [
    "import os\n",
    "import subprocess\n",
    "import logging\n",
    "\n",
    "try:\n",
    "    if subprocess.run('nvidia-smi').returncode:\n",
    "        raise RuntimeError(\n",
    "                'Cannot communicate with GPU. '\n",
    "                'Make sure you are using a GPU Colab runtime. '\n",
    "                'Go to the Runtime menu and select Choose runtime type.'\n",
    "                )\n",
    "\n",
    "    # Add an ICD config so that glvnd can pick up the Nvidia EGL driver.\n",
    "    # This is usually installed as part of an Nvidia driver package, but the Colab\n",
    "    # kernel doesn't install its driver via APT, and as a result the ICD is missing.\n",
    "    # (https://github.com/NVIDIA/libglvnd/blob/master/src/EGL/icd_enumeration.md)\n",
    "    NVIDIA_ICD_CONFIG_PATH = '/usr/share/glvnd/egl_vendor.d/10_nvidia.json'\n",
    "    if not os.path.exists(NVIDIA_ICD_CONFIG_PATH):\n",
    "        with open(NVIDIA_ICD_CONFIG_PATH, 'w') as f:\n",
    "            f.write(\n",
    "                    \"\"\"{\n",
    "                            \"file_format_version\" : \"1.0.0\",\n",
    "                            \"ICD\" : {\n",
    "                                \"library_path\" : \"libEGL_nvidia.so.0\"\n",
    "                            }\n",
    "                        }\n",
    "                        \"\"\"\n",
    "                    )\n",
    "\n",
    "    # Configure MuJoCo to use the EGL rendering backend (requires GPU)\n",
    "    print('Setting environment variable to use GPU rendering:')\n",
    "    %env MUJOCO_GL=egl\n",
    "\n",
    "    # Check if jax finds the GPU\n",
    "    import jax\n",
    "\n",
    "    print(jax.devices('gpu'))\n",
    "except Exception:\n",
    "    logging.warning(\"Failed to initialize GPU. Everything will run on the cpu.\")\n",
    "\n",
    "try:\n",
    "    print('Checking that the mujoco installation succeeded:')\n",
    "    import mujoco\n",
    "\n",
    "    mujoco.MjModel.from_xml_string('<mujoco/>')\n",
    "except Exception as e:\n",
    "    raise e from RuntimeError(\n",
    "            'Something went wrong during installation. Check the shell output above '\n",
    "            'for more information.\\n'\n",
    "            'If using a hosted Colab runtime, make sure you enable GPU acceleration '\n",
    "            'by going to the Runtime menu and selecting \"Choose runtime type\".'\n",
    "            )\n",
    "\n",
    "print('MuJoCo installation successful.')"
   ]
  },
  {
   "cell_type": "markdown",
   "metadata": {
    "collapsed": false
   },
   "source": [
    "Some packages and utility functions for visualization."
   ]
  },
  {
   "cell_type": "code",
   "execution_count": 4,
   "metadata": {
    "ExecuteTime": {
     "end_time": "2024-01-16T14:13:09.788363Z",
     "start_time": "2024-01-16T14:13:07.558652Z"
    },
    "collapsed": false
   },
   "outputs": [
    {
     "name": "stdout",
     "output_type": "stream",
     "text": [
      "Installing mediapy:\n"
     ]
    }
   ],
   "source": [
    "from mujoco_utils.environment.base import MuJoCoEnvironmentConfiguration\n",
    "from mujoco_utils.mjcf_utils import MJCFRootComponent\n",
    "import numpy as np\n",
    "import jax.numpy as jnp\n",
    "from typing import Union, List\n",
    "\n",
    "# Graphics and plotting.\n",
    "print('Installing mediapy:')\n",
    "ffmpeg_v = !command -v ffmpeg\n",
    "assert \"command not found\" not in ffmpeg_v, f\"Please install FFmpeg for visualizations.\"\n",
    "!{sys.executable} -m pip install -q mediapy\n",
    "import mediapy as media\n",
    "\n",
    "# More legible printing from numpy.\n",
    "np.set_printoptions(precision=3, suppress=True, linewidth=100)\n",
    "jnp.set_printoptions(precision=3, suppress=True, linewidth=100)\n",
    "\n",
    "def visualize_mjcf(\n",
    "        mjcf: MJCFRootComponent\n",
    "        ) -> None:\n",
    "    model = mujoco.MjModel.from_xml_string(mjcf.get_mjcf_str())\n",
    "    data = mujoco.MjData(model)\n",
    "    renderer = mujoco.Renderer(model)\n",
    "    mujoco.mj_forward(model, data)\n",
    "    renderer.update_scene(data)\n",
    "    media.show_image(renderer.render())\n",
    "\n",
    "\n",
    "def post_environment_render(\n",
    "        render_output: Union[np.ndarray, List[np.ndarray]],\n",
    "        environment_configuration: MuJoCoEnvironmentConfiguration\n",
    "        ) -> np.ndarray:\n",
    "    if len(environment_configuration.camera_ids) > 1:\n",
    "        render_output = [np.concatenate(env_frames, axis=1) for env_frames in render_output]\n",
    "\n",
    "    return render_output[:, :, ::-1]  # RGB to BGR"
   ]
  },
  {
   "cell_type": "markdown",
   "metadata": {
    "id": "Y8ilIik5Vp7L"
   },
   "source": [
    "## The Brittle Star Environment\n",
    "> “The whole of the brittle stars are curious and restless beings. They can never remain in the same attitude for the tenth part of a second, but are constantly twisting their long arms, as if they were indeed the serpents with which Medusa’s head was surrounded.” -- J. G. Wood, 1898\n",
    "\n",
    "The Brittle Star Robot environment within the Bio-Inspired Robotics Benchmark (BRB) presents an intriguing case study, embodying the intersection of natural biological systems and robotic engineering. To introduce this environment, it's essential to first understand the biological entity that inspired it: the brittle star.\n",
    "\n",
    "![](https://github.com/Co-Evolve/SEL3-2024/blob/develop/tutorials/assets/brittle_stars_species.jpg?raw=true)\n",
    "(Image src: https://doi.org/10.1016/j.jsb.2020.107481)"
   ]
  },
  {
   "cell_type": "markdown",
   "metadata": {
    "collapsed": false
   },
   "source": [
    "### The Brittle Star\n",
    "Brittle stars, belonging to the class Ophiuroidea, are remarkable echinoderms distinguished by their distinctively slender arms and central disk. They inhabit various marine environments, showcasing a fascinating array of behaviors and adaptations that have captivated biologists for decades. One of the most striking features of brittle stars is their locomotion. Unlike their close relatives, the starfish, brittle stars move with a unique, elegant undulating motion of their arms. This locomotion is not only efficient but also highly adaptable, allowing them to navigate complex underwater terrains with agility and precision.\n",
    "\n",
    "In addition to locomotion, brittle stars use their arms to hold onto substrates, coiling their flexible arms tightly around structurally complex objects such as kelp, sponges, or corals, with spines located along the arms aiding in the anchoring process.\n",
    "\n",
    "From an evolutionary standpoint, brittle stars represent a significant lineage, offering insights into the adaptability and resilience of marine life. Their ability to regenerate lost limbs and their sensory capabilities, which include responding to light without distinct eyes, are just a few examples of their remarkable biological traits. These characteristics make them an excellent subject for bio-inspired robotics, as they provide a template for designing robots that are both flexible and resilient, capable of navigating and adapting to diverse environments.\n",
    "\n",
    "#### Morphology\n",
    "![](https://github.com/Co-Evolve/SEL3-2024/blob/develop/tutorials/assets/brittle_stars_arm_anatomy.jpg?raw=true)\n",
    "(Image src: https://doi.org/10.1016/j.jsb.2020.107481) \n",
    "\n",
    "At the core of a brittle star's anatomy is the central disk, which varies in size from as small as 3mm to as large as 50mm. This disk is not just a structural component but also serves as a crucial hub for the organism's nervous system and, in some species, reproductive organs. \n",
    "\n",
    "Brittle stars possess five arms that are symmetrically arranged in a pentaradial fashion around the central disk. This pentaradial symmetry is a hallmark of echinoderms and is crucial for the brittle star's locomotion and interaction with its environment. These arms typically span about two to twenty times the diameter of the central disk. In terms of mobility, the arms of brittle stars are capable of both in-plane and out-of-plane bending.\n",
    "\n",
    "Structurally, each arm consists of a chain of segments, each one consisting out of a vertebra and 4 muscle groups and completely enclosed by plates. This skeletal structure provides both support and flexibility, enabling the arms to move fluidly while maintaining structural integrity.\n",
    "\n",
    "![](https://github.com/Co-Evolve/SEL3-2024/blob/develop/tutorials/assets/brittle_stars_muscles.jpg?raw=true)\n",
    "(Image src: https://doi.org/10.3389/fnbot.2019.00104)\n",
    "\n",
    "Lastly, the arms of brittle stars are adorned with soft spines. These spines play a crucial role in anchoring and interacting with the environment. They provide stability and traction on various surfaces, aiding in locomotion and foraging activities.\n",
    "\n",
    "#### Nervous system\n",
    "![](https://github.com/Co-Evolve/SEL3-2024/blob/develop/tutorials/assets/brittle_stars_nervous_system.jpg?raw=true)\n",
    "(Image src: http://dx.doi.org/10.3389/fnbot.2019.00066)\n",
    "\n",
    "The nervous system of the brittle star is a fascinating aspect of its biology, characterized by its decentralized nature. This decentralized nervous system is quite different from the central nervous systems found in vertebrates and even some invertebrates. In brittle stars, the nervous system is primarily composed of a nerve ring that encircles the central disk, from which branches extend into each arm.\n",
    "\n",
    "The nerve ring acts as a central hub, integrating sensory inputs and coordinating the movements of the arms. Unlike centralized nervous systems where a brain or a similar central organ exerts control, the nerve ring in brittle stars does not function as a central command center. Instead, it serves more as a conduit or a relay station, facilitating communication across the organism's body.\n",
    "\n",
    "From this nerve ring, nerve branches run along each arm, allowing for localized control and sensory perception within each limb. This structure is crucial for the brittle star's survival, as it enables each arm to react independently to stimuli. For instance, if one arm encounters a predator or a harmful stimulus, it can respond immediately and appropriately, without the need for centralized processing. \n",
    "\n",
    "\n",
    "#### Behavioural studies \n",
    "Several modes of locomotion have been observed in brittle star species, with one species often exhibiting multiple modes. A common mode is the ['breast stroke' or 'rowing'](https://www.youtube.com/watch?v=X8UEST-flCM), where the brittle star moves forward led by an arm, uses two lateral arms as rowers, and drags the remaining two arms passively. This mode is documented in various studies. Another mode, known as 'paddling' or 'reverse rowing,' involves dragging the rearmost arm while the other four arms actively row. These modes, which involve bilaterally coordinated movements, allow the brittle star to crawl in a specific direction. However, as the role of each arm changes with the direction of movement, brittle stars do not maintain fixed front-back and left-right axes.\n",
    "\n",
    "The following biological works provide valuable insights into the behavior and control mechanisms of brittle stars, which provides a source of inspiration for their artificial counterpart. Here's a summary of each paper's findings:\n",
    "\n",
    "- **Flexible coordination of flexible limbs: decentralized control scheme for inter- and intra-limb coordination in brittle stars’ locomotion**\n",
    "    - Brittle stars display distinct roles for their arms: forelimbs, hindlimbs, and a center limb. This specialization allows for effective locomotion.\n",
    "    - When all arms are shortened, brittle stars maintain their inter-arm coordination pattern, similar to when they are intact.\n",
    "    - If some arms are removed, they still move effectively by coordinating the degrees of freedom in the remaining arms.\n",
    "    - In the presence of obstacles, arms either push against objects to assist propulsion or avoid objects that hinder propulsion.\n",
    "    - An arm completely detached from its disc is incapable of coordinated locomotion, indicating the importance of the proximal ends of the arms in the central disk for locomotion.\n",
    "- **The function of the ophiuroid nerve ring: how a decentralized nervous system controls coordinated locomotion**\n",
    "    - Nerve cut experiments reveal that the longest axons in the circumoral nerve ring do not extend beyond a fifth of its total length, suggesting limited direct connections between distant nodes.\n",
    "    - Coordinated locomotion persists even with a single nerve ring cut, implying bidirectional connections between adjacent arms.\n",
    "    - Arms adjacent to a nerve cut are less likely to lead in locomotion, suggesting that leading arms are those with better information propagation capabilities.\n",
    "- **Decentralized Control Mechanism for Determination of Moving Direction in Brittle Stars With Penta-Radially Symmetric body**\n",
    "    - When the nerve ring is cut in one place, movement tends to be in the opposite direction of the cut, and coordination is maintained except for arms adjacent to the cut.\n",
    "    - With two cuts in the nerve ring, only neurally connected arms coordinate, while disconnected ones do not.\n",
    "    - Complete severance of nerve ring connections between arms results in a lack of coordination and thus no locomotion.\n",
    "    - If the nerve ring is cut on both sides of the same arm, the neurally isolated arm does not coordinate with others, highlighting the role of sensory input in coordination.\n",
    "- **A brittle star-like robot capable of immediately adapting to unexpected physical damage**\n",
    "    - Amputation experiments show varying roles for arms: center limb for orientation, forelimbs for propulsion, and minimal role for hindlimbs.\n",
    "    - If arms are amputated, the robot adapts by reassigning roles, like using remaining arms for reverse rowing or as a trailing arm.\n",
    "    - With three arms removed and no adjacent arms remaining, the direction-orienting arm swings to pull the body forward, while other arms play minimal roles in propulsion.\n",
    "    - If only one arm remains, it swings left and right to pull the body forward.\n",
    "    - When ground contacts of the arms are deprived, the subjects lose coordination in their arms.\n",
    "\n",
    "#### What makes it interesting for robotics?\n",
    "The brittle star presents an intriguing case study for robotics due to several key characteristics:\n",
    "\n",
    "1. Adaptive Locomotion in Unpredictable and Unstructured Environments: Brittle stars excel at navigating through unpredictable and unstructured environments. Their ability to adapt their locomotion patterns in response to varying terrain and obstacles makes them an excellent model for developing robots that can operate effectively in complex and dynamic settings.\n",
    "2. Prehensile Arms Enabling Manipulation: The arms of brittle stars are not only locomotive appendages but also prehensile, meaning they have the ability to grasp and manipulate objects, such as prey. This feature is highly valuable in robotics, offering insights into designing robotic limbs that can perform intricate manipulation tasks.\n",
    "3. Robustness to Damage: Thanks to their modular and redundant design, brittle stars are highly robust to damage. Each arm can operate independently, which means that the loss or impairment of one arm does not significantly hinder the overall functionality. This characteristic is crucial for creating resilient robotic systems that can maintain operation even when parts of them are damaged.\n",
    "4. Integration of Strength and Flexibility in Arms: The arms of a brittle star embody a unique combination of strength and flexibility. This integration is key to their versatile functionality, allowing for both powerful movements and delicate handling. Replicating this in robotics could lead to the development of robotic limbs that are both strong and dexterous, capable of performing a wide range of tasks."
   ]
  },
  {
   "cell_type": "markdown",
   "metadata": {
    "collapsed": false
   },
   "source": [
    "### In-silico brittle star morphology\n",
    "The in-silico model of the brittle star morphology provides an abstract virtual twin. As discussed above, every morphology in the BRB is parameterized via [FPRS](https://github.com/Co-Evolve/fprs) and the brittle star's morphology specification can be found [here](https://github.com/Co-Evolve/brb/blob/brittle-star/brb/brittle_star/morphology/specification/specification.py). Default parameter values can be found [here](https://github.com/Co-Evolve/brb/blob/brittle-star/brb/brittle_star/morphology/specification/default.py). In our case, the most important configuration parameters are the number of arms, and the number of segments that each arm has.\n",
    "\n",
    "![](https://github.com/Co-Evolve/SEL3-2024/blob/develop/tutorials/assets/brittle_stars_in_silico.png?raw=true)\n",
    "Two example in-silico brittle star morphologies.\n",
    "\n",
    "Every segment has two degrees of freedom (DoF), one for in-plane motion and one for out-of-plane motion.\n",
    "\n",
    "In terms of sensing, the following sensors are implemented. These sensors define the base set of observations that every brittle star environment returns as observations (further discussed below). \n",
    "- Proprioception\n",
    "    - Joint positions (two per segment, in-plane and out-of-plane, in radians)\n",
    "    - Joint velocities (two per segment, in-plane and out-of-plane, in radians / second)\n",
    "    - Central disk's position (w.r.t. world frame)\n",
    "    - Central disk's rotation (w.r.t. world frame, in radians)\n",
    "    - Central disk's velocity (w.r.t. world frame, in m/s)\n",
    "    - Central disk's angular velocity (w.r.t. world frame, in radians/s)\n",
    "- Exteroception\n",
    "    - Touch (per segment, binary)\n",
    "\n",
    "\n",
    "In terms of actuation, the following actuators are implemented (two per segment, one for the in-plane DoF and one for the out-of-plane DoF). The brittle star's morphology specification defines which one of the two is to be used:\n",
    "- Position control\n",
    "- Torque control"
   ]
  },
  {
   "cell_type": "markdown",
   "metadata": {
    "collapsed": false
   },
   "source": [
    "### Environment variants\n",
    "The brittle star environment comes with three locomotion-orientated tasks that provide a curriculum of increasing difficulty: \n",
    "1. Undirected locomotion (simple): Move the brittle star away as far as possible from its starting position.\n",
    "    - Reward per timestep: $distance\\_current\\_timestep - distance\\_previous\\_timestep$. The reward will thus be positive if the distance from its starting position has increased in the current timestep, and negative if this distance has decreased.\n",
    "2. Targeted locomotion (intermediate): Move the brittle star towards a randomly spawned target.\n",
    "    - Reward per timestep: $distance\\_previous\\_timestep - distance\\_current\\_timestep$. The reward will thus be positive if the distance to the target has decreased in the current timestep, and negative if this distance has increased.\n",
    "    - Additional observations:\n",
    "        - Unit direction on the horizontal XY plane from the central disk to the target.\n",
    "        - The distance in XY plane from the central disk to the target.\n",
    "3. Light escape (hard): Move the brittle star towards darker spots in the environment.\n",
    "    - Reward per timestep: $light\\_income\\_previous\\_timestep - light\\_income\\_current\\_timestep$. The reward will thus be positive if the measured light income has decreased in the current timestep, and negative if the ight income has increased.\n",
    "    - Additional observations:\n",
    "        - The amount of light each segment takes in.\n",
    "\n",
    "\n",
    "![](https://github.com/Co-Evolve/SEL3-2024/blob/develop/tutorials/assets/britlte_stars_environments.png?raw=true)\n",
    "From left to right: the undirected locomotion, the targeted locomotion (target is the red sphere), and the light escape (with light noise) environments."
   ]
  },
  {
   "cell_type": "markdown",
   "metadata": {
    "id": "A3wIqNI7TycP"
   },
   "source": [
    "## Creating the environment"
   ]
  },
  {
   "cell_type": "markdown",
   "metadata": {
    "id": "zMqhYwKzVdpA"
   },
   "source": [
    "### 1. Creating the morphology \n",
    "The first step is to create the Brittle Star morphology. In essence, this comes down to providing an instance of a [BrittleStarMorphologySpecification](https://github.com/Co-Evolve/brb/blob/new-framework/brb/brittle_star/mjcf/morphology/specification/specification.py#L78) to the [MJCFBrittleStarMorphology](https://github.com/Co-Evolve/brb/blob/new-framework/brb/brittle_star/mjcf/morphology/morphology.py) class. The `MJCFBrittleStarMorphology` can then use the specified morphological parameters to generate the corresponding MuJoCo MJCF. "
   ]
  },
  {
   "cell_type": "code",
   "execution_count": 28,
   "metadata": {
    "ExecuteTime": {
     "end_time": "2024-01-16T14:26:30.496205Z",
     "start_time": "2024-01-16T14:26:30.485686Z"
    },
    "collapsed": false
   },
   "outputs": [],
   "source": [
    "from mujoco_utils.environment.mjx_env import MJXGymEnvWrapper\n",
    "import gymnasium\n",
    "from brb.brittle_star.mjcf.morphology.specification.default import default_brittle_star_morphology_specification\n",
    "from brb.brittle_star.mjcf.morphology.morphology import MJCFBrittleStarMorphology\n",
    "from brb.brittle_star.mjcf.morphology.specification.specification import BrittleStarMorphologySpecification\n",
    "\n",
    "\n",
    "def create_morphology(\n",
    "        morphology_specification: BrittleStarMorphologySpecification\n",
    "        ) -> MJCFBrittleStarMorphology:\n",
    "    morphology = MJCFBrittleStarMorphology(\n",
    "            specification=morphology_specification\n",
    "            )\n",
    "    return morphology"
   ]
  },
  {
   "cell_type": "code",
   "execution_count": 6,
   "metadata": {
    "ExecuteTime": {
     "end_time": "2024-01-16T14:13:10.067427Z",
     "start_time": "2024-01-16T14:13:09.949751Z"
    },
    "id": "tWclyg93YAuw"
   },
   "outputs": [
    {
     "data": {
      "text/html": [
       "<table class=\"show_images\" style=\"border-spacing:0px;\"><tr><td style=\"padding:1px;\"><img width=\"320\" height=\"240\" style=\"image-rendering:auto; object-fit:cover;\" src=\"data:image/png;base64,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\"/></td></tr></table>"
      ],
      "text/plain": [
       "<IPython.core.display.HTML object>"
      ]
     },
     "metadata": {},
     "output_type": "display_data"
    }
   ],
   "source": [
    "morphology_specification = default_brittle_star_morphology_specification(\n",
    "        num_arms=5, num_segments_per_arm=4, use_p_control=True, use_torque_control=False\n",
    "        )\n",
    "morphology = create_morphology(morphology_specification=morphology_specification)\n",
    "visualize_mjcf(mjcf=morphology)"
   ]
  },
  {
   "cell_type": "markdown",
   "metadata": {
    "collapsed": false
   },
   "source": [
    "We can also specify a different amount of segments per arm."
   ]
  },
  {
   "cell_type": "code",
   "execution_count": 7,
   "metadata": {
    "ExecuteTime": {
     "end_time": "2024-01-16T14:13:10.128371Z",
     "start_time": "2024-01-16T14:13:10.084320Z"
    },
    "collapsed": false
   },
   "outputs": [
    {
     "data": {
      "text/html": [
       "<table class=\"show_images\" style=\"border-spacing:0px;\"><tr><td style=\"padding:1px;\"><img width=\"320\" height=\"240\" style=\"image-rendering:auto; object-fit:cover;\" src=\"data:image/png;base64,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\"/></td></tr></table>"
      ],
      "text/plain": [
       "<IPython.core.display.HTML object>"
      ]
     },
     "metadata": {},
     "output_type": "display_data"
    }
   ],
   "source": [
    "morphology_specification = default_brittle_star_morphology_specification(\n",
    "        num_arms=5, num_segments_per_arm=[1, 2, 3, 4, 5], use_p_control=True, use_torque_control=False\n",
    "        )\n",
    "morphology = create_morphology(morphology_specification=morphology_specification)\n",
    "visualize_mjcf(mjcf=morphology)"
   ]
  },
  {
   "cell_type": "markdown",
   "metadata": {
    "id": "FsqQr6u6Vj4O"
   },
   "source": [
    "### 2. Creating the arena\n",
    "Similarly to the morphology, the next step is to configure and create the AquariumArena in which we will put our brittle star. This arena uses a [simplified fluid model](https://mujoco.readthedocs.io/en/stable/computation/fluid.html#inertia-model) to simulate an aquatic environment."
   ]
  },
  {
   "cell_type": "code",
   "execution_count": 8,
   "metadata": {
    "ExecuteTime": {
     "end_time": "2024-01-16T14:13:10.129098Z",
     "start_time": "2024-01-16T14:13:10.116474Z"
    },
    "id": "qq9gGgDBYm7U"
   },
   "outputs": [],
   "source": [
    "from brb.brittle_star.mjcf.arena.aquarium import AquariumArenaConfiguration, MJCFAquariumArena\n",
    "\n",
    "\n",
    "def create_arena(\n",
    "        arena_configuration: AquariumArenaConfiguration\n",
    "        ) -> MJCFAquariumArena:\n",
    "    arena = MJCFAquariumArena(\n",
    "            configuration=arena_configuration\n",
    "            )\n",
    "    return arena"
   ]
  },
  {
   "cell_type": "code",
   "execution_count": 9,
   "metadata": {
    "ExecuteTime": {
     "end_time": "2024-01-16T14:13:10.164682Z",
     "start_time": "2024-01-16T14:13:10.122376Z"
    },
    "collapsed": false
   },
   "outputs": [
    {
     "data": {
      "text/html": [
       "<table class=\"show_images\" style=\"border-spacing:0px;\"><tr><td style=\"padding:1px;\"><img width=\"320\" height=\"240\" style=\"image-rendering:auto; object-fit:cover;\" src=\"data:image/png;base64,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\"/></td></tr></table>"
      ],
      "text/plain": [
       "<IPython.core.display.HTML object>"
      ]
     },
     "metadata": {},
     "output_type": "display_data"
    }
   ],
   "source": [
    "arena_configuration = AquariumArenaConfiguration(\n",
    "        size=(10, 5), sand_ground_color=True, attach_target=False, wall_height=1.5, wall_thickness=0.1\n",
    "        )\n",
    "arena = create_arena(arena_configuration=arena_configuration)\n",
    "visualize_mjcf(mjcf=arena)"
   ]
  },
  {
   "cell_type": "markdown",
   "metadata": {
    "id": "tCGQvuiHVo91"
   },
   "source": [
    "### 3. Creating the environment\n",
    "Now we can create the actual environment that combines the above morphology and arena. As discussed above, we have three different environment versions (each specifying a specific task) in which we can put our brittle star. Each version has a specific EnvironmentConfiguration."
   ]
  },
  {
   "cell_type": "code",
   "execution_count": 10,
   "metadata": {
    "ExecuteTime": {
     "end_time": "2024-01-16T14:13:10.165406Z",
     "start_time": "2024-01-16T14:13:10.149923Z"
    },
    "id": "YWHuHyaqZZd8"
   },
   "outputs": [],
   "source": [
    "from brb.brittle_star.environment.light.mjc_env import BrittleStarLightEnvironmentConfiguration\n",
    "from brb.brittle_star.environment.target.mjc_env import BrittleStarTargetEnvironmentConfiguration\n",
    "from brb.brittle_star.environment.locomotion.mjc_env import BrittleStarLocomotionEnvironmentConfiguration\n",
    "\n",
    "locomotion_environment_configuration = BrittleStarLocomotionEnvironmentConfiguration(\n",
    "         # If this value is > 0 then we will add randomly sampled noise to the initial joint positions and velocities \n",
    "        joint_randomization_noise_scale=0.0,\n",
    "        # Visualization mode \n",
    "        render_mode=\"rgb_array\",\n",
    "        # Number of seconds per episode \n",
    "        simulation_time=5,\n",
    "        # Number of physics substeps to do per control step \n",
    "        num_physics_steps_per_control_step=10\n",
    "        )\n",
    "target_locomotion_environment_configuration = BrittleStarTargetEnvironmentConfiguration(\n",
    "        # Distance to put our target at (targets are spawned on a circle around the starting location with this given radius).\n",
    "        target_distance=3.0,\n",
    "        joint_randomization_noise_scale=0.0,\n",
    "        render_mode=\"rgb_array\",\n",
    "        simulation_time=5,\n",
    "        num_physics_steps_per_control_step=10\n",
    "        )\n",
    "light_escape_environment_configuration = BrittleStarLightEnvironmentConfiguration(\n",
    "        # If this value is > 0, we will add perlin noise to the generated light map. Otherwise, the light map is a simple linear gradient.\n",
    "        #   Please only provide integer factors of 200.\n",
    "        light_perlin_noise_scale=0,\n",
    "        joint_randomization_noise_scale=0,\n",
    "        render_mode=\"rgb_array\",\n",
    "        simulation_time=5,\n",
    "        num_physics_steps_per_control_step=10\n",
    "        )"
   ]
  },
  {
   "cell_type": "markdown",
   "metadata": {
    "id": "fKGuNkH3WRdI"
   },
   "source": [
    "#### Creator\n",
    "We can now define a function that takes in a certain morphological specification, the arena configuration and the environment configuration and returns the actual environment. Note that we have added an additional argument to this function,`backend`, which can be used to choose between instantiating the MJC (native MuJoCo) or the MJX (JAX-based MuJoCo) implementation of the environment.\n",
    "\n",
    "This function also accepts a `num_environments` argument, which can be ignored for now. We will discuss this in the 'vectorization' section below."
   ]
  },
  {
   "cell_type": "code",
   "execution_count": 1,
   "metadata": {
    "ExecuteTime": {
     "end_time": "2024-01-16T14:13:10.165925Z",
     "start_time": "2024-01-16T14:13:10.157588Z"
    },
    "id": "_4R9PmCtWEdJ"
   },
   "outputs": [
    {
     "ename": "NameError",
     "evalue": "name 'BrittleStarMorphologySpecification' is not defined",
     "output_type": "error",
     "traceback": [
      "\u001B[0;31m---------------------------------------------------------------------------\u001B[0m",
      "\u001B[0;31mNameError\u001B[0m                                 Traceback (most recent call last)",
      "Cell \u001B[0;32mIn[1], line 12\u001B[0m\n\u001B[1;32m      7\u001B[0m \u001B[38;5;28;01mfrom\u001B[39;00m \u001B[38;5;21;01mbrb\u001B[39;00m\u001B[38;5;21;01m.\u001B[39;00m\u001B[38;5;21;01mbrittle_star\u001B[39;00m\u001B[38;5;21;01m.\u001B[39;00m\u001B[38;5;21;01menvironment\u001B[39;00m\u001B[38;5;21;01m.\u001B[39;00m\u001B[38;5;21;01mlocomotion\u001B[39;00m\u001B[38;5;21;01m.\u001B[39;00m\u001B[38;5;21;01mmjx_env\u001B[39;00m \u001B[38;5;28;01mimport\u001B[39;00m BrittleStarLocomotionMJXEnvironment\n\u001B[1;32m      8\u001B[0m \u001B[38;5;28;01mfrom\u001B[39;00m \u001B[38;5;21;01mmujoco_utils\u001B[39;00m\u001B[38;5;21;01m.\u001B[39;00m\u001B[38;5;21;01menvironment\u001B[39;00m\u001B[38;5;21;01m.\u001B[39;00m\u001B[38;5;21;01mbase\u001B[39;00m \u001B[38;5;28;01mimport\u001B[39;00m MuJoCoEnvironmentConfiguration\n\u001B[1;32m     11\u001B[0m \u001B[38;5;28;01mdef\u001B[39;00m \u001B[38;5;21mcreate_environment\u001B[39m(\n\u001B[0;32m---> 12\u001B[0m         morphology_specification: \u001B[43mBrittleStarMorphologySpecification\u001B[49m,\n\u001B[1;32m     13\u001B[0m         arena_configuration: AquariumArenaConfiguration,\n\u001B[1;32m     14\u001B[0m         environment_configuration: MuJoCoEnvironmentConfiguration,\n\u001B[1;32m     15\u001B[0m         backend: \u001B[38;5;28mstr\u001B[39m,\n\u001B[1;32m     16\u001B[0m         num_environments: \u001B[38;5;28mint\u001B[39m \u001B[38;5;241m=\u001B[39m \u001B[38;5;241m1\u001B[39m\n\u001B[1;32m     17\u001B[0m         ) \u001B[38;5;241m-\u001B[39m\u001B[38;5;241m>\u001B[39m Union[MJCEnv, MJXGymEnvWrapper]:\n\u001B[1;32m     18\u001B[0m     \u001B[38;5;28;01massert\u001B[39;00m backend \u001B[38;5;129;01min\u001B[39;00m [\u001B[38;5;124m\"\u001B[39m\u001B[38;5;124mMJC\u001B[39m\u001B[38;5;124m\"\u001B[39m, \u001B[38;5;124m\"\u001B[39m\u001B[38;5;124mMJX\u001B[39m\u001B[38;5;124m\"\u001B[39m], \u001B[38;5;124m\"\u001B[39m\u001B[38;5;124mPlease specify a valid backend; Either \u001B[39m\u001B[38;5;124m'\u001B[39m\u001B[38;5;124mMJC\u001B[39m\u001B[38;5;124m'\u001B[39m\u001B[38;5;124m or \u001B[39m\u001B[38;5;124m'\u001B[39m\u001B[38;5;124mMJX\u001B[39m\u001B[38;5;124m'\u001B[39m\u001B[38;5;124m\"\u001B[39m\n\u001B[1;32m     20\u001B[0m     \u001B[38;5;28;01mdef\u001B[39;00m \u001B[38;5;21m_create_env\u001B[39m() \u001B[38;5;241m-\u001B[39m\u001B[38;5;241m>\u001B[39m Union[MJCEnv, gymnasium\u001B[38;5;241m.\u001B[39mvector\u001B[38;5;241m.\u001B[39mAsyncVectorEnv, MJXGymEnvWrapper]:\n",
      "\u001B[0;31mNameError\u001B[0m: name 'BrittleStarMorphologySpecification' is not defined"
     ]
    }
   ],
   "source": [
    "from mujoco_utils.environment.mjc_env import MJCEnv\n",
    "from brb.brittle_star.environment.light.mjc_env import BrittleStarLightMJCEnvironment\n",
    "from brb.brittle_star.environment.target.mjc_env import BrittleStarTargetMJCEnvironment\n",
    "from brb.brittle_star.environment.locomotion.mjc_env import BrittleStarLocomotionMJCEnvironment\n",
    "from brb.brittle_star.environment.light.mjx_env import BrittleStarLightMJXEnvironment\n",
    "from brb.brittle_star.environment.target.mjx_env import BrittleStarTargetMJXEnvironment\n",
    "from brb.brittle_star.environment.locomotion.mjx_env import BrittleStarLocomotionMJXEnvironment\n",
    "from mujoco_utils.environment.base import MuJoCoEnvironmentConfiguration\n",
    "\n",
    "\n",
    "def create_environment(\n",
    "        morphology_specification: BrittleStarMorphologySpecification,\n",
    "        arena_configuration: AquariumArenaConfiguration,\n",
    "        environment_configuration: MuJoCoEnvironmentConfiguration,\n",
    "        backend: str,\n",
    "        num_environments: int = 1\n",
    "        ) -> Union[MJCEnv, MJXGymEnvWrapper]:\n",
    "    assert backend in [\"MJC\", \"MJX\"], \"Please specify a valid backend; Either 'MJC' or 'MJX'\"\n",
    "\n",
    "    def _create_env() -> Union[MJCEnv, gymnasium.vector.AsyncVectorEnv, MJXGymEnvWrapper]:\n",
    "        morphology = create_morphology(\n",
    "                morphology_specification=morphology_specification\n",
    "                )\n",
    "        arena = create_arena(\n",
    "                arena_configuration=arena_configuration\n",
    "                )\n",
    "        if isinstance(environment_configuration, BrittleStarLocomotionEnvironmentConfiguration):\n",
    "            env_class = BrittleStarLocomotionMJCEnvironment if backend == \"MJC\" else BrittleStarLocomotionMJXEnvironment\n",
    "        elif isinstance(environment_configuration, BrittleStarTargetEnvironmentConfiguration):\n",
    "            env_class = BrittleStarTargetMJCEnvironment if backend == \"MJC\" else BrittleStarTargetMJXEnvironment\n",
    "        else:\n",
    "            env_class = BrittleStarLightMJCEnvironment if backend == \"MJC\" else BrittleStarLightMJXEnvironment\n",
    "\n",
    "        env = env_class(morphology=morphology, arena=arena, configuration=environment_configuration)\n",
    "        return env\n",
    "\n",
    "    if backend == \"MJC\":\n",
    "        if num_environments > 1:\n",
    "            return gymnasium.vector.AsyncVectorEnv(\n",
    "                    [_create_env for _ in range(num_environments)]\n",
    "                    )\n",
    "        else:\n",
    "            return _create_env()\n",
    "    else:\n",
    "        # MJXGymEnvWrapper takes care of the handling the consequences of functional programming made necessary by Jax \n",
    "        return MJXGymEnvWrapper(env=_create_env(), num_envs=num_environments)"
   ]
  },
  {
   "cell_type": "markdown",
   "metadata": {
    "collapsed": false
   },
   "source": [
    "Given the above utility functions, the next code snippet instantiates the environment. \n",
    "Use this to test the influence of different parameters and configurations."
   ]
  },
  {
   "cell_type": "code",
   "execution_count": 12,
   "metadata": {
    "ExecuteTime": {
     "end_time": "2024-01-16T14:13:10.232653Z",
     "start_time": "2024-01-16T14:13:10.191154Z"
    },
    "collapsed": false
   },
   "outputs": [
    {
     "data": {
      "text/html": [
       "<table class=\"show_images\" style=\"border-spacing:0px;\"><tr><td style=\"padding:1px;\"><img width=\"320\" height=\"240\" style=\"image-rendering:auto; object-fit:cover;\" src=\"data:image/png;base64,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\"/></td></tr></table>"
      ],
      "text/plain": [
       "<IPython.core.display.HTML object>"
      ]
     },
     "metadata": {},
     "output_type": "display_data"
    }
   ],
   "source": [
    "morphology_specification = default_brittle_star_morphology_specification(\n",
    "        num_arms=5, num_segments_per_arm=4, use_p_control=True, use_torque_control=False\n",
    "        )\n",
    "arena_configuration = AquariumArenaConfiguration(\n",
    "        size=(10, 5), sand_ground_color=True, attach_target=False, wall_height=1.5, wall_thickness=0.1\n",
    "        )\n",
    "environment_configuration = BrittleStarLightEnvironmentConfiguration(\n",
    "        joint_randomization_noise_scale=0.0,\n",
    "        light_perlin_noise_scale=0,\n",
    "        render_mode=\"rgb_array\",\n",
    "        simulation_time=5,\n",
    "        num_physics_steps_per_control_step=10\n",
    "        )\n",
    "env = create_environment(\n",
    "        morphology_specification=morphology_specification,\n",
    "        arena_configuration=arena_configuration,\n",
    "        environment_configuration=environment_configuration,\n",
    "        backend=\"MJC\"\n",
    "        )\n",
    "\n",
    "env.reset()  # Always need to reset the environment before doing anything else with it\n",
    "frame = env.render()\n",
    "media.show_image(post_environment_render(frame, environment_configuration=environment_configuration))\n",
    "env.close() # always close the environment after using it!"
   ]
  },
  {
   "cell_type": "markdown",
   "metadata": {
    "collapsed": false
   },
   "source": [
    "## Using the environment\n",
    "In this section we will check how we can now actually use the environments. Let's start by instantiating both an MJC and MJX variant."
   ]
  },
  {
   "cell_type": "code",
   "execution_count": 13,
   "metadata": {
    "ExecuteTime": {
     "end_time": "2024-01-16T14:13:10.516186Z",
     "start_time": "2024-01-16T14:13:10.289479Z"
    },
    "collapsed": false
   },
   "outputs": [],
   "source": [
    "mjc_env = create_environment(\n",
    "        morphology_specification=morphology_specification,\n",
    "        arena_configuration=arena_configuration,\n",
    "        environment_configuration=environment_configuration,\n",
    "        backend=\"MJC\"\n",
    "        )\n",
    "mjx_env = create_environment(\n",
    "        morphology_specification=morphology_specification,\n",
    "        arena_configuration=arena_configuration,\n",
    "        environment_configuration=environment_configuration,\n",
    "        backend=\"MJX\"\n",
    "        )"
   ]
  },
  {
   "cell_type": "markdown",
   "metadata": {
    "id": "HGaNtSd-GK5k"
   },
   "source": [
    "### Observation space\n",
    "The observation describes the dimensionality and range of the observations that the environment returns upon reset and after taking a step. As both the MJC and MJX variants implement the same environment, although with a different backend, they have the same observation space."
   ]
  },
  {
   "cell_type": "code",
   "execution_count": 14,
   "metadata": {
    "ExecuteTime": {
     "end_time": "2024-01-16T14:13:10.524801Z",
     "start_time": "2024-01-16T14:13:10.518603Z"
    },
    "colab": {
     "base_uri": "https://localhost:8080/"
    },
    "id": "VOu3oM4ZS1mm",
    "outputId": "4088bc68-107d-4684-b0db-46e56763b0e2"
   },
   "outputs": [
    {
     "name": "stdout",
     "output_type": "stream",
     "text": [
      "Dict('disk_angular_velocity': Box(-inf, inf, (3,), float32), 'disk_linear_velocity': Box(-inf, inf, (3,), float32), 'disk_position': Box(-inf, inf, (3,), float32), 'disk_rotation': Box(-3.1415927, 3.1415927, (3,), float32), 'in_plane_joint_position': Box(-0.5235988, 0.5235988, (20,), float32), 'in_plane_joint_velocity': Box(-inf, inf, (20,), float32), 'out_of_plane_joint_position': Box(-0.5235988, 0.5235988, (20,), float32), 'out_of_plane_joint_velocity': Box(-inf, inf, (20,), float32), 'segment_contact': Box(0.0, 1.0, (20,), float32), 'segment_light_intake': Box(0.0, 1.0, (20,), float32))\n",
      "\n",
      "Dict('disk_angular_velocity': Box(-inf, inf, (3,), float32), 'disk_linear_velocity': Box(-inf, inf, (3,), float32), 'disk_position': Box(-inf, inf, (3,), float32), 'disk_rotation': Box(-3.1415927, 3.1415927, (3,), float32), 'in_plane_joint_position': Box(-0.5235988, 0.5235988, (20,), float32), 'in_plane_joint_velocity': Box(-inf, inf, (20,), float32), 'out_of_plane_joint_position': Box(-0.5235988, 0.5235988, (20,), float32), 'out_of_plane_joint_velocity': Box(-inf, inf, (20,), float32), 'segment_contact': Box(0.0, 1.0, (20,), float32), 'segment_light_intake': Box(0.0, 1.0, (20,), float32))\n"
     ]
    }
   ],
   "source": [
    "print(mjc_env.observation_space)\n",
    "print()\n",
    "print(mjx_env.observation_space)"
   ]
  },
  {
   "cell_type": "markdown",
   "metadata": {
    "id": "Gd65GNHyGMlY"
   },
   "source": [
    "### Action space\n",
    "The action space describes the dimensionality and range of actions the environment expects in order to take a step. In essence, the environment maps each given action to the control signal of an actuator."
   ]
  },
  {
   "cell_type": "code",
   "execution_count": 15,
   "metadata": {
    "ExecuteTime": {
     "end_time": "2024-01-16T14:13:10.525387Z",
     "start_time": "2024-01-16T14:13:10.520878Z"
    },
    "colab": {
     "base_uri": "https://localhost:8080/"
    },
    "id": "Tc9zKb81bEwB",
    "outputId": "496a166e-56cd-4c9b-9331-264fe9e168d9"
   },
   "outputs": [
    {
     "name": "stdout",
     "output_type": "stream",
     "text": [
      "Box(-0.5235988, 0.5235988, (40,), float32)\n",
      "\n",
      "Box(-0.5235988, 0.5235988, (40,), float32)\n"
     ]
    }
   ],
   "source": [
    "print(mjc_env.action_space)\n",
    "print()\n",
    "print(mjx_env.action_space)"
   ]
  },
  {
   "cell_type": "markdown",
   "metadata": {
    "collapsed": false
   },
   "source": [
    "To help in knowing which action is mapped to which actuator, the following call returns a list of actuator names such that `actions[i]` is mapped to `actuator[i]`. "
   ]
  },
  {
   "cell_type": "code",
   "execution_count": 16,
   "metadata": {
    "ExecuteTime": {
     "end_time": "2024-01-16T14:13:10.527728Z",
     "start_time": "2024-01-16T14:13:10.523617Z"
    },
    "collapsed": false
   },
   "outputs": [
    {
     "name": "stdout",
     "output_type": "stream",
     "text": [
      "['BrittleStarMorphology/arm_0_segment_0_in_plane_joint_p_control', 'BrittleStarMorphology/arm_0_segment_0_out_of_plane_joint_p_control', 'BrittleStarMorphology/arm_0_segment_1_in_plane_joint_p_control', 'BrittleStarMorphology/arm_0_segment_1_out_of_plane_joint_p_control', 'BrittleStarMorphology/arm_0_segment_2_in_plane_joint_p_control', 'BrittleStarMorphology/arm_0_segment_2_out_of_plane_joint_p_control', 'BrittleStarMorphology/arm_0_segment_3_in_plane_joint_p_control', 'BrittleStarMorphology/arm_0_segment_3_out_of_plane_joint_p_control', 'BrittleStarMorphology/arm_1_segment_0_in_plane_joint_p_control', 'BrittleStarMorphology/arm_1_segment_0_out_of_plane_joint_p_control', 'BrittleStarMorphology/arm_1_segment_1_in_plane_joint_p_control', 'BrittleStarMorphology/arm_1_segment_1_out_of_plane_joint_p_control', 'BrittleStarMorphology/arm_1_segment_2_in_plane_joint_p_control', 'BrittleStarMorphology/arm_1_segment_2_out_of_plane_joint_p_control', 'BrittleStarMorphology/arm_1_segment_3_in_plane_joint_p_control', 'BrittleStarMorphology/arm_1_segment_3_out_of_plane_joint_p_control', 'BrittleStarMorphology/arm_2_segment_0_in_plane_joint_p_control', 'BrittleStarMorphology/arm_2_segment_0_out_of_plane_joint_p_control', 'BrittleStarMorphology/arm_2_segment_1_in_plane_joint_p_control', 'BrittleStarMorphology/arm_2_segment_1_out_of_plane_joint_p_control', 'BrittleStarMorphology/arm_2_segment_2_in_plane_joint_p_control', 'BrittleStarMorphology/arm_2_segment_2_out_of_plane_joint_p_control', 'BrittleStarMorphology/arm_2_segment_3_in_plane_joint_p_control', 'BrittleStarMorphology/arm_2_segment_3_out_of_plane_joint_p_control', 'BrittleStarMorphology/arm_3_segment_0_in_plane_joint_p_control', 'BrittleStarMorphology/arm_3_segment_0_out_of_plane_joint_p_control', 'BrittleStarMorphology/arm_3_segment_1_in_plane_joint_p_control', 'BrittleStarMorphology/arm_3_segment_1_out_of_plane_joint_p_control', 'BrittleStarMorphology/arm_3_segment_2_in_plane_joint_p_control', 'BrittleStarMorphology/arm_3_segment_2_out_of_plane_joint_p_control', 'BrittleStarMorphology/arm_3_segment_3_in_plane_joint_p_control', 'BrittleStarMorphology/arm_3_segment_3_out_of_plane_joint_p_control', 'BrittleStarMorphology/arm_4_segment_0_in_plane_joint_p_control', 'BrittleStarMorphology/arm_4_segment_0_out_of_plane_joint_p_control', 'BrittleStarMorphology/arm_4_segment_1_in_plane_joint_p_control', 'BrittleStarMorphology/arm_4_segment_1_out_of_plane_joint_p_control', 'BrittleStarMorphology/arm_4_segment_2_in_plane_joint_p_control', 'BrittleStarMorphology/arm_4_segment_2_out_of_plane_joint_p_control', 'BrittleStarMorphology/arm_4_segment_3_in_plane_joint_p_control', 'BrittleStarMorphology/arm_4_segment_3_out_of_plane_joint_p_control']\n"
     ]
    }
   ],
   "source": [
    "print(mjc_env.actuators)"
   ]
  },
  {
   "cell_type": "markdown",
   "source": [
    "Todo: discuss frame of reference for IP and OOP joints:\n",
    "* IP -> looking from proximal to distal of the arm -> positive angle means left, negative means right\n",
    "* OOP -> positive means up, negative means down"
   ],
   "metadata": {
    "collapsed": false
   }
  },
  {
   "cell_type": "markdown",
   "metadata": {
    "collapsed": false
   },
   "source": [
    "### Running and visualizing an episode\n",
    "Now we will run the simulation environment and visualize it. As shown below, this happens in a similar manner for both the MJC and the MJX variants, as both follow the [Gymnasium interface](https://gymnasium.farama.org/content/basic_usage/). The only difference is that MJC handles numpy arrays, while MJX handles jax arrays.\n",
    "\n",
    "TODO: DISCUSS CAMERA_IDS for rendering from different perspectives"
   ]
  },
  {
   "cell_type": "markdown",
   "metadata": {
    "collapsed": false
   },
   "source": [
    "#### MJC"
   ]
  },
  {
   "cell_type": "code",
   "execution_count": 17,
   "metadata": {
    "ExecuteTime": {
     "end_time": "2024-01-16T14:13:11.313666Z",
     "start_time": "2024-01-16T14:13:10.526630Z"
    },
    "collapsed": false
   },
   "outputs": [
    {
     "data": {
      "text/html": [
       "<table class=\"show_videos\" style=\"border-spacing:0px;\"><tr><td style=\"padding:1px;\"><video controls width=\"320\" height=\"240\" style=\"object-fit:cover;\" loop autoplay muted>\n",
       "      <source src=\"data:video/mp4;base64,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\" type=\"video/mp4\"/>\n",
       "      This browser does not support the video tag.\n",
       "      </video></td></tr></table>"
      ],
      "text/plain": [
       "<IPython.core.display.HTML object>"
      ]
     },
     "metadata": {},
     "output_type": "display_data"
    }
   ],
   "source": [
    "done = False\n",
    "frames = []\n",
    "obs, info = mjc_env.reset()\n",
    "while not done:\n",
    "    actions = mjc_env.action_space.sample()\n",
    "    obs, reward, terminated, truncated, info = mjc_env.step(actions=actions)\n",
    "    frame = post_environment_render(mjc_env.render(), environment_configuration=environment_configuration)\n",
    "    frames.append(frame)\n",
    "    done = terminated | truncated\n",
    "media.show_video(images=frames)"
   ]
  },
  {
   "cell_type": "markdown",
   "metadata": {
    "collapsed": false
   },
   "source": [
    "#### MJX\n",
    "Expect this cell to run longer the first time than the MJC variant (this is because the first environment calls trigger a JIT compilation)."
   ]
  },
  {
   "cell_type": "code",
   "execution_count": 18,
   "metadata": {
    "ExecuteTime": {
     "end_time": "2024-01-16T14:14:49.368408Z",
     "start_time": "2024-01-16T14:13:11.332419Z"
    },
    "collapsed": false
   },
   "outputs": [
    {
     "data": {
      "text/html": [
       "<table class=\"show_videos\" style=\"border-spacing:0px;\"><tr><td style=\"padding:1px;\"><video controls width=\"320\" height=\"240\" style=\"object-fit:cover;\" loop autoplay muted>\n",
       "      <source src=\"data:video/mp4;base64,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\" type=\"video/mp4\"/>\n",
       "      This browser does not support the video tag.\n",
       "      </video></td></tr></table>"
      ],
      "text/plain": [
       "<IPython.core.display.HTML object>"
      ]
     },
     "metadata": {},
     "output_type": "display_data"
    }
   ],
   "source": [
    "done = False\n",
    "frames = []\n",
    "obs, info = mjx_env.reset()\n",
    "while not done:\n",
    "    actions = jnp.array(mjx_env.action_space.sample())\n",
    "    obs, reward, terminated, truncated, info = mjx_env.step(actions=actions)\n",
    "    frame = post_environment_render(mjx_env.render(), environment_configuration=environment_configuration)\n",
    "    frames.append(frame)\n",
    "    done = terminated | truncated\n",
    "media.show_video(images=frames)"
   ]
  },
  {
   "cell_type": "markdown",
   "metadata": {
    "id": "fOmP560VbMd3"
   },
   "source": [
    "Avoid memory leaks and always close your environment after using!"
   ]
  },
  {
   "cell_type": "code",
   "execution_count": 19,
   "metadata": {
    "ExecuteTime": {
     "end_time": "2024-01-16T14:14:49.378390Z",
     "start_time": "2024-01-16T14:14:49.368473Z"
    },
    "collapsed": false
   },
   "outputs": [],
   "source": [
    "mjc_env.close()\n",
    "mjx_env.close()"
   ]
  },
  {
   "cell_type": "markdown",
   "metadata": {
    "collapsed": false
   },
   "source": [
    "### Vectorization\n",
    "During optimization we often want multiple environments to run in parallel as this increases data collection speed. For instance with evolutionary optimization, this allows to evaluate multiple candidate solutions in parallel. Alternatively in the reinforcement learning setting, this can be used to simultaneously collect data from slightly different environment versions if we use randomization or noise."
   ]
  },
  {
   "cell_type": "markdown",
   "metadata": {
    "collapsed": false
   },
   "source": [
    "#### MJC\n",
    "Given its nature, the MJC environment relies on multiprocessing on the CPU. As we conform to the Gymnasium interface, this can be done by using [Gymnasium's AsyncVectorEnv](https://gymnasium.farama.org/api/vector/#async-vector-env). When vectorizing over the CPU, we often use one environment instance for CPU core available. Nevertheless, we can't always expect a linear increase in speed with an increasing number of environment instances. Therefore it is always a good idea to test and compare multiple amounts."
   ]
  },
  {
   "cell_type": "code",
   "execution_count": 20,
   "metadata": {
    "ExecuteTime": {
     "end_time": "2024-01-16T14:14:50.893682Z",
     "start_time": "2024-01-16T14:14:49.380376Z"
    },
    "collapsed": false
   },
   "outputs": [],
   "source": [
    "num_environments = 10\n",
    "\n",
    "morphology_specification = default_brittle_star_morphology_specification(\n",
    "        num_arms=5, num_segments_per_arm=4, use_p_control=True, use_torque_control=False\n",
    "        )\n",
    "arena_configuration = AquariumArenaConfiguration(\n",
    "        size=(10, 5), sand_ground_color=True, attach_target=False, wall_height=1.5, wall_thickness=0.1\n",
    "        )\n",
    "environment_configuration = BrittleStarLightEnvironmentConfiguration(\n",
    "        # Introduce variability between different instances of the environment\n",
    "        joint_randomization_noise_scale=0.01,\n",
    "        light_perlin_noise_scale=10,\n",
    "        render_mode=\"rgb_array\",\n",
    "        simulation_time=5,\n",
    "        num_physics_steps_per_control_step=10\n",
    "        )\n",
    "\n",
    "mjc_vectorized_env = create_environment(\n",
    "        morphology_specification=morphology_specification,\n",
    "        arena_configuration=arena_configuration,\n",
    "        environment_configuration=environment_configuration,\n",
    "        backend='MJC',\n",
    "        # Often set to the number of CPU cores available\n",
    "        num_environments=2\n",
    "        )"
   ]
  },
  {
   "cell_type": "markdown",
   "metadata": {
    "collapsed": false
   },
   "source": [
    "As illustrated below by the adapted `observation_space` and `action_space`, our environment will now return a batched version of the original observations, and expect a batched version of the original actions. Each sample in these batches corresponds to the observations and actions of a single underlying environment."
   ]
  },
  {
   "cell_type": "code",
   "execution_count": 21,
   "metadata": {
    "ExecuteTime": {
     "end_time": "2024-01-16T14:14:50.896428Z",
     "start_time": "2024-01-16T14:14:50.891762Z"
    },
    "collapsed": false
   },
   "outputs": [
    {
     "name": "stdout",
     "output_type": "stream",
     "text": [
      "Dict('disk_angular_velocity': Box(-inf, inf, (2, 3), float32), 'disk_linear_velocity': Box(-inf, inf, (2, 3), float32), 'disk_position': Box(-inf, inf, (2, 3), float32), 'disk_rotation': Box(-3.1415927, 3.1415927, (2, 3), float32), 'in_plane_joint_position': Box(-0.5235988, 0.5235988, (2, 20), float32), 'in_plane_joint_velocity': Box(-inf, inf, (2, 20), float32), 'out_of_plane_joint_position': Box(-0.5235988, 0.5235988, (2, 20), float32), 'out_of_plane_joint_velocity': Box(-inf, inf, (2, 20), float32), 'segment_contact': Box(0.0, 1.0, (2, 20), float32), 'segment_light_intake': Box(0.0, 1.0, (2, 20), float32))\n",
      "Box(-0.5235988, 0.5235988, (2, 40), float32)\n"
     ]
    }
   ],
   "source": [
    "print(mjc_vectorized_env.observation_space)\n",
    "print(mjc_vectorized_env.action_space)"
   ]
  },
  {
   "cell_type": "markdown",
   "source": [
    "TODO: DO A STEP / RENDER WITH THIS VECTORIZED ENVIRONEMTN"
   ],
   "metadata": {
    "collapsed": false
   }
  },
  {
   "cell_type": "code",
   "execution_count": 23,
   "metadata": {
    "ExecuteTime": {
     "end_time": "2024-01-16T14:14:51.070066Z",
     "start_time": "2024-01-16T14:14:50.898400Z"
    },
    "collapsed": false
   },
   "outputs": [],
   "source": [
    "mjc_vectorized_env.close()"
   ]
  },
  {
   "cell_type": "markdown",
   "metadata": {
    "collapsed": false
   },
   "source": [
    "#### MJX\n",
    "\n",
    "The MJX environment can also be vectorized on the CPU, but it's main performance advantage comes from parallelization on the GPU (which JAX enables). MJX basically implements environment / physics steps as operator over big Jax arrays (e.g. an array of all current joint positions, one with all current joint velocities, ...). To parallelize, it just adds an additional batch dimension over these arrays. The [MJXGymEnvWrapper](https://github.com/Co-Evolve/mujoco-utils/blob/new-framework/mujoco_utils/environment/mjx_env.py#L330) implements this for us. When vectorizing over the GPU, we often run one environment instance per CUDA core available (this can be found on your GPU's datasheet). The cool thing is that a single GPU has a lot more of these cores than the number of CPU cores your computer (or even a regular cluster) has. \n",
    "\n",
    "As a rule-of-thumb:\n",
    "- Use MJC when you want to run a single environment (e.g. to do a quick test or to visualize a single rollout).\n",
    "- Use MJX when you (1) have a GPU available, and (2) are doing an optimization.\n",
    "- Read: https://mujoco.readthedocs.io/en/stable/mjx.html#mjx-the-sharp-bits"
   ]
  },
  {
   "cell_type": "code",
   "execution_count": 24,
   "metadata": {
    "ExecuteTime": {
     "end_time": "2024-01-16T14:14:51.155701Z",
     "start_time": "2024-01-16T14:14:51.100118Z"
    },
    "collapsed": false
   },
   "outputs": [],
   "source": [
    "mjx_vectorized_env = create_environment(\n",
    "        morphology_specification=morphology_specification,\n",
    "        arena_configuration=arena_configuration,\n",
    "        environment_configuration=environment_configuration,\n",
    "        backend='MJX',\n",
    "        # Set to the available number of GPU CUDA cores (often >1000) \n",
    "        num_environments=2\n",
    "        ) "
   ]
  },
  {
   "cell_type": "code",
   "execution_count": 25,
   "metadata": {
    "ExecuteTime": {
     "end_time": "2024-01-16T14:14:51.158290Z",
     "start_time": "2024-01-16T14:14:51.155106Z"
    },
    "collapsed": false
   },
   "outputs": [
    {
     "name": "stdout",
     "output_type": "stream",
     "text": [
      "Dict('disk_angular_velocity': Box(-inf, inf, (2, 3), float32), 'disk_linear_velocity': Box(-inf, inf, (2, 3), float32), 'disk_position': Box(-inf, inf, (2, 3), float32), 'disk_rotation': Box(-3.1415927, 3.1415927, (2, 3), float32), 'in_plane_joint_position': Box(-0.5235988, 0.5235988, (2, 20), float32), 'in_plane_joint_velocity': Box(-inf, inf, (2, 20), float32), 'out_of_plane_joint_position': Box(-0.5235988, 0.5235988, (2, 20), float32), 'out_of_plane_joint_velocity': Box(-inf, inf, (2, 20), float32), 'segment_contact': Box(0.0, 1.0, (2, 20), float32), 'segment_light_intake': Box(0.0, 1.0, (2, 20), float32))\n",
      "Box(-0.5235988, 0.5235988, (2, 40), float32)\n"
     ]
    }
   ],
   "source": [
    "print(mjc_vectorized_env.observation_space)\n",
    "print(mjc_vectorized_env.action_space)"
   ]
  },
  {
   "cell_type": "code",
   "execution_count": 26,
   "metadata": {
    "ExecuteTime": {
     "end_time": "2024-01-16T14:14:51.160667Z",
     "start_time": "2024-01-16T14:14:51.157942Z"
    },
    "collapsed": false
   },
   "outputs": [],
   "source": [
    "# TODO: DO A STEP / RENDER WITH THIS VECTORIZED ENVIRONEMTN"
   ]
  },
  {
   "cell_type": "code",
   "execution_count": 27,
   "metadata": {
    "ExecuteTime": {
     "end_time": "2024-01-16T14:14:51.162393Z",
     "start_time": "2024-01-16T14:14:51.160411Z"
    },
    "collapsed": false
   },
   "outputs": [],
   "source": [
    "mjx_vectorized_env.close()"
   ]
  },
  {
   "cell_type": "markdown",
   "metadata": {
    "collapsed": false
   },
   "source": [
    "## Literature\n",
    "TODO"
   ]
  },
  {
   "cell_type": "code",
   "execution_count": 27,
   "metadata": {
    "ExecuteTime": {
     "end_time": "2024-01-16T14:14:51.164041Z",
     "start_time": "2024-01-16T14:14:51.162123Z"
    },
    "collapsed": false
   },
   "outputs": [],
   "source": []
  }
 ],
 "metadata": {
  "accelerator": "GPU",
  "colab": {
   "gpuType": "T4",
   "provenance": [],
   "toc_visible": true
  },
  "kernelspec": {
   "display_name": "Python 3 (ipykernel)",
   "language": "python",
   "name": "python3"
  },
  "language_info": {
   "codemirror_mode": {
    "name": "ipython",
    "version": 3
   },
   "file_extension": ".py",
   "mimetype": "text/x-python",
   "name": "python",
   "nbconvert_exporter": "python",
   "pygments_lexer": "ipython3",
   "version": "3.11.7"
  }
 },
 "nbformat": 4,
 "nbformat_minor": 4
}
