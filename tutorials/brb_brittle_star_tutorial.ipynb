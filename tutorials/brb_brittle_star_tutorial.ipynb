{
 "cells": [
  {
   "cell_type": "markdown",
   "metadata": {
    "id": "uMCyuX8mSr6O"
   },
   "source": [
    "\n",
    "# <h1><center>Brittle Star Environment Tutorial</center></h1>\n",
    "\n",
    "This notebook provides an introductory tutorial to the [Brittle Star environment](https://github.com/Co-Evolve/brb/tree/new-framework/brb/brittle_star), which is part of the [**the Bio-inspired Robotics Benchmark (BRB)**](https://github.com/Co-Evolve/brb).\n",
    "\n",
    "Preferably use a Jupyter runtime with GPU acceleration enabled.  "
   ]
  },
  {
   "cell_type": "markdown",
   "source": [
    "## The Bio-inspired Robotics Benchmark (BRB)\n",
    "The Bio-Inspired Robotics Benchmark represents a significant stride in the convergence of robotics and experimental biology, offering a unique platform that leverages the MuJoCo physics simulator to create a collection of bio-inspired robotics simulation environments. This initiative is more than just a technical tool; it serves as a crucible for cross-disciplinary dialogue and innovation, uniting two fields that, while distinct, share a common goal of understanding and emulating complex biological systems.\n",
    "\n",
    "In the realm of robotics, this benchmark addresses a pivotal challenge: the design and control of bio-inspired robots. These robots, inspired by the intricacies of biological organisms, present novel hurdles that contemporary optimization methodologies struggle to surmount. By providing a benchmark specifically tailored to these challenges, the initiative not only facilitates the validation of existing methodologies but also catalyzes the development of new approaches. This is crucial for advancing the field, as it pushes the boundaries of what we can achieve in robotic design and control, drawing inspiration from the most sophisticated systems found in nature.\n",
    "\n",
    "On the biological front, the application of robotics serves as a powerful comparative method. It offers a more controlled environment for conducting comparative studies, essential for dissecting complex behaviors, ecological interactions, and the evolutionary histories of organisms. In essence, robotics becomes a lens through which biologists can observe and understand the myriad of interacting elements that constitute life's diversity. This perspective is invaluable, as it transcends traditional observational methods, allowing for more precise and insightful analyses.\n",
    "\n",
    "Overall, the Bio-Inspired Robotics Benchmark is a testament to the symbiotic potential of robotics and biology. It not only advances our technical capabilities in creating machines that mimic life but also deepens our understanding of the biological phenomena that inspire these creations. This benchmark is a stepping stone towards a future where the interplay between robotics and biology yields innovations that are as profound as they are transformative. \n",
    "\n",
    "\n",
    "The Bio-Inspired Robotics Benchmark distinguishes itself with its capability to effortlessly simulate various morphological variations of bio-inspired robots. This flexibility is largely enabled by the use of the [Framework for Parameterized Robot Specifications (FPRS)](https://github.com/Co-Evolve/fprs), a framework that centralizes the adaptable definition of a robot's morphology. In FPRS, a 'Specification' acts as a comprehensive bundle, encapsulating all the modifiable parameters that define the robot's form and structure. This approach to morphology parameterization not only simplifies the modification process but also enhances the reproducibility and comparability of different morphological setups within the BRB.\n",
    "\n",
    "The implementation of environments within the BRB adheres to framework defined in the [mujoco-utils package](https://github.com/Co-Evolve/mujoco-utils/tree/new-framework). This framework defines an environment as a combination of a parameterized morphology, as defined by FPRS, and a configurable arena. Both the morphology and the arena in this context are essentially generators for MJCF (MuJoCo XML) files, allowing for dynamic and customizable environment creation. This design philosophy ensures that each environment within the BRB is both flexible and specific to the needs of the experiment at hand.\n",
    "\n",
    "Furthermore, the BRB environments are designed to be compatible with the [Gymnasium interface](https://gymnasium.farama.org/content/basic_usage/). This compatibility is significant as it allows for seamless integration with a wide range of existing machine learning and robotics research tools, fostering ease of use and accessibility for researchers from various fields.\n",
    "\n",
    "In terms of simulation capabilities, the BRB offers environments in both native MuJoCo and MuJoCo XLA (MJX) formats. This dual availability caters to diverse computational needs and preferences, ensuring that researchers can select the simulation environment that best suits their specific requirements, whether it's the high-fidelity physics of native MuJoCo or the accelerated computation offered by MuJoCo XLA.\n",
    "\n",
    "In summary, the BRB's unique approach to morphology parameterization through FPRS, adherence to the mujoco-utils framework for environment implementation, compatibility with the gymnasium interface, and availability in both MuJoCo and MJX formats, collectively contribute to its status as a versatile and powerful tool for bio-inspired robotics research. This tool not only facilitates a deeper exploration of robotic morphologies but also bridges the gap between theoretical research and practical application in the field of bio-inspired robotics."
   ],
   "metadata": {
    "collapsed": false
   }
  },
  {
   "cell_type": "markdown",
   "metadata": {
    "id": "fVurZ9tFTzLC"
   },
   "source": [
    "### BRB installation"
   ]
  },
  {
   "cell_type": "markdown",
   "source": [
    "Before continuing, check if the following points towards your conda environment. If not, follow these [steps](https://medium.com/@nrk25693/how-to-add-your-conda-environment-to-your-jupyter-notebook-in-just-4-steps-abeab8b8d084)."
   ],
   "metadata": {
    "collapsed": false
   }
  },
  {
   "cell_type": "code",
   "execution_count": 1,
   "metadata": {
    "ExecuteTime": {
     "end_time": "2024-01-16T00:32:23.308256Z",
     "start_time": "2024-01-16T00:32:23.300496Z"
    }
   },
   "outputs": [
    {
     "name": "stdout",
     "output_type": "stream",
     "text": [
      "/Users/driesmarzougui/miniforge3/envs/SEL3-2024/bin/python\n"
     ]
    }
   ],
   "source": [
    "import sys\n",
    "\n",
    "print(sys.executable)"
   ]
  },
  {
   "cell_type": "markdown",
   "source": [
    "Install the BRB package and its dependencies."
   ],
   "metadata": {
    "collapsed": false
   }
  },
  {
   "cell_type": "code",
   "execution_count": 2,
   "metadata": {
    "colab": {
     "base_uri": "https://localhost:8080/",
     "height": 1000
    },
    "id": "DgMIXEQ7SDGX",
    "outputId": "c3f8d6fd-7c63-401c-f46f-aca2b7e4e372",
    "ExecuteTime": {
     "end_time": "2024-01-16T00:32:23.495422Z",
     "start_time": "2024-01-16T00:32:23.305006Z"
    }
   },
   "outputs": [],
   "source": [
    "try:\n",
    "    import brb\n",
    "except ImportError:\n",
    "    !{sys.executable} -m pip install git+https://github.com/Co-Evolve/brb@new-framework"
   ]
  },
  {
   "cell_type": "markdown",
   "source": [
    "Check if the underlying MuJoCo installation was successful. This will also check if Jax is able to find the GPU. If not, a warning will be printed."
   ],
   "metadata": {
    "collapsed": false
   }
  },
  {
   "cell_type": "code",
   "execution_count": 3,
   "metadata": {
    "colab": {
     "base_uri": "https://localhost:8080/"
    },
    "editable": true,
    "id": "t8x-3cSlT-QM",
    "outputId": "4e58291d-c73d-44bd-8332-4da59915e96c",
    "slideshow": {
     "slide_type": ""
    },
    "tags": [],
    "ExecuteTime": {
     "end_time": "2024-01-16T00:32:23.518338Z",
     "start_time": "2024-01-16T00:32:23.464512Z"
    }
   },
   "outputs": [
    {
     "name": "stderr",
     "output_type": "stream",
     "text": [
      "WARNING:root:Failed to initialize GPU. Everything will run on the cpu.\n"
     ]
    },
    {
     "name": "stdout",
     "output_type": "stream",
     "text": [
      "Checking that the mujoco installation succeeded:\n",
      "MuJoCo installation successful.\n"
     ]
    }
   ],
   "source": [
    "import os\n",
    "import subprocess\n",
    "import logging\n",
    "\n",
    "try:\n",
    "    if subprocess.run('nvidia-smi').returncode:\n",
    "        raise RuntimeError(\n",
    "                'Cannot communicate with GPU. '\n",
    "                'Make sure you are using a GPU Colab runtime. '\n",
    "                'Go to the Runtime menu and select Choose runtime type.'\n",
    "                )\n",
    "\n",
    "    # Add an ICD config so that glvnd can pick up the Nvidia EGL driver.\n",
    "    # This is usually installed as part of an Nvidia driver package, but the Colab\n",
    "    # kernel doesn't install its driver via APT, and as a result the ICD is missing.\n",
    "    # (https://github.com/NVIDIA/libglvnd/blob/master/src/EGL/icd_enumeration.md)\n",
    "    NVIDIA_ICD_CONFIG_PATH = '/usr/share/glvnd/egl_vendor.d/10_nvidia.json'\n",
    "    if not os.path.exists(NVIDIA_ICD_CONFIG_PATH):\n",
    "        with open(NVIDIA_ICD_CONFIG_PATH, 'w') as f:\n",
    "            f.write(\n",
    "                    \"\"\"{\n",
    "                            \"file_format_version\" : \"1.0.0\",\n",
    "                            \"ICD\" : {\n",
    "                                \"library_path\" : \"libEGL_nvidia.so.0\"\n",
    "                            }\n",
    "                        }\n",
    "                        \"\"\"\n",
    "                    )\n",
    "\n",
    "    # Configure MuJoCo to use the EGL rendering backend (requires GPU)\n",
    "    print('Setting environment variable to use GPU rendering:')\n",
    "    %env MUJOCO_GL=egl\n",
    "\n",
    "    # Check if jax finds the GPU\n",
    "    import jax\n",
    "\n",
    "    print(jax.devices('gpu'))\n",
    "except Exception:\n",
    "    logging.warning(\"Failed to initialize GPU. Everything will run on the cpu.\")\n",
    "\n",
    "try:\n",
    "    print('Checking that the mujoco installation succeeded:')\n",
    "    import mujoco\n",
    "\n",
    "    mujoco.MjModel.from_xml_string('<mujoco/>')\n",
    "except Exception as e:\n",
    "    raise e from RuntimeError(\n",
    "            'Something went wrong during installation. Check the shell output above '\n",
    "            'for more information.\\n'\n",
    "            'If using a hosted Colab runtime, make sure you enable GPU acceleration '\n",
    "            'by going to the Runtime menu and selecting \"Choose runtime type\".'\n",
    "            )\n",
    "\n",
    "print('MuJoCo installation successful.')"
   ]
  },
  {
   "cell_type": "markdown",
   "source": [
    "Some packages and utility functions for visualization."
   ],
   "metadata": {
    "collapsed": false
   }
  },
  {
   "cell_type": "code",
   "outputs": [
    {
     "name": "stdout",
     "output_type": "stream",
     "text": [
      "Installing mediapy:\n"
     ]
    }
   ],
   "source": [
    "from mujoco_utils.environment.base import MuJoCoEnvironmentConfiguration\n",
    "from mujoco_utils.mjcf_utils import MJCFRootComponent\n",
    "import numpy as np\n",
    "import jax.numpy as jnp\n",
    "from typing import Union, List\n",
    "\n",
    "# Graphics and plotting.\n",
    "print('Installing mediapy:')\n",
    "ffmpeg_v = !command -v ffmpeg\n",
    "assert \"command not found\" not in ffmpeg_v, f\"Please install FFmpeg for visualizations.\"\n",
    "!{sys.executable} -m pip install -q mediapy\n",
    "import mediapy as media\n",
    "\n",
    "# More legible printing from numpy.\n",
    "np.set_printoptions(precision=3, suppress=True, linewidth=100)\n",
    "jnp.set_printoptions(precision=3, suppress=True, linewidth=100)\n",
    "\n",
    "def visualize_mjcf(\n",
    "        mjcf: MJCFRootComponent\n",
    "        ) -> None:\n",
    "    model = mujoco.MjModel.from_xml_string(mjcf.get_mjcf_str())\n",
    "    data = mujoco.MjData(model)\n",
    "    renderer = mujoco.Renderer(model)\n",
    "    mujoco.mj_forward(model, data)\n",
    "    renderer.update_scene(data)\n",
    "    media.show_image(renderer.render())\n",
    "\n",
    "\n",
    "def post_environment_render(\n",
    "        render_output: Union[np.ndarray, List[np.ndarray]],\n",
    "        environment_configuration: MuJoCoEnvironmentConfiguration\n",
    "        ) -> np.ndarray:\n",
    "    if len(environment_configuration.camera_ids) > 1:\n",
    "        render_output = [np.concatenate(env_frames, axis=1) for env_frames in render_output]\n",
    "\n",
    "    return render_output[:, :, ::-1]  # RGB to BGR"
   ],
   "metadata": {
    "collapsed": false,
    "ExecuteTime": {
     "end_time": "2024-01-16T00:32:25.913411Z",
     "start_time": "2024-01-16T00:32:23.504662Z"
    }
   },
   "execution_count": 4
  },
  {
   "cell_type": "markdown",
   "metadata": {
    "id": "Y8ilIik5Vp7L"
   },
   "source": [
    "## The Brittle Star Environment\n",
    "> “The whole of the brittle stars are curious and restless beings. They can never remain in the same attitude for the tenth part of a second, but are constantly twisting their long arms, as if they were indeed the serpents with which Medusa’s head was surrounded.” -- J. G. Wood, 1898\n",
    "\n",
    "The Brittle Star Robot environment within the Bio-Inspired Robotics Benchmark (BRB) presents an intriguing case study, embodying the intersection of natural biological systems and robotic engineering. To introduce this environment, it's essential to first understand the biological entity that inspired it: the brittle star.\n",
    "\n",
    "![](https://github.com/Co-Evolve/SEL3-2024/blob/develop/tutorials/assets/brittle_stars_species.jpg?raw=true)\n",
    "(Image src: https://doi.org/10.1016/j.jsb.2020.107481)"
   ]
  },
  {
   "cell_type": "markdown",
   "source": [
    "### The Brittle Star\n",
    "Brittle stars, belonging to the class Ophiuroidea, are remarkable echinoderms distinguished by their distinctively slender arms and central disk. They inhabit various marine environments, showcasing a fascinating array of behaviors and adaptations that have captivated biologists for decades. One of the most striking features of brittle stars is their locomotion. Unlike their close relatives, the starfish, brittle stars move with a unique, elegant undulating motion of their arms. This locomotion is not only efficient but also highly adaptable, allowing them to navigate complex underwater terrains with agility and precision.\n",
    "\n",
    "In addition to locomotion, brittle stars use their arms to hold onto substrates, coiling their flexible arms tightly around structurally complex objects such as kelp, sponges, or corals, with spines located along the arms aiding in the anchoring process.\n",
    "\n",
    "From an evolutionary standpoint, brittle stars represent a significant lineage, offering insights into the adaptability and resilience of marine life. Their ability to regenerate lost limbs and their sensory capabilities, which include responding to light without distinct eyes, are just a few examples of their remarkable biological traits. These characteristics make them an excellent subject for bio-inspired robotics, as they provide a template for designing robots that are both flexible and resilient, capable of navigating and adapting to diverse environments.\n",
    "\n",
    "#### Morphology\n",
    "![](https://github.com/Co-Evolve/SEL3-2024/blob/develop/tutorials/assets/brittle_stars_arm_anatomy.jpg?raw=true)\n",
    "(Image src: https://doi.org/10.1016/j.jsb.2020.107481) \n",
    "\n",
    "At the core of a brittle star's anatomy is the central disk, which varies in size from as small as 3mm to as large as 50mm. This disk is not just a structural component but also serves as a crucial hub for the organism's nervous system and, in some species, reproductive organs. \n",
    "\n",
    "Brittle stars possess five arms that are symmetrically arranged in a pentaradial fashion around the central disk. This pentaradial symmetry is a hallmark of echinoderms and is crucial for the brittle star's locomotion and interaction with its environment. These arms typically span about two to twenty times the diameter of the central disk. In terms of mobility, the arms of brittle stars are capable of both in-plane and out-of-plane bending.\n",
    "\n",
    "Structurally, each arm consists of a chain of segments, each one consisting out of a vertebra and 4 muscle groups and completely enclosed by plates. This skeletal structure provides both support and flexibility, enabling the arms to move fluidly while maintaining structural integrity.\n",
    "\n",
    "![](https://github.com/Co-Evolve/SEL3-2024/blob/develop/tutorials/assets/brittle_stars_muscles.jpg?raw=true)\n",
    "(Image src: https://doi.org/10.3389/fnbot.2019.00104)\n",
    "\n",
    "Lastly, the arms of brittle stars are adorned with soft spines. These spines play a crucial role in anchoring and interacting with the environment. They provide stability and traction on various surfaces, aiding in locomotion and foraging activities.\n",
    "\n",
    "#### Nervous system\n",
    "![](https://github.com/Co-Evolve/SEL3-2024/blob/develop/tutorials/assets/brittle_stars_nervous_system.jpg?raw=true)\n",
    "(Image src: http://dx.doi.org/10.3389/fnbot.2019.00066)\n",
    "\n",
    "The nervous system of the brittle star is a fascinating aspect of its biology, characterized by its decentralized nature. This decentralized nervous system is quite different from the central nervous systems found in vertebrates and even some invertebrates. In brittle stars, the nervous system is primarily composed of a nerve ring that encircles the central disk, from which branches extend into each arm.\n",
    "\n",
    "The nerve ring acts as a central hub, integrating sensory inputs and coordinating the movements of the arms. Unlike centralized nervous systems where a brain or a similar central organ exerts control, the nerve ring in brittle stars does not function as a central command center. Instead, it serves more as a conduit or a relay station, facilitating communication across the organism's body.\n",
    "\n",
    "From this nerve ring, nerve branches run along each arm, allowing for localized control and sensory perception within each limb. This structure is crucial for the brittle star's survival, as it enables each arm to react independently to stimuli. For instance, if one arm encounters a predator or a harmful stimulus, it can respond immediately and appropriately, without the need for centralized processing. \n",
    "\n",
    "\n",
    "#### Behavioural studies \n",
    "Several modes of locomotion have been observed in brittle star species, with one species often exhibiting multiple modes. A common mode is the 'breast stroke' or 'rowing', where the brittle star moves forward led by an arm, uses two lateral arms as rowers, and drags the remaining two arms passively. This mode is documented in various studies. Another mode, known as 'paddling' or 'reverse rowing,' involves dragging the rearmost arm while the other four arms actively row. These modes, which involve bilaterally coordinated movements, allow the brittle star to crawl in a specific direction. However, as the role of each arm changes with the direction of movement, brittle stars do not maintain fixed front-back and left-right axes.\n",
    "\n",
    "The following biological works provide valuable insights into the behavior and control mechanisms of brittle stars, which provides a source of inspiration for their artificial counterpart. Here's a summary of each paper's findings:\n",
    "\n",
    "- **Flexible coordination of flexible limbs: decentralized control scheme for inter- and intra-limb coordination in brittle stars’ locomotion**\n",
    "    - Brittle stars display distinct roles for their arms: forelimbs, hindlimbs, and a center limb. This specialization allows for effective locomotion.\n",
    "    - When all arms are shortened, brittle stars maintain their inter-arm coordination pattern, similar to when they are intact.\n",
    "    - If some arms are removed, they still move effectively by coordinating the degrees of freedom in the remaining arms.\n",
    "    - In the presence of obstacles, arms either push against objects to assist propulsion or avoid objects that hinder propulsion.\n",
    "    - An arm completely detached from its disc is incapable of coordinated locomotion, indicating the importance of the proximal ends of the arms in the central disk for locomotion.\n",
    "- **The function of the ophiuroid nerve ring: how a decentralized nervous system controls coordinated locomotion**\n",
    "    - Nerve cut experiments reveal that the longest axons in the circumoral nerve ring do not extend beyond a fifth of its total length, suggesting limited direct connections between distant nodes.\n",
    "    - Coordinated locomotion persists even with a single nerve ring cut, implying bidirectional connections between adjacent arms.\n",
    "    - Arms adjacent to a nerve cut are less likely to lead in locomotion, suggesting that leading arms are those with better information propagation capabilities.\n",
    "- **Decentralized Control Mechanism for Determination of Moving Direction in Brittle Stars With Penta-Radially Symmetric body**\n",
    "    - When the nerve ring is cut in one place, movement tends to be in the opposite direction of the cut, and coordination is maintained except for arms adjacent to the cut.\n",
    "    - With two cuts in the nerve ring, only neurally connected arms coordinate, while disconnected ones do not.\n",
    "    - Complete severance of nerve ring connections between arms results in a lack of coordination and thus no locomotion.\n",
    "    - If the nerve ring is cut on both sides of the same arm, the neurally isolated arm does not coordinate with others, highlighting the role of sensory input in coordination.\n",
    "- **A brittle star-like robot capable of immediately adapting to unexpected physical damage**\n",
    "    - Amputation experiments show varying roles for arms: center limb for orientation, forelimbs for propulsion, and minimal role for hindlimbs.\n",
    "    - If arms are amputated, the robot adapts by reassigning roles, like using remaining arms for reverse rowing or as a trailing arm.\n",
    "    - With three arms removed and no adjacent arms remaining, the direction-orienting arm swings to pull the body forward, while other arms play minimal roles in propulsion.\n",
    "    - If only one arm remains, it swings left and right to pull the body forward.\n",
    "    - When ground contacts of the arms are deprived, the subjects lose coordination in their arms.\n",
    "\n",
    "#### What makes it interesting for robotics?\n",
    "The brittle star presents an intriguing case study for robotics due to several key characteristics:\n",
    "\n",
    "1. Adaptive Locomotion in Unpredictable and Unstructured Environments: Brittle stars excel at navigating through unpredictable and unstructured environments. Their ability to adapt their locomotion patterns in response to varying terrain and obstacles makes them an excellent model for developing robots that can operate effectively in complex and dynamic settings.\n",
    "2. Prehensile Arms Enabling Manipulation: The arms of brittle stars are not only locomotive appendages but also prehensile, meaning they have the ability to grasp and manipulate objects, such as prey. This feature is highly valuable in robotics, offering insights into designing robotic limbs that can perform intricate manipulation tasks.\n",
    "3. Robustness to Damage: Thanks to their modular and redundant design, brittle stars are highly robust to damage. Each arm can operate independently, which means that the loss or impairment of one arm does not significantly hinder the overall functionality. This characteristic is crucial for creating resilient robotic systems that can maintain operation even when parts of them are damaged.\n",
    "4. Integration of Strength and Flexibility in Arms: The arms of a brittle star embody a unique combination of strength and flexibility. This integration is key to their versatile functionality, allowing for both powerful movements and delicate handling. Replicating this in robotics could lead to the development of robotic limbs that are both strong and dexterous, capable of performing a wide range of tasks."
   ],
   "metadata": {
    "collapsed": false
   }
  },
  {
   "cell_type": "markdown",
   "source": [
    "### In-silico brittle star morphology\n",
    "The in-silico model of the brittle star morphology provides an abstract virtual twin. As discussed above, every morphology in the BRB is parameterized via [FPRS](https://github.com/Co-Evolve/fprs) and the brittle star's morphology specification can be found [here](https://github.com/Co-Evolve/brb/blob/brittle-star/brb/brittle_star/morphology/specification/specification.py). Default parameter values can be found [here](https://github.com/Co-Evolve/brb/blob/brittle-star/brb/brittle_star/morphology/specification/default.py). In our case, the most important configuration parameters are the number of arms, and the number of segments that each arm has.\n",
    "\n",
    "![](https://github.com/Co-Evolve/SEL3-2024/blob/develop/tutorials/assets/brittle_stars_in_silico.png?raw=true)\n",
    "Two example in-silico brittle star morphologies.\n",
    "\n",
    "Every segment has two degrees of freedom (DoF), one for in-plane motion and one for out-of-plane motion.\n",
    "\n",
    "In terms of sensing, the following sensors are implemented. These sensors define the base set of observations that every brittle star environment returns as observations (further discussed below). \n",
    "- Proprioception\n",
    "    - Joint positions (in radians)\n",
    "    - Joint velocities (in radians / second)\n",
    "    - Central disk's position (w.r.t. world frame)\n",
    "    - Central disk's rotation (w.r.t. world frame, in radians)\n",
    "    - Central disk's velocity (w.r.t. world frame, in m/s)\n",
    "    - Central disk's angular velocity (w.r.t. world frame, in radians/s)\n",
    "- Exteroception\n",
    "    - Touch (per segment, binary)\n",
    "\n",
    "\n",
    "In terms of actuation, the following actuators are implemented (two per segment, one for the in-plane DoF and one for the out-of-plane DoF). The brittle star's morphology specification defines which one of the two is to be used:\n",
    "- Position control\n",
    "- Torque control"
   ],
   "metadata": {
    "collapsed": false
   }
  },
  {
   "cell_type": "markdown",
   "source": [
    "### Environment variants\n",
    "The brittle star environment comes with three locomotion-orientated tasks that provide a curriculum of increasing difficulty: \n",
    "1. Undirected locomotion (simple): Move the brittle star away as far as possible from its starting position.\n",
    "    - Reward per timestep: $distance\\_current\\_timestep - distance\\_previous\\_timestep$. The reward will thus be positive if the distance from its starting position has increased in the current timestep, and negative if this distance has decreased.\n",
    "2. Targeted locomotion (intermediate): Move the brittle star towards a randomly spawned target.\n",
    "    - Reward per timestep: $distance\\_previous\\_timestep - distance\\_current\\_timestep$. The reward will thus be positive if the distance to the target has decreased in the current timestep, and negative if this distance has increased.\n",
    "    - Additional observations:\n",
    "        - Unit direction on the horizontal XY plane from the central disk to the target.\n",
    "        - The distance in XY plane from the central disk to the target.\n",
    "3. Light escape (hard): Move the brittle star towards darker spots in the environment.\n",
    "    - Reward per timestep: $light\\_income\\_previous\\_timestep - light\\_income\\_current\\_timestep$. The reward will thus be positive if the measured light income has decreased in the current timestep, and negative if the ight income has increased.\n",
    "    - Additional observations:\n",
    "        - The amount of light each segment takes in.\n",
    "\n",
    "\n",
    "![](https://github.com/Co-Evolve/SEL3-2024/blob/develop/tutorials/assets/britlte_stars_environments.png?raw=true)\n",
    "From left to right: the undirected locomotion, the targeted locomotion (target is the red sphere), and the light escape (with light noise) environments."
   ],
   "metadata": {
    "collapsed": false
   }
  },
  {
   "cell_type": "markdown",
   "metadata": {
    "id": "A3wIqNI7TycP"
   },
   "source": [
    "## Creating the environment"
   ]
  },
  {
   "cell_type": "markdown",
   "metadata": {
    "id": "zMqhYwKzVdpA"
   },
   "source": [
    "### 1. Creating the morphology \n",
    "The first step is to create the Brittle Star morphology. In essence, this comes down to providing an instance of a [BrittleStarMorphologySpecification](https://github.com/Co-Evolve/brb/blob/new-framework/brb/brittle_star/mjcf/morphology/specification/specification.py#L78) to the [MJCFBrittleStarMorphology](https://github.com/Co-Evolve/brb/blob/new-framework/brb/brittle_star/mjcf/morphology/morphology.py) class. The `MJCFBrittleStarMorphology` can then use the specified morphological parameters to generate the corresponding MuJoCo MJCF. "
   ]
  },
  {
   "cell_type": "code",
   "execution_count": 5,
   "metadata": {
    "collapsed": false,
    "ExecuteTime": {
     "end_time": "2024-01-16T00:32:26.026483Z",
     "start_time": "2024-01-16T00:32:25.952039Z"
    }
   },
   "outputs": [],
   "source": [
    "from mujoco_utils.environment.mjx_env import MJXGymEnvWrapper\n",
    "import gymnasium\n",
    "from brb.brittle_star.mjcf.morphology.specification.default import default_brittle_star_morphology_specification\n",
    "from brb.brittle_star.mjcf.morphology.morphology import MJCFBrittleStarMorphology\n",
    "from brb.brittle_star.mjcf.morphology.specification.specification import BrittleStarMorphologySpecification\n",
    "\n",
    "\n",
    "def create_morphology(\n",
    "        morphology_specification: BrittleStarMorphologySpecification\n",
    "        ) -> MJCFBrittleStarMorphology:\n",
    "    morphology = MJCFBrittleStarMorphology(\n",
    "            specification=morphology_specification\n",
    "            )\n",
    "    return morphology"
   ]
  },
  {
   "cell_type": "code",
   "outputs": [
    {
     "data": {
      "text/plain": "<IPython.core.display.HTML object>",
      "text/html": "<table class=\"show_images\" style=\"border-spacing:0px;\"><tr><td style=\"padding:1px;\"><img width=\"320\" height=\"240\" style=\"image-rendering:auto; object-fit:cover;\" src=\"data:image/png;base64,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\"/></td></tr></table>"
     },
     "metadata": {},
     "output_type": "display_data"
    }
   ],
   "source": [
    "morphology_specification = default_brittle_star_morphology_specification(\n",
    "        num_arms=5, num_segments_per_arm=4, use_p_control=True, use_torque_control=False\n",
    "        )\n",
    "morphology = create_morphology(morphology_specification=morphology_specification)\n",
    "visualize_mjcf(mjcf=morphology)"
   ],
   "metadata": {
    "id": "tWclyg93YAuw",
    "ExecuteTime": {
     "end_time": "2024-01-16T00:32:26.134534Z",
     "start_time": "2024-01-16T00:32:26.038460Z"
    }
   },
   "execution_count": 6
  },
  {
   "cell_type": "markdown",
   "source": [
    "We can also specify a different amount of segments per arm."
   ],
   "metadata": {
    "collapsed": false
   }
  },
  {
   "cell_type": "code",
   "outputs": [
    {
     "data": {
      "text/plain": "<IPython.core.display.HTML object>",
      "text/html": "<table class=\"show_images\" style=\"border-spacing:0px;\"><tr><td style=\"padding:1px;\"><img width=\"320\" height=\"240\" style=\"image-rendering:auto; object-fit:cover;\" src=\"data:image/png;base64,iVBORw0KGgoAAAANSUhEUgAAAUAAAADwCAIAAAD+Tyo8AAAdNUlEQVR4nO3d93NbV5Yn8JtfQCAAEgRzdJLtXrumendi727V1PznU1M1OzM93e3utmxJTGIAEwAivHDj/vBAiqJl2ZQIPIA8H1fZFEsSD1X+6r53w7kIAQAAAAAAAAAAAAAAAAAAAAAAAAAAAAAAAAAAAAAAAAAAAAAAAAAAAAAAAAAAAAAAAAAAAAAAAAAAAAAAAAAAAAAAAAAAAAAAAAAAAAAAAAAAAAAAAAAAAAAAAAAAAAAAAAAAAAAAAAAAAAAAAAAAAAAAAAAAAAAAAAAAAAAAAAAAAAAAAAAAAAAAAAAAAAAAAAAwNXDeBYBpVaxV/ULoF8LT3QOVpnmX80RBgMGH+Op3f2+dE75HKMWEvPyP/+5eXOZd1FNE8i4ATB/ueTJJKGOYEISQ1Xrz26/zLuqJggCDe6sszFPOKaMYY4SQtTaN4izMYMzgDx3cD2W0PFujnGXpdc5ZY7SUztq8S3uKWN4FgCkzM18XgS88DxHsrHPWWm2uzi7yruuJggCDe8AYL326HZRLwvcQRjqVUbentW43z/Iu7YmCR+iHhwn2wvBRvhPOzM9Rzgmj8wuNYqlEOaecX51daCnzLu2JghH4gdXXVtZ/86XRWiXJ5XHzdGffGpN3UQ+DECKCQMaRUfLFZXt2fs45h5y7OoXhNzcQ4IfkFwub335NOWeWc0/wIJhbWbo8al4cHMokybu6j1KsVZc/22aCM84p5wihTufKaG20TgZR3tU9XRDgh1RfWyGUIYSy7Q2EUi74wvbG/Mbqxeujox9eTulULWWsvrqcfUeYEOccQohQqpXa++Nf8q7uSXuE72k56rXaWkqjVPbYTChlXISlYlgqLmxtfPm7v0cIFSozM/U5LwjyLvYeyvVZylmWXoSHu/ey75FyGAPyBH/6D6nTPIu6PSY4E4JxRigllG5ub1nrXjx/3j+//Oaf/zcTwhijpZJxfPziVb/VybvqX0AoLc+9CfCb5V9rrTaMi7wLfNJgL/QDw4TMrS7Xlha8wGdCiMAvVyppmrZ2D4J6DSFMOTNaW2OM0loplSQXr48uj5oT+3Q9M1+fW1nyCgHjgtzafWWkkkly8nK3d9nKu8anC0bgB+asPd9/3To6qS42asuLoTFaKWddOohYuRiUigghyhihlDLGOGdCLH0W1NfXLg+PLl4fT+CU9fD5mVBM8M3w66y1xhil4l4/7wKfNAjwSBitL14ftU9Oa0uN6uKCs26QJAWEnLUIDzmMCSGEUcs5E2Jhe3N2eandPL14fTw5y6pBqcgFp4xhSjAhCCPkELrOb/eyPTmlPk3wCD0mwvc//4f/KQKfUkayMCCEMc6WUq112dhrtY77g70//jnq9vIuGSGEtv/mG8Ko8H0mOBnOYDlrrJYyjeKjH17CCJwvmIUeE5kkSX+QDmKZJOp6ptpZhxDChBBGReD5YcADPygWVr/8PPtVIvBF4HPPy6Vmxrk1mgnBBCeUZvPPzjprrDVWpRLSmzt4hB6fF//v9wvbGzP1OeZ5XHDKOWUWE0IIwYSUSuXlleWXL14apbVUs8uLja11JgRCSKXy6vyie34x5inr6tJCoVrxCyHlPHtk0GmqEuOsMUr12+1xFgPeCQI8Vs1Xexevj2tLjUqjwT3BhGCCEcoIo4yzJE6stWoQmd5g6bNtLwwpY8Zoxjn3RGW+rtP08rjZPjkd6VxXsVpZ2N7otzvVhQb3PCYE9wQXQiuNEXLWyTTRSl+dQQuO/ME7cD6YENXFRqVR557HPSGCgHGGMHbGdHYOeK3iFYLsyTmb8XXGGmOMUlopLWXrqNk6bhqtR1HbJ7/9tlit3P6MHwSLy8tXve6g37fG9C7bl4fH5weHo/jq4F4gwHliglcW5quNeb9Y4J6HCTbaXL3aL64theUSE9w55JxDDjlnnXXWGqON1VorpaVqnzQvDk+MUg9VT7FaKdYqC1sb7/9pRuvn//Yf0MhuEkCA88c4ryzO1xYamBKjTb/Vnl9f80sFQulw4RVj5JxDaHiA3lprtNHGaC3j5Ors/GNWnha2N1AW3bdH3feIur0f//2/PuzLgYcFAZ4gmGBnnV8It/7mm7Bcylabst2Lb8XYZetO1hhjldZa61RenZ1fHB7L+M2Zp4XtjX6r02937nyVD0jsbTJOTnZ228enH/pdgocEk1gTJFtVSgaRSlOVCMIooZQyinGWZIQRysLsKEWEYEIcpdQwL/D9YqG2tPj6rz9cnV8Uq5VPfvstQghtIYRQv93ptzsfnNg7ROBP10mMxw1G4EnkFwvrXz+jnFHOGefZoQhCCcb4ZgcIQtnrscu2dlljVCqTfr930aotL466wn6703y199PhHYwZBHhC+YWwsbUhAp8LQQVnjGUDcrZofBNjjDGmxPf8NElkkqbRWM/Wv/zPP0CG8wUBnmh+sTC/seb5PvNF1gqDUkooxZQQQjAmjLOvfvMba8z+/v7l6dn4dyY3d/aar/bG/EXBDQjwFPAL4fzGWrankgmRHc3NkuyFQX2+jhF+vbc/5uH3Rr/defmff8jlSwMI8NTwwqA8N1uuz2Z7PyhjlPOsSZXRunfZopyTnFphwitxXiDAU4YJUWnUy/VZ4Xnc97jvU0aNNnGvhxAihOR18gHB43QeIMBTiQlemZ8vz8/6hQJl1Dlk9HA/Vr5rPJDhMYMATzHG+UyjXqpVmSe4N+xNNVGLtJDnUYONHFNMK3V5eHx5eIwQevZPf5t3Oe/wIFtHwHtAgMEI3Q4wJsQPw/s982GspVQJnJr4WRBgMHKEkJVnn/mlIs86e9yHc8godfziFVyA+E4QYDBapdlafW0lKBWF71HOMbn3tIuzbvObrw/+8rx13BxFhVMNJrEej/raytza8kRNYiGEom6PchYUi1mz+5uLHX4955zRWkbxzn9/172ANiBvgQA/Nt/+y//Nu4S3pFHMPOGFAeO8OltjnGOMkXvzE1z2g59+5vqTcRzHUSST5Gz34OAvz8dW+VSAR2jw8LRSjPPsY0yyvn2Ecl4qlYMgyHrTIoTcMKfuTYh/8gHGOJUy+y0am+sQ4DsgwOCBpVF8+8YzypizzlmHrHXOaq1d1iUIoTdhfcd/hh9jQpI4dtY66872Dsb8vUw+CPCjknXbyJFWKhlEhUr55jMqSSlnRnOZ4qPDo/fv1nbv/KS1Rmsl5bTfsTwKEOBHYmF74xeb0Y2aVmrQ6SKEbp6fEULt5llprna9euTw/Y9bOOu0lDJOzvehD+ZdEODHYOObryrz9XxruEnvHYPOlZYSLS5YYymjHxBga4xM0oM/f68frv/mowEBfgzSQZxGsRfmtoB0O723h1903ZEr7vVnV5cZY4TeL8DW2MujE1g9+jkQ4Mcg6Q+SYgEhlEuGf27svS3q9iKYQB4BuNzs8UgG0S8GaRTufFEm3ozAcMR/1GAEnmJBqcg9LywXKedaKiZ4NhjengQetZ/+lXF+cHg7w2CkYCfWVApnyo2NNREG3BOYEGetStKk06XWudBnnN/OsNE6mwTG99/G+H6DTvfOxFKnedZuQs/38YEReMoUZsrzm+te4FPBmRCUUsqYc45yThlT7S7SVqPhOGy0zgLGCUFZH+nrGH98mNMohvTmDgI8NQqVmcbmmgh8xjkTglBKs0ldjG/avmul5UULlwpaqbg/eOeUbxZjd72P8YPz7IVBMnjTBzPpDyC94wcBngKFykxjc/06uvyt6BKS9XdnnFtjuCeMEC5Vzvu1b6G383zfMPuFMMtw0h+cvNz5kO8NfBwI8EQrViuNzTXu34kuRRjdRBchNLxghRBMiMbOOXS/U/PXbsIsk0Sn8v0NcZxzIvCTQQTpzREEeEIVq5XG1jr3vKzzM2GU0iy6mBB8O7pZ5qwx2a2FFuPRTQLfefxGMPbmDQI8cYq1SmNzg3viTXQZw8NTee+KrrXOOWuM1cZorZLkzl6oD9NrtRFChcpM9sPbob1hlIb33nxBgCeIXyysPPvMCwNC6PD+FEZxFty3opv981Z0rTFaKpUkzVd7i59s+cWCNea++xbvcM7dzq1sdxFCllOEkFG6UJ1J+oOkP/io7xl8HAjwpKCMrX/9pV8MuScwoRgjhDHBb0f3+krRu9FVSkul0vT19y8QQicvdxY/2SrWKgihi4MjhFDc6yOEGpvrCKFCdeZXlsT9N5c8qE4v6fdxGAhEHUKYkl6rnUJ68wYBnhRza8teGAjfp5xlz8DGGHRrTvhno6uUSlIZJYfPf7wZME9e7swuLxJKzw/eHMG72dhYrFYK1ZlipfJzYb7TyXXQvtJKBbNV7vtZXytjjEklY0z4PhzTzREEeFLUFheY4IQxLkRYLBTCQq/XHfQH6BejGydHz19Ya+/8hpdHJz/3tbITQqdoH123bn7/4KykDEoFr1gglGKEnLUYIUwpZWz5i093//DdA/0ZgHuDAOcjLJeK1QomxCjVPj03SskoCmfKhBLKWKlUWl9f/+5P3yGEnLVZdJ21RuksukZplaYySQ+//9Ea8zGVZMPy7cG5sbne73RufkLc61PGhO8jdD2XRTBGhBBLGKOMFWvVfqv9MTWADwYBHrdwprywtS6CgHsexshoU11aiC7bpJ/E5y2+uogQUkofHR0ZY5y1w39rbfWb6KpUHn7/g9EfFd13ygbn7Bk7C61KU+H71liMrUMIE4IcwggRSqlzTPD66jIEOC8Q4PEpzJQbWxsi8JkQXGTrQ9wawwTHhNAoNd2+NSZNk06r1ecsGkTGGC3l7ehqqU539uN+f6SlDgfkTYQQQg5Za60xmBBMMHYOYYwIxhZhQiijzBOl2VrvsjXSksA7QYDHYbgXMvS5ENfbmCkeNltlCCFrbD9JBULdw2ZpqWG1wTG2zhqlZJwapZSURqrmzl42nzwGMklOd/cRQt3zy8bmOqGUUOosdtmUuEPZRk5HGROuvr6S9PsqleOpDdyAAI9WoTKzMBx1+Z3oZotDGGPKKOOMcdY5PS8XfRnHlDGEkLVWpzKJIqNU89X4opuRcXK6s599rKSkjGXL0ZgQ5BzGGGGEMMYEU0q5EIufbh/8+ftxVggQBHh0sr2Qwn9fdLOpKUwIwghj3Ov3uz/2N775ymqDCbHGyDg53d0fc3R/qn1yWl9boZw5S621FGOEMRruvyaIOsKo8LxCZWbQucq31KcGAvzwitXKwvYG9z3GxfUJhHdH11rrbDa/bK21Ua+PEPr+X/8dIUQ5M0rn/a0MRVddlcpscxgm1BH39iBMKGNW2IXtjVf/9ce8i31aIMAP7PO/+y33vZtjQ++PrrXWam2MUam8c33m5KQ30zo+aWysWcYtNZjg24Mwyl7mGTUKF2uVfquTd7FPCAT4IS1//olfLGQBRsPBiWA83Av5zuhqqbSUyWBw8foo7/LfJ+kPVJpSzgklhBJ3/SaMMUbOYUIIZUyI+uoKBHicIMAPhntebWnRCwPKufC8rJ0NJuR90VVSxenp3v5U/E/fOm7Ob65TzoixGA/fhJ1z1/s6HKGUCVhSGisI8IMJZ0pMcMoYF3x2drZQKDRPTgaDwTuja5SUcXq6dzBFWyCSQaSSlHFGKCWEOEsQdphkr8KOUMIwRwjV12BJaXwgwB8oKBW/+If/NWh3HEI6lRcHh9XyjBrEfiHEmMxUKkkSO4SM1sONEG+iq2ScTFd0b7SOm43NNcq5MQYTTAlGDhNGiCcwxtmmFELJ8hef7v3xL3kX+yRAgO8tKBUXtja8QmiULtaqzjktJRM8bV2p85adqxpj9nZ3fD/I7sU0ShtjjFRaqeyW6t4URjeTRpGMkyyllhLiHOOMC48x6hAyxhBKEcKhsdz37hxpAqMAAb6HoFRa2N7wCoHw/OxpmTCKr3dTaaU9i3tHzdLygtE6HkTW2uyYrpZTH90b7eap8D3KmGOOcpa9MsxUZoKwcNpsKimtsUzwoFiAAI8BBPhXCculhe0NLwy57zH+JrqEEIwQFsJIxX3v8uTMKxa8KCbZViqtZZImg8HZ3kHvcuqjm0mjOI0TKrhXCDEmjDE/CJaWl7XWnbZntCYkWxr+sL564H4gwL8gLJcWtje9MHhHdDHGGFtrMcaYEkJIPxo0j47m06RcnyOEGK2br/Ye38167eapCANnHULOGJMmSbvVJpQQQoY9eJwdxUkp8FMQ4Pd59o9/iwlmQjDBKWWYkmwC9ia61lpnrLXWGmu0jro9o83Jy92Tl7t51z5CMk6cMUZrozRlTCl1cnKCMWrtHTprseCO4GQA3XbGAQL8s7783d95YciEQM4RSvCt6GZ7H7PoGq2t0TqVySB6OmsnzZ291cDPWogghKy1lz/udM4uwlLREIw5K83Wrs7OJ20/2eMDAX43rxB6YeiFAePcIaeVppS+M7oqVVpKo/Xh9z/mXfX4aKnOdvYXP91yzlnPG5wf9zvdwkKd+x4TnBBamq3W11ZaRye3m3KBBwcBfrf62krWlrlULs/OzR4fHqVJYqx110/L1hiVSi1lMojO9g6iqxwu5s3X4Kq7/91fa0uLM/NzUb/PK0W/WPDCgDKWNQAgxFQXG8kggo1ZowMBHpqZn2tsriOEVZq2Xh8J4zDGDiHheRhhypjR5nrUHUY3HUSnTzK6N1QqT3f3L14fzczX67M1LwwIpc6562OGiHE+v74a9/paPpWXizGD+4HRzPzc4iebIgi4ENm2qqjbJVEqSoXSyiImOAjCOIpknBitdSoVRPcOjNe//qJYrWZXrmFKMMLZBlKjtUrSpD/Yh7P+o/F0R2AR+EGptPjJpgh8LgRhLOsIKSmx1l5FsWtdebNVJnhfdY3WMklknKRRdLZ7MIDo3oIxJpQZrTHBmGBsncM3nSsJZYz7cNZ/VJ5ogCuN+sL229GllBBCKLGMM86YEAevfpyjqLbQwIQYrZPBoPlqd9CB6N7lrM26VTtGnbU3TbOyzpWEOcY5nPUfkacY4G/+5f8QQgklhDJKsw8oIcQYo5R2yFlrkXPamqPnL5ovdylnWqqPbL/8uKk0pYwSRjCh+KZfB8HYIkIIYQwrDWf9R+GjLr+aRsuffSJ83y8WijMzmOBsqtk5p7KLDlIp40Slst08y9YwjdYyTiC973f5+lhLZbSxxmR//SGEhp0rKaGMco/XV1fyLvMRenIBzu6593x/dX2tVC7fiW46GMS9/tEPLzqnZ3lXOk3SOE7jWCtltHbZPRJZhq+bZhHKsvbReVf62Dy5R2jKWNZHIopihJCWymSPzlLKKG7u7t/pTQV+pfbJqfB9ljXNwsM9azedKx2jXIj62gosKT2sJxfgi8Pj6tICxvji7EymUiaJllLGSXNnD6L7MWScaKWMUpRTYilyxA07Vw5bghFGuSdqS42zvdd5F/t4PMV14NnlpfXfPMsuFkuj6PjFDkT3QXDfW9hc94sF5ons5BYmw3e07JInLZWKk5NXu7Ck9FCeYoARQsL3vUKIEOq32rcvoQcfqVCZmd9YFUHABGeMY0owIdmNpNY5a4xOZRrHO7//U96VPhJP7hE6I5MErqUeBRnHMk4o54QQmx2adhZTxoRAGDlrDeeEkNJs9dF0OMjXk5uFBiOlUtk5PdNSWmOsscg6yrnwfT8MhO8zzpknROCvffVF3pU+EhBg8MAGna5OlVbKWZs1zfJ8rzY7u7S8xD2Pck45dxZeWx4GBBg8vNZJ0yiFKcEYM8bCQmFtfS0IAsZYtl+VMOiY9TCe6DswGKnoqquVdtZmvWYH/f6LH18IT2QbPKy1+KnOnj44CDAYidbxSaFcslobzaSUxlrXdVevj5OrnqU4gRnEBwIBBiMRXfVWnn1+8monW0bqX7b6+8eJlNwTBqM0Scpzs/12BzaZfyR4kgEjNL+xNru8yH3v4tW+04aVC14YMCEwwc46lSRHP7yC/pUfAwIMRosJPruyJKO4WKuGM2Xhe8wTyCGjtFZSpXLn938yGppXfiCYhQajpaU63dlHGAeloh8GTAjkEEIo639CKV37+lneNU4xCDAYOYxxsVphQmRz0Aij4aXnhBDGGGfFaiXvGqcVBBiMA2XUaG2tdc4h6246V1LGmBBzq8t5FzitIMBg5JxzRhurtdVmmGF0MwhjQin3vVKtmneZUwkCDMahdXSipLLGODPs1+Gcy9JLGeNCzK2tYAxTqvcGAQbjMLjq6jTVShujrTE3TbMwQphgwqjwvdIsDML3BgEGY9I6OdVS3jxFD49hE5zd1UoYq6+vck/kXeaUgQCDMYmuujJJtFJWm7cGYYyyB2kmxPLnn+Zd5pSBAIPxaR2dZF0ErbHO3nSuxNcz0pR5olCZybvMaQIBBuOTDCKVJFpKY7S5NQgjhAglTAjheYufbOVb5HSBAIOxujw60VJZbbKLWp21mBDmeSIIvCDwigW/EEL76F8PAgzGKo1iGSdaKqO1tYYyJnwvCAPCqAh84Xsi8Nf/x5d5lzk14DghGLfW8YnwPcqZFwaEsVK5XK3VyuXy7u5u7JzlBqdp3jVODRiBwbjJOEmjONu0gQmO41gIkco0W07CmDhrcy5xesAIDHLQOm4WaxVrbXYP+OHRIWdcaZV95ur8Mu8CpwZsXgP5KNWqK19+FhSL3PcoYxjj7lFz0Dx3jB4fHqZRnHeB0wECDHLT2FyfW1sWvh/3+snxmdQ6dcYrhJTzqHN1dXahlcq7xkkHAQZ5EoFfX1vxC2Hv5EzMlPxigXseocRaa5Q+/vFVv93Ju8aJBgEG+aOMNbY2itUZb9iyw2U3ock43v/uryqF60h/FsxCg/wFpaIXBl4YUMYQQig7ZsgZE2Ll2ed5VzfRIMAgf5RR7ok3u6OzEw6EMM4Z57A7+j0gwCB/Mkm1Ukbr4ebKNx2zKPN4Y2s97wInFwQY5E+lUkuZba4cNr5z6E3TLM6LtUreNU4oCDDIn5Zy0L7SUlqtrTE3TbOys/6U8/raat41TigIMJgI3fNLlUqjjL3VNAuh4Vl/4XtwROmdIMBgIigpW8fN6zfh4VHh7GWYUEI5m99YpRx2/t4FAQaTYtC5UkmSBdhd983CBGdP0cL3Z5eX8q5x4kCAwQRpHTeNVEZpY2w2CDPGReD7hdAvFuqry34hzLvGyQLPJGCCDK66Kk0pZ4QxxBgTIggD7nlJHBNKEUJBuZQMorzLnCAwAoPJcnnc1FJhhKhglNF6o7G1tVUoFilnTHCYyroDAgwmS3TVVWmataukjEkpldaYYIIJQtjBheBvg0doMHEuj5qFyozVWivVbre7vZ41pn/Zjvr9s4PDvKubLBBgMHHiXq9zes49jzCGEe5ftro7r421qUwlHPR/GxwnBBOqXJ9dffY598Tl81cWIeMx4fuEEKP1+f5rmMrKQIDBRBO+zz1RW1kKigXue4QQ5JBMksPnLwadq7yryx9MYoGJppUszc0GxUJQKnlhyITIjgo3NtfyLm0iQIDBZHPICwPh+wi57KQhpoRyzn0friNFEGAw4RxChFKt1c0hB4wxoZQJ3thYR0/+TnAIMJhozlqVpkYNN0gjdOucsCdm6nN5F5gzCDCYdOf7r3Uqbx9yQFnDHcHnN1aZeNJ3gkOAwaRLoziNIqOGT9EIIeQQwpgQyjhf++pJd72DjRxgClwcHvPAp5wTQq6vA6eMcyY45axYrTzZ9tEwAoMpIOMkHURaqqxpFhMiLBXDrBltEKx8+VneBeYGAgymw+XhiUoSay0Twg+D1bW1ja0tJgTzRNIf5F1dbiDAYDqoNO23O/h672CSJq1WK1tVQi7f0vIEAQZTo908U2lqjZGpPD876151nLXWmNPd/bxLyw0EGEwNa8zRDy+TQaTTVCVSJqlMkt0//Dnu9fMuLTdPfSMLmEbVhflyfTa66sX9fr/VybscAAAAAAAAAAAAAAAAAAAAAAAAAAAAAAAAAAAAAAAAAAAAAAAAAAAAAAAAAAAAAAAAAAAAAAAAAAAAAAAAAAAAAAAAAAAAgA/3/wFPpKf1dyaBewAAAABJRU5ErkJggg==\"/></td></tr></table>"
     },
     "metadata": {},
     "output_type": "display_data"
    }
   ],
   "source": [
    "morphology_specification = default_brittle_star_morphology_specification(\n",
    "        num_arms=5, num_segments_per_arm=[1, 2, 3, 4, 5], use_p_control=True, use_torque_control=False\n",
    "        )\n",
    "morphology = create_morphology(morphology_specification=morphology_specification)\n",
    "visualize_mjcf(mjcf=morphology)"
   ],
   "metadata": {
    "collapsed": false,
    "ExecuteTime": {
     "end_time": "2024-01-16T00:32:26.181969Z",
     "start_time": "2024-01-16T00:32:26.150826Z"
    }
   },
   "execution_count": 7
  },
  {
   "cell_type": "markdown",
   "metadata": {
    "id": "FsqQr6u6Vj4O"
   },
   "source": [
    "### 2. Creating the arena\n",
    "Similarly to the morphology, the next step is to configure and create the AquariumArena in which we will put our brittle star. This arena uses a [simplified fluid model](https://mujoco.readthedocs.io/en/stable/computation/fluid.html#inertia-model) to simulate an aquatic environment."
   ]
  },
  {
   "cell_type": "code",
   "outputs": [],
   "source": [
    "from brb.brittle_star.mjcf.arena.aquarium import AquariumArenaConfiguration, MJCFAquariumArena\n",
    "\n",
    "\n",
    "def create_arena(\n",
    "        arena_configuration: AquariumArenaConfiguration\n",
    "        ) -> MJCFAquariumArena:\n",
    "    arena = MJCFAquariumArena(\n",
    "            configuration=arena_configuration\n",
    "            )\n",
    "    return arena"
   ],
   "metadata": {
    "id": "qq9gGgDBYm7U",
    "ExecuteTime": {
     "end_time": "2024-01-16T00:32:26.183937Z",
     "start_time": "2024-01-16T00:32:26.180520Z"
    }
   },
   "execution_count": 8
  },
  {
   "cell_type": "code",
   "outputs": [
    {
     "data": {
      "text/plain": "<IPython.core.display.HTML object>",
      "text/html": "<table class=\"show_images\" style=\"border-spacing:0px;\"><tr><td style=\"padding:1px;\"><img width=\"320\" height=\"240\" style=\"image-rendering:auto; object-fit:cover;\" src=\"data:image/png;base64,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\"/></td></tr></table>"
     },
     "metadata": {},
     "output_type": "display_data"
    }
   ],
   "source": [
    "arena_configuration = AquariumArenaConfiguration(\n",
    "        size=(10, 5), sand_ground_color=True, attach_target=False, wall_height=1.5, wall_thickness=0.1\n",
    "        )\n",
    "arena = create_arena(arena_configuration=arena_configuration)\n",
    "visualize_mjcf(mjcf=arena)"
   ],
   "metadata": {
    "collapsed": false,
    "ExecuteTime": {
     "end_time": "2024-01-16T00:32:26.221731Z",
     "start_time": "2024-01-16T00:32:26.185468Z"
    }
   },
   "execution_count": 9
  },
  {
   "cell_type": "markdown",
   "metadata": {
    "id": "tCGQvuiHVo91"
   },
   "source": [
    "### 3. Creating the environment\n",
    "Now we can create the actual environment that combines the above morphology and arena. As discussed above, we have three different environment versions (each specifying a specific task) in which we can put our brittle star. Each version has a specific EnvironmentConfiguration."
   ]
  },
  {
   "cell_type": "code",
   "execution_count": 10,
   "metadata": {
    "id": "YWHuHyaqZZd8",
    "ExecuteTime": {
     "end_time": "2024-01-16T00:32:26.222351Z",
     "start_time": "2024-01-16T00:32:26.213467Z"
    }
   },
   "outputs": [],
   "source": [
    "from brb.brittle_star.environment.light.mjc_env import BrittleStarLightEnvironmentConfiguration\n",
    "from brb.brittle_star.environment.target.mjc_env import BrittleStarTargetEnvironmentConfiguration\n",
    "from brb.brittle_star.environment.locomotion.mjc_env import BrittleStarLocomotionEnvironmentConfiguration\n",
    "\n",
    "locomotion_environment_configuration = BrittleStarLocomotionEnvironmentConfiguration(\n",
    "         # If this value is > 0 then we will add randomly sampled noise to the initial joint positions and velocities \n",
    "        joint_randomization_noise_scale=0.0,\n",
    "        # Visualization mode \n",
    "        render_mode=\"rgb_array\",\n",
    "        # Number of seconds per episode \n",
    "        simulation_time=5,\n",
    "        # Number of physics substeps to do per control step \n",
    "        num_physics_steps_per_control_step=10\n",
    "        )\n",
    "target_locomotion_environment_configuration = BrittleStarTargetEnvironmentConfiguration(\n",
    "        # Distance to put our target at (targets are spawned on a circle around the starting location with this given radius).\n",
    "        target_distance=3.0,\n",
    "        joint_randomization_noise_scale=0.0,\n",
    "        render_mode=\"rgb_array\",\n",
    "        simulation_time=5,\n",
    "        num_physics_steps_per_control_step=10\n",
    "        )\n",
    "light_escape_environment_configuration = BrittleStarLightEnvironmentConfiguration(\n",
    "        # If this value is > 0, we will add perlin noise to the generated light map. Otherwise, the light map is a simple linear gradient.\n",
    "        #   Please only provide integer factors of 200.\n",
    "        light_perlin_noise_scale=0,\n",
    "        joint_randomization_noise_scale=0,\n",
    "        render_mode=\"rgb_array\",\n",
    "        simulation_time=5,\n",
    "        num_physics_steps_per_control_step=10\n",
    "        )"
   ]
  },
  {
   "cell_type": "markdown",
   "metadata": {
    "id": "fKGuNkH3WRdI"
   },
   "source": [
    "#### Creator\n",
    "We can now define a function that takes in a certain morphological specification, the arena configuration and the environment configuration and returns the actual environment. Note that we have added an additional argument to this function,`backend`, which can be used to choose between instantiating the MJC (native MuJoCo) or the MJX (JAX-based MuJoCo) implementation of the environment.\n",
    "\n",
    "This function also accepts a `num_environments` argument, which can be ignored for now. We will discuss this in the 'vectorization' section below."
   ]
  },
  {
   "cell_type": "code",
   "execution_count": 11,
   "metadata": {
    "id": "_4R9PmCtWEdJ",
    "ExecuteTime": {
     "end_time": "2024-01-16T00:32:26.230454Z",
     "start_time": "2024-01-16T00:32:26.220211Z"
    }
   },
   "outputs": [],
   "source": [
    "from mujoco_utils.environment.mjc_env import MJCEnv\n",
    "from brb.brittle_star.environment.light.mjc_env import BrittleStarLightMJCEnvironment\n",
    "from brb.brittle_star.environment.target.mjc_env import BrittleStarTargetMJCEnvironment\n",
    "from brb.brittle_star.environment.locomotion.mjc_env import BrittleStarLocomotionMJCEnvironment\n",
    "from brb.brittle_star.environment.light.mjx_env import BrittleStarLightMJXEnvironment\n",
    "from brb.brittle_star.environment.target.mjx_env import BrittleStarTargetMJXEnvironment\n",
    "from brb.brittle_star.environment.locomotion.mjx_env import BrittleStarLocomotionMJXEnvironment\n",
    "from mujoco_utils.environment.base import MuJoCoEnvironmentConfiguration\n",
    "\n",
    "\n",
    "def create_environment(\n",
    "        morphology_specification: BrittleStarMorphologySpecification,\n",
    "        arena_configuration: AquariumArenaConfiguration,\n",
    "        environment_configuration: MuJoCoEnvironmentConfiguration,\n",
    "        backend: str,\n",
    "        num_environments: int = 1\n",
    "        ) -> Union[MJCEnv, MJXGymEnvWrapper]:\n",
    "    assert backend in [\"MJC\", \"MJX\"], \"Please specify a valid backend; Either 'MJC' or 'MJX'\"\n",
    "\n",
    "    def _create_env() -> Union[MJCEnv, gymnasium.vector.AsyncVectorEnv, MJXGymEnvWrapper]:\n",
    "        morphology = create_morphology(\n",
    "                morphology_specification=morphology_specification\n",
    "                )\n",
    "        arena = create_arena(\n",
    "                arena_configuration=arena_configuration\n",
    "                )\n",
    "        if isinstance(environment_configuration, BrittleStarLocomotionEnvironmentConfiguration):\n",
    "            env_class = BrittleStarLocomotionMJCEnvironment if backend == \"MJC\" else BrittleStarLocomotionMJXEnvironment\n",
    "        elif isinstance(environment_configuration, BrittleStarTargetEnvironmentConfiguration):\n",
    "            env_class = BrittleStarTargetMJCEnvironment if backend == \"MJC\" else BrittleStarTargetMJXEnvironment\n",
    "        else:\n",
    "            env_class = BrittleStarLightMJCEnvironment if backend == \"MJC\" else BrittleStarLightMJXEnvironment\n",
    "\n",
    "        env = env_class(morphology=morphology, arena=arena, configuration=environment_configuration)\n",
    "        return env\n",
    "\n",
    "    if backend == \"MJC\":\n",
    "        if num_environments > 1:\n",
    "            return gymnasium.vector.AsyncVectorEnv(\n",
    "                    [_create_env for _ in range(num_environments)]\n",
    "                    )\n",
    "        else:\n",
    "            return _create_env()\n",
    "    else:\n",
    "        # MJXGymEnvWrapper takes care of the handling the consequences of functional programming made necessary by Jax \n",
    "        return MJXGymEnvWrapper(env=_create_env(), num_envs=num_environments)"
   ]
  },
  {
   "cell_type": "markdown",
   "source": [
    "Given the above utility functions, the next code snippet instantiates the environment. \n",
    "Use this to test the influence of different parameters and configurations."
   ],
   "metadata": {
    "collapsed": false
   }
  },
  {
   "cell_type": "code",
   "outputs": [
    {
     "data": {
      "text/plain": "<IPython.core.display.HTML object>",
      "text/html": "<table class=\"show_images\" style=\"border-spacing:0px;\"><tr><td style=\"padding:1px;\"><img width=\"320\" height=\"240\" style=\"image-rendering:auto; object-fit:cover;\" src=\"data:image/png;base64,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\"/></td></tr></table>"
     },
     "metadata": {},
     "output_type": "display_data"
    }
   ],
   "source": [
    "morphology_specification = default_brittle_star_morphology_specification(\n",
    "        num_arms=5, num_segments_per_arm=4, use_p_control=True, use_torque_control=False\n",
    "        )\n",
    "arena_configuration = AquariumArenaConfiguration(\n",
    "        size=(10, 5), sand_ground_color=True, attach_target=False, wall_height=1.5, wall_thickness=0.1\n",
    "        )\n",
    "environment_configuration = BrittleStarLightEnvironmentConfiguration(\n",
    "        joint_randomization_noise_scale=0.0,\n",
    "        light_perlin_noise_scale=0,\n",
    "        render_mode=\"rgb_array\",\n",
    "        simulation_time=5,\n",
    "        num_physics_steps_per_control_step=10\n",
    "        )\n",
    "env = create_environment(\n",
    "        morphology_specification=morphology_specification,\n",
    "        arena_configuration=arena_configuration,\n",
    "        environment_configuration=environment_configuration,\n",
    "        backend=\"MJC\"\n",
    "        )\n",
    "\n",
    "env.reset()  # Always need to reset the environment before doing anything else with it\n",
    "frame = env.render()\n",
    "media.show_image(post_environment_render(frame, environment_configuration=environment_configuration))\n",
    "env.close() # always close the environment after using it!"
   ],
   "metadata": {
    "collapsed": false,
    "ExecuteTime": {
     "end_time": "2024-01-16T00:32:26.291250Z",
     "start_time": "2024-01-16T00:32:26.237694Z"
    }
   },
   "execution_count": 12
  },
  {
   "cell_type": "markdown",
   "source": [
    "## Using the environment\n",
    "In this section we will check how we can now actually use the environments. Let's start by instantiating both an MJC and MJX variant."
   ],
   "metadata": {
    "collapsed": false
   }
  },
  {
   "cell_type": "code",
   "outputs": [],
   "source": [
    "mjc_env = create_environment(\n",
    "        morphology_specification=morphology_specification,\n",
    "        arena_configuration=arena_configuration,\n",
    "        environment_configuration=environment_configuration,\n",
    "        backend=\"MJC\"\n",
    "        )\n",
    "mjx_env = create_environment(\n",
    "        morphology_specification=morphology_specification,\n",
    "        arena_configuration=arena_configuration,\n",
    "        environment_configuration=environment_configuration,\n",
    "        backend=\"MJX\"\n",
    "        )"
   ],
   "metadata": {
    "collapsed": false,
    "ExecuteTime": {
     "end_time": "2024-01-16T00:32:26.589276Z",
     "start_time": "2024-01-16T00:32:26.364872Z"
    }
   },
   "execution_count": 13
  },
  {
   "cell_type": "markdown",
   "metadata": {
    "id": "HGaNtSd-GK5k"
   },
   "source": [
    "### Observation space\n",
    "The observation describes the dimensionality and range of the observations that the environment returns upon reset and after taking a step. As both the MJC and MJX variants implement the same environment, although with a different backend, they have the same observation space."
   ]
  },
  {
   "cell_type": "code",
   "execution_count": 14,
   "metadata": {
    "colab": {
     "base_uri": "https://localhost:8080/"
    },
    "id": "VOu3oM4ZS1mm",
    "outputId": "4088bc68-107d-4684-b0db-46e56763b0e2",
    "ExecuteTime": {
     "end_time": "2024-01-16T00:32:26.596147Z",
     "start_time": "2024-01-16T00:32:26.591754Z"
    }
   },
   "outputs": [
    {
     "name": "stdout",
     "output_type": "stream",
     "text": [
      "Dict('disk_angular_velocity': Box(-inf, inf, (3,), float32), 'disk_linear_velocity': Box(-inf, inf, (3,), float32), 'disk_position': Box(-inf, inf, (3,), float32), 'disk_rotation': Box(-3.1415927, 3.1415927, (3,), float32), 'in_plane_joint_position': Box(-0.5235988, 0.5235988, (20,), float32), 'in_plane_joint_velocity': Box(-inf, inf, (20,), float32), 'out_of_plane_joint_position': Box(-0.5235988, 0.5235988, (20,), float32), 'out_of_plane_joint_velocity': Box(-inf, inf, (20,), float32), 'segment_contact': Box(0.0, 1.0, (20,), float32), 'segment_light_intake': Box(0.0, 1.0, (20,), float32))\n",
      "\n",
      "Dict('disk_angular_velocity': Box(-inf, inf, (3,), float32), 'disk_linear_velocity': Box(-inf, inf, (3,), float32), 'disk_position': Box(-inf, inf, (3,), float32), 'disk_rotation': Box(-3.1415927, 3.1415927, (3,), float32), 'in_plane_joint_position': Box(-0.5235988, 0.5235988, (20,), float32), 'in_plane_joint_velocity': Box(-inf, inf, (20,), float32), 'out_of_plane_joint_position': Box(-0.5235988, 0.5235988, (20,), float32), 'out_of_plane_joint_velocity': Box(-inf, inf, (20,), float32), 'segment_contact': Box(0.0, 1.0, (20,), float32), 'segment_light_intake': Box(0.0, 1.0, (20,), float32))\n"
     ]
    }
   ],
   "source": [
    "print(mjc_env.observation_space)\n",
    "print()\n",
    "print(mjx_env.observation_space)"
   ]
  },
  {
   "cell_type": "markdown",
   "metadata": {
    "id": "Gd65GNHyGMlY"
   },
   "source": [
    "### Action space\n",
    "The action space describes the dimensionality and range of actions the environment expects in order to take a step. In essence, the environment maps each given action to the control signal of an actuator."
   ]
  },
  {
   "cell_type": "code",
   "execution_count": 15,
   "metadata": {
    "colab": {
     "base_uri": "https://localhost:8080/"
    },
    "id": "Tc9zKb81bEwB",
    "outputId": "496a166e-56cd-4c9b-9331-264fe9e168d9",
    "ExecuteTime": {
     "end_time": "2024-01-16T00:32:26.598502Z",
     "start_time": "2024-01-16T00:32:26.594482Z"
    }
   },
   "outputs": [
    {
     "name": "stdout",
     "output_type": "stream",
     "text": [
      "Box(-0.5235988, 0.5235988, (40,), float32)\n",
      "\n",
      "Box(-0.5235988, 0.5235988, (40,), float32)\n"
     ]
    }
   ],
   "source": [
    "print(mjc_env.action_space)\n",
    "print()\n",
    "print(mjx_env.action_space)"
   ]
  },
  {
   "cell_type": "markdown",
   "source": [
    "To help in knowing which action is mapped to which actuator, the following call returns a list of actuator names such that `actions[i]` is mapped to `actuator[i]`. "
   ],
   "metadata": {
    "collapsed": false
   }
  },
  {
   "cell_type": "code",
   "outputs": [
    {
     "name": "stdout",
     "output_type": "stream",
     "text": [
      "['BrittleStarMorphology/arm_0_segment_0_in_plane_joint_p_control', 'BrittleStarMorphology/arm_0_segment_0_out_of_plane_joint_p_control', 'BrittleStarMorphology/arm_0_segment_1_in_plane_joint_p_control', 'BrittleStarMorphology/arm_0_segment_1_out_of_plane_joint_p_control', 'BrittleStarMorphology/arm_0_segment_2_in_plane_joint_p_control', 'BrittleStarMorphology/arm_0_segment_2_out_of_plane_joint_p_control', 'BrittleStarMorphology/arm_0_segment_3_in_plane_joint_p_control', 'BrittleStarMorphology/arm_0_segment_3_out_of_plane_joint_p_control', 'BrittleStarMorphology/arm_1_segment_0_in_plane_joint_p_control', 'BrittleStarMorphology/arm_1_segment_0_out_of_plane_joint_p_control', 'BrittleStarMorphology/arm_1_segment_1_in_plane_joint_p_control', 'BrittleStarMorphology/arm_1_segment_1_out_of_plane_joint_p_control', 'BrittleStarMorphology/arm_1_segment_2_in_plane_joint_p_control', 'BrittleStarMorphology/arm_1_segment_2_out_of_plane_joint_p_control', 'BrittleStarMorphology/arm_1_segment_3_in_plane_joint_p_control', 'BrittleStarMorphology/arm_1_segment_3_out_of_plane_joint_p_control', 'BrittleStarMorphology/arm_2_segment_0_in_plane_joint_p_control', 'BrittleStarMorphology/arm_2_segment_0_out_of_plane_joint_p_control', 'BrittleStarMorphology/arm_2_segment_1_in_plane_joint_p_control', 'BrittleStarMorphology/arm_2_segment_1_out_of_plane_joint_p_control', 'BrittleStarMorphology/arm_2_segment_2_in_plane_joint_p_control', 'BrittleStarMorphology/arm_2_segment_2_out_of_plane_joint_p_control', 'BrittleStarMorphology/arm_2_segment_3_in_plane_joint_p_control', 'BrittleStarMorphology/arm_2_segment_3_out_of_plane_joint_p_control', 'BrittleStarMorphology/arm_3_segment_0_in_plane_joint_p_control', 'BrittleStarMorphology/arm_3_segment_0_out_of_plane_joint_p_control', 'BrittleStarMorphology/arm_3_segment_1_in_plane_joint_p_control', 'BrittleStarMorphology/arm_3_segment_1_out_of_plane_joint_p_control', 'BrittleStarMorphology/arm_3_segment_2_in_plane_joint_p_control', 'BrittleStarMorphology/arm_3_segment_2_out_of_plane_joint_p_control', 'BrittleStarMorphology/arm_3_segment_3_in_plane_joint_p_control', 'BrittleStarMorphology/arm_3_segment_3_out_of_plane_joint_p_control', 'BrittleStarMorphology/arm_4_segment_0_in_plane_joint_p_control', 'BrittleStarMorphology/arm_4_segment_0_out_of_plane_joint_p_control', 'BrittleStarMorphology/arm_4_segment_1_in_plane_joint_p_control', 'BrittleStarMorphology/arm_4_segment_1_out_of_plane_joint_p_control', 'BrittleStarMorphology/arm_4_segment_2_in_plane_joint_p_control', 'BrittleStarMorphology/arm_4_segment_2_out_of_plane_joint_p_control', 'BrittleStarMorphology/arm_4_segment_3_in_plane_joint_p_control', 'BrittleStarMorphology/arm_4_segment_3_out_of_plane_joint_p_control']\n"
     ]
    }
   ],
   "source": [
    "print(mjc_env.actuators)"
   ],
   "metadata": {
    "collapsed": false,
    "ExecuteTime": {
     "end_time": "2024-01-16T00:32:26.600560Z",
     "start_time": "2024-01-16T00:32:26.596843Z"
    }
   },
   "execution_count": 16
  },
  {
   "cell_type": "markdown",
   "source": [
    "### Running and visualizing an episode\n",
    "Now we will run the simulation environment and visualize it. As shown below, this happens in a similar manner for both the MJC and the MJX variants, as both follow the [Gymnasium interface](https://gymnasium.farama.org/content/basic_usage/). The only difference is that MJC handles numpy arrays, while MJX handles jax arrays.\n",
    "\n",
    "TODO: DISCUSS CAMERA_IDS for rendering from different perspectives"
   ],
   "metadata": {
    "collapsed": false
   }
  },
  {
   "cell_type": "markdown",
   "source": [
    "#### MJC"
   ],
   "metadata": {
    "collapsed": false
   }
  },
  {
   "cell_type": "code",
   "outputs": [
    {
     "data": {
      "text/plain": "<IPython.core.display.HTML object>",
      "text/html": "<table class=\"show_videos\" style=\"border-spacing:0px;\"><tr><td style=\"padding:1px;\"><video controls width=\"320\" height=\"240\" style=\"object-fit:cover;\" loop autoplay muted>\n      <source src=\"data:video/mp4;base64,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\" type=\"video/mp4\"/>\n      This browser does not support the video tag.\n      </video></td></tr></table>"
     },
     "metadata": {},
     "output_type": "display_data"
    }
   ],
   "source": [
    "done = False\n",
    "frames = []\n",
    "obs, info = mjc_env.reset()\n",
    "while not done:\n",
    "    actions = mjc_env.action_space.sample()\n",
    "    obs, reward, terminated, truncated, info = mjc_env.step(actions=actions)\n",
    "    frame = post_environment_render(mjc_env.render(), environment_configuration=environment_configuration)\n",
    "    frames.append(frame)\n",
    "    done = terminated | truncated\n",
    "media.show_video(images=frames)"
   ],
   "metadata": {
    "collapsed": false,
    "ExecuteTime": {
     "end_time": "2024-01-16T00:32:27.322174Z",
     "start_time": "2024-01-16T00:32:26.599706Z"
    }
   },
   "execution_count": 17
  },
  {
   "cell_type": "markdown",
   "source": [
    "#### MJX\n",
    "Expect this cell to run longer the first time than the MJC variant (this is because the first environment calls trigger a JIT compilation)."
   ],
   "metadata": {
    "collapsed": false
   }
  },
  {
   "cell_type": "code",
   "outputs": [
    {
     "data": {
      "text/plain": "<IPython.core.display.HTML object>",
      "text/html": "<table class=\"show_videos\" style=\"border-spacing:0px;\"><tr><td style=\"padding:1px;\"><video controls width=\"320\" height=\"240\" style=\"object-fit:cover;\" loop autoplay muted>\n      <source src=\"data:video/mp4;base64,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\" type=\"video/mp4\"/>\n      This browser does not support the video tag.\n      </video></td></tr></table>"
     },
     "metadata": {},
     "output_type": "display_data"
    }
   ],
   "source": [
    "done = False\n",
    "frames = []\n",
    "obs, info = mjx_env.reset()\n",
    "while not done:\n",
    "    actions = jnp.array(mjx_env.action_space.sample())\n",
    "    obs, reward, terminated, truncated, info = mjx_env.step(actions=actions)\n",
    "    frame = post_environment_render(mjx_env.render(), environment_configuration=environment_configuration)\n",
    "    frames.append(frame)\n",
    "    done = terminated | truncated\n",
    "media.show_video(images=frames)"
   ],
   "metadata": {
    "collapsed": false,
    "ExecuteTime": {
     "end_time": "2024-01-16T00:34:10.398506Z",
     "start_time": "2024-01-16T00:32:27.341717Z"
    }
   },
   "execution_count": 18
  },
  {
   "cell_type": "markdown",
   "source": [
    "Avoid memory leaks and always close your environment after using!"
   ],
   "metadata": {
    "id": "fOmP560VbMd3"
   }
  },
  {
   "cell_type": "code",
   "outputs": [],
   "source": [
    "mjc_env.close()\n",
    "mjx_env.close()"
   ],
   "metadata": {
    "collapsed": false,
    "ExecuteTime": {
     "end_time": "2024-01-16T00:34:10.407025Z",
     "start_time": "2024-01-16T00:34:10.398625Z"
    }
   },
   "execution_count": 19
  },
  {
   "cell_type": "markdown",
   "source": [
    "### Vectorization\n",
    "During optimization we often want multiple environments to run in parallel as this increases data collection speed. For instance with evolutionary optimization, this allows to evaluate multiple candidate solutions in parallel. Alternatively in the reinforcement learning setting, this can be used to simultaneously collect data from slightly different environment versions if we use randomization or noise."
   ],
   "metadata": {
    "collapsed": false
   }
  },
  {
   "cell_type": "markdown",
   "source": [
    "#### MJC\n",
    "Given its nature, the MJC environment relies on multiprocessing on the CPU. As we conform to the Gymnasium interface, this can be done by using [Gymnasium's AsyncVectorEnv](https://gymnasium.farama.org/api/vector/#async-vector-env). When vectorizing over the CPU, we often use one environment instance for CPU core available. Nevertheless, we can't always expect a linear increase in speed with an increasing number of environment instances. Therefore it is always a good idea to test and compare multiple amounts."
   ],
   "metadata": {
    "collapsed": false
   }
  },
  {
   "cell_type": "code",
   "outputs": [],
   "source": [
    "num_environments = 10\n",
    "\n",
    "morphology_specification = default_brittle_star_morphology_specification(\n",
    "        num_arms=5, num_segments_per_arm=4, use_p_control=True, use_torque_control=False\n",
    "        )\n",
    "arena_configuration = AquariumArenaConfiguration(\n",
    "        size=(10, 5), sand_ground_color=True, attach_target=False, wall_height=1.5, wall_thickness=0.1\n",
    "        )\n",
    "environment_configuration = BrittleStarLightEnvironmentConfiguration(\n",
    "        # Introduce variability between different instances of the environment\n",
    "        joint_randomization_noise_scale=0.01,\n",
    "        light_perlin_noise_scale=10,\n",
    "        render_mode=\"rgb_array\",\n",
    "        simulation_time=5,\n",
    "        num_physics_steps_per_control_step=10\n",
    "        )\n",
    "\n",
    "mjc_vectorized_env = create_environment(\n",
    "        morphology_specification=morphology_specification,\n",
    "        arena_configuration=arena_configuration,\n",
    "        environment_configuration=environment_configuration,\n",
    "        backend='MJC',\n",
    "        # Often set to the number of CPU cores available\n",
    "        num_environments=2\n",
    "        )"
   ],
   "metadata": {
    "collapsed": false,
    "ExecuteTime": {
     "end_time": "2024-01-16T00:34:11.781468Z",
     "start_time": "2024-01-16T00:34:10.415663Z"
    }
   },
   "execution_count": 20
  },
  {
   "cell_type": "markdown",
   "source": [
    "As illustrated below by the adapted `observation_space` and `action_space`, our environment will now return a batched version of the original observations, and expect a batched version of the original actions. Each sample in these batches corresponds to the observations and actions of a single underlying environment."
   ],
   "metadata": {
    "collapsed": false
   }
  },
  {
   "cell_type": "code",
   "outputs": [
    {
     "name": "stdout",
     "output_type": "stream",
     "text": [
      "Dict('disk_angular_velocity': Box(-inf, inf, (2, 3), float32), 'disk_linear_velocity': Box(-inf, inf, (2, 3), float32), 'disk_position': Box(-inf, inf, (2, 3), float32), 'disk_rotation': Box(-3.1415927, 3.1415927, (2, 3), float32), 'in_plane_joint_position': Box(-0.5235988, 0.5235988, (2, 20), float32), 'in_plane_joint_velocity': Box(-inf, inf, (2, 20), float32), 'out_of_plane_joint_position': Box(-0.5235988, 0.5235988, (2, 20), float32), 'out_of_plane_joint_velocity': Box(-inf, inf, (2, 20), float32), 'segment_contact': Box(0.0, 1.0, (2, 20), float32), 'segment_light_intake': Box(0.0, 1.0, (2, 20), float32))\n",
      "Box(-0.5235988, 0.5235988, (2, 40), float32)\n"
     ]
    }
   ],
   "source": [
    "print(mjc_vectorized_env.observation_space)\n",
    "print(mjc_vectorized_env.action_space)"
   ],
   "metadata": {
    "collapsed": false,
    "ExecuteTime": {
     "end_time": "2024-01-16T00:34:11.785206Z",
     "start_time": "2024-01-16T00:34:11.782020Z"
    }
   },
   "execution_count": 21
  },
  {
   "cell_type": "code",
   "outputs": [],
   "source": [
    "mjc_vectorized_env.close()"
   ],
   "metadata": {
    "collapsed": false,
    "ExecuteTime": {
     "end_time": "2024-01-16T00:34:11.946657Z",
     "start_time": "2024-01-16T00:34:11.785051Z"
    }
   },
   "execution_count": 22
  },
  {
   "cell_type": "markdown",
   "source": [
    "#### MJX\n",
    "\n",
    "The MJX environment can also be vectorized on the CPU, but it's main performance advantage comes from parallelization on the GPU (which JAX enables). MJX basically implements environment / physics steps as operator over big Jax arrays (e.g. an array of all current joint positions, one with all current joint velocities, ...). To parallelize, it just adds an additional batch dimension over these arrays. The [MJXGymEnvWrapper](https://github.com/Co-Evolve/mujoco-utils/blob/new-framework/mujoco_utils/environment/mjx_env.py#L330) implements this for us. When vectorizing over the GPU, we often run one environment instance per CUDA core available (this can be found on your GPU's datasheet). The cool thing is that a single GPU has a lot more of these cores than the number of CPU cores your computer (or even a regular cluster) has. \n",
    "\n",
    "As a rule-of-thumb:\n",
    "- Use MJC when you want to run a single environment (e.g. to do a quick test or to visualize a single rollout).\n",
    "- Use MJX when you (1) have a GPU available, and (2) are doing an optimization.\n",
    "- Read: https://mujoco.readthedocs.io/en/stable/mjx.html#mjx-the-sharp-bits"
   ],
   "metadata": {
    "collapsed": false
   }
  },
  {
   "cell_type": "code",
   "outputs": [],
   "source": [
    "mjx_vectorized_env = create_environment(\n",
    "        morphology_specification=morphology_specification,\n",
    "        arena_configuration=arena_configuration,\n",
    "        environment_configuration=environment_configuration,\n",
    "        backend='MJX',\n",
    "        # Set to the available number of GPU CUDA cores (often >1000) \n",
    "        num_environments=2\n",
    "        ) "
   ],
   "metadata": {
    "collapsed": false,
    "ExecuteTime": {
     "end_time": "2024-01-16T00:34:12.026142Z",
     "start_time": "2024-01-16T00:34:11.975729Z"
    }
   },
   "execution_count": 23
  },
  {
   "cell_type": "code",
   "outputs": [
    {
     "name": "stdout",
     "output_type": "stream",
     "text": [
      "Dict('disk_angular_velocity': Box(-inf, inf, (2, 3), float32), 'disk_linear_velocity': Box(-inf, inf, (2, 3), float32), 'disk_position': Box(-inf, inf, (2, 3), float32), 'disk_rotation': Box(-3.1415927, 3.1415927, (2, 3), float32), 'in_plane_joint_position': Box(-0.5235988, 0.5235988, (2, 20), float32), 'in_plane_joint_velocity': Box(-inf, inf, (2, 20), float32), 'out_of_plane_joint_position': Box(-0.5235988, 0.5235988, (2, 20), float32), 'out_of_plane_joint_velocity': Box(-inf, inf, (2, 20), float32), 'segment_contact': Box(0.0, 1.0, (2, 20), float32), 'segment_light_intake': Box(0.0, 1.0, (2, 20), float32))\n",
      "Box(-0.5235988, 0.5235988, (2, 40), float32)\n"
     ]
    }
   ],
   "source": [
    "print(mjc_vectorized_env.observation_space)\n",
    "print(mjc_vectorized_env.action_space)"
   ],
   "metadata": {
    "collapsed": false,
    "ExecuteTime": {
     "end_time": "2024-01-16T00:34:12.028629Z",
     "start_time": "2024-01-16T00:34:12.026263Z"
    }
   },
   "execution_count": 24
  },
  {
   "cell_type": "code",
   "outputs": [],
   "source": [
    "mjx_vectorized_env.close()"
   ],
   "metadata": {
    "collapsed": false,
    "ExecuteTime": {
     "end_time": "2024-01-16T00:34:12.030769Z",
     "start_time": "2024-01-16T00:34:12.029347Z"
    }
   },
   "execution_count": 25
  },
  {
   "cell_type": "markdown",
   "source": [
    "## Literature\n",
    "TODO"
   ],
   "metadata": {
    "collapsed": false
   }
  }
 ],
 "metadata": {
  "accelerator": "GPU",
  "colab": {
   "gpuType": "T4",
   "provenance": [],
   "toc_visible": true
  },
  "kernelspec": {
   "display_name": "Python 3 (ipykernel)",
   "language": "python",
   "name": "python3"
  },
  "language_info": {
   "codemirror_mode": {
    "name": "ipython",
    "version": 3
   },
   "file_extension": ".py",
   "mimetype": "text/x-python",
   "name": "python",
   "nbconvert_exporter": "python",
   "pygments_lexer": "ipython3",
   "version": "3.11.7"
  }
 },
 "nbformat": 4,
 "nbformat_minor": 4
}
