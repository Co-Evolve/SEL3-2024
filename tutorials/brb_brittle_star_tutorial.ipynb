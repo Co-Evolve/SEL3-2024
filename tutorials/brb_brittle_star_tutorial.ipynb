{
 "cells": [
  {
   "cell_type": "markdown",
   "metadata": {
    "id": "uMCyuX8mSr6O"
   },
   "source": [
    "\n",
    "# <h1><center>Brittle Star Environment Tutorial</center></h1>\n",
    "\n",
    "This notebook provides an introductory tutorial to the [Brittle Star environment](https://github.com/Co-Evolve/brb/tree/new-framework/brb/brittle_star), which is part of the [**the Bio-inspired Robotics Benchmark (BRB)**](https://github.com/Co-Evolve/brb).\n",
    "\n",
    "Preferably use a Jupyter runtime with GPU acceleration enabled.  "
   ]
  },
  {
   "cell_type": "markdown",
   "source": [
    "## The Bio-inspired Robotics Benchmark (BRB)\n",
    "The Bio-Inspired Robotics Benchmark represents a significant stride in the convergence of robotics and experimental biology, offering a unique platform that leverages the MuJoCo physics simulator to create a collection of bio-inspired robotics simulation environments. This initiative is more than just a technical tool; it serves as a crucible for cross-disciplinary dialogue and innovation, uniting two fields that, while distinct, share a common goal of understanding and emulating complex biological systems.\n",
    "\n",
    "In the realm of robotics, this benchmark addresses a pivotal challenge: the design and control of bio-inspired robots. These robots, inspired by the intricacies of biological organisms, present novel hurdles that contemporary optimization methodologies struggle to surmount. By providing a benchmark specifically tailored to these challenges, the initiative not only facilitates the validation of existing methodologies but also catalyzes the development of new approaches. This is crucial for advancing the field, as it pushes the boundaries of what we can achieve in robotic design and control, drawing inspiration from the most sophisticated systems found in nature.\n",
    "\n",
    "On the biological front, the application of robotics serves as a powerful comparative method. It offers a more controlled environment for conducting comparative studies, essential for dissecting complex behaviors, ecological interactions, and the evolutionary histories of organisms. In essence, robotics becomes a lens through which biologists can observe and understand the myriad of interacting elements that constitute life's diversity. This perspective is invaluable, as it transcends traditional observational methods, allowing for more precise and insightful analyses.\n",
    "\n",
    "Overall, the Bio-Inspired Robotics Benchmark is a testament to the symbiotic potential of robotics and biology. It not only advances our technical capabilities in creating machines that mimic life but also deepens our understanding of the biological phenomena that inspire these creations. This benchmark is a stepping stone towards a future where the interplay between robotics and biology yields innovations that are as profound as they are transformative. \n",
    "\n",
    "\n",
    "The Bio-Inspired Robotics Benchmark distinguishes itself with its capability to effortlessly simulate various morphological variations of bio-inspired robots. This flexibility is largely enabled by the use of the [Framework for Parameterized Robot Specifications (FPRS)](https://github.com/Co-Evolve/fprs), a framework that centralizes the adaptable definition of a robot's morphology. In FPRS, a 'Specification' acts as a comprehensive bundle, encapsulating all the modifiable parameters that define the robot's form and structure. This approach to morphology parameterization not only simplifies the modification process but also enhances the reproducibility and comparability of different morphological setups within the BRB.\n",
    "\n",
    "The implementation of environments within the BRB adheres to framework defined in the [mujoco-utils package](https://github.com/Co-Evolve/mujoco-utils/tree/new-framework). This framework defines an environment as a combination of a parameterized morphology, as defined by FPRS, and a configurable arena. Both the morphology and the arena in this context are essentially generators for MJCF (MuJoCo XML) files, allowing for dynamic and customizable environment creation. This design philosophy ensures that each environment within the BRB is both flexible and specific to the needs of the experiment at hand.\n",
    "\n",
    "Furthermore, the BRB environments are designed to be compatible with the [Gymnasium interface](https://gymnasium.farama.org/content/basic_usage/). This compatibility is significant as it allows for seamless integration with a wide range of existing machine learning and robotics research tools, fostering ease of use and accessibility for researchers from various fields.\n",
    "\n",
    "In terms of simulation capabilities, the BRB offers environments in both native MuJoCo and MuJoCo XLA (MJX) formats. This dual availability caters to diverse computational needs and preferences, ensuring that researchers can select the simulation environment that best suits their specific requirements, whether it's the high-fidelity physics of native MuJoCo or the accelerated computation offered by MuJoCo XLA.\n",
    "\n",
    "In summary, the BRB's unique approach to morphology parameterization through FPRS, adherence to the mujoco-utils framework for environment implementation, compatibility with the gymnasium interface, and availability in both MuJoCo and MJX formats, collectively contribute to its status as a versatile and powerful tool for bio-inspired robotics research. This tool not only facilitates a deeper exploration of robotic morphologies but also bridges the gap between theoretical research and practical application in the field of bio-inspired robotics."
   ],
   "metadata": {
    "collapsed": false
   }
  },
  {
   "cell_type": "markdown",
   "metadata": {
    "id": "fVurZ9tFTzLC"
   },
   "source": [
    "### BRB installation"
   ]
  },
  {
   "cell_type": "markdown",
   "source": [
    "Before continuing, check if the following points towards your conda environment. If not, follow these [steps](https://medium.com/@nrk25693/how-to-add-your-conda-environment-to-your-jupyter-notebook-in-just-4-steps-abeab8b8d084)."
   ],
   "metadata": {
    "collapsed": false
   }
  },
  {
   "cell_type": "code",
   "execution_count": 1,
   "metadata": {
    "ExecuteTime": {
     "end_time": "2024-01-15T23:31:46.186244Z",
     "start_time": "2024-01-15T23:31:46.136453Z"
    }
   },
   "outputs": [
    {
     "name": "stdout",
     "output_type": "stream",
     "text": [
      "/Users/driesmarzougui/miniforge3/envs/SEL3-2024/bin/python\n"
     ]
    }
   ],
   "source": [
    "import sys\n",
    "\n",
    "print(sys.executable)"
   ]
  },
  {
   "cell_type": "markdown",
   "source": [
    "Install the BRB package and its dependencies."
   ],
   "metadata": {
    "collapsed": false
   }
  },
  {
   "cell_type": "code",
   "execution_count": 2,
   "metadata": {
    "colab": {
     "base_uri": "https://localhost:8080/",
     "height": 1000
    },
    "id": "DgMIXEQ7SDGX",
    "outputId": "c3f8d6fd-7c63-401c-f46f-aca2b7e4e372",
    "ExecuteTime": {
     "end_time": "2024-01-15T23:31:46.252283Z",
     "start_time": "2024-01-15T23:31:46.140258Z"
    }
   },
   "outputs": [],
   "source": [
    "try:\n",
    "    import brb\n",
    "except ImportError:\n",
    "    !{sys.executable} -m pip install git+https://github.com/Co-Evolve/brb@new-framework"
   ]
  },
  {
   "cell_type": "markdown",
   "source": [
    "Check if the underlying MuJoCo installation was successful. This will also check if Jax is able to find the GPU. If not, a warning will be printed."
   ],
   "metadata": {
    "collapsed": false
   }
  },
  {
   "cell_type": "code",
   "execution_count": 3,
   "metadata": {
    "colab": {
     "base_uri": "https://localhost:8080/"
    },
    "editable": true,
    "id": "t8x-3cSlT-QM",
    "outputId": "4e58291d-c73d-44bd-8332-4da59915e96c",
    "slideshow": {
     "slide_type": ""
    },
    "tags": [],
    "ExecuteTime": {
     "end_time": "2024-01-15T23:31:46.288941Z",
     "start_time": "2024-01-15T23:31:46.213915Z"
    }
   },
   "outputs": [
    {
     "name": "stderr",
     "output_type": "stream",
     "text": [
      "WARNING:root:Failed to initialize GPU. Everything will run on the cpu.\n"
     ]
    },
    {
     "name": "stdout",
     "output_type": "stream",
     "text": [
      "Checking that the mujoco installation succeeded:\n",
      "MuJoCo installation successful.\n"
     ]
    }
   ],
   "source": [
    "import os\n",
    "import subprocess\n",
    "import logging\n",
    "\n",
    "try:\n",
    "    if subprocess.run('nvidia-smi').returncode:\n",
    "        raise RuntimeError(\n",
    "                'Cannot communicate with GPU. '\n",
    "                'Make sure you are using a GPU Colab runtime. '\n",
    "                'Go to the Runtime menu and select Choose runtime type.'\n",
    "                )\n",
    "\n",
    "    # Add an ICD config so that glvnd can pick up the Nvidia EGL driver.\n",
    "    # This is usually installed as part of an Nvidia driver package, but the Colab\n",
    "    # kernel doesn't install its driver via APT, and as a result the ICD is missing.\n",
    "    # (https://github.com/NVIDIA/libglvnd/blob/master/src/EGL/icd_enumeration.md)\n",
    "    NVIDIA_ICD_CONFIG_PATH = '/usr/share/glvnd/egl_vendor.d/10_nvidia.json'\n",
    "    if not os.path.exists(NVIDIA_ICD_CONFIG_PATH):\n",
    "        with open(NVIDIA_ICD_CONFIG_PATH, 'w') as f:\n",
    "            f.write(\n",
    "                    \"\"\"{\n",
    "                            \"file_format_version\" : \"1.0.0\",\n",
    "                            \"ICD\" : {\n",
    "                                \"library_path\" : \"libEGL_nvidia.so.0\"\n",
    "                            }\n",
    "                        }\n",
    "                        \"\"\"\n",
    "                    )\n",
    "\n",
    "    # Configure MuJoCo to use the EGL rendering backend (requires GPU)\n",
    "    print('Setting environment variable to use GPU rendering:')\n",
    "    %env MUJOCO_GL=egl\n",
    "\n",
    "    # Check if jax finds the GPU\n",
    "    import jax\n",
    "\n",
    "    print(jax.devices('gpu'))\n",
    "except Exception:\n",
    "    logging.warning(\"Failed to initialize GPU. Everything will run on the cpu.\")\n",
    "\n",
    "try:\n",
    "    print('Checking that the mujoco installation succeeded:')\n",
    "    import mujoco\n",
    "\n",
    "    mujoco.MjModel.from_xml_string('<mujoco/>')\n",
    "except Exception as e:\n",
    "    raise e from RuntimeError(\n",
    "            'Something went wrong during installation. Check the shell output above '\n",
    "            'for more information.\\n'\n",
    "            'If using a hosted Colab runtime, make sure you enable GPU acceleration '\n",
    "            'by going to the Runtime menu and selecting \"Choose runtime type\".'\n",
    "            )\n",
    "\n",
    "print('MuJoCo installation successful.')"
   ]
  },
  {
   "cell_type": "markdown",
   "source": [
    "Some packages and utility functions for visualization."
   ],
   "metadata": {
    "collapsed": false
   }
  },
  {
   "cell_type": "code",
   "outputs": [
    {
     "name": "stdout",
     "output_type": "stream",
     "text": [
      "Installing mediapy:\n"
     ]
    }
   ],
   "source": [
    "from mujoco_utils.environment.base import MuJoCoEnvironmentConfiguration\n",
    "from mujoco_utils.mjcf_utils import MJCFRootComponent\n",
    "import numpy as np\n",
    "import jax.numpy as jnp\n",
    "from typing import Union, List\n",
    "\n",
    "# Graphics and plotting.\n",
    "print('Installing mediapy:')\n",
    "ffmpeg_v = !command -v ffmpeg\n",
    "assert \"command not found\" not in ffmpeg_v, f\"Please install FFmpeg for visualizations.\"\n",
    "!{sys.executable} -m pip install -q mediapy\n",
    "import mediapy as media\n",
    "\n",
    "# More legible printing from numpy.\n",
    "np.set_printoptions(precision=3, suppress=True, linewidth=100)\n",
    "jnp.set_printoptions(precision=3, suppress=True, linewidth=100)\n",
    "\n",
    "def visualize_mjcf(\n",
    "        mjcf: MJCFRootComponent\n",
    "        ) -> None:\n",
    "    model = mujoco.MjModel.from_xml_string(mjcf.get_mjcf_str())\n",
    "    data = mujoco.MjData(model)\n",
    "    renderer = mujoco.Renderer(model)\n",
    "    mujoco.mj_forward(model, data)\n",
    "    renderer.update_scene(data)\n",
    "    media.show_image(renderer.render())\n",
    "\n",
    "\n",
    "def post_environment_render(\n",
    "        render_output: Union[np.ndarray, List[np.ndarray]],\n",
    "        environment_configuration: MuJoCoEnvironmentConfiguration\n",
    "        ) -> np.ndarray:\n",
    "    if len(environment_configuration.camera_ids) > 1:\n",
    "        render_output = [np.concatenate(env_frames, axis=1) for env_frames in render_output]\n",
    "\n",
    "    return render_output[:, :, ::-1]  # RGB to BGR"
   ],
   "metadata": {
    "collapsed": false,
    "ExecuteTime": {
     "end_time": "2024-01-15T23:31:48.506146Z",
     "start_time": "2024-01-15T23:31:46.288040Z"
    }
   },
   "execution_count": 4
  },
  {
   "cell_type": "markdown",
   "metadata": {
    "id": "Y8ilIik5Vp7L"
   },
   "source": [
    "## The Brittle Star Environment\n",
    "> “The whole of the brittle stars are curious and restless beings. They can never remain in the same attitude for the tenth part of a second, but are constantly twisting their long arms, as if they were indeed the serpents with which Medusa’s head was surrounded.” -- J. G. Wood, 1898\n",
    "\n",
    "The Brittle Star Robot environment within the Bio-Inspired Robotics Benchmark (BRB) presents an intriguing case study, embodying the intersection of natural biological systems and robotic engineering. To introduce this environment, it's essential to first understand the biological entity that inspired it: the brittle star.\n",
    "\n",
    "TODO: image of brittle stars species\n",
    "(Image src: https://doi.org/10.1016/j.jsb.2020.107481)"
   ]
  },
  {
   "cell_type": "markdown",
   "source": [
    "### The Brittle Star\n",
    "Brittle stars, belonging to the class Ophiuroidea, are remarkable echinoderms distinguished by their distinctively slender arms and central disk. They inhabit various marine environments, showcasing a fascinating array of behaviors and adaptations that have captivated biologists for decades. One of the most striking features of brittle stars is their locomotion. Unlike their close relatives, the starfish, brittle stars move with a unique, elegant undulating motion of their arms. This locomotion is not only efficient but also highly adaptable, allowing them to navigate complex underwater terrains with agility and precision.\n",
    "\n",
    "In addition to locomotion, brittle stars use their arms to hold onto substrates, coiling their flexible arms tightly around structurally complex objects such as kelp, sponges, or corals, with spines located along the arms aiding in the anchoring process.\n",
    "\n",
    "From an evolutionary standpoint, brittle stars represent a significant lineage, offering insights into the adaptability and resilience of marine life. Their ability to regenerate lost limbs and their sensory capabilities, which include responding to light without distinct eyes, are just a few examples of their remarkable biological traits. These characteristics make them an excellent subject for bio-inspired robotics, as they provide a template for designing robots that are both flexible and resilient, capable of navigating and adapting to diverse environments.\n",
    "\n",
    "#### Morphology\n",
    "\n",
    "todo add image: arm anatomy\n",
    "(Image src: https://doi.org/10.1016/j.jsb.2020.107481) \n",
    "\n",
    "At the core of a brittle star's anatomy is the central disk, which varies in size from as small as 3mm to as large as 50mm. This disk is not just a structural component but also serves as a crucial hub for the organism's nervous system and, in some species, reproductive organs. \n",
    "\n",
    "Brittle stars possess five arms that are symmetrically arranged in a pentaradial fashion around the central disk. This pentaradial symmetry is a hallmark of echinoderms and is crucial for the brittle star's locomotion and interaction with its environment. These arms typically span about two to twenty times the diameter of the central disk. In terms of mobility, the arms of brittle stars are capable of both in-plane and out-of-plane bending.\n",
    "\n",
    "Structurally, each arm consists of a chain of segments, each one consisting out of a vertebra and 4 muscle groups and completely enclosed by plates. This skeletal structure provides both support and flexibility, enabling the arms to move fluidly while maintaining structural integrity.\n",
    "\n",
    "todo add image: brittle_stars_muscles.jpg\n",
    "(Image src: https://doi.org/10.3389/fnbot.2019.00104)\n",
    "\n",
    "Lastly, the arms of brittle stars are adorned with soft spines. These spines play a crucial role in anchoring and interacting with the environment. They provide stability and traction on various surfaces, aiding in locomotion and foraging activities.\n",
    "\n",
    "#### Nervous system\n",
    "todo add image: nervous system\n",
    "(Image src: http://dx.doi.org/10.3389/fnbot.2019.00066)\n",
    "\n",
    "The nervous system of the brittle star is a fascinating aspect of its biology, characterized by its decentralized nature. This decentralized nervous system is quite different from the central nervous systems found in vertebrates and even some invertebrates. In brittle stars, the nervous system is primarily composed of a nerve ring that encircles the central disk, from which branches extend into each arm.\n",
    "\n",
    "The nerve ring acts as a central hub, integrating sensory inputs and coordinating the movements of the arms. Unlike centralized nervous systems where a brain or a similar central organ exerts control, the nerve ring in brittle stars does not function as a central command center. Instead, it serves more as a conduit or a relay station, facilitating communication across the organism's body.\n",
    "\n",
    "From this nerve ring, nerve branches run along each arm, allowing for localized control and sensory perception within each limb. This structure is crucial for the brittle star's survival, as it enables each arm to react independently to stimuli. For instance, if one arm encounters a predator or a harmful stimulus, it can respond immediately and appropriately, without the need for centralized processing. \n",
    "\n",
    "\n",
    "#### Behavioural studies \n",
    "Several modes of locomotion have been observed in brittle star species, with one species often exhibiting multiple modes. A common mode is the 'breast stroke' or 'rowing', where the brittle star moves forward led by an arm, uses two lateral arms as rowers, and drags the remaining two arms passively. This mode is documented in various studies. Another mode, known as 'paddling' or 'reverse rowing,' involves dragging the rearmost arm while the other four arms actively row. These modes, which involve bilaterally coordinated movements, allow the brittle star to crawl in a specific direction. However, as the role of each arm changes with the direction of movement, brittle stars do not maintain fixed front-back and left-right axes.\n",
    "\n",
    "The following biological works provide valuable insights into the behavior and control mechanisms of brittle stars, which provides a source of inspiration for their artificial counterpart. Here's a summary of each paper's findings:\n",
    "\n",
    "- **Flexible coordination of flexible limbs: decentralized control scheme for inter- and intra-limb coordination in brittle stars’ locomotion**\n",
    "    - Brittle stars display distinct roles for their arms: forelimbs, hindlimbs, and a center limb. This specialization allows for effective locomotion.\n",
    "    - When all arms are shortened, brittle stars maintain their inter-arm coordination pattern, similar to when they are intact.\n",
    "    - If some arms are removed, they still move effectively by coordinating the degrees of freedom in the remaining arms.\n",
    "    - In the presence of obstacles, arms either push against objects to assist propulsion or avoid objects that hinder propulsion.\n",
    "    - An arm completely detached from its disc is incapable of coordinated locomotion, indicating the importance of the proximal ends of the arms in the central disk for locomotion.\n",
    "- **The function of the ophiuroid nerve ring: how a decentralized nervous system controls coordinated locomotion**\n",
    "    - Nerve cut experiments reveal that the longest axons in the circumoral nerve ring do not extend beyond a fifth of its total length, suggesting limited direct connections between distant nodes.\n",
    "    - Coordinated locomotion persists even with a single nerve ring cut, implying bidirectional connections between adjacent arms.\n",
    "    - Arms adjacent to a nerve cut are less likely to lead in locomotion, suggesting that leading arms are those with better information propagation capabilities.\n",
    "- **Decentralized Control Mechanism for Determination of Moving Direction in Brittle Stars With Penta-Radially Symmetric body**\n",
    "    - When the nerve ring is cut in one place, movement tends to be in the opposite direction of the cut, and coordination is maintained except for arms adjacent to the cut.\n",
    "    - With two cuts in the nerve ring, only neurally connected arms coordinate, while disconnected ones do not.\n",
    "    - Complete severance of nerve ring connections between arms results in a lack of coordination and thus no locomotion.\n",
    "    - If the nerve ring is cut on both sides of the same arm, the neurally isolated arm does not coordinate with others, highlighting the role of sensory input in coordination.\n",
    "- **A brittle star-like robot capable of immediately adapting to unexpected physical damage**\n",
    "    - Amputation experiments show varying roles for arms: center limb for orientation, forelimbs for propulsion, and minimal role for hindlimbs.\n",
    "    - If arms are amputated, the robot adapts by reassigning roles, like using remaining arms for reverse rowing or as a trailing arm.\n",
    "    - With three arms removed and no adjacent arms remaining, the direction-orienting arm swings to pull the body forward, while other arms play minimal roles in propulsion.\n",
    "    - If only one arm remains, it swings left and right to pull the body forward.\n",
    "    - When ground contacts of the arms are deprived, the subjects lose coordination in their arms.\n",
    "\n",
    "#### What makes it interesting for robotics?\n",
    "The brittle star presents an intriguing case study for robotics due to several key characteristics:\n",
    "\n",
    "1. Adaptive Locomotion in Unpredictable and Unstructured Environments: Brittle stars excel at navigating through unpredictable and unstructured environments. Their ability to adapt their locomotion patterns in response to varying terrain and obstacles makes them an excellent model for developing robots that can operate effectively in complex and dynamic settings.\n",
    "2. Prehensile Arms Enabling Manipulation: The arms of brittle stars are not only locomotive appendages but also prehensile, meaning they have the ability to grasp and manipulate objects, such as prey. This feature is highly valuable in robotics, offering insights into designing robotic limbs that can perform intricate manipulation tasks.\n",
    "3. Robustness to Damage: Thanks to their modular and redundant design, brittle stars are highly robust to damage. Each arm can operate independently, which means that the loss or impairment of one arm does not significantly hinder the overall functionality. This characteristic is crucial for creating resilient robotic systems that can maintain operation even when parts of them are damaged.\n",
    "4. Integration of Strength and Flexibility in Arms: The arms of a brittle star embody a unique combination of strength and flexibility. This integration is key to their versatile functionality, allowing for both powerful movements and delicate handling. Replicating this in robotics could lead to the development of robotic limbs that are both strong and dexterous, capable of performing a wide range of tasks."
   ],
   "metadata": {
    "collapsed": false
   }
  },
  {
   "cell_type": "markdown",
   "source": [
    "### In-silico brittle star morphology\n",
    "The in-silico model of the brittle star morphology provides an abstract virtual twin. As discussed above, every morphology in the BRB is parameterized via [FPRS](https://github.com/Co-Evolve/fprs) and the brittle star's morphology specification can be found [here](https://github.com/Co-Evolve/brb/blob/brittle-star/brb/brittle_star/morphology/specification/specification.py). Default parameter values can be found [here](https://github.com/Co-Evolve/brb/blob/brittle-star/brb/brittle_star/morphology/specification/default.py). In our case, the most important configuration parameters are the number of arms, and the number of segments that each arm has.\n",
    "\n",
    "todo add image: in silico model \n",
    "Every segment has two degrees of freedom (DoF), one for in-plane motion and one for out-of-plane motion.\n",
    "\n",
    "In terms of sensing, the following sensors are implemented. These sensors define the base set of observations that every brittle star environment returns as observations (further discussed below). \n",
    "- Proprioception\n",
    "    - Joint positions (in radians)\n",
    "    - Joint velocities (in radians / second)\n",
    "    - Central disk's position (w.r.t. world frame)\n",
    "    - Central disk's rotation (w.r.t. world frame, in radians)\n",
    "    - Central disk's velocity (w.r.t. world frame, in m/s)\n",
    "    - Central disk's angular velocity (w.r.t. world frame, in radians/s)\n",
    "- Exteroception\n",
    "    - Touch (per segment, binary)\n",
    "\n",
    "\n",
    "In terms of actuation, the following actuators are implemented (two per segment, one for the in-plane DoF and one for the out-of-plane DoF). The brittle star's morphology specification defines which one of the two is to be used:\n",
    "- Position control\n",
    "- Torque control"
   ],
   "metadata": {
    "collapsed": false
   }
  },
  {
   "cell_type": "markdown",
   "source": [
    "### Environment variants\n",
    "The brittle star environment comes with three locomotion-orientated tasks that provide a curriculum of increasing difficulty: \n",
    "1. Undirected locomotion (simple): Move the brittle star away as far as possible from its starting position.\n",
    "    - Reward per timestep: $distance\\_current\\_timestep - distance\\_previous\\_timestep$. The reward will thus be positive if the distance from its starting position has increased in the current timestep, and negative if this distance has decreased.\n",
    "2. Targeted locomotion (intermediate): Move the brittle star towards a randomly spawned target.\n",
    "    - Reward per timestep: $distance\\_previous\\_timestep - distance\\_current\\_timestep$. The reward will thus be positive if the distance to the target has decreased in the current timestep, and negative if this distance has increased.\n",
    "    - Additional observations:\n",
    "        - Unit direction on the horizontal XY plane from the central disk to the target.\n",
    "        - The distance in XY plane from the central disk to the target.\n",
    "3. Light escape (hard): Move the brittle star towards darker spots in the environment.\n",
    "    - Reward per timestep: $light\\_income\\_previous\\_timestep - light\\_income\\_current\\_timestep$. The reward will thus be positive if the measured light income has decreased in the current timestep, and negative if the ight income has increased.\n",
    "    - Additional observations:\n",
    "        - The amount of light each segment takes in.\n",
    "\n",
    "todo add image: brittle star environments"
   ],
   "metadata": {
    "collapsed": false
   }
  },
  {
   "cell_type": "markdown",
   "metadata": {
    "id": "A3wIqNI7TycP"
   },
   "source": [
    "## Creating the environment"
   ]
  },
  {
   "cell_type": "markdown",
   "metadata": {
    "id": "zMqhYwKzVdpA"
   },
   "source": [
    "### 1. Creating the morphology \n",
    "The first step is to create the Brittle Star morphology. In essence, this comes down to providing an instance of a [BrittleStarMorphologySpecification](https://github.com/Co-Evolve/brb/blob/new-framework/brb/brittle_star/mjcf/morphology/specification/specification.py#L78) to the [MJCFBrittleStarMorphology](https://github.com/Co-Evolve/brb/blob/new-framework/brb/brittle_star/mjcf/morphology/morphology.py) class. The `MJCFBrittleStarMorphology` can then use the specified morphological parameters to generate the corresponding MuJoCo MJCF. "
   ]
  },
  {
   "cell_type": "code",
   "execution_count": 5,
   "metadata": {
    "collapsed": false,
    "ExecuteTime": {
     "end_time": "2024-01-15T23:31:48.649045Z",
     "start_time": "2024-01-15T23:31:48.586889Z"
    }
   },
   "outputs": [],
   "source": [
    "from mujoco_utils.environment.mjx_env import MJXGymEnvWrapper\n",
    "import gymnasium\n",
    "from brb.brittle_star.mjcf.morphology.specification.default import default_brittle_star_morphology_specification\n",
    "from brb.brittle_star.mjcf.morphology.morphology import MJCFBrittleStarMorphology\n",
    "from brb.brittle_star.mjcf.morphology.specification.specification import BrittleStarMorphologySpecification\n",
    "\n",
    "\n",
    "def create_morphology(\n",
    "        morphology_specification: BrittleStarMorphologySpecification\n",
    "        ) -> MJCFBrittleStarMorphology:\n",
    "    morphology = MJCFBrittleStarMorphology(\n",
    "            specification=morphology_specification\n",
    "            )\n",
    "    return morphology"
   ]
  },
  {
   "cell_type": "code",
   "outputs": [
    {
     "data": {
      "text/plain": "<IPython.core.display.HTML object>",
      "text/html": "<table class=\"show_images\" style=\"border-spacing:0px;\"><tr><td style=\"padding:1px;\"><img width=\"320\" height=\"240\" style=\"image-rendering:auto; object-fit:cover;\" src=\"data:image/png;base64,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\"/></td></tr></table>"
     },
     "metadata": {},
     "output_type": "display_data"
    }
   ],
   "source": [
    "morphology_specification = default_brittle_star_morphology_specification(\n",
    "        num_arms=5, num_segments_per_arm=4, use_p_control=True, use_torque_control=False\n",
    "        )\n",
    "morphology = create_morphology(morphology_specification=morphology_specification)\n",
    "visualize_mjcf(mjcf=morphology)"
   ],
   "metadata": {
    "id": "tWclyg93YAuw",
    "ExecuteTime": {
     "end_time": "2024-01-15T23:31:48.755214Z",
     "start_time": "2024-01-15T23:31:48.649361Z"
    }
   },
   "execution_count": 6
  },
  {
   "cell_type": "markdown",
   "source": [
    "We can also specify a different amount of segments per arm."
   ],
   "metadata": {
    "collapsed": false
   }
  },
  {
   "cell_type": "code",
   "outputs": [
    {
     "data": {
      "text/plain": "<IPython.core.display.HTML object>",
      "text/html": "<table class=\"show_images\" style=\"border-spacing:0px;\"><tr><td style=\"padding:1px;\"><img width=\"320\" height=\"240\" style=\"image-rendering:auto; object-fit:cover;\" src=\"data:image/png;base64,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\"/></td></tr></table>"
     },
     "metadata": {},
     "output_type": "display_data"
    }
   ],
   "source": [
    "morphology_specification = default_brittle_star_morphology_specification(\n",
    "        num_arms=5, num_segments_per_arm=[1, 2, 3, 4, 5], use_p_control=True, use_torque_control=False\n",
    "        )\n",
    "morphology = create_morphology(morphology_specification=morphology_specification)\n",
    "visualize_mjcf(mjcf=morphology)"
   ],
   "metadata": {
    "collapsed": false,
    "ExecuteTime": {
     "end_time": "2024-01-15T23:31:48.803805Z",
     "start_time": "2024-01-15T23:31:48.752531Z"
    }
   },
   "execution_count": 7
  },
  {
   "cell_type": "markdown",
   "metadata": {
    "id": "FsqQr6u6Vj4O"
   },
   "source": [
    "### 2. Creating the arena\n",
    "Similarly to the morphology, the next step is to configure and create the AquariumArena in which we will put our brittle star. This arena uses a [simplified fluid model](https://mujoco.readthedocs.io/en/stable/computation/fluid.html#inertia-model) to simulate an aquatic environment."
   ]
  },
  {
   "cell_type": "code",
   "outputs": [],
   "source": [
    "from brb.brittle_star.mjcf.arena.aquarium import AquariumArenaConfiguration, MJCFAquariumArena\n",
    "\n",
    "\n",
    "def create_arena(\n",
    "        arena_configuration: AquariumArenaConfiguration\n",
    "        ) -> MJCFAquariumArena:\n",
    "    arena = MJCFAquariumArena(\n",
    "            configuration=arena_configuration\n",
    "            )\n",
    "    return arena"
   ],
   "metadata": {
    "id": "qq9gGgDBYm7U",
    "ExecuteTime": {
     "end_time": "2024-01-15T23:31:48.804496Z",
     "start_time": "2024-01-15T23:31:48.799474Z"
    }
   },
   "execution_count": 8
  },
  {
   "cell_type": "code",
   "outputs": [
    {
     "data": {
      "text/plain": "<IPython.core.display.HTML object>",
      "text/html": "<table class=\"show_images\" style=\"border-spacing:0px;\"><tr><td style=\"padding:1px;\"><img width=\"320\" height=\"240\" style=\"image-rendering:auto; object-fit:cover;\" src=\"data:image/png;base64,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\"/></td></tr></table>"
     },
     "metadata": {},
     "output_type": "display_data"
    }
   ],
   "source": [
    "arena_configuration = AquariumArenaConfiguration(\n",
    "        size=(10, 5), sand_ground_color=True, attach_target=False, wall_height=1.5, wall_thickness=0.1\n",
    "        )\n",
    "arena = create_arena(arena_configuration=arena_configuration)\n",
    "visualize_mjcf(mjcf=arena)"
   ],
   "metadata": {
    "collapsed": false,
    "ExecuteTime": {
     "end_time": "2024-01-15T23:31:48.834040Z",
     "start_time": "2024-01-15T23:31:48.804402Z"
    }
   },
   "execution_count": 9
  },
  {
   "cell_type": "markdown",
   "metadata": {
    "id": "tCGQvuiHVo91"
   },
   "source": [
    "### 3. Creating the environment\n",
    "Now we can create the actual environment that combines the above morphology and arena. As discussed above, we have three different environment versions (each specifying a specific task) in which we can put our brittle star. Each version has a specific EnvironmentConfiguration."
   ]
  },
  {
   "cell_type": "code",
   "execution_count": 10,
   "metadata": {
    "id": "YWHuHyaqZZd8",
    "ExecuteTime": {
     "end_time": "2024-01-15T23:31:48.844358Z",
     "start_time": "2024-01-15T23:31:48.832668Z"
    }
   },
   "outputs": [],
   "source": [
    "from brb.brittle_star.environment.light.mjc_env import BrittleStarLightEnvironmentConfiguration\n",
    "from brb.brittle_star.environment.target.mjc_env import BrittleStarTargetEnvironmentConfiguration\n",
    "from brb.brittle_star.environment.locomotion.mjc_env import BrittleStarLocomotionEnvironmentConfiguration\n",
    "\n",
    "locomotion_environment_configuration = BrittleStarLocomotionEnvironmentConfiguration(\n",
    "         # If this value is > 0 then we will add randomly sampled noise to the initial joint positions and velocities \n",
    "        joint_randomization_noise_scale=0.0,\n",
    "        # Visualization mode \n",
    "        render_mode=\"rgb_array\",\n",
    "        # Number of seconds per episode \n",
    "        simulation_time=5,\n",
    "        # Number of physics substeps to do per control step \n",
    "        num_physics_steps_per_control_step=10\n",
    "        )\n",
    "target_locomotion_environment_configuration = BrittleStarTargetEnvironmentConfiguration(\n",
    "        # Distance to put our target at (targets are spawned on a circle around the starting location with this given radius).\n",
    "        target_distance=3.0,\n",
    "        joint_randomization_noise_scale=0.0,\n",
    "        render_mode=\"rgb_array\",\n",
    "        simulation_time=5,\n",
    "        num_physics_steps_per_control_step=10\n",
    "        )\n",
    "light_escape_environment_configuration = BrittleStarLightEnvironmentConfiguration(\n",
    "        # If this value is > 0, we will add perlin noise to the generated light map. Otherwise, the light map is a simple linear gradient.\n",
    "        #   Please only provide integer factors of 200.\n",
    "        light_perlin_noise_scale=0,\n",
    "        joint_randomization_noise_scale=0,\n",
    "        render_mode=\"rgb_array\",\n",
    "        simulation_time=5,\n",
    "        num_physics_steps_per_control_step=10\n",
    "        )"
   ]
  },
  {
   "cell_type": "markdown",
   "metadata": {
    "id": "fKGuNkH3WRdI"
   },
   "source": [
    "#### Creator\n",
    "We can now define a function that takes in a certain morphological specification, the arena configuration and the environment configuration and returns the actual environment. Note that we have added an additional argument to this function,`backend`, which can be used to choose between instantiating the MJC (native MuJoCo) or the MJX (JAX-based MuJoCo) implementation of the environment.\n",
    "\n",
    "This function also accepts a `num_environments` argument, which can be ignored for now. We will discuss this in the 'vectorization' section below."
   ]
  },
  {
   "cell_type": "code",
   "execution_count": 11,
   "metadata": {
    "id": "_4R9PmCtWEdJ",
    "ExecuteTime": {
     "end_time": "2024-01-15T23:31:48.846091Z",
     "start_time": "2024-01-15T23:31:48.836825Z"
    }
   },
   "outputs": [],
   "source": [
    "from mujoco_utils.environment.mjc_env import MJCEnv\n",
    "from brb.brittle_star.environment.light.mjc_env import BrittleStarLightMJCEnvironment\n",
    "from brb.brittle_star.environment.target.mjc_env import BrittleStarTargetMJCEnvironment\n",
    "from brb.brittle_star.environment.locomotion.mjc_env import BrittleStarLocomotionMJCEnvironment\n",
    "from brb.brittle_star.environment.light.mjx_env import BrittleStarLightMJXEnvironment\n",
    "from brb.brittle_star.environment.target.mjx_env import BrittleStarTargetMJXEnvironment\n",
    "from brb.brittle_star.environment.locomotion.mjx_env import BrittleStarLocomotionMJXEnvironment\n",
    "from mujoco_utils.environment.base import MuJoCoEnvironmentConfiguration\n",
    "\n",
    "\n",
    "def create_environment(\n",
    "        morphology_specification: BrittleStarMorphologySpecification,\n",
    "        arena_configuration: AquariumArenaConfiguration,\n",
    "        environment_configuration: MuJoCoEnvironmentConfiguration,\n",
    "        backend: str,\n",
    "        num_environments: int = 1\n",
    "        ) -> Union[MJCEnv, MJXGymEnvWrapper]:\n",
    "    assert backend in [\"MJC\", \"MJX\"], \"Please specify a valid backend; Either 'MJC' or 'MJX'\"\n",
    "\n",
    "    def _create_env() -> Union[MJCEnv, gymnasium.vector.AsyncVectorEnv, MJXGymEnvWrapper]:\n",
    "        morphology = create_morphology(\n",
    "                morphology_specification=morphology_specification\n",
    "                )\n",
    "        arena = create_arena(\n",
    "                arena_configuration=arena_configuration\n",
    "                )\n",
    "        if isinstance(environment_configuration, BrittleStarLocomotionEnvironmentConfiguration):\n",
    "            env_class = BrittleStarLocomotionMJCEnvironment if backend == \"MJC\" else BrittleStarLocomotionMJXEnvironment\n",
    "        elif isinstance(environment_configuration, BrittleStarTargetEnvironmentConfiguration):\n",
    "            env_class = BrittleStarTargetMJCEnvironment if backend == \"MJC\" else BrittleStarTargetMJXEnvironment\n",
    "        else:\n",
    "            env_class = BrittleStarLightMJCEnvironment if backend == \"MJC\" else BrittleStarLightMJXEnvironment\n",
    "\n",
    "        env = env_class(morphology=morphology, arena=arena, configuration=environment_configuration)\n",
    "        return env\n",
    "\n",
    "    if backend == \"MJC\":\n",
    "        if num_environments > 1:\n",
    "            return gymnasium.vector.AsyncVectorEnv(\n",
    "                    [_create_env for _ in range(num_environments)]\n",
    "                    )\n",
    "        else:\n",
    "            return _create_env()\n",
    "    else:\n",
    "        # MJXGymEnvWrapper takes care of the handling the consequences of functional programming made necessary by Jax \n",
    "        return MJXGymEnvWrapper(env=_create_env(), num_envs=num_environments)"
   ]
  },
  {
   "cell_type": "markdown",
   "source": [
    "Given the above utility functions, the next code snippet instantiates the environment. \n",
    "Use this to test the influence of different parameters and configurations."
   ],
   "metadata": {
    "collapsed": false
   }
  },
  {
   "cell_type": "code",
   "outputs": [
    {
     "data": {
      "text/plain": "<IPython.core.display.HTML object>",
      "text/html": "<table class=\"show_images\" style=\"border-spacing:0px;\"><tr><td style=\"padding:1px;\"><img width=\"320\" height=\"240\" style=\"image-rendering:auto; object-fit:cover;\" src=\"data:image/png;base64,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\"/></td></tr></table>"
     },
     "metadata": {},
     "output_type": "display_data"
    }
   ],
   "source": [
    "morphology_specification = default_brittle_star_morphology_specification(\n",
    "        num_arms=5, num_segments_per_arm=4, use_p_control=True, use_torque_control=False\n",
    "        )\n",
    "arena_configuration = AquariumArenaConfiguration(\n",
    "        size=(10, 5), sand_ground_color=True, attach_target=False, wall_height=1.5, wall_thickness=0.1\n",
    "        )\n",
    "environment_configuration = BrittleStarLightEnvironmentConfiguration(\n",
    "        joint_randomization_noise_scale=0.0,\n",
    "        light_perlin_noise_scale=0,\n",
    "        render_mode=\"rgb_array\",\n",
    "        simulation_time=5,\n",
    "        num_physics_steps_per_control_step=10\n",
    "        )\n",
    "env = create_environment(\n",
    "        morphology_specification=morphology_specification,\n",
    "        arena_configuration=arena_configuration,\n",
    "        environment_configuration=environment_configuration,\n",
    "        backend=\"MJC\"\n",
    "        )\n",
    "\n",
    "env.reset()  # Always need to reset the environment before doing anything else with it\n",
    "frame = env.render()\n",
    "media.show_image(post_environment_render(frame, environment_configuration=environment_configuration))\n",
    "env.close() # always close the environment after using it!"
   ],
   "metadata": {
    "collapsed": false,
    "ExecuteTime": {
     "end_time": "2024-01-15T23:31:48.963271Z",
     "start_time": "2024-01-15T23:31:48.921581Z"
    }
   },
   "execution_count": 12
  },
  {
   "cell_type": "markdown",
   "source": [
    "## Using the environment\n",
    "In this section we will check how we can now actually use the environments. Let's start by instantiating both an MJC and MJX variant."
   ],
   "metadata": {
    "collapsed": false
   }
  },
  {
   "cell_type": "code",
   "outputs": [],
   "source": [
    "mjc_env = create_environment(\n",
    "        morphology_specification=morphology_specification,\n",
    "        arena_configuration=arena_configuration,\n",
    "        environment_configuration=environment_configuration,\n",
    "        backend=\"MJC\"\n",
    "        )\n",
    "mjx_env = create_environment(\n",
    "        morphology_specification=morphology_specification,\n",
    "        arena_configuration=arena_configuration,\n",
    "        environment_configuration=environment_configuration,\n",
    "        backend=\"MJX\"\n",
    "        )"
   ],
   "metadata": {
    "collapsed": false,
    "ExecuteTime": {
     "end_time": "2024-01-15T23:31:49.198927Z",
     "start_time": "2024-01-15T23:31:48.986169Z"
    }
   },
   "execution_count": 13
  },
  {
   "cell_type": "markdown",
   "metadata": {
    "id": "HGaNtSd-GK5k"
   },
   "source": [
    "### Observation space\n",
    "The observation describes the dimensionality and range of the observations that the environment returns upon reset and after taking a step. As both the MJC and MJX variants implement the same environment, although with a different backend, they have the same observation space."
   ]
  },
  {
   "cell_type": "code",
   "execution_count": 14,
   "metadata": {
    "colab": {
     "base_uri": "https://localhost:8080/"
    },
    "id": "VOu3oM4ZS1mm",
    "outputId": "4088bc68-107d-4684-b0db-46e56763b0e2",
    "ExecuteTime": {
     "end_time": "2024-01-15T23:31:49.208454Z",
     "start_time": "2024-01-15T23:31:49.201626Z"
    }
   },
   "outputs": [
    {
     "name": "stdout",
     "output_type": "stream",
     "text": [
      "Dict('disk_angular_velocity': Box(-inf, inf, (3,), float32), 'disk_linear_velocity': Box(-inf, inf, (3,), float32), 'disk_position': Box(-inf, inf, (3,), float32), 'disk_rotation': Box(-3.1415927, 3.1415927, (3,), float32), 'in_plane_joint_position': Box(-0.5235988, 0.5235988, (20,), float32), 'in_plane_joint_velocity': Box(-inf, inf, (20,), float32), 'out_of_plane_joint_position': Box(-0.5235988, 0.5235988, (20,), float32), 'out_of_plane_joint_velocity': Box(-inf, inf, (20,), float32), 'segment_contact': Box(0.0, 1.0, (20,), float32), 'segment_light_intake': Box(0.0, 1.0, (20,), float32))\n",
      "\n",
      "Dict('disk_angular_velocity': Box(-inf, inf, (3,), float32), 'disk_linear_velocity': Box(-inf, inf, (3,), float32), 'disk_position': Box(-inf, inf, (3,), float32), 'disk_rotation': Box(-3.1415927, 3.1415927, (3,), float32), 'in_plane_joint_position': Box(-0.5235988, 0.5235988, (20,), float32), 'in_plane_joint_velocity': Box(-inf, inf, (20,), float32), 'out_of_plane_joint_position': Box(-0.5235988, 0.5235988, (20,), float32), 'out_of_plane_joint_velocity': Box(-inf, inf, (20,), float32), 'segment_contact': Box(0.0, 1.0, (20,), float32), 'segment_light_intake': Box(0.0, 1.0, (20,), float32))\n"
     ]
    }
   ],
   "source": [
    "print(mjc_env.observation_space)\n",
    "print()\n",
    "print(mjx_env.observation_space)"
   ]
  },
  {
   "cell_type": "markdown",
   "metadata": {
    "id": "Gd65GNHyGMlY"
   },
   "source": [
    "### Action space\n",
    "The action space describes the dimensionality and range of actions the environment expects in order to take a step. In essence, the environment maps each given action to the control signal of an actuator."
   ]
  },
  {
   "cell_type": "code",
   "execution_count": 15,
   "metadata": {
    "colab": {
     "base_uri": "https://localhost:8080/"
    },
    "id": "Tc9zKb81bEwB",
    "outputId": "496a166e-56cd-4c9b-9331-264fe9e168d9",
    "ExecuteTime": {
     "end_time": "2024-01-15T23:31:49.209009Z",
     "start_time": "2024-01-15T23:31:49.203740Z"
    }
   },
   "outputs": [
    {
     "name": "stdout",
     "output_type": "stream",
     "text": [
      "Box(-0.5235988, 0.5235988, (40,), float32)\n",
      "\n",
      "Box(-0.5235988, 0.5235988, (40,), float32)\n"
     ]
    }
   ],
   "source": [
    "print(mjc_env.action_space)\n",
    "print()\n",
    "print(mjx_env.action_space)"
   ]
  },
  {
   "cell_type": "markdown",
   "source": [
    "To help in knowing which action is mapped to which actuator, the following call returns a list of actuator names such that `actions[i]` is mapped to `actuator[i]`. "
   ],
   "metadata": {
    "collapsed": false
   }
  },
  {
   "cell_type": "code",
   "outputs": [
    {
     "name": "stdout",
     "output_type": "stream",
     "text": [
      "['BrittleStarMorphology/arm_0_segment_0_in_plane_joint_p_control', 'BrittleStarMorphology/arm_0_segment_0_out_of_plane_joint_p_control', 'BrittleStarMorphology/arm_0_segment_1_in_plane_joint_p_control', 'BrittleStarMorphology/arm_0_segment_1_out_of_plane_joint_p_control', 'BrittleStarMorphology/arm_0_segment_2_in_plane_joint_p_control', 'BrittleStarMorphology/arm_0_segment_2_out_of_plane_joint_p_control', 'BrittleStarMorphology/arm_0_segment_3_in_plane_joint_p_control', 'BrittleStarMorphology/arm_0_segment_3_out_of_plane_joint_p_control', 'BrittleStarMorphology/arm_1_segment_0_in_plane_joint_p_control', 'BrittleStarMorphology/arm_1_segment_0_out_of_plane_joint_p_control', 'BrittleStarMorphology/arm_1_segment_1_in_plane_joint_p_control', 'BrittleStarMorphology/arm_1_segment_1_out_of_plane_joint_p_control', 'BrittleStarMorphology/arm_1_segment_2_in_plane_joint_p_control', 'BrittleStarMorphology/arm_1_segment_2_out_of_plane_joint_p_control', 'BrittleStarMorphology/arm_1_segment_3_in_plane_joint_p_control', 'BrittleStarMorphology/arm_1_segment_3_out_of_plane_joint_p_control', 'BrittleStarMorphology/arm_2_segment_0_in_plane_joint_p_control', 'BrittleStarMorphology/arm_2_segment_0_out_of_plane_joint_p_control', 'BrittleStarMorphology/arm_2_segment_1_in_plane_joint_p_control', 'BrittleStarMorphology/arm_2_segment_1_out_of_plane_joint_p_control', 'BrittleStarMorphology/arm_2_segment_2_in_plane_joint_p_control', 'BrittleStarMorphology/arm_2_segment_2_out_of_plane_joint_p_control', 'BrittleStarMorphology/arm_2_segment_3_in_plane_joint_p_control', 'BrittleStarMorphology/arm_2_segment_3_out_of_plane_joint_p_control', 'BrittleStarMorphology/arm_3_segment_0_in_plane_joint_p_control', 'BrittleStarMorphology/arm_3_segment_0_out_of_plane_joint_p_control', 'BrittleStarMorphology/arm_3_segment_1_in_plane_joint_p_control', 'BrittleStarMorphology/arm_3_segment_1_out_of_plane_joint_p_control', 'BrittleStarMorphology/arm_3_segment_2_in_plane_joint_p_control', 'BrittleStarMorphology/arm_3_segment_2_out_of_plane_joint_p_control', 'BrittleStarMorphology/arm_3_segment_3_in_plane_joint_p_control', 'BrittleStarMorphology/arm_3_segment_3_out_of_plane_joint_p_control', 'BrittleStarMorphology/arm_4_segment_0_in_plane_joint_p_control', 'BrittleStarMorphology/arm_4_segment_0_out_of_plane_joint_p_control', 'BrittleStarMorphology/arm_4_segment_1_in_plane_joint_p_control', 'BrittleStarMorphology/arm_4_segment_1_out_of_plane_joint_p_control', 'BrittleStarMorphology/arm_4_segment_2_in_plane_joint_p_control', 'BrittleStarMorphology/arm_4_segment_2_out_of_plane_joint_p_control', 'BrittleStarMorphology/arm_4_segment_3_in_plane_joint_p_control', 'BrittleStarMorphology/arm_4_segment_3_out_of_plane_joint_p_control']\n"
     ]
    }
   ],
   "source": [
    "print(mjc_env.actuators)"
   ],
   "metadata": {
    "collapsed": false,
    "ExecuteTime": {
     "end_time": "2024-01-15T23:31:49.209503Z",
     "start_time": "2024-01-15T23:31:49.205495Z"
    }
   },
   "execution_count": 16
  },
  {
   "cell_type": "markdown",
   "source": [
    "### Running and visualizing an episode\n",
    "Now we will run the simulation environment and visualize it. As shown below, this happens in a similar manner for both the MJC and the MJX variants, as both follow the [Gymnasium interface](https://gymnasium.farama.org/content/basic_usage/). The only difference is that MJC handles numpy arrays, while MJX handles jax arrays.\n",
    "\n",
    "TODO: DISCUSS CAMERA_IDS for rendering from different perspectives"
   ],
   "metadata": {
    "collapsed": false
   }
  },
  {
   "cell_type": "markdown",
   "source": [
    "#### MJC"
   ],
   "metadata": {
    "collapsed": false
   }
  },
  {
   "cell_type": "code",
   "outputs": [
    {
     "data": {
      "text/plain": "<IPython.core.display.HTML object>",
      "text/html": "<table class=\"show_videos\" style=\"border-spacing:0px;\"><tr><td style=\"padding:1px;\"><video controls width=\"320\" height=\"240\" style=\"object-fit:cover;\" loop autoplay muted>\n      <source src=\"data:video/mp4;base64,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\" type=\"video/mp4\"/>\n      This browser does not support the video tag.\n      </video></td></tr></table>"
     },
     "metadata": {},
     "output_type": "display_data"
    }
   ],
   "source": [
    "done = False\n",
    "frames = []\n",
    "obs, info = mjc_env.reset()\n",
    "while not done:\n",
    "    actions = mjc_env.action_space.sample()\n",
    "    obs, reward, terminated, truncated, info = mjc_env.step(actions=actions)\n",
    "    frame = post_environment_render(mjc_env.render(), environment_configuration=environment_configuration)\n",
    "    frames.append(frame)\n",
    "    done = terminated | truncated\n",
    "media.show_video(images=frames)"
   ],
   "metadata": {
    "collapsed": false,
    "ExecuteTime": {
     "end_time": "2024-01-15T23:31:49.884990Z",
     "start_time": "2024-01-15T23:31:49.209069Z"
    }
   },
   "execution_count": 17
  },
  {
   "cell_type": "markdown",
   "source": [
    "#### MJX\n",
    "Expect this cell to run longer the first time than the MJC variant (this is because the first environment calls trigger a JIT compilation)."
   ],
   "metadata": {
    "collapsed": false
   }
  },
  {
   "cell_type": "code",
   "outputs": [
    {
     "data": {
      "text/plain": "<IPython.core.display.HTML object>",
      "text/html": "<table class=\"show_videos\" style=\"border-spacing:0px;\"><tr><td style=\"padding:1px;\"><video controls width=\"320\" height=\"240\" style=\"object-fit:cover;\" loop autoplay muted>\n      <source src=\"data:video/mp4;base64,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\" type=\"video/mp4\"/>\n      This browser does not support the video tag.\n      </video></td></tr></table>"
     },
     "metadata": {},
     "output_type": "display_data"
    }
   ],
   "source": [
    "done = False\n",
    "frames = []\n",
    "obs, info = mjx_env.reset()\n",
    "while not done:\n",
    "    actions = jnp.array(mjx_env.action_space.sample())\n",
    "    obs, reward, terminated, truncated, info = mjx_env.step(actions=actions)\n",
    "    frame = post_environment_render(mjx_env.render(), environment_configuration=environment_configuration)\n",
    "    frames.append(frame)\n",
    "    done = terminated | truncated\n",
    "media.show_video(images=frames)"
   ],
   "metadata": {
    "collapsed": false,
    "ExecuteTime": {
     "end_time": "2024-01-15T23:33:32.779298Z",
     "start_time": "2024-01-15T23:31:49.890623Z"
    }
   },
   "execution_count": 18
  },
  {
   "cell_type": "markdown",
   "source": [
    "Avoid memory leaks and always close your environment after using!"
   ],
   "metadata": {
    "id": "fOmP560VbMd3"
   }
  },
  {
   "cell_type": "code",
   "outputs": [],
   "source": [
    "mjc_env.close()\n",
    "mjx_env.close()"
   ],
   "metadata": {
    "collapsed": false,
    "ExecuteTime": {
     "end_time": "2024-01-15T23:33:32.788099Z",
     "start_time": "2024-01-15T23:33:32.780165Z"
    }
   },
   "execution_count": 19
  },
  {
   "cell_type": "markdown",
   "source": [
    "### Vectorization\n",
    "During optimization we often want multiple environments to run in parallel as this increases data collection speed. For instance with evolutionary optimization, this allows to evaluate multiple candidate solutions in parallel. Alternatively in the reinforcement learning setting, this can be used to simultaneously collect data from slightly different environment versions if we use randomization or noise."
   ],
   "metadata": {
    "collapsed": false
   }
  },
  {
   "cell_type": "markdown",
   "source": [
    "#### MJC\n",
    "Given its nature, the MJC environment relies on multiprocessing on the CPU. As we conform to the Gymnasium interface, this can be done by using [Gymnasium's AsyncVectorEnv](https://gymnasium.farama.org/api/vector/#async-vector-env). When vectorizing over the CPU, we often use one environment instance for CPU core available. Nevertheless, we can't always expect a linear increase in speed with an increasing number of environment instances. Therefore it is always a good idea to test and compare multiple amounts."
   ],
   "metadata": {
    "collapsed": false
   }
  },
  {
   "cell_type": "code",
   "outputs": [],
   "source": [
    "num_environments = 10\n",
    "\n",
    "morphology_specification = default_brittle_star_morphology_specification(\n",
    "        num_arms=5, num_segments_per_arm=4, use_p_control=True, use_torque_control=False\n",
    "        )\n",
    "arena_configuration = AquariumArenaConfiguration(\n",
    "        size=(10, 5), sand_ground_color=True, attach_target=False, wall_height=1.5, wall_thickness=0.1\n",
    "        )\n",
    "environment_configuration = BrittleStarLightEnvironmentConfiguration(\n",
    "        # Introduce variability between different instances of the environment\n",
    "        joint_randomization_noise_scale=0.01,\n",
    "        light_perlin_noise_scale=10,\n",
    "        render_mode=\"rgb_array\",\n",
    "        simulation_time=5,\n",
    "        num_physics_steps_per_control_step=10\n",
    "        )\n",
    "\n",
    "mjc_vectorized_env = create_environment(\n",
    "        morphology_specification=morphology_specification,\n",
    "        arena_configuration=arena_configuration,\n",
    "        environment_configuration=environment_configuration,\n",
    "        backend='MJC',\n",
    "        # Often set to the number of CPU cores available\n",
    "        num_environments=2\n",
    "        )"
   ],
   "metadata": {
    "collapsed": false,
    "ExecuteTime": {
     "end_time": "2024-01-15T23:33:34.317952Z",
     "start_time": "2024-01-15T23:33:32.819468Z"
    }
   },
   "execution_count": 20
  },
  {
   "cell_type": "markdown",
   "source": [
    "As illustrated below by the adapted `observation_space` and `action_space`, our environment will now return a batched version of the original observations, and expect a batched version of the original actions. Each sample in these batches corresponds to the observations and actions of a single underlying environment."
   ],
   "metadata": {
    "collapsed": false
   }
  },
  {
   "cell_type": "code",
   "outputs": [
    {
     "name": "stdout",
     "output_type": "stream",
     "text": [
      "Dict('disk_angular_velocity': Box(-inf, inf, (2, 3), float32), 'disk_linear_velocity': Box(-inf, inf, (2, 3), float32), 'disk_position': Box(-inf, inf, (2, 3), float32), 'disk_rotation': Box(-3.1415927, 3.1415927, (2, 3), float32), 'in_plane_joint_position': Box(-0.5235988, 0.5235988, (2, 20), float32), 'in_plane_joint_velocity': Box(-inf, inf, (2, 20), float32), 'out_of_plane_joint_position': Box(-0.5235988, 0.5235988, (2, 20), float32), 'out_of_plane_joint_velocity': Box(-inf, inf, (2, 20), float32), 'segment_contact': Box(0.0, 1.0, (2, 20), float32), 'segment_light_intake': Box(0.0, 1.0, (2, 20), float32))\n",
      "Box(-0.5235988, 0.5235988, (2, 40), float32)\n"
     ]
    }
   ],
   "source": [
    "print(mjc_vectorized_env.observation_space)\n",
    "print(mjc_vectorized_env.action_space)"
   ],
   "metadata": {
    "collapsed": false,
    "ExecuteTime": {
     "end_time": "2024-01-15T23:33:34.321467Z",
     "start_time": "2024-01-15T23:33:34.318887Z"
    }
   },
   "execution_count": 21
  },
  {
   "cell_type": "code",
   "outputs": [],
   "source": [
    "mjc_vectorized_env.close()"
   ],
   "metadata": {
    "collapsed": false,
    "ExecuteTime": {
     "end_time": "2024-01-15T23:33:34.496509Z",
     "start_time": "2024-01-15T23:33:34.322433Z"
    }
   },
   "execution_count": 22
  },
  {
   "cell_type": "markdown",
   "source": [
    "#### MJX\n",
    "\n",
    "The MJX environment can also be vectorized on the CPU, but it's main performance advantage comes from parallelization on the GPU (which JAX enables). MJX basically implements environment / physics steps as operator over big Jax arrays (e.g. an array of all current joint positions, one with all current joint velocities, ...). To parallelize, it just adds an additional batch dimension over these arrays. The [MJXGymEnvWrapper](https://github.com/Co-Evolve/mujoco-utils/blob/new-framework/mujoco_utils/environment/mjx_env.py#L330) implements this for us. When vectorizing over the GPU, we often run one environment instance per CUDA core available (this can be found on your GPU's datasheet). The cool thing is that a single GPU has a lot more of these cores than the number of CPU cores your computer (or even a regular cluster) has. \n",
    "\n",
    "As a rule-of-thumb:\n",
    "- Use MJC when you want to run a single environment (e.g. to do a quick test or to visualize a single rollout).\n",
    "- Use MJX when you (1) have a GPU available, and (2) are doing an optimization.\n",
    "- Read: https://mujoco.readthedocs.io/en/stable/mjx.html#mjx-the-sharp-bits"
   ],
   "metadata": {
    "collapsed": false
   }
  },
  {
   "cell_type": "code",
   "outputs": [],
   "source": [
    "mjx_vectorized_env = create_environment(\n",
    "        morphology_specification=morphology_specification,\n",
    "        arena_configuration=arena_configuration,\n",
    "        environment_configuration=environment_configuration,\n",
    "        backend='MJX',\n",
    "        # Set to the available number of GPU CUDA cores (often >1000) \n",
    "        num_environments=2\n",
    "        ) "
   ],
   "metadata": {
    "collapsed": false,
    "ExecuteTime": {
     "end_time": "2024-01-15T23:33:44.443309Z",
     "start_time": "2024-01-15T23:33:44.373626Z"
    }
   },
   "execution_count": 24
  },
  {
   "cell_type": "code",
   "outputs": [
    {
     "name": "stdout",
     "output_type": "stream",
     "text": [
      "Dict('disk_angular_velocity': Box(-inf, inf, (2, 3), float32), 'disk_linear_velocity': Box(-inf, inf, (2, 3), float32), 'disk_position': Box(-inf, inf, (2, 3), float32), 'disk_rotation': Box(-3.1415927, 3.1415927, (2, 3), float32), 'in_plane_joint_position': Box(-0.5235988, 0.5235988, (2, 20), float32), 'in_plane_joint_velocity': Box(-inf, inf, (2, 20), float32), 'out_of_plane_joint_position': Box(-0.5235988, 0.5235988, (2, 20), float32), 'out_of_plane_joint_velocity': Box(-inf, inf, (2, 20), float32), 'segment_contact': Box(0.0, 1.0, (2, 20), float32), 'segment_light_intake': Box(0.0, 1.0, (2, 20), float32))\n",
      "Box(-0.5235988, 0.5235988, (2, 40), float32)\n"
     ]
    }
   ],
   "source": [
    "print(mjc_vectorized_env.observation_space)\n",
    "print(mjc_vectorized_env.action_space)"
   ],
   "metadata": {
    "collapsed": false,
    "ExecuteTime": {
     "end_time": "2024-01-15T23:33:45.556841Z",
     "start_time": "2024-01-15T23:33:45.549552Z"
    }
   },
   "execution_count": 25
  },
  {
   "cell_type": "code",
   "outputs": [],
   "source": [
    "mjx_vectorized_env.close()"
   ],
   "metadata": {
    "collapsed": false,
    "ExecuteTime": {
     "end_time": "2024-01-15T23:33:46.401695Z",
     "start_time": "2024-01-15T23:33:46.388097Z"
    }
   },
   "execution_count": 26
  }
 ],
 "metadata": {
  "accelerator": "GPU",
  "colab": {
   "gpuType": "T4",
   "provenance": [],
   "toc_visible": true
  },
  "kernelspec": {
   "display_name": "Python 3 (ipykernel)",
   "language": "python",
   "name": "python3"
  },
  "language_info": {
   "codemirror_mode": {
    "name": "ipython",
    "version": 3
   },
   "file_extension": ".py",
   "mimetype": "text/x-python",
   "name": "python",
   "nbconvert_exporter": "python",
   "pygments_lexer": "ipython3",
   "version": "3.11.7"
  }
 },
 "nbformat": 4,
 "nbformat_minor": 4
}
