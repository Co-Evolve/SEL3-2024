{
 "cells": [
  {
   "cell_type": "markdown",
   "metadata": {
    "id": "uMCyuX8mSr6O"
   },
   "source": [
    "\n",
    "# <h1><center>Brittle Star Environment Tutorial</center></h1>\n",
    "\n",
    "This notebook provides an introductory tutorial to the [Brittle Star environment](https://github.com/Co-Evolve/brb/tree/new-framework/brb/brittle_star), which is part of the [**the Bio-inspired Robotics Benchmark (BRB)**](https://github.com/Co-Evolve/brb).\n",
    "\n",
    "Preferably use a Jupyter runtime with GPU acceleration enabled.  "
   ]
  },
  {
   "cell_type": "markdown",
   "metadata": {
    "collapsed": false
   },
   "source": [
    "## The Bio-inspired Robotics Benchmark (BRB)\n",
    "The Bio-Inspired Robotics Benchmark represents a significant stride in the convergence of robotics and experimental biology, offering a unique platform that leverages the MuJoCo physics simulator to create a collection of bio-inspired robotics simulation environments. This initiative is more than just a technical tool; it serves as a crucible for cross-disciplinary dialogue and innovation, uniting two fields that, while distinct, share a common goal of understanding and emulating complex biological systems.\n",
    "\n",
    "In the realm of robotics, this benchmark addresses a pivotal challenge: the design and control of bio-inspired robots. These robots, inspired by the intricacies of biological organisms, present novel hurdles that contemporary optimization methodologies struggle to surmount. By providing a benchmark specifically tailored to these challenges, the initiative not only facilitates the validation of existing methodologies but also catalyzes the development of new approaches. This is crucial for advancing the field, as it pushes the boundaries of what we can achieve in robotic design and control, drawing inspiration from the most sophisticated systems found in nature.\n",
    "\n",
    "On the biological front, the application of robotics serves as a powerful comparative method. It offers a more controlled environment for conducting comparative studies, essential for dissecting complex behaviors, ecological interactions, and the evolutionary histories of organisms. In essence, robotics becomes a lens through which biologists can observe and understand the myriad of interacting elements that constitute life's diversity. This perspective is invaluable, as it transcends traditional observational methods, allowing for more precise and insightful analyses.\n",
    "\n",
    "Overall, the Bio-Inspired Robotics Benchmark is a testament to the symbiotic potential of robotics and biology. It not only advances our technical capabilities in creating machines that mimic life but also deepens our understanding of the biological phenomena that inspire these creations. This benchmark is a stepping stone towards a future where the interplay between robotics and biology yields innovations that are as profound as they are transformative. \n",
    "\n",
    "\n",
    "The Bio-Inspired Robotics Benchmark distinguishes itself with its capability to effortlessly simulate various morphological variations of bio-inspired robots. This flexibility is largely enabled by the use of the [Framework for Parameterized Robot Specifications (FPRS)](https://github.com/Co-Evolve/fprs), a framework that centralizes the adaptable definition of a robot's morphology. In FPRS, a 'Specification' acts as a comprehensive bundle, encapsulating all the modifiable parameters that define the robot's form and structure. This approach to morphology parameterization not only simplifies the modification process but also enhances the reproducibility and comparability of different morphological setups within the BRB.\n",
    "\n",
    "The implementation of environments within the BRB adheres to framework defined in the [mujoco-utils package](https://github.com/Co-Evolve/mujoco-utils/tree/new-framework). This framework defines an environment as a combination of a parameterized morphology, as defined by FPRS, and a configurable arena. Both the morphology and the arena in this context are essentially generators for MJCF (MuJoCo XML) files, allowing for dynamic and customizable environment creation. This design philosophy ensures that each environment within the BRB is both flexible and specific to the needs of the experiment at hand.\n",
    "\n",
    "In terms of simulation capabilities, the BRB offers environments in both native MuJoCo and MuJoCo XLA (MJX) formats. This dual availability caters to diverse computational needs and preferences, ensuring that researchers can select the simulation environment that best suits their specific requirements, whether it's the high-fidelity physics of native MuJoCo or the accelerated computation offered by MuJoCo XLA.\n",
    "\n",
    "In summary, the BRB's unique approach to morphology parameterization through FPRS, adherence to the mujoco-utils framework for environment implementation, and availability in both MuJoCo and MJX formats, collectively contribute to its status as a versatile and powerful tool for bio-inspired robotics research. This tool not only facilitates a deeper exploration of robotic morphologies but also bridges the gap between theoretical research and practical application in the field of bio-inspired robotics."
   ]
  },
  {
   "cell_type": "markdown",
   "metadata": {
    "id": "fVurZ9tFTzLC"
   },
   "source": [
    "### Preliminary checks"
   ]
  },
  {
   "cell_type": "markdown",
   "metadata": {
    "collapsed": false
   },
   "source": [
    "Before continuing, check if the following points towards your (conda) environment with JAX and the BRB installed. If not, follow these [steps](https://medium.com/@nrk25693/how-to-add-your-conda-environment-to-your-jupyter-notebook-in-just-4-steps-abeab8b8d084)."
   ]
  },
  {
   "cell_type": "code",
   "execution_count": 1,
   "metadata": {
    "ExecuteTime": {
     "end_time": "2024-01-29T23:57:23.318194Z",
     "start_time": "2024-01-29T23:57:23.314700Z"
    }
   },
   "outputs": [
    {
     "name": "stdout",
     "output_type": "stream",
     "text": [
      "/Users/driesmarzougui/miniforge3/envs/SEL3-2024/bin/python\n"
     ]
    }
   ],
   "source": [
    "import sys\n",
    "print(sys.executable)"
   ]
  },
  {
   "cell_type": "markdown",
   "metadata": {
    "collapsed": false
   },
   "source": [
    "Install the BRB package and its dependencies."
   ]
  },
  {
   "cell_type": "code",
   "execution_count": 2,
   "metadata": {
    "colab": {
     "base_uri": "https://localhost:8080/",
     "height": 1000
    },
    "id": "DgMIXEQ7SDGX",
    "outputId": "c3f8d6fd-7c63-401c-f46f-aca2b7e4e372",
    "ExecuteTime": {
     "end_time": "2024-01-29T23:57:23.329998Z",
     "start_time": "2024-01-29T23:57:23.318298Z"
    }
   },
   "outputs": [],
   "source": [
    "import logging\n",
    "try:\n",
    "    import brb\n",
    "except ImportError:\n",
    "    logging.error(\"Please install the BRB package first to the kernel's underlying environment via 'python -m pip install git+https://github.com/Co-Evolve/brb@new-framework'\")"
   ]
  },
  {
   "cell_type": "markdown",
   "metadata": {
    "collapsed": false
   },
   "source": [
    "Check if the underlying MuJoCo installation was successful. This will also check if Jax is able to find the GPU. If not, a warning will be printed."
   ]
  },
  {
   "cell_type": "code",
   "execution_count": 3,
   "metadata": {
    "colab": {
     "base_uri": "https://localhost:8080/"
    },
    "editable": true,
    "id": "t8x-3cSlT-QM",
    "outputId": "4e58291d-c73d-44bd-8332-4da59915e96c",
    "slideshow": {
     "slide_type": ""
    },
    "tags": [],
    "ExecuteTime": {
     "end_time": "2024-01-29T23:57:23.472639Z",
     "start_time": "2024-01-29T23:57:23.325613Z"
    }
   },
   "outputs": [
    {
     "name": "stderr",
     "output_type": "stream",
     "text": [
      "WARNING:root:Failed to initialize GPU. Everything will run on the cpu.\n"
     ]
    },
    {
     "name": "stdout",
     "output_type": "stream",
     "text": [
      "Checking that the mujoco installation succeeded:\n",
      "MuJoCo installation successful.\n"
     ]
    }
   ],
   "source": [
    "import os\n",
    "import subprocess\n",
    "import logging\n",
    "\n",
    "try:\n",
    "    if subprocess.run('nvidia-smi').returncode:\n",
    "        raise RuntimeError(\n",
    "                'Cannot communicate with GPU. '\n",
    "                'Make sure you are using a GPU Colab runtime. '\n",
    "                'Go to the Runtime menu and select Choose runtime type.'\n",
    "                )\n",
    "\n",
    "    # Add an ICD config so that glvnd can pick up the Nvidia EGL driver.\n",
    "    # This is usually installed as part of an Nvidia driver package, but the Colab\n",
    "    # kernel doesn't install its driver via APT, and as a result the ICD is missing.\n",
    "    # (https://github.com/NVIDIA/libglvnd/blob/master/src/EGL/icd_enumeration.md)\n",
    "    NVIDIA_ICD_CONFIG_PATH = '/usr/share/glvnd/egl_vendor.d/10_nvidia.json'\n",
    "    if not os.path.exists(NVIDIA_ICD_CONFIG_PATH):\n",
    "        with open(NVIDIA_ICD_CONFIG_PATH, 'w') as f:\n",
    "            f.write(\n",
    "                    \"\"\"{\n",
    "                            \"file_format_version\" : \"1.0.0\",\n",
    "                            \"ICD\" : {\n",
    "                                \"library_path\" : \"libEGL_nvidia.so.0\"\n",
    "                            }\n",
    "                        }\n",
    "                        \"\"\"\n",
    "                    )\n",
    "\n",
    "    # Configure MuJoCo to use the EGL rendering backend (requires GPU)\n",
    "    print('Setting environment variable to use GPU rendering:')\n",
    "    %env MUJOCO_GL=egl\n",
    "\n",
    "    # Check if jax finds the GPU\n",
    "    import jax\n",
    "\n",
    "    print(jax.devices('gpu'))\n",
    "except Exception:\n",
    "    logging.warning(\"Failed to initialize GPU. Everything will run on the cpu.\")\n",
    "\n",
    "try:\n",
    "    print('Checking that the mujoco installation succeeded:')\n",
    "    import mujoco\n",
    "\n",
    "    mujoco.MjModel.from_xml_string('<mujoco/>')\n",
    "except Exception as e:\n",
    "    raise e from RuntimeError(\n",
    "            'Something went wrong during installation. Check the shell output above '\n",
    "            'for more information.\\n'\n",
    "            'If using a hosted Colab runtime, make sure you enable GPU acceleration '\n",
    "            'by going to the Runtime menu and selecting \"Choose runtime type\".'\n",
    "            )\n",
    "\n",
    "print('MuJoCo installation successful.')"
   ]
  },
  {
   "cell_type": "markdown",
   "metadata": {
    "collapsed": false
   },
   "source": [
    "Some packages and utility functions for visualization."
   ]
  },
  {
   "cell_type": "code",
   "execution_count": 4,
   "metadata": {
    "collapsed": false,
    "ExecuteTime": {
     "end_time": "2024-01-29T23:57:25.845311Z",
     "start_time": "2024-01-29T23:57:23.462669Z"
    }
   },
   "outputs": [],
   "source": [
    "from mujoco_utils.environment.base import MuJoCoEnvironmentConfiguration\n",
    "from mujoco_utils.mjcf_utils import MJCFRootComponent\n",
    "import numpy as np\n",
    "import jax\n",
    "import jax.numpy as jnp\n",
    "from typing import Union, List\n",
    "\n",
    "# Graphics and plotting.\n",
    "ffmpeg_v = !command -v ffmpeg\n",
    "assert \"command not found\" not in ffmpeg_v, f\"Please install FFmpeg for visualizations.\"\n",
    "!{sys.executable} -m pip install -q mediapy\n",
    "import mediapy as media\n",
    "\n",
    "# More legible printing from numpy.\n",
    "np.set_printoptions(precision=3, suppress=True, linewidth=100)\n",
    "jnp.set_printoptions(precision=3, suppress=True, linewidth=100)\n",
    "\n",
    "\n",
    "def visualize_mjcf(\n",
    "        mjcf: MJCFRootComponent\n",
    "        ) -> None:\n",
    "    model = mujoco.MjModel.from_xml_string(mjcf.get_mjcf_str())\n",
    "    data = mujoco.MjData(model)\n",
    "    renderer = mujoco.Renderer(model)\n",
    "    mujoco.mj_forward(model, data)\n",
    "    renderer.update_scene(data)\n",
    "    media.show_image(renderer.render())\n",
    "\n",
    "\n",
    "def post_render(\n",
    "        render_output: List[np.ndarray],\n",
    "        environment_configuration: MuJoCoEnvironmentConfiguration\n",
    "        ) -> np.ndarray:\n",
    "    num_cameras = len(environment_configuration.camera_ids)\n",
    "    num_envs = len(render_output) // num_cameras\n",
    "    if num_cameras > 1:\n",
    "        # Horizontally stack frames of the same environment\n",
    "        frames_per_env = np.array_split(render_output, num_envs)\n",
    "        render_output = [np.concatenate(env_frames, axis=1) for env_frames in frames_per_env]\n",
    "    # Vertically stack frames of different environments\n",
    "    render_output = np.concatenate(render_output, axis=0)\n",
    "\n",
    "    return render_output[:, :, ::-1]  # RGB to BGR "
   ]
  },
  {
   "cell_type": "markdown",
   "metadata": {
    "id": "Y8ilIik5Vp7L"
   },
   "source": [
    "## The Brittle Star Environment\n",
    "> “The whole of the brittle stars are curious and restless beings. They can never remain in the same attitude for the tenth part of a second, but are constantly twisting their long arms, as if they were indeed the serpents with which Medusa’s head was surrounded.” -- J. G. Wood, 1898\n",
    "\n",
    "The Brittle Star Robot environment within the Bio-Inspired Robotics Benchmark (BRB) presents an intriguing case study, embodying the intersection of natural biological systems and robotic engineering. To introduce this environment, it's essential to first understand the biological entity that inspired it: the brittle star.\n",
    "\n",
    "![](https://github.com/Co-Evolve/SEL3-2024/blob/develop/tutorials/assets/brittle_stars_species.jpg?raw=true)\n",
    "(Image src: https://doi.org/10.1016/j.jsb.2020.107481)"
   ]
  },
  {
   "cell_type": "markdown",
   "metadata": {
    "collapsed": false
   },
   "source": [
    "### The Brittle Star\n",
    "Brittle stars, belonging to the class Ophiuroidea, are remarkable echinoderms distinguished by their distinctively slender arms and central disk. They inhabit various marine environments, showcasing a fascinating array of behaviors and adaptations that have captivated biologists for decades. One of the most striking features of brittle stars is their locomotion. Unlike their close relatives, the starfish, brittle stars move with a unique, elegant undulating motion of their arms. This locomotion is not only efficient but also highly adaptable, allowing them to navigate complex underwater terrains with agility and precision.\n",
    "\n",
    "In addition to locomotion, brittle stars use their arms to hold onto substrates, coiling their flexible arms tightly around structurally complex objects such as kelp, sponges, or corals, with spines located along the arms aiding in the anchoring process.\n",
    "\n",
    "From an evolutionary standpoint, brittle stars represent a significant lineage, offering insights into the adaptability and resilience of marine life. Their ability to regenerate lost limbs and their sensory capabilities, which include responding to light without distinct eyes, are just a few examples of their remarkable biological traits. These characteristics make them an excellent subject for bio-inspired robotics, as they provide a template for designing robots that are both flexible and resilient, capable of navigating and adapting to diverse environments.\n",
    "\n",
    "#### Morphology\n",
    "![](https://github.com/Co-Evolve/SEL3-2024/blob/develop/tutorials/assets/brittle_stars_arm_anatomy.jpg?raw=true)\n",
    "(Image src: https://doi.org/10.1016/j.jsb.2020.107481) \n",
    "\n",
    "At the core of a brittle star's anatomy is the central disk, which varies in size from as small as 3mm to as large as 50mm. This disk is not just a structural component but also serves as a crucial hub for the organism's nervous system and, in some species, reproductive organs. \n",
    "\n",
    "Brittle stars possess five arms that are symmetrically arranged in a pentaradial fashion around the central disk. This pentaradial symmetry is a hallmark of echinoderms and is crucial for the brittle star's locomotion and interaction with its environment. These arms typically span about two to twenty times the diameter of the central disk. In terms of mobility, the arms of brittle stars are capable of both in-plane and out-of-plane bending.\n",
    "\n",
    "Structurally, each arm consists of a chain of segments, each one consisting out of a vertebra and 4 muscle groups and completely enclosed by plates. This skeletal structure provides both support and flexibility, enabling the arms to move fluidly while maintaining structural integrity.\n",
    "\n",
    "![](https://github.com/Co-Evolve/SEL3-2024/blob/develop/tutorials/assets/brittle_stars_muscles.jpg?raw=true)\n",
    "(Image src: https://doi.org/10.3389/fnbot.2019.00104)\n",
    "\n",
    "Lastly, the arms of brittle stars are adorned with soft spines. These spines play a crucial role in anchoring and interacting with the environment. They provide stability and traction on various surfaces, aiding in locomotion and foraging activities.\n",
    "\n",
    "For an interesting read w.r.t. brittle star morphology: [The structural origins of brittle star arm kinematics: An integrated tomographic, additive manufacturing, and parametric modeling-based approach](https://www.sciencedirect.com/science/article/pii/S1047847720300447) \n",
    "\n",
    "#### Nervous system\n",
    "![](https://github.com/Co-Evolve/SEL3-2024/blob/develop/tutorials/assets/brittle_stars_nervous_system.jpg?raw=true)\n",
    "(Image src: http://dx.doi.org/10.3389/fnbot.2019.00066)\n",
    "\n",
    "The nervous system of the brittle star is a fascinating aspect of its biology, characterized by its decentralized nature. This decentralized nervous system is quite different from the central nervous systems found in vertebrates and even some invertebrates. In brittle stars, the nervous system is primarily composed of a nerve ring that encircles the central disk, from which branches extend into each arm.\n",
    "\n",
    "The nerve ring acts as a central hub, integrating sensory inputs and coordinating the movements of the arms. Unlike centralized nervous systems where a brain or a similar central organ exerts control, the nerve ring in brittle stars does not function as a central command center. Instead, it serves more as a conduit or a relay station, facilitating communication across the organism's body.\n",
    "\n",
    "From this nerve ring, nerve branches run along each arm, allowing for localized control and sensory perception within each limb. This structure is crucial for the brittle star's survival, as it enables each arm to react independently to stimuli. For instance, if one arm encounters a predator or a harmful stimulus, it can respond immediately and appropriately, without the need for centralized processing. \n",
    "\n",
    "\n",
    "#### Behavioural studies \n",
    "Several modes of locomotion have been observed in brittle star species, with one species often exhibiting multiple modes. A common mode is the ['breast stroke' or 'rowing'](https://www.youtube.com/watch?v=X8UEST-flCM), where the brittle star moves forward led by an arm, uses two lateral arms as rowers, and drags the remaining two arms passively. This mode is documented in various studies. Another mode, known as 'paddling' or 'reverse rowing,' involves dragging the rearmost arm while the other four arms actively row. These modes, which involve bilaterally coordinated movements, allow the brittle star to crawl in a specific direction. However, as the role of each arm changes with the direction of movement, brittle stars do not maintain fixed front-back and left-right axes.\n",
    "\n",
    "The following biological works provide valuable insights into the behavior and control mechanisms of brittle stars, which provides a source of inspiration for their artificial counterpart. Here's a summary of each paper's findings:\n",
    "\n",
    "- **Flexible coordination of flexible limbs: decentralized control scheme for inter- and intra-limb coordination in brittle stars’ locomotion**\n",
    "    - Brittle stars display distinct roles for their arms: forelimbs, hindlimbs, and a center limb. This specialization allows for effective locomotion.\n",
    "    - When all arms are shortened, brittle stars maintain their inter-arm coordination pattern, similar to when they are intact.\n",
    "    - If some arms are removed, they still move effectively by coordinating the degrees of freedom in the remaining arms.\n",
    "    - In the presence of obstacles, arms either push against objects to assist propulsion or avoid objects that hinder propulsion.\n",
    "    - An arm completely detached from its disc is incapable of coordinated locomotion, indicating the importance of the proximal ends of the arms in the central disk for locomotion.\n",
    "- **The function of the ophiuroid nerve ring: how a decentralized nervous system controls coordinated locomotion**\n",
    "    - Nerve cut experiments reveal that the longest axons in the circumoral nerve ring do not extend beyond a fifth of its total length, suggesting limited direct connections between distant nodes.\n",
    "    - Coordinated locomotion persists even with a single nerve ring cut, implying bidirectional connections between adjacent arms.\n",
    "    - Arms adjacent to a nerve cut are less likely to lead in locomotion, suggesting that leading arms are those with better information propagation capabilities.\n",
    "- **Decentralized Control Mechanism for Determination of Moving Direction in Brittle Stars With Penta-Radially Symmetric body**\n",
    "    - When the nerve ring is cut in one place, movement tends to be in the opposite direction of the cut, and coordination is maintained except for arms adjacent to the cut.\n",
    "    - With two cuts in the nerve ring, only neurally connected arms coordinate, while disconnected ones do not.\n",
    "    - Complete severance of nerve ring connections between arms results in a lack of coordination and thus no locomotion.\n",
    "    - If the nerve ring is cut on both sides of the same arm, the neurally isolated arm does not coordinate with others, highlighting the role of sensory input in coordination.\n",
    "- **A brittle star-like robot capable of immediately adapting to unexpected physical damage**\n",
    "    - Amputation experiments show varying roles for arms: center limb for orientation, forelimbs for propulsion, and minimal role for hindlimbs.\n",
    "    - If arms are amputated, the robot adapts by reassigning roles, like using remaining arms for reverse rowing or as a trailing arm.\n",
    "    - With three arms removed and no adjacent arms remaining, the direction-orienting arm swings to pull the body forward, while other arms play minimal roles in propulsion.\n",
    "    - If only one arm remains, it swings left and right to pull the body forward.\n",
    "    - When ground contacts of the arms are deprived, the subjects lose coordination in their arms.\n",
    "\n",
    "#### What makes it interesting for robotics?\n",
    "The brittle star presents an intriguing case study for robotics due to several key characteristics:\n",
    "\n",
    "1. Adaptive Locomotion in Unpredictable and Unstructured Environments: Brittle stars excel at navigating through unpredictable and unstructured environments. Their ability to adapt their locomotion patterns in response to varying terrain and obstacles makes them an excellent model for developing robots that can operate effectively in complex and dynamic settings.\n",
    "2. Prehensile Arms Enabling Manipulation: The arms of brittle stars are not only locomotive appendages but also prehensile, meaning they have the ability to grasp and manipulate objects, such as prey. This feature is highly valuable in robotics, offering insights into designing robotic limbs that can perform intricate manipulation tasks.\n",
    "3. Robustness to Damage: Thanks to their modular and redundant design, brittle stars are highly robust to damage. Each arm can operate independently, which means that the loss or impairment of one arm does not significantly hinder the overall functionality. This characteristic is crucial for creating resilient robotic systems that can maintain operation even when parts of them are damaged.\n",
    "4. Integration of Strength and Flexibility in Arms: The arms of a brittle star embody a unique combination of strength and flexibility. This integration is key to their versatile functionality, allowing for both powerful movements and delicate handling. Replicating this in robotics could lead to the development of robotic limbs that are both strong and dexterous, capable of performing a wide range of tasks."
   ]
  },
  {
   "cell_type": "markdown",
   "metadata": {
    "collapsed": false
   },
   "source": [
    "### In-silico brittle star morphology\n",
    "The in-silico model of the brittle star morphology provides an abstract virtual twin. As discussed above, every morphology in the BRB is parameterized via [FPRS](https://github.com/Co-Evolve/fprs) and the brittle star's morphology specification can be found [here](https://github.com/Co-Evolve/brb/blob/new-framework/brb/brittle_star/mjcf/morphology/specification/specification.py). Default parameter values can be found [here](https://github.com/Co-Evolve/brb/blob/new-framework/brb/brittle_star/mjcf/morphology/specification/default.py). In our case, the most important configuration parameters are the number of arms, and the number of segments that each arm has.\n",
    "\n",
    "![](https://github.com/Co-Evolve/SEL3-2024/blob/develop/tutorials/assets/brittle_stars_in_silico.png?raw=true)\n",
    "Two example in-silico brittle star morphologies.\n",
    "\n",
    "Every segment has two degrees of freedom (DoF), one for in-plane motion and one for out-of-plane motion.\n",
    "\n",
    "In terms of sensing, the following sensors are implemented. These sensors define the base set of observations that every brittle star environment returns as observations (further discussed below). \n",
    "- Proprioception\n",
    "    - Joint positions (two per segment, in-plane and out-of-plane, in radians)\n",
    "    - Joint velocities (two per segment, in-plane and out-of-plane, in radians / second)\n",
    "    - Central disk's position (w.r.t. world frame)\n",
    "    - Central disk's rotation (w.r.t. world frame, in radians)\n",
    "    - Central disk's velocity (w.r.t. world frame, in m/s)\n",
    "    - Central disk's angular velocity (w.r.t. world frame, in radians/s)\n",
    "- Exteroception\n",
    "    - Touch (per segment, boolean)\n",
    "\n",
    "\n",
    "In terms of actuation, the following actuators are implemented (two per segment, one for the in-plane DoF and one for the out-of-plane DoF). The brittle star's morphology specification defines which one of the two is to be used:\n",
    "- Position control\n",
    "- Torque control"
   ]
  },
  {
   "cell_type": "markdown",
   "metadata": {
    "collapsed": false
   },
   "source": [
    "### Environment variants\n",
    "The brittle star environment comes with three locomotion-orientated tasks that provide a curriculum of increasing difficulty: \n",
    "1. Undirected locomotion (simple): Move the brittle star away as far as possible from its starting position.\n",
    "    - Reward per timestep: $distance\\_current\\_timestep - distance\\_previous\\_timestep$. The reward will thus be positive if the distance from its starting position has increased in the current timestep, and negative if this distance has decreased.\n",
    "2. Directed locomotion (intermediate): Move the brittle star towards a randomly spawned target.\n",
    "    - Reward per timestep: $distance\\_previous\\_timestep - distance\\_current\\_timestep$. The reward will thus be positive if the distance to the target has decreased in the current timestep, and negative if this distance has increased.\n",
    "    - Additional observations:\n",
    "        - Unit direction on the horizontal XY plane from the central disk to the target.\n",
    "        - The distance in XY plane from the central disk to the target.\n",
    "3. Light escape (hard): Move the brittle star towards darker spots in the environment.\n",
    "    - Reward per timestep: $light\\_income\\_previous\\_timestep - light\\_income\\_current\\_timestep$. The reward will thus be positive if the measured light income has decreased in the current timestep, and negative if the light income has increased.\n",
    "    - Additional observations:\n",
    "        - The amount of light each segment takes in.\n",
    "\n",
    "\n",
    "![](https://github.com/Co-Evolve/SEL3-2024/blob/develop/tutorials/assets/britlte_stars_environments.png?raw=true)\n",
    "From left to right: the undirected locomotion, the targeted locomotion (target is the red sphere), and the light escape (with light noise) environments."
   ]
  },
  {
   "cell_type": "markdown",
   "metadata": {
    "id": "A3wIqNI7TycP"
   },
   "source": [
    "## Creating the environment\n",
    "\n",
    "### 1. Creating the morphology \n",
    "The first step is to create the Brittle Star morphology. In essence, this comes down to providing an instance of a [BrittleStarMorphologySpecification](https://github.com/Co-Evolve/brb/blob/new-framework/brb/brittle_star/mjcf/morphology/specification/specification.py#L78) to the [MJCFBrittleStarMorphology](https://github.com/Co-Evolve/brb/blob/new-framework/brb/brittle_star/mjcf/morphology/morphology.py) class. The `MJCFBrittleStarMorphology` can then use the specified morphological parameters to generate the corresponding MuJoCo MJCF. "
   ]
  },
  {
   "cell_type": "code",
   "execution_count": 5,
   "metadata": {
    "collapsed": false,
    "ExecuteTime": {
     "end_time": "2024-01-29T23:57:25.861648Z",
     "start_time": "2024-01-29T23:57:25.848711Z"
    }
   },
   "outputs": [],
   "source": [
    "import gymnasium\n",
    "from brb.brittle_star.mjcf.morphology.specification.default import default_brittle_star_morphology_specification\n",
    "from brb.brittle_star.mjcf.morphology.morphology import MJCFBrittleStarMorphology\n",
    "from brb.brittle_star.mjcf.morphology.specification.specification import BrittleStarMorphologySpecification\n",
    "\n",
    "\n",
    "def create_morphology(\n",
    "        morphology_specification: BrittleStarMorphologySpecification\n",
    "        ) -> MJCFBrittleStarMorphology:\n",
    "    morphology = MJCFBrittleStarMorphology(\n",
    "            specification=morphology_specification\n",
    "            )\n",
    "    return morphology"
   ]
  },
  {
   "cell_type": "code",
   "execution_count": 6,
   "metadata": {
    "id": "tWclyg93YAuw",
    "ExecuteTime": {
     "end_time": "2024-01-29T23:57:25.984715Z",
     "start_time": "2024-01-29T23:57:25.878074Z"
    }
   },
   "outputs": [
    {
     "data": {
      "text/plain": "<IPython.core.display.HTML object>",
      "text/html": "<table class=\"show_images\" style=\"border-spacing:0px;\"><tr><td style=\"padding:1px;\"><img width=\"320\" height=\"240\" style=\"image-rendering:auto; object-fit:cover;\" src=\"data:image/png;base64,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\"/></td></tr></table>"
     },
     "metadata": {},
     "output_type": "display_data"
    }
   ],
   "source": [
    "morphology_specification = default_brittle_star_morphology_specification(\n",
    "        num_arms=5, num_segments_per_arm=4, use_p_control=True, use_torque_control=False\n",
    "        )\n",
    "morphology = create_morphology(morphology_specification=morphology_specification)\n",
    "visualize_mjcf(mjcf=morphology)"
   ]
  },
  {
   "cell_type": "markdown",
   "metadata": {
    "collapsed": false
   },
   "source": [
    "We can also specify a different amount of segments per arm."
   ]
  },
  {
   "cell_type": "code",
   "execution_count": 7,
   "metadata": {
    "collapsed": false,
    "ExecuteTime": {
     "end_time": "2024-01-29T23:57:26.049988Z",
     "start_time": "2024-01-29T23:57:25.984205Z"
    }
   },
   "outputs": [
    {
     "data": {
      "text/plain": "<IPython.core.display.HTML object>",
      "text/html": "<table class=\"show_images\" style=\"border-spacing:0px;\"><tr><td style=\"padding:1px;\"><img width=\"320\" height=\"240\" style=\"image-rendering:auto; object-fit:cover;\" src=\"data:image/png;base64,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\"/></td></tr></table>"
     },
     "metadata": {},
     "output_type": "display_data"
    }
   ],
   "source": [
    "morphology_specification = default_brittle_star_morphology_specification(\n",
    "        num_arms=5, num_segments_per_arm=[1, 2, 3, 4, 5], use_p_control=True, use_torque_control=False\n",
    "        )\n",
    "morphology = create_morphology(morphology_specification=morphology_specification)\n",
    "visualize_mjcf(mjcf=morphology)"
   ]
  },
  {
   "cell_type": "markdown",
   "metadata": {
    "id": "FsqQr6u6Vj4O"
   },
   "source": [
    "### 2. Creating the arena\n",
    "Similarly to the morphology, the next step is to configure and create the AquariumArena in which we will put our brittle star. This arena uses a [simplified fluid model](https://mujoco.readthedocs.io/en/stable/computation/fluid.html#inertia-model) to simulate an aquatic environment."
   ]
  },
  {
   "cell_type": "code",
   "execution_count": 8,
   "metadata": {
    "id": "qq9gGgDBYm7U",
    "ExecuteTime": {
     "end_time": "2024-01-29T23:57:26.058039Z",
     "start_time": "2024-01-29T23:57:26.047463Z"
    }
   },
   "outputs": [],
   "source": [
    "from brb.brittle_star.mjcf.arena.aquarium import AquariumArenaConfiguration, MJCFAquariumArena\n",
    "\n",
    "\n",
    "def create_arena(\n",
    "        arena_configuration: AquariumArenaConfiguration\n",
    "        ) -> MJCFAquariumArena:\n",
    "    arena = MJCFAquariumArena(\n",
    "            configuration=arena_configuration\n",
    "            )\n",
    "    return arena"
   ]
  },
  {
   "cell_type": "code",
   "execution_count": 9,
   "metadata": {
    "collapsed": false,
    "ExecuteTime": {
     "end_time": "2024-01-29T23:57:26.090994Z",
     "start_time": "2024-01-29T23:57:26.056887Z"
    }
   },
   "outputs": [
    {
     "data": {
      "text/plain": "<IPython.core.display.HTML object>",
      "text/html": "<table class=\"show_images\" style=\"border-spacing:0px;\"><tr><td style=\"padding:1px;\"><img width=\"320\" height=\"240\" style=\"image-rendering:auto; object-fit:cover;\" src=\"data:image/png;base64,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\"/></td></tr></table>"
     },
     "metadata": {},
     "output_type": "display_data"
    }
   ],
   "source": [
    "arena_configuration = AquariumArenaConfiguration(\n",
    "        size=(10, 5), sand_ground_color=True, attach_target=False, wall_height=1.5, wall_thickness=0.1\n",
    "        )\n",
    "arena = create_arena(arena_configuration=arena_configuration)\n",
    "visualize_mjcf(mjcf=arena)"
   ]
  },
  {
   "cell_type": "markdown",
   "metadata": {
    "id": "tCGQvuiHVo91"
   },
   "source": [
    "### 3. Creating the environment\n",
    "Now we can create the actual environment that combines the above morphology and arena. As discussed above, we have three different environment versions (each specifying a specific task) in which we can put our brittle star. Each version has a specific EnvironmentConfiguration."
   ]
  },
  {
   "cell_type": "code",
   "execution_count": 10,
   "metadata": {
    "id": "YWHuHyaqZZd8",
    "ExecuteTime": {
     "end_time": "2024-01-29T23:57:26.100310Z",
     "start_time": "2024-01-29T23:57:26.090245Z"
    }
   },
   "outputs": [],
   "source": [
    "from brb.brittle_star.environment.light_escape.shared import BrittleStarLightEscapeEnvironmentConfiguration\n",
    "from brb.brittle_star.environment.directed_locomotion.shared import \\\n",
    "    BrittleStarDirectedLocomotionEnvironmentConfiguration\n",
    "from brb.brittle_star.environment.undirected_locomotion.shared import \\\n",
    "    BrittleStarUndirectedLocomotionEnvironmentConfiguration\n",
    "\n",
    "locomotion_environment_configuration = BrittleStarUndirectedLocomotionEnvironmentConfiguration(\n",
    "        # If this value is > 0 then we will add randomly sampled noise to the initial joint positions and velocities \n",
    "        joint_randomization_noise_scale=0.0, render_mode=\"rgb_array\",  # Visualization mode \n",
    "        simulation_time=5,  # Number of seconds per episode \n",
    "        num_physics_steps_per_control_step=10,  # Number of physics substeps to do per control step \n",
    "        time_scale=2,    # Integer factor by which to multiply the original physics timestep of 0.002,\n",
    "        camera_ids=[0, 1],   # Which camera's to render (all the brittle star environments contain 2 cameras: 1 top-down camera and one close-up camera that follows the brittle star),\n",
    "        render_size=(480, 640)  # Resolution to render with ((height, width) in pixels)\n",
    "        )\n",
    "target_locomotion_environment_configuration = BrittleStarDirectedLocomotionEnvironmentConfiguration(\n",
    "        # Distance to put our target at (targets are spawned on a circle around the starting location with this given radius).\n",
    "        target_distance=3.0,\n",
    "        joint_randomization_noise_scale=0.0,\n",
    "        render_mode=\"rgb_array\",\n",
    "        simulation_time=5,\n",
    "        num_physics_steps_per_control_step=10,\n",
    "        time_scale=2,\n",
    "        camera_ids=[0, 1],\n",
    "        render_size=(480, 640)\n",
    "        )\n",
    "light_escape_environment_configuration = BrittleStarLightEscapeEnvironmentConfiguration(\n",
    "        # If this value is > 0, we will add perlin noise to the generated light map. Otherwise, the light map is a simple linear gradient.\n",
    "        #   Please only provide integer factors of 200.\n",
    "        light_perlin_noise_scale=0,\n",
    "        joint_randomization_noise_scale=0,\n",
    "        render_mode=\"rgb_array\",\n",
    "        simulation_time=5,\n",
    "        num_physics_steps_per_control_step=10,\n",
    "        time_scale=2,\n",
    "        camera_ids=[0, 1],\n",
    "        render_size=(480, 640)\n",
    "        )"
   ]
  },
  {
   "cell_type": "markdown",
   "source": [
    "The [environment configuration's superclass](https://github.com/Co-Evolve/mujoco-utils/blob/main/mujoco_utils/environment.py#L39) also contains some helpful utility functions. \n",
    "\n",
    "Note: we define a 'physics step' as one in which the physics is advanced, and we define a 'control step' as one in which we pass novel actions to the environment. One 'control step' can thus induce one or multiple underlying 'physics steps', and this is what the `num_physics_steps_per_control_step` parameter defines."
   ],
   "metadata": {
    "collapsed": false
   }
  },
  {
   "cell_type": "code",
   "outputs": [
    {
     "name": "stdout",
     "output_type": "stream",
     "text": [
      "[simulation_time] The total amount of time (in seconds) that one simulation episode takes: 5\n",
      "[physics_timestep] The amount of time (in seconds) that one 'physics step' advances the physics: 0.004\n",
      "[control_timestep] The amount of time (in seconds) that one 'control step' advances the physics: 0.04\n",
      "[total_num_physics_steps] The total amount of physics steps that happen during one simulation episode: 1250\n",
      "[total_num_control_steps] The total amount of control steps that happen during one simulation episode: 125\n"
     ]
    }
   ],
   "source": [
    "print(f\"[simulation_time] The total amount of time (in seconds) that one simulation episode takes: {locomotion_environment_configuration.simulation_time}\")\n",
    "print(f\"[physics_timestep] The amount of time (in seconds) that one 'physics step' advances the physics: {locomotion_environment_configuration.physics_timestep}\")\n",
    "print(f\"[control_timestep] The amount of time (in seconds) that one 'control step' advances the physics: {locomotion_environment_configuration.control_timestep}\")\n",
    "print(f\"[total_num_physics_steps] The total amount of physics steps that happen during one simulation episode: {locomotion_environment_configuration.total_num_physics_steps}\")\n",
    "print(f\"[total_num_control_steps] The total amount of control steps that happen during one simulation episode: {locomotion_environment_configuration.total_num_control_steps}\")"
   ],
   "metadata": {
    "collapsed": false,
    "ExecuteTime": {
     "end_time": "2024-01-29T23:57:26.101026Z",
     "start_time": "2024-01-29T23:57:26.094021Z"
    }
   },
   "execution_count": 11
  },
  {
   "cell_type": "markdown",
   "metadata": {
    "id": "fKGuNkH3WRdI"
   },
   "source": [
    "#### Creator\n",
    "We can now define a function that takes in a certain morphological specification, the arena configuration and the environment configuration and returns the actual environment. Note that we have added an additional argument to this function,`backend`, which can be used to choose between instantiating the MJC (native MuJoCo) or the MJX (JAX-based MuJoCo) implementation of the environment."
   ]
  },
  {
   "cell_type": "code",
   "execution_count": 12,
   "metadata": {
    "id": "_4R9PmCtWEdJ",
    "ExecuteTime": {
     "end_time": "2024-01-29T23:57:26.104718Z",
     "start_time": "2024-01-29T23:57:26.097351Z"
    }
   },
   "outputs": [],
   "source": [
    "from brb.brittle_star.environment.undirected_locomotion.dual import BrittleStarUndirectedLocomotionEnvironment\n",
    "from brb.brittle_star.environment.directed_locomotion.dual import BrittleStarDirectedLocomotionEnvironment\n",
    "from brb.brittle_star.environment.light_escape.dual import BrittleStarLightEscapeEnvironment\n",
    "from mujoco_utils.environment.dual import DualMuJoCoEnvironment\n",
    "from mujoco_utils.environment.base import MuJoCoEnvironmentConfiguration\n",
    "\n",
    "\n",
    "def create_environment(\n",
    "        morphology_specification: BrittleStarMorphologySpecification,\n",
    "        arena_configuration: AquariumArenaConfiguration,\n",
    "        environment_configuration: MuJoCoEnvironmentConfiguration,\n",
    "        backend: str\n",
    "        ) -> DualMuJoCoEnvironment:\n",
    "    assert backend in [\"MJC\", \"MJX\"], \"Please specify a valid backend; Either 'MJC' or 'MJX'\"\n",
    "\n",
    "    morphology = create_morphology(\n",
    "            morphology_specification=morphology_specification\n",
    "            )\n",
    "    arena = create_arena(\n",
    "            arena_configuration=arena_configuration\n",
    "            )\n",
    "    if isinstance(environment_configuration, BrittleStarUndirectedLocomotionEnvironmentConfiguration):\n",
    "        env_class = BrittleStarUndirectedLocomotionEnvironment\n",
    "    elif isinstance(environment_configuration, BrittleStarDirectedLocomotionEnvironmentConfiguration):\n",
    "        env_class = BrittleStarDirectedLocomotionEnvironment\n",
    "    else:\n",
    "        env_class = BrittleStarLightEscapeEnvironment\n",
    "\n",
    "    env = env_class.from_morphology_and_arena(\n",
    "            morphology=morphology, arena=arena, configuration=environment_configuration, backend=backend\n",
    "            )\n",
    "    return env"
   ]
  },
  {
   "cell_type": "markdown",
   "metadata": {
    "collapsed": false
   },
   "source": [
    "Given the above utility functions, the next code snippet instantiates the environment and renders a single frame. \n",
    "Use this to test the influence of different parameters and configurations."
   ]
  },
  {
   "cell_type": "code",
   "execution_count": 13,
   "metadata": {
    "collapsed": false,
    "ExecuteTime": {
     "end_time": "2024-01-29T23:57:26.244229Z",
     "start_time": "2024-01-29T23:57:26.105769Z"
    }
   },
   "outputs": [
    {
     "data": {
      "text/plain": "<IPython.core.display.HTML object>",
      "text/html": "<table class=\"show_images\" style=\"border-spacing:0px;\"><tr><td style=\"padding:1px;\"><img width=\"320\" height=\"240\" style=\"image-rendering:auto; object-fit:cover;\" src=\"data:image/png;base64,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\"/></td></tr></table>"
     },
     "metadata": {},
     "output_type": "display_data"
    }
   ],
   "source": [
    "morphology_specification = default_brittle_star_morphology_specification(\n",
    "        num_arms=5, num_segments_per_arm=4, use_p_control=True, use_torque_control=False\n",
    "        )\n",
    "arena_configuration = AquariumArenaConfiguration(\n",
    "        size=(10, 5), sand_ground_color=True, attach_target=False, wall_height=1.5, wall_thickness=0.1\n",
    "        )\n",
    "environment_configuration = BrittleStarLightEscapeEnvironmentConfiguration(\n",
    "        joint_randomization_noise_scale=0.0,\n",
    "        light_perlin_noise_scale=0,\n",
    "        render_mode=\"rgb_array\",\n",
    "        simulation_time=5,\n",
    "        num_physics_steps_per_control_step=10,\n",
    "        time_scale=2,\n",
    "        camera_ids=[0, 1],\n",
    "        render_size=(480, 640)\n",
    "        )\n",
    "\n",
    "BACKEND = \"MJC\"\n",
    "\n",
    "env = create_environment(\n",
    "        morphology_specification=morphology_specification,\n",
    "        arena_configuration=arena_configuration,\n",
    "        environment_configuration=environment_configuration,\n",
    "        backend=BACKEND\n",
    "        )\n",
    "\n",
    "if BACKEND == \"MJC\":\n",
    "    rng = np.random.RandomState(0)\n",
    "else:\n",
    "    rng = jax.random.PRNGKey(seed=0)\n",
    "\n",
    "state = env.reset(rng=rng)  # Always need to reset the environment before doing anything else with it\n",
    "frame = env.render(state=state)\n",
    "media.show_image(post_render(render_output=frame, environment_configuration=environment_configuration))\n",
    "env.close()  # always close the environment after using it!"
   ]
  },
  {
   "cell_type": "markdown",
   "metadata": {
    "collapsed": false
   },
   "source": [
    "## Using the environment\n",
    "In this section we will check how we can now actually use the environments. Let's start by instantiating both an MJC and MJX variant."
   ]
  },
  {
   "cell_type": "code",
   "execution_count": 14,
   "metadata": {
    "collapsed": false,
    "ExecuteTime": {
     "end_time": "2024-01-29T23:57:26.443186Z",
     "start_time": "2024-01-29T23:57:26.263863Z"
    }
   },
   "outputs": [],
   "source": [
    "mjc_env = create_environment(\n",
    "        morphology_specification=morphology_specification,\n",
    "        arena_configuration=arena_configuration,\n",
    "        environment_configuration=environment_configuration,\n",
    "        backend=\"MJC\"\n",
    "        )\n",
    "mjx_env = create_environment(\n",
    "        morphology_specification=morphology_specification,\n",
    "        arena_configuration=arena_configuration,\n",
    "        environment_configuration=environment_configuration,\n",
    "        backend=\"MJX\"\n",
    "        )"
   ]
  },
  {
   "cell_type": "markdown",
   "metadata": {
    "id": "HGaNtSd-GK5k"
   },
   "source": [
    "### Observation space\n",
    "The observation describes the dimensionality and range of the observations that the environment returns upon reset and after taking a step. As both the MJC and MJX variants implement the same environment, although with a different backend, they have the same observation space (order in which different observations are printed might be a bit different though)."
   ]
  },
  {
   "cell_type": "code",
   "execution_count": 15,
   "metadata": {
    "colab": {
     "base_uri": "https://localhost:8080/"
    },
    "id": "VOu3oM4ZS1mm",
    "outputId": "4088bc68-107d-4684-b0db-46e56763b0e2",
    "ExecuteTime": {
     "end_time": "2024-01-29T23:57:26.494626Z",
     "start_time": "2024-01-29T23:57:26.447306Z"
    }
   },
   "outputs": [
    {
     "name": "stdout",
     "output_type": "stream",
     "text": [
      "MJC:\n",
      "\tDict('disk_angular_velocity': Box(-inf, inf, (3,), float32), 'disk_linear_velocity': Box(-inf, inf, (3,), float32), 'disk_position': Box(-inf, inf, (3,), float32), 'disk_rotation': Box(-3.1415927, 3.1415927, (3,), float32), 'in_plane_joint_position': Box(-0.5235988, 0.5235988, (20,), float32), 'in_plane_joint_velocity': Box(-inf, inf, (20,), float32), 'out_of_plane_joint_position': Box(-0.5235988, 0.5235988, (20,), float32), 'out_of_plane_joint_velocity': Box(-inf, inf, (20,), float32), 'segment_contact': Box(0.0, 1.0, (20,), float32), 'segment_light_intake': Box(0.0, 1.0, (20,), float32))\n",
      "MJX:\n",
      "\tDict('in_plane_joint_position': Box(-0.5235988, 0.5235988, (20,), <class 'jax.numpy.float32'>), 'out_of_plane_joint_position': Box(-0.5235988, 0.5235988, (20,), <class 'jax.numpy.float32'>), 'in_plane_joint_velocity': Box(-inf, inf, (20,), <class 'jax.numpy.float32'>), 'out_of_plane_joint_velocity': Box(-inf, inf, (20,), <class 'jax.numpy.float32'>), 'segment_contact': Box(0.0, 1.0, (20,), <class 'jax.numpy.float32'>), 'disk_position': Box(-inf, inf, (3,), <class 'jax.numpy.float32'>), 'disk_rotation': Box(-3.1415927, 3.1415927, (3,), <class 'jax.numpy.float32'>), 'disk_linear_velocity': Box(-inf, inf, (3,), <class 'jax.numpy.float32'>), 'disk_angular_velocity': Box(-inf, inf, (3,), <class 'jax.numpy.float32'>), 'segment_light_intake': Box(0.0, 1.0, (20,), <class 'jax.numpy.float32'>))\n"
     ]
    }
   ],
   "source": [
    "print(\"MJC:\")\n",
    "print(f\"\\t{mjc_env.observation_space}\")\n",
    "print(\"MJX:\")\n",
    "print(f\"\\t{mjx_env.observation_space}\")"
   ]
  },
  {
   "cell_type": "markdown",
   "metadata": {
    "id": "Gd65GNHyGMlY"
   },
   "source": [
    "### Action space\n",
    "The action space describes the dimensionality and range of actions the environment expects in order to take a step. In essence, the environment maps each given action to the control signal of an actuator. Each joint is given an actuator that can control the joints position (either directly through position actuators or indirectly through torque actuators). For the in-plane joints, a positive actuator signal means that the segment will point leftwards (when looking at the segment from the central disc), and rightwards for a negative actuator signal. For the out-of-plane joints, a positive actuator signal means that the segment will point upwards and downwards for a negative actuator signal. "
   ]
  },
  {
   "cell_type": "code",
   "execution_count": 16,
   "metadata": {
    "colab": {
     "base_uri": "https://localhost:8080/"
    },
    "id": "Tc9zKb81bEwB",
    "outputId": "496a166e-56cd-4c9b-9331-264fe9e168d9",
    "ExecuteTime": {
     "end_time": "2024-01-29T23:57:26.534835Z",
     "start_time": "2024-01-29T23:57:26.498531Z"
    }
   },
   "outputs": [
    {
     "name": "stdout",
     "output_type": "stream",
     "text": [
      "MJC:\n",
      "\tBox(-0.5235988, 0.5235988, (40,), float32)\n",
      "MJX:\n",
      "\tBox(-0.5235988, 0.5235988, (40,), <class 'jax.numpy.float32'>)\n"
     ]
    }
   ],
   "source": [
    "print(\"MJC:\")\n",
    "print(f\"\\t{mjc_env.action_space}\")\n",
    "print(\"MJX:\")\n",
    "print(f\"\\t{mjx_env.action_space}\")"
   ]
  },
  {
   "cell_type": "markdown",
   "metadata": {
    "collapsed": false
   },
   "source": [
    "To help in knowing which action is mapped to which actuator, the following call returns a list of actuator names such that `actions[i]` is mapped to `actuator[i]`. This order is always the same between MJC and MJX."
   ]
  },
  {
   "cell_type": "code",
   "execution_count": 17,
   "metadata": {
    "collapsed": false,
    "ExecuteTime": {
     "end_time": "2024-01-29T23:57:26.536741Z",
     "start_time": "2024-01-29T23:57:26.520561Z"
    }
   },
   "outputs": [
    {
     "name": "stdout",
     "output_type": "stream",
     "text": [
      "First 5 actuators:\n",
      "\tMJC: ['BrittleStarMorphology/arm_0_segment_0_in_plane_joint_p_control', 'BrittleStarMorphology/arm_0_segment_0_out_of_plane_joint_p_control', 'BrittleStarMorphology/arm_0_segment_1_in_plane_joint_p_control', 'BrittleStarMorphology/arm_0_segment_1_out_of_plane_joint_p_control', 'BrittleStarMorphology/arm_0_segment_2_in_plane_joint_p_control']\n",
      "\tMJX: ['BrittleStarMorphology/arm_0_segment_0_in_plane_joint_p_control', 'BrittleStarMorphology/arm_0_segment_0_out_of_plane_joint_p_control', 'BrittleStarMorphology/arm_0_segment_1_in_plane_joint_p_control', 'BrittleStarMorphology/arm_0_segment_1_out_of_plane_joint_p_control', 'BrittleStarMorphology/arm_0_segment_2_in_plane_joint_p_control']\n"
     ]
    }
   ],
   "source": [
    "print(\"First 5 actuators:\")\n",
    "print(f\"\\tMJC: {mjc_env.actuators[:5]}\")\n",
    "print(f\"\\tMJX: {mjx_env.actuators[:5]}\")"
   ]
  },
  {
   "cell_type": "markdown",
   "metadata": {
    "collapsed": false
   },
   "source": [
    "### Running and visualizing an episode\n",
    "Now we will run the simulation environment and visualize it. As shown below, this happens in a similar manner for both the MJC and the MJX variants, as both follow the interface defined in [mujoco-utils](https://github.com/Co-Evolve/mujoco-utils/blob/new-framework/mujoco_utils/environment/base.py#L109). This interface follows the functional programming paradigm. Put simply, this means that we rely only on pure functions (i.e. functions that are deterministic and without side effects). Consequently, when interacting with the environment, we will always have an explicit environment state that is passed around (instead of relying on the environment to adapt its state). The main difference between the MJC and MJX variants is that the MJC variant uses [MJCEnvState](https://github.com/Co-Evolve/mujoco-utils/blob/new-framework/mujoco_utils/environment/mjc_env.py#L24) (which contains Numpy arrays and Numpy's random states), while the MJX variant uses [MJXEnvState](https://github.com/Co-Evolve/mujoco-utils/blob/new-framework/mujoco_utils/environment/mjx_env.py#L54) (which contains JAX arrays and JAX's random number generators).\n",
    "\n",
    "The most important variables stored in the environment state are:\n",
    "- `observations`: a dictionary mapping an observation's identifier to its values\n",
    "- `terminated`: boolean value that denotes whether the episode is terminated (e.g. because the goal was reached)\n",
    "- `truncated`: boolean value that denotes whether the episode was truncated (e.g. because the time limit was reached)\n",
    "- `reward`: float value that denotes the reward of doing the given actions in the previous state\n",
    "- `info`: a dictionary that the environment can use to pass additional information to the user\n",
    "- `rng`: the current random number generator's state\n",
    "\n",
    "Note1: Normally, you always reset the environment when the current episode has been terminated or truncated. The environments implemented in the BRB however take care of this for you. The `env.step` call that results in the episode being finished will automatically reset the environment. The `state.observations` dictionary then contains the initial observations at the start of the new episode. \n",
    "Note2: When rendering the environment, you might want to increase the resolution to increase visibility (rendering will be slower then though). This can be done through the [environment configuration](https://github.com/Co-Evolve/mujoco-utils/blob/new-framework/mujoco_utils/environment/base.py#L29)'s `render_size` attribute, which denotes the `(height, width)` in pixels.\n",
    "\n",
    "#### MJC"
   ]
  },
  {
   "cell_type": "code",
   "execution_count": 18,
   "metadata": {
    "collapsed": false,
    "ExecuteTime": {
     "end_time": "2024-01-29T23:57:27.629893Z",
     "start_time": "2024-01-29T23:57:26.525501Z"
    }
   },
   "outputs": [
    {
     "data": {
      "text/plain": "<IPython.core.display.HTML object>",
      "text/html": "<table class=\"show_videos\" style=\"border-spacing:0px;\"><tr><td style=\"padding:1px;\"><video controls width=\"320\" height=\"240\" style=\"object-fit:cover;\" loop autoplay muted>\n      <source src=\"data:video/mp4;base64,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\" type=\"video/mp4\"/>\n      This browser does not support the video tag.\n      </video></td></tr></table>"
     },
     "metadata": {},
     "output_type": "display_data"
    }
   ],
   "source": [
    "mjc_env_rng = np.random.RandomState(seed=0)\n",
    "\n",
    "mjc_state = mjc_env.reset(rng=mjc_env_rng)\n",
    "\n",
    "mjc_frames = []\n",
    "while not (mjc_state.terminated | mjc_state.truncated):\n",
    "    action = mjc_env.action_space.sample()\n",
    "    mjc_state = mjc_env.step(state=mjc_state, action=action)\n",
    "    mjc_frames.append(post_render(mjc_env.render(state=mjc_state), mjc_env.environment_configuration))\n",
    "media.show_video(images=mjc_frames)"
   ]
  },
  {
   "cell_type": "markdown",
   "metadata": {
    "collapsed": false
   },
   "source": [
    "#### MJX\n",
    "The first time that you run this cell will take a while because of the JIT-compilation. Subsequent calls will however go faster.\n",
    "Note: As discussed further below, MJX always runs much slower than MJC when running only a single environment (even after jitting) and especially when rendering every step! MJX only shines when we're running many environments simultaneously and skip the rendering."
   ]
  },
  {
   "cell_type": "code",
   "execution_count": 19,
   "metadata": {
    "collapsed": false,
    "ExecuteTime": {
     "end_time": "2024-01-29T23:59:16.597804Z",
     "start_time": "2024-01-29T23:57:27.633907Z"
    }
   },
   "outputs": [
    {
     "ename": "KeyboardInterrupt",
     "evalue": "",
     "output_type": "error",
     "traceback": [
      "\u001B[0;31m---------------------------------------------------------------------------\u001B[0m",
      "\u001B[0;31mKeyboardInterrupt\u001B[0m                         Traceback (most recent call last)",
      "Cell \u001B[0;32mIn[19], line 13\u001B[0m\n\u001B[1;32m     10\u001B[0m action_rng, sub_rng \u001B[38;5;241m=\u001B[39m jax\u001B[38;5;241m.\u001B[39mrandom\u001B[38;5;241m.\u001B[39msplit(action_rng, \u001B[38;5;241m2\u001B[39m)\n\u001B[1;32m     11\u001B[0m action \u001B[38;5;241m=\u001B[39m mjx_env\u001B[38;5;241m.\u001B[39maction_space\u001B[38;5;241m.\u001B[39msample(rng\u001B[38;5;241m=\u001B[39msub_rng)\n\u001B[0;32m---> 13\u001B[0m mjx_state \u001B[38;5;241m=\u001B[39m \u001B[43mjit_step\u001B[49m\u001B[43m(\u001B[49m\u001B[43mstate\u001B[49m\u001B[38;5;241;43m=\u001B[39;49m\u001B[43mmjx_state\u001B[49m\u001B[43m,\u001B[49m\u001B[43m \u001B[49m\u001B[43maction\u001B[49m\u001B[38;5;241;43m=\u001B[39;49m\u001B[43maction\u001B[49m\u001B[43m)\u001B[49m\n\u001B[1;32m     14\u001B[0m post_render(mjx_env\u001B[38;5;241m.\u001B[39mrender(state\u001B[38;5;241m=\u001B[39mmjx_state), mjx_env\u001B[38;5;241m.\u001B[39menvironment_configuration)\n",
      "    \u001B[0;31m[... skipping hidden 1 frame]\u001B[0m\n",
      "File \u001B[0;32m~/miniforge3/envs/SEL3-2024/lib/python3.11/site-packages/jax/_src/pjit.py:257\u001B[0m, in \u001B[0;36m_cpp_pjit.<locals>.cache_miss\u001B[0;34m(*args, **kwargs)\u001B[0m\n\u001B[1;32m    255\u001B[0m \u001B[38;5;129m@api_boundary\u001B[39m\n\u001B[1;32m    256\u001B[0m \u001B[38;5;28;01mdef\u001B[39;00m \u001B[38;5;21mcache_miss\u001B[39m(\u001B[38;5;241m*\u001B[39margs, \u001B[38;5;241m*\u001B[39m\u001B[38;5;241m*\u001B[39mkwargs):\n\u001B[0;32m--> 257\u001B[0m   outs, out_flat, out_tree, args_flat, jaxpr \u001B[38;5;241m=\u001B[39m \u001B[43m_python_pjit_helper\u001B[49m\u001B[43m(\u001B[49m\n\u001B[1;32m    258\u001B[0m \u001B[43m      \u001B[49m\u001B[43mfun\u001B[49m\u001B[43m,\u001B[49m\u001B[43m \u001B[49m\u001B[43minfer_params_fn\u001B[49m\u001B[43m,\u001B[49m\u001B[43m \u001B[49m\u001B[38;5;241;43m*\u001B[39;49m\u001B[43margs\u001B[49m\u001B[43m,\u001B[49m\u001B[43m \u001B[49m\u001B[38;5;241;43m*\u001B[39;49m\u001B[38;5;241;43m*\u001B[39;49m\u001B[43mkwargs\u001B[49m\u001B[43m)\u001B[49m\n\u001B[1;32m    259\u001B[0m   executable \u001B[38;5;241m=\u001B[39m _read_most_recent_pjit_call_executable(jaxpr)\n\u001B[1;32m    260\u001B[0m   fastpath_data \u001B[38;5;241m=\u001B[39m _get_fastpath_data(executable, out_tree, args_flat, out_flat)\n",
      "File \u001B[0;32m~/miniforge3/envs/SEL3-2024/lib/python3.11/site-packages/jax/_src/pjit.py:168\u001B[0m, in \u001B[0;36m_python_pjit_helper\u001B[0;34m(fun, infer_params_fn, *args, **kwargs)\u001B[0m\n\u001B[1;32m    166\u001B[0m   dispatch\u001B[38;5;241m.\u001B[39mcheck_arg(arg)\n\u001B[1;32m    167\u001B[0m \u001B[38;5;28;01mtry\u001B[39;00m:\n\u001B[0;32m--> 168\u001B[0m   out_flat \u001B[38;5;241m=\u001B[39m \u001B[43mpjit_p\u001B[49m\u001B[38;5;241;43m.\u001B[39;49m\u001B[43mbind\u001B[49m\u001B[43m(\u001B[49m\u001B[38;5;241;43m*\u001B[39;49m\u001B[43margs_flat\u001B[49m\u001B[43m,\u001B[49m\u001B[43m \u001B[49m\u001B[38;5;241;43m*\u001B[39;49m\u001B[38;5;241;43m*\u001B[39;49m\u001B[43mparams\u001B[49m\u001B[43m)\u001B[49m\n\u001B[1;32m    169\u001B[0m \u001B[38;5;28;01mexcept\u001B[39;00m pxla\u001B[38;5;241m.\u001B[39mDeviceAssignmentMismatchError \u001B[38;5;28;01mas\u001B[39;00m e:\n\u001B[1;32m    170\u001B[0m   fails, \u001B[38;5;241m=\u001B[39m e\u001B[38;5;241m.\u001B[39margs\n",
      "File \u001B[0;32m~/miniforge3/envs/SEL3-2024/lib/python3.11/site-packages/jax/_src/core.py:2740\u001B[0m, in \u001B[0;36mAxisPrimitive.bind\u001B[0;34m(self, *args, **params)\u001B[0m\n\u001B[1;32m   2736\u001B[0m axis_main \u001B[38;5;241m=\u001B[39m \u001B[38;5;28mmax\u001B[39m((axis_frame(a)\u001B[38;5;241m.\u001B[39mmain_trace \u001B[38;5;28;01mfor\u001B[39;00m a \u001B[38;5;129;01min\u001B[39;00m used_axis_names(\u001B[38;5;28mself\u001B[39m, params)),\n\u001B[1;32m   2737\u001B[0m                 default\u001B[38;5;241m=\u001B[39m\u001B[38;5;28;01mNone\u001B[39;00m, key\u001B[38;5;241m=\u001B[39m\u001B[38;5;28;01mlambda\u001B[39;00m t: \u001B[38;5;28mgetattr\u001B[39m(t, \u001B[38;5;124m'\u001B[39m\u001B[38;5;124mlevel\u001B[39m\u001B[38;5;124m'\u001B[39m, \u001B[38;5;241m-\u001B[39m\u001B[38;5;241m1\u001B[39m))\n\u001B[1;32m   2738\u001B[0m top_trace \u001B[38;5;241m=\u001B[39m (top_trace \u001B[38;5;28;01mif\u001B[39;00m \u001B[38;5;129;01mnot\u001B[39;00m axis_main \u001B[38;5;129;01mor\u001B[39;00m axis_main\u001B[38;5;241m.\u001B[39mlevel \u001B[38;5;241m<\u001B[39m top_trace\u001B[38;5;241m.\u001B[39mlevel\n\u001B[1;32m   2739\u001B[0m              \u001B[38;5;28;01melse\u001B[39;00m axis_main\u001B[38;5;241m.\u001B[39mwith_cur_sublevel())\n\u001B[0;32m-> 2740\u001B[0m \u001B[38;5;28;01mreturn\u001B[39;00m \u001B[38;5;28;43mself\u001B[39;49m\u001B[38;5;241;43m.\u001B[39;49m\u001B[43mbind_with_trace\u001B[49m\u001B[43m(\u001B[49m\u001B[43mtop_trace\u001B[49m\u001B[43m,\u001B[49m\u001B[43m \u001B[49m\u001B[43margs\u001B[49m\u001B[43m,\u001B[49m\u001B[43m \u001B[49m\u001B[43mparams\u001B[49m\u001B[43m)\u001B[49m\n",
      "File \u001B[0;32m~/miniforge3/envs/SEL3-2024/lib/python3.11/site-packages/jax/_src/core.py:447\u001B[0m, in \u001B[0;36mPrimitive.bind_with_trace\u001B[0;34m(self, trace, args, params)\u001B[0m\n\u001B[1;32m    446\u001B[0m \u001B[38;5;28;01mdef\u001B[39;00m \u001B[38;5;21mbind_with_trace\u001B[39m(\u001B[38;5;28mself\u001B[39m, trace, args, params):\n\u001B[0;32m--> 447\u001B[0m   out \u001B[38;5;241m=\u001B[39m \u001B[43mtrace\u001B[49m\u001B[38;5;241;43m.\u001B[39;49m\u001B[43mprocess_primitive\u001B[49m\u001B[43m(\u001B[49m\u001B[38;5;28;43mself\u001B[39;49m\u001B[43m,\u001B[49m\u001B[43m \u001B[49m\u001B[38;5;28;43mmap\u001B[39;49m\u001B[43m(\u001B[49m\u001B[43mtrace\u001B[49m\u001B[38;5;241;43m.\u001B[39;49m\u001B[43mfull_raise\u001B[49m\u001B[43m,\u001B[49m\u001B[43m \u001B[49m\u001B[43margs\u001B[49m\u001B[43m)\u001B[49m\u001B[43m,\u001B[49m\u001B[43m \u001B[49m\u001B[43mparams\u001B[49m\u001B[43m)\u001B[49m\n\u001B[1;32m    448\u001B[0m   \u001B[38;5;28;01mreturn\u001B[39;00m \u001B[38;5;28mmap\u001B[39m(full_lower, out) \u001B[38;5;28;01mif\u001B[39;00m \u001B[38;5;28mself\u001B[39m\u001B[38;5;241m.\u001B[39mmultiple_results \u001B[38;5;28;01melse\u001B[39;00m full_lower(out)\n",
      "File \u001B[0;32m~/miniforge3/envs/SEL3-2024/lib/python3.11/site-packages/jax/_src/core.py:935\u001B[0m, in \u001B[0;36mEvalTrace.process_primitive\u001B[0;34m(self, primitive, tracers, params)\u001B[0m\n\u001B[1;32m    934\u001B[0m \u001B[38;5;28;01mdef\u001B[39;00m \u001B[38;5;21mprocess_primitive\u001B[39m(\u001B[38;5;28mself\u001B[39m, primitive, tracers, params):\n\u001B[0;32m--> 935\u001B[0m   \u001B[38;5;28;01mreturn\u001B[39;00m \u001B[43mprimitive\u001B[49m\u001B[38;5;241;43m.\u001B[39;49m\u001B[43mimpl\u001B[49m\u001B[43m(\u001B[49m\u001B[38;5;241;43m*\u001B[39;49m\u001B[43mtracers\u001B[49m\u001B[43m,\u001B[49m\u001B[43m \u001B[49m\u001B[38;5;241;43m*\u001B[39;49m\u001B[38;5;241;43m*\u001B[39;49m\u001B[43mparams\u001B[49m\u001B[43m)\u001B[49m\n",
      "File \u001B[0;32m~/miniforge3/envs/SEL3-2024/lib/python3.11/site-packages/jax/_src/pjit.py:1245\u001B[0m, in \u001B[0;36m_pjit_call_impl\u001B[0;34m(jaxpr, in_shardings, out_shardings, resource_env, donated_invars, name, keep_unused, inline, *args)\u001B[0m\n\u001B[1;32m   1242\u001B[0m donated_argnums \u001B[38;5;241m=\u001B[39m [i \u001B[38;5;28;01mfor\u001B[39;00m i, d \u001B[38;5;129;01min\u001B[39;00m \u001B[38;5;28menumerate\u001B[39m(donated_invars) \u001B[38;5;28;01mif\u001B[39;00m d]\n\u001B[1;32m   1243\u001B[0m has_explicit_sharding \u001B[38;5;241m=\u001B[39m _pjit_explicit_sharding(\n\u001B[1;32m   1244\u001B[0m     in_shardings, out_shardings, \u001B[38;5;28;01mNone\u001B[39;00m, \u001B[38;5;28;01mNone\u001B[39;00m)\n\u001B[0;32m-> 1245\u001B[0m \u001B[38;5;28;01mreturn\u001B[39;00m \u001B[43mxc\u001B[49m\u001B[38;5;241;43m.\u001B[39;49m\u001B[43m_xla\u001B[49m\u001B[38;5;241;43m.\u001B[39;49m\u001B[43mpjit\u001B[49m\u001B[43m(\u001B[49m\u001B[43mname\u001B[49m\u001B[43m,\u001B[49m\u001B[43m \u001B[49m\u001B[43mf\u001B[49m\u001B[43m,\u001B[49m\u001B[43m \u001B[49m\u001B[43mcall_impl_cache_miss\u001B[49m\u001B[43m,\u001B[49m\u001B[43m \u001B[49m\u001B[43m[\u001B[49m\u001B[43m]\u001B[49m\u001B[43m,\u001B[49m\u001B[43m \u001B[49m\u001B[43m[\u001B[49m\u001B[43m]\u001B[49m\u001B[43m,\u001B[49m\u001B[43m \u001B[49m\u001B[43mdonated_argnums\u001B[49m\u001B[43m,\u001B[49m\n\u001B[1;32m   1246\u001B[0m \u001B[43m                    \u001B[49m\u001B[43mtree_util\u001B[49m\u001B[38;5;241;43m.\u001B[39;49m\u001B[43mdispatch_registry\u001B[49m\u001B[43m,\u001B[49m\n\u001B[1;32m   1247\u001B[0m \u001B[43m                    \u001B[49m\u001B[43m_get_cpp_global_cache\u001B[49m\u001B[43m(\u001B[49m\u001B[43mhas_explicit_sharding\u001B[49m\u001B[43m)\u001B[49m\u001B[43m)\u001B[49m\u001B[43m(\u001B[49m\u001B[38;5;241;43m*\u001B[39;49m\u001B[43margs\u001B[49m\u001B[43m)\u001B[49m\n",
      "File \u001B[0;32m~/miniforge3/envs/SEL3-2024/lib/python3.11/site-packages/jax/_src/pjit.py:1229\u001B[0m, in \u001B[0;36m_pjit_call_impl.<locals>.call_impl_cache_miss\u001B[0;34m(*args_, **kwargs_)\u001B[0m\n\u001B[1;32m   1228\u001B[0m \u001B[38;5;28;01mdef\u001B[39;00m \u001B[38;5;21mcall_impl_cache_miss\u001B[39m(\u001B[38;5;241m*\u001B[39margs_, \u001B[38;5;241m*\u001B[39m\u001B[38;5;241m*\u001B[39mkwargs_):\n\u001B[0;32m-> 1229\u001B[0m   out_flat, compiled \u001B[38;5;241m=\u001B[39m \u001B[43m_pjit_call_impl_python\u001B[49m\u001B[43m(\u001B[49m\n\u001B[1;32m   1230\u001B[0m \u001B[43m      \u001B[49m\u001B[38;5;241;43m*\u001B[39;49m\u001B[43margs\u001B[49m\u001B[43m,\u001B[49m\u001B[43m \u001B[49m\u001B[43mjaxpr\u001B[49m\u001B[38;5;241;43m=\u001B[39;49m\u001B[43mjaxpr\u001B[49m\u001B[43m,\u001B[49m\u001B[43m \u001B[49m\u001B[43min_shardings\u001B[49m\u001B[38;5;241;43m=\u001B[39;49m\u001B[43min_shardings\u001B[49m\u001B[43m,\u001B[49m\n\u001B[1;32m   1231\u001B[0m \u001B[43m      \u001B[49m\u001B[43mout_shardings\u001B[49m\u001B[38;5;241;43m=\u001B[39;49m\u001B[43mout_shardings\u001B[49m\u001B[43m,\u001B[49m\u001B[43m \u001B[49m\u001B[43mresource_env\u001B[49m\u001B[38;5;241;43m=\u001B[39;49m\u001B[43mresource_env\u001B[49m\u001B[43m,\u001B[49m\n\u001B[1;32m   1232\u001B[0m \u001B[43m      \u001B[49m\u001B[43mdonated_invars\u001B[49m\u001B[38;5;241;43m=\u001B[39;49m\u001B[43mdonated_invars\u001B[49m\u001B[43m,\u001B[49m\u001B[43m \u001B[49m\u001B[43mname\u001B[49m\u001B[38;5;241;43m=\u001B[39;49m\u001B[43mname\u001B[49m\u001B[43m,\u001B[49m\u001B[43m \u001B[49m\u001B[43mkeep_unused\u001B[49m\u001B[38;5;241;43m=\u001B[39;49m\u001B[43mkeep_unused\u001B[49m\u001B[43m,\u001B[49m\n\u001B[1;32m   1233\u001B[0m \u001B[43m      \u001B[49m\u001B[43minline\u001B[49m\u001B[38;5;241;43m=\u001B[39;49m\u001B[43minline\u001B[49m\u001B[43m)\u001B[49m\n\u001B[1;32m   1234\u001B[0m   fastpath_data \u001B[38;5;241m=\u001B[39m _get_fastpath_data(\n\u001B[1;32m   1235\u001B[0m       compiled, tree_structure(out_flat), args, out_flat)\n\u001B[1;32m   1236\u001B[0m   \u001B[38;5;28;01mreturn\u001B[39;00m out_flat, fastpath_data\n",
      "File \u001B[0;32m~/miniforge3/envs/SEL3-2024/lib/python3.11/site-packages/jax/_src/pjit.py:1165\u001B[0m, in \u001B[0;36m_pjit_call_impl_python\u001B[0;34m(jaxpr, in_shardings, out_shardings, resource_env, donated_invars, name, keep_unused, inline, *args)\u001B[0m\n\u001B[1;32m   1156\u001B[0m \u001B[38;5;28;01mglobal\u001B[39;00m _most_recent_pjit_call_executable\n\u001B[1;32m   1158\u001B[0m in_shardings \u001B[38;5;241m=\u001B[39m _resolve_in_shardings(\n\u001B[1;32m   1159\u001B[0m     args, in_shardings, out_shardings,\n\u001B[1;32m   1160\u001B[0m     resource_env\u001B[38;5;241m.\u001B[39mphysical_mesh \u001B[38;5;28;01mif\u001B[39;00m resource_env \u001B[38;5;129;01mis\u001B[39;00m \u001B[38;5;129;01mnot\u001B[39;00m \u001B[38;5;28;01mNone\u001B[39;00m \u001B[38;5;28;01melse\u001B[39;00m \u001B[38;5;28;01mNone\u001B[39;00m)\n\u001B[1;32m   1162\u001B[0m compiled \u001B[38;5;241m=\u001B[39m \u001B[43m_pjit_lower\u001B[49m\u001B[43m(\u001B[49m\n\u001B[1;32m   1163\u001B[0m \u001B[43m    \u001B[49m\u001B[43mjaxpr\u001B[49m\u001B[43m,\u001B[49m\u001B[43m \u001B[49m\u001B[43min_shardings\u001B[49m\u001B[43m,\u001B[49m\u001B[43m \u001B[49m\u001B[43mout_shardings\u001B[49m\u001B[43m,\u001B[49m\u001B[43m \u001B[49m\u001B[43mresource_env\u001B[49m\u001B[43m,\u001B[49m\n\u001B[1;32m   1164\u001B[0m \u001B[43m    \u001B[49m\u001B[43mdonated_invars\u001B[49m\u001B[43m,\u001B[49m\u001B[43m \u001B[49m\u001B[43mname\u001B[49m\u001B[43m,\u001B[49m\u001B[43m \u001B[49m\u001B[43mkeep_unused\u001B[49m\u001B[43m,\u001B[49m\u001B[43m \u001B[49m\u001B[43minline\u001B[49m\u001B[43m,\u001B[49m\n\u001B[0;32m-> 1165\u001B[0m \u001B[43m    \u001B[49m\u001B[43mlowering_parameters\u001B[49m\u001B[38;5;241;43m=\u001B[39;49m\u001B[43mmlir\u001B[49m\u001B[38;5;241;43m.\u001B[39;49m\u001B[43mLoweringParameters\u001B[49m\u001B[43m(\u001B[49m\u001B[43m)\u001B[49m\u001B[43m)\u001B[49m\u001B[38;5;241;43m.\u001B[39;49m\u001B[43mcompile\u001B[49m\u001B[43m(\u001B[49m\u001B[43m)\u001B[49m\n\u001B[1;32m   1166\u001B[0m _most_recent_pjit_call_executable\u001B[38;5;241m.\u001B[39mweak_key_dict[jaxpr] \u001B[38;5;241m=\u001B[39m compiled\n\u001B[1;32m   1167\u001B[0m \u001B[38;5;66;03m# This check is expensive so only do it if enable_checks is on.\u001B[39;00m\n",
      "File \u001B[0;32m~/miniforge3/envs/SEL3-2024/lib/python3.11/site-packages/jax/_src/interpreters/pxla.py:2219\u001B[0m, in \u001B[0;36mMeshComputation.compile\u001B[0;34m(self, compiler_options)\u001B[0m\n\u001B[1;32m   2217\u001B[0m \u001B[38;5;28;01mdef\u001B[39;00m \u001B[38;5;21mcompile\u001B[39m(\u001B[38;5;28mself\u001B[39m, compiler_options\u001B[38;5;241m=\u001B[39m\u001B[38;5;28;01mNone\u001B[39;00m) \u001B[38;5;241m-\u001B[39m\u001B[38;5;241m>\u001B[39m MeshExecutable:\n\u001B[1;32m   2218\u001B[0m   \u001B[38;5;28;01mif\u001B[39;00m \u001B[38;5;28mself\u001B[39m\u001B[38;5;241m.\u001B[39m_executable \u001B[38;5;129;01mis\u001B[39;00m \u001B[38;5;28;01mNone\u001B[39;00m \u001B[38;5;129;01mor\u001B[39;00m compiler_options \u001B[38;5;129;01mis\u001B[39;00m \u001B[38;5;129;01mnot\u001B[39;00m \u001B[38;5;28;01mNone\u001B[39;00m:\n\u001B[0;32m-> 2219\u001B[0m     executable \u001B[38;5;241m=\u001B[39m \u001B[43mUnloadedMeshExecutable\u001B[49m\u001B[38;5;241;43m.\u001B[39;49m\u001B[43mfrom_hlo\u001B[49m\u001B[43m(\u001B[49m\n\u001B[1;32m   2220\u001B[0m \u001B[43m        \u001B[49m\u001B[38;5;28;43mself\u001B[39;49m\u001B[38;5;241;43m.\u001B[39;49m\u001B[43m_name\u001B[49m\u001B[43m,\u001B[49m\u001B[43m \u001B[49m\u001B[38;5;28;43mself\u001B[39;49m\u001B[38;5;241;43m.\u001B[39;49m\u001B[43m_hlo\u001B[49m\u001B[43m,\u001B[49m\u001B[43m \u001B[49m\u001B[38;5;241;43m*\u001B[39;49m\u001B[38;5;241;43m*\u001B[39;49m\u001B[38;5;28;43mself\u001B[39;49m\u001B[38;5;241;43m.\u001B[39;49m\u001B[43mcompile_args\u001B[49m\u001B[43m,\u001B[49m\n\u001B[1;32m   2221\u001B[0m \u001B[43m        \u001B[49m\u001B[43mcompiler_options\u001B[49m\u001B[38;5;241;43m=\u001B[39;49m\u001B[43mcompiler_options\u001B[49m\u001B[43m)\u001B[49m\n\u001B[1;32m   2222\u001B[0m     \u001B[38;5;28;01mif\u001B[39;00m compiler_options \u001B[38;5;129;01mis\u001B[39;00m \u001B[38;5;28;01mNone\u001B[39;00m:\n\u001B[1;32m   2223\u001B[0m       \u001B[38;5;28mself\u001B[39m\u001B[38;5;241m.\u001B[39m_executable \u001B[38;5;241m=\u001B[39m executable\n",
      "File \u001B[0;32m~/miniforge3/envs/SEL3-2024/lib/python3.11/site-packages/jax/_src/interpreters/pxla.py:2659\u001B[0m, in \u001B[0;36mUnloadedMeshExecutable.from_hlo\u001B[0;34m(***failed resolving arguments***)\u001B[0m\n\u001B[1;32m   2656\u001B[0m       mesh \u001B[38;5;241m=\u001B[39m i\u001B[38;5;241m.\u001B[39mmesh  \u001B[38;5;66;03m# type: ignore\u001B[39;00m\n\u001B[1;32m   2657\u001B[0m       \u001B[38;5;28;01mbreak\u001B[39;00m\n\u001B[0;32m-> 2659\u001B[0m xla_executable, compile_options \u001B[38;5;241m=\u001B[39m \u001B[43m_cached_compilation\u001B[49m\u001B[43m(\u001B[49m\n\u001B[1;32m   2660\u001B[0m \u001B[43m    \u001B[49m\u001B[43mhlo\u001B[49m\u001B[43m,\u001B[49m\u001B[43m \u001B[49m\u001B[43mname\u001B[49m\u001B[43m,\u001B[49m\u001B[43m \u001B[49m\u001B[43mmesh\u001B[49m\u001B[43m,\u001B[49m\u001B[43m \u001B[49m\u001B[43mspmd_lowering\u001B[49m\u001B[43m,\u001B[49m\n\u001B[1;32m   2661\u001B[0m \u001B[43m    \u001B[49m\u001B[43mtuple_args\u001B[49m\u001B[43m,\u001B[49m\u001B[43m \u001B[49m\u001B[43mauto_spmd_lowering\u001B[49m\u001B[43m,\u001B[49m\u001B[43m \u001B[49m\u001B[43mallow_prop_to_outputs\u001B[49m\u001B[43m,\u001B[49m\n\u001B[1;32m   2662\u001B[0m \u001B[43m    \u001B[49m\u001B[38;5;28;43mtuple\u001B[39;49m\u001B[43m(\u001B[49m\u001B[43mhost_callbacks\u001B[49m\u001B[43m)\u001B[49m\u001B[43m,\u001B[49m\u001B[43m \u001B[49m\u001B[43mbackend\u001B[49m\u001B[43m,\u001B[49m\u001B[43m \u001B[49m\u001B[43mda\u001B[49m\u001B[43m,\u001B[49m\u001B[43m \u001B[49m\u001B[43mpmap_nreps\u001B[49m\u001B[43m,\u001B[49m\n\u001B[1;32m   2663\u001B[0m \u001B[43m    \u001B[49m\u001B[43mcompiler_options_keys\u001B[49m\u001B[43m,\u001B[49m\u001B[43m \u001B[49m\u001B[43mcompiler_options_values\u001B[49m\u001B[43m)\u001B[49m\n\u001B[1;32m   2665\u001B[0m \u001B[38;5;28;01mif\u001B[39;00m \u001B[38;5;28mhasattr\u001B[39m(backend, \u001B[38;5;124m\"\u001B[39m\u001B[38;5;124mcompile_replicated\u001B[39m\u001B[38;5;124m\"\u001B[39m):\n\u001B[1;32m   2666\u001B[0m   semantics_in_shardings \u001B[38;5;241m=\u001B[39m SemanticallyEqualShardings(in_shardings)  \u001B[38;5;66;03m# type: ignore\u001B[39;00m\n",
      "File \u001B[0;32m~/miniforge3/envs/SEL3-2024/lib/python3.11/site-packages/jax/_src/interpreters/pxla.py:2528\u001B[0m, in \u001B[0;36m_cached_compilation\u001B[0;34m(computation, name, mesh, spmd_lowering, tuple_args, auto_spmd_lowering, _allow_propagation_to_outputs, host_callbacks, backend, da, pmap_nreps, compiler_options_keys, compiler_options_values)\u001B[0m\n\u001B[1;32m   2523\u001B[0m   \u001B[38;5;28;01mreturn\u001B[39;00m \u001B[38;5;28;01mNone\u001B[39;00m, compile_options\n\u001B[1;32m   2525\u001B[0m \u001B[38;5;28;01mwith\u001B[39;00m dispatch\u001B[38;5;241m.\u001B[39mlog_elapsed_time(\n\u001B[1;32m   2526\u001B[0m     \u001B[38;5;124m\"\u001B[39m\u001B[38;5;124mFinished XLA compilation of \u001B[39m\u001B[38;5;132;01m{fun_name}\u001B[39;00m\u001B[38;5;124m in \u001B[39m\u001B[38;5;132;01m{elapsed_time}\u001B[39;00m\u001B[38;5;124m sec\u001B[39m\u001B[38;5;124m\"\u001B[39m,\n\u001B[1;32m   2527\u001B[0m     fun_name\u001B[38;5;241m=\u001B[39mname, event\u001B[38;5;241m=\u001B[39mdispatch\u001B[38;5;241m.\u001B[39mBACKEND_COMPILE_EVENT):\n\u001B[0;32m-> 2528\u001B[0m   xla_executable \u001B[38;5;241m=\u001B[39m \u001B[43mcompiler\u001B[49m\u001B[38;5;241;43m.\u001B[39;49m\u001B[43mcompile_or_get_cached\u001B[49m\u001B[43m(\u001B[49m\n\u001B[1;32m   2529\u001B[0m \u001B[43m      \u001B[49m\u001B[43mbackend\u001B[49m\u001B[43m,\u001B[49m\u001B[43m \u001B[49m\u001B[43mcomputation\u001B[49m\u001B[43m,\u001B[49m\u001B[43m \u001B[49m\u001B[43mdev\u001B[49m\u001B[43m,\u001B[49m\u001B[43m \u001B[49m\u001B[43mcompile_options\u001B[49m\u001B[43m,\u001B[49m\u001B[43m \u001B[49m\u001B[43mhost_callbacks\u001B[49m\u001B[43m)\u001B[49m\n\u001B[1;32m   2530\u001B[0m \u001B[38;5;28;01mreturn\u001B[39;00m xla_executable, compile_options\n",
      "File \u001B[0;32m~/miniforge3/envs/SEL3-2024/lib/python3.11/site-packages/jax/_src/compiler.py:296\u001B[0m, in \u001B[0;36mcompile_or_get_cached\u001B[0;34m(backend, computation, devices, compile_options, host_callbacks)\u001B[0m\n\u001B[1;32m    292\u001B[0m use_compilation_cache \u001B[38;5;241m=\u001B[39m (compilation_cache\u001B[38;5;241m.\u001B[39mis_initialized() \u001B[38;5;129;01mand\u001B[39;00m\n\u001B[1;32m    293\u001B[0m                          backend\u001B[38;5;241m.\u001B[39mplatform \u001B[38;5;129;01min\u001B[39;00m supported_platforms)\n\u001B[1;32m    295\u001B[0m \u001B[38;5;28;01mif\u001B[39;00m \u001B[38;5;129;01mnot\u001B[39;00m use_compilation_cache:\n\u001B[0;32m--> 296\u001B[0m   \u001B[38;5;28;01mreturn\u001B[39;00m \u001B[43mbackend_compile\u001B[49m\u001B[43m(\u001B[49m\u001B[43mbackend\u001B[49m\u001B[43m,\u001B[49m\u001B[43m \u001B[49m\u001B[43mcomputation\u001B[49m\u001B[43m,\u001B[49m\u001B[43m \u001B[49m\u001B[43mcompile_options\u001B[49m\u001B[43m,\u001B[49m\n\u001B[1;32m    297\u001B[0m \u001B[43m                         \u001B[49m\u001B[43mhost_callbacks\u001B[49m\u001B[43m)\u001B[49m\n\u001B[1;32m    299\u001B[0m compilation_cache\u001B[38;5;241m.\u001B[39mset_once_cache_used(\n\u001B[1;32m    300\u001B[0m     \u001B[38;5;28;01mlambda\u001B[39;00m: monitoring\u001B[38;5;241m.\u001B[39mrecord_event(\n\u001B[1;32m    301\u001B[0m         \u001B[38;5;124m\"\u001B[39m\u001B[38;5;124m/jax/compilation_cache/tasks_using_cache\u001B[39m\u001B[38;5;124m\"\u001B[39m))\n\u001B[1;32m    302\u001B[0m monitoring\u001B[38;5;241m.\u001B[39mrecord_event(\u001B[38;5;124m'\u001B[39m\u001B[38;5;124m/jax/compilation_cache/compile_requests_use_cache\u001B[39m\u001B[38;5;124m'\u001B[39m)\n",
      "File \u001B[0;32m~/miniforge3/envs/SEL3-2024/lib/python3.11/site-packages/jax/_src/profiler.py:336\u001B[0m, in \u001B[0;36mannotate_function.<locals>.wrapper\u001B[0;34m(*args, **kwargs)\u001B[0m\n\u001B[1;32m    333\u001B[0m \u001B[38;5;129m@wraps\u001B[39m(func)\n\u001B[1;32m    334\u001B[0m \u001B[38;5;28;01mdef\u001B[39;00m \u001B[38;5;21mwrapper\u001B[39m(\u001B[38;5;241m*\u001B[39margs, \u001B[38;5;241m*\u001B[39m\u001B[38;5;241m*\u001B[39mkwargs):\n\u001B[1;32m    335\u001B[0m   \u001B[38;5;28;01mwith\u001B[39;00m TraceAnnotation(name, \u001B[38;5;241m*\u001B[39m\u001B[38;5;241m*\u001B[39mdecorator_kwargs):\n\u001B[0;32m--> 336\u001B[0m     \u001B[38;5;28;01mreturn\u001B[39;00m \u001B[43mfunc\u001B[49m\u001B[43m(\u001B[49m\u001B[38;5;241;43m*\u001B[39;49m\u001B[43margs\u001B[49m\u001B[43m,\u001B[49m\u001B[43m \u001B[49m\u001B[38;5;241;43m*\u001B[39;49m\u001B[38;5;241;43m*\u001B[39;49m\u001B[43mkwargs\u001B[49m\u001B[43m)\u001B[49m\n\u001B[1;32m    337\u001B[0m   \u001B[38;5;28;01mreturn\u001B[39;00m wrapper\n",
      "File \u001B[0;32m~/miniforge3/envs/SEL3-2024/lib/python3.11/site-packages/jax/_src/compiler.py:256\u001B[0m, in \u001B[0;36mbackend_compile\u001B[0;34m(backend, module, options, host_callbacks)\u001B[0m\n\u001B[1;32m    251\u001B[0m   \u001B[38;5;28;01mreturn\u001B[39;00m backend\u001B[38;5;241m.\u001B[39mcompile(built_c, compile_options\u001B[38;5;241m=\u001B[39moptions,\n\u001B[1;32m    252\u001B[0m                          host_callbacks\u001B[38;5;241m=\u001B[39mhost_callbacks)\n\u001B[1;32m    253\u001B[0m \u001B[38;5;66;03m# Some backends don't have `host_callbacks` option yet\u001B[39;00m\n\u001B[1;32m    254\u001B[0m \u001B[38;5;66;03m# TODO(sharadmv): remove this fallback when all backends allow `compile`\u001B[39;00m\n\u001B[1;32m    255\u001B[0m \u001B[38;5;66;03m# to take in `host_callbacks`\u001B[39;00m\n\u001B[0;32m--> 256\u001B[0m \u001B[38;5;28;01mreturn\u001B[39;00m \u001B[43mbackend\u001B[49m\u001B[38;5;241;43m.\u001B[39;49m\u001B[43mcompile\u001B[49m\u001B[43m(\u001B[49m\u001B[43mbuilt_c\u001B[49m\u001B[43m,\u001B[49m\u001B[43m \u001B[49m\u001B[43mcompile_options\u001B[49m\u001B[38;5;241;43m=\u001B[39;49m\u001B[43moptions\u001B[49m\u001B[43m)\u001B[49m\n",
      "\u001B[0;31mKeyboardInterrupt\u001B[0m: "
     ]
    }
   ],
   "source": [
    "rng = jax.random.PRNGKey(seed=0)\n",
    "mjx_env_rng, action_rng = jax.random.split(rng, 2)\n",
    "\n",
    "jit_step = jax.jit(mjx_env.step)\n",
    "jit_reset = jax.jit(mjx_env.reset)\n",
    "\n",
    "mjx_state = jit_reset(rng=mjx_env_rng)\n",
    "\n",
    "mjx_frames = []\n",
    "while not (mjx_state.terminated | mjx_state.truncated):\n",
    "    action_rng, sub_rng = jax.random.split(action_rng, 2)\n",
    "    action = mjx_env.action_space.sample(rng=sub_rng)\n",
    "\n",
    "    mjx_state = jit_step(state=mjx_state, action=action)\n",
    "    mjx_frames.append(post_render(mjx_env.render(state=mjx_state), mjx_env.environment_configuration))\n",
    "media.show_video(images=mjx_frames)"
   ]
  },
  {
   "cell_type": "markdown",
   "metadata": {
    "id": "fOmP560VbMd3"
   },
   "source": [
    "Avoid memory leaks and always close your environment after using!"
   ]
  },
  {
   "cell_type": "code",
   "execution_count": null,
   "metadata": {
    "collapsed": false,
    "ExecuteTime": {
     "start_time": "2024-01-29T23:59:16.596855Z"
    }
   },
   "outputs": [],
   "source": [
    "mjc_env.close()\n",
    "mjx_env.close()"
   ]
  },
  {
   "cell_type": "markdown",
   "metadata": {
    "collapsed": false
   },
   "source": [
    "### Vectorization\n",
    "During optimization we often want multiple environments to run in parallel as this increases data collection speed. For instance with evolutionary optimization, this allows to evaluate multiple candidate solutions in parallel. Alternatively in the reinforcement learning setting, this can be used to simultaneously collect data from slightly different environment versions if we use randomization or noise."
   ]
  },
  {
   "cell_type": "markdown",
   "metadata": {
    "collapsed": false
   },
   "source": [
    "#### MJC\n",
    "MJC runs on the CPU, so when we want to run multiple instances of the environment in parallel, we can choose between multithreading and multiprocessing. In this case, we'll go for multiprocessing and use mujoco-utils' [ThreadedVectorMJCEnvWrapper](https://github.com/Co-Evolve/mujoco-utils/blob/new-framework/mujoco_utils/environment/mjc_env.py#L222). Given [Python's Global Interpreter Lock](https://wiki.python.org/moin/GlobalInterpreterLock), the environment's python code will thus not run truly in parallel; the underlying calls to the MuJoCo physics engine however will. When vectorizing over the CPU, we often use one environment instance for CPU core available."
   ]
  },
  {
   "cell_type": "code",
   "execution_count": null,
   "metadata": {
    "collapsed": false,
    "ExecuteTime": {
     "end_time": "2024-01-29T23:59:16.602302Z",
     "start_time": "2024-01-29T23:59:16.598292Z"
    }
   },
   "outputs": [],
   "source": [
    "from mujoco_utils.environment.mjc_env import ThreadedVectorMJCEnvWrapper\n",
    "\n",
    "NUM_MJC_ENVIRONMENTS = 2  # set this to the number of CPU cores that you have available \n",
    "\n",
    "mjc_vectorized_env = ThreadedVectorMJCEnvWrapper(\n",
    "        lambda: create_environment(\n",
    "                morphology_specification=morphology_specification,\n",
    "                arena_configuration=arena_configuration,\n",
    "                environment_configuration=environment_configuration,\n",
    "                backend=\"MJC\"\n",
    "                ), num_environments=NUM_MJC_ENVIRONMENTS\n",
    "        )\n",
    "\n",
    "mjc_vectorized_env_rng = [np.random.RandomState(seed=i) for i in range(NUM_MJC_ENVIRONMENTS)]\n",
    "\n",
    "mjc_vectorized_state = mjc_vectorized_env.reset(rng=mjc_vectorized_env_rng)\n",
    "\n",
    "mjc_frames = []\n",
    "while not np.any(mjc_vectorized_state.terminated | mjc_vectorized_state.truncated):\n",
    "    action = mjc_vectorized_env.action_space.sample()\n",
    "    mjc_vectorized_state = mjc_vectorized_env.step(state=mjc_vectorized_state, action=action)\n",
    "    mjc_frames.append(\n",
    "            post_render(\n",
    "                mjc_vectorized_env.render(state=mjc_vectorized_state),\n",
    "                mjc_vectorized_env.environment_configuration\n",
    "                )\n",
    "            )\n",
    "media.show_video(images=mjc_frames)"
   ]
  },
  {
   "cell_type": "markdown",
   "metadata": {
    "collapsed": false
   },
   "source": [
    "As illustrated below by the adapted `observation_space` and `action_space`, our environment will now return a batched version of the original observations, and expect a batched version of the original actions. Each sample in these batches corresponds to the observations and actions of a single underlying environment."
   ]
  },
  {
   "cell_type": "code",
   "execution_count": null,
   "metadata": {
    "collapsed": false,
    "ExecuteTime": {
     "start_time": "2024-01-29T23:59:16.599597Z"
    }
   },
   "outputs": [],
   "source": [
    "print(\"Observation space:\")\n",
    "print(f\"\\t{mjc_vectorized_env.observation_space}\")\n",
    "print(\"Action space:\")\n",
    "print(f\"\\t{mjc_vectorized_env.action_space}\")"
   ]
  },
  {
   "cell_type": "markdown",
   "metadata": {
    "collapsed": false
   },
   "source": [
    "#### MJX\n",
    "\n",
    "The MJX environment can also be vectorized on the CPU, but it's main performance advantage comes from parallelization on the GPU (which JAX enables). MJX basically implements environment / physics steps as operator over big Jax arrays (e.g. an array of all current joint positions, one with all current joint velocities, ...). To parallelize, it just adds an additional batch dimension over these arrays via [jax.vmap](https://jax.readthedocs.io/en/latest/jax-101/03-vectorization.html). When vectorizing over the GPU, we often run one environment instance per CUDA core available (this can be found on your GPU's datasheet). The cool thing is that a single GPU has a lot more of these cores than the number of CPU cores your computer (or even a regular cluster) has. \n",
    "\n",
    "As a rule-of-thumb:\n",
    "- Use MJC when you want to run a single environment (e.g. to do a quick test or to visualize a single rollout).\n",
    "- Use MJX when you (1) have a GPU available, and (2) are doing an optimization.\n",
    "- Read: https://mujoco.readthedocs.io/en/stable/mjx.html#mjx-the-sharp-bits\n",
    "\n",
    "Note: Rendering MJX environments requires the JAX datastructures (on the GPU) to be loaded back into the original MuJoCo structures (on the CPU). This datatransfer has a severe impact; So never render when collecting data during an optimization! (This rule also counts for MJC environments: rendering slows down everything, so only do it when necessary!)"
   ]
  },
  {
   "cell_type": "code",
   "outputs": [],
   "source": [
    "NUM_MJX_ENVIRONMENTS = 2  # set this to the number of CUDA cores that you have available\n",
    "\n",
    "mjx_vectorized_env = create_environment(\n",
    "                morphology_specification=morphology_specification,\n",
    "                arena_configuration=arena_configuration,\n",
    "                environment_configuration=environment_configuration,\n",
    "                backend=\"MJX\"\n",
    "                )\n",
    "\n",
    "mjx_action_rng, mjx_vectorized_env_rng = jax.random.split(jax.random.PRNGKey(0), 2)\n",
    "mjx_vectorized_env_rng = jnp.array(jax.random.split(mjx_vectorized_env_rng, NUM_MJX_ENVIRONMENTS))\n",
    "\n",
    "mjx_vectorized_step = jax.jit(jax.vmap(mjx_vectorized_env.step))\n",
    "mjx_vectorized_reset = jax.jit(jax.vmap(mjx_vectorized_env.reset))\n",
    "mjx_vectorized_action_sample = jax.jit(jax.vmap(mjx_vectorized_env.action_space.sample))"
   ],
   "metadata": {
    "collapsed": false,
    "ExecuteTime": {
     "start_time": "2024-01-29T23:59:16.600744Z"
    }
   },
   "execution_count": null
  },
  {
   "cell_type": "code",
   "execution_count": null,
   "metadata": {
    "collapsed": false,
    "ExecuteTime": {
     "start_time": "2024-01-29T23:59:16.601834Z"
    }
   },
   "outputs": [],
   "source": [
    "mjx_vectorized_state = mjx_vectorized_reset(rng=mjx_vectorized_env_rng)\n",
    "\n",
    "mjx_frames = []\n",
    "while not jnp.any(mjx_vectorized_state.terminated | mjx_vectorized_state.truncated):\n",
    "    mjx_action_rng, *sub_rngs = jnp.array(jax.random.split(mjx_action_rng, NUM_MJX_ENVIRONMENTS + 1))\n",
    "    action = mjx_vectorized_action_sample(rng=jnp.array(sub_rngs))\n",
    "    \n",
    "    mjx_vectorized_state = mjx_vectorized_step(state=mjx_vectorized_state, action=action)\n",
    "    mjx_frames.append(\n",
    "            post_render(\n",
    "                mjx_vectorized_env.render(state=mjx_vectorized_state),\n",
    "                mjx_vectorized_env.environment_configuration\n",
    "                )\n",
    "            )\n",
    "media.show_video(images=mjx_frames)"
   ]
  },
  {
   "cell_type": "code",
   "execution_count": null,
   "metadata": {
    "collapsed": false,
    "ExecuteTime": {
     "end_time": "2024-01-29T23:59:16.604459Z",
     "start_time": "2024-01-29T23:59:16.602632Z"
    }
   },
   "outputs": [],
   "source": [
    "print(\"Observation space:\")\n",
    "print(f\"\\t{mjx_vectorized_env.observation_space}\")\n",
    "print(\"Action space:\")\n",
    "print(f\"\\t{mjx_vectorized_env.action_space}\")"
   ]
  },
  {
   "cell_type": "code",
   "execution_count": null,
   "metadata": {
    "collapsed": false,
    "ExecuteTime": {
     "start_time": "2024-01-29T23:59:16.603359Z"
    }
   },
   "outputs": [],
   "source": [
    "mjc_vectorized_env.close()\n",
    "mjx_vectorized_env.close()"
   ]
  },
  {
   "cell_type": "markdown",
   "source": [
    "## Exercise\n",
    "Play around with the different brittle star environments. Take a closer look at the different observations, try to do a speed comparison between MJC and MJX environments, ..."
   ],
   "metadata": {
    "collapsed": false
   }
  },
  {
   "cell_type": "code",
   "outputs": [],
   "source": [],
   "metadata": {
    "collapsed": false,
    "ExecuteTime": {
     "start_time": "2024-01-29T23:59:16.604086Z"
    }
   }
  }
 ],
 "metadata": {
  "accelerator": "GPU",
  "colab": {
   "gpuType": "T4",
   "provenance": [],
   "toc_visible": true
  },
  "kernelspec": {
   "display_name": "Python 3 (ipykernel)",
   "language": "python",
   "name": "python3"
  },
  "language_info": {
   "codemirror_mode": {
    "name": "ipython",
    "version": 3
   },
   "file_extension": ".py",
   "mimetype": "text/x-python",
   "name": "python",
   "nbconvert_exporter": "python",
   "pygments_lexer": "ipython3",
   "version": "3.11.7"
  }
 },
 "nbformat": 4,
 "nbformat_minor": 4
}
