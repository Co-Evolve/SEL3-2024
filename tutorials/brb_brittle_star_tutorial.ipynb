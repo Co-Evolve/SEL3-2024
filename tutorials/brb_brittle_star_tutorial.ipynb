{
 "cells": [
  {
   "cell_type": "markdown",
   "metadata": {
    "id": "uMCyuX8mSr6O"
   },
   "source": [
    "\n",
    "# <h1><center>Brittle Star Environment Tutorial</center></h1>\n",
    "\n",
    "This notebook provides an introductory tutorial to the [Brittle Star environment](https://github.com/Co-Evolve/brb/tree/new-framework/brb/brittle_star), which is part of the [**the Bio-inspired Robotics Benchmark (BRB)**](https://github.com/Co-Evolve/brb).\n",
    "\n",
    "Preferably use a Jupyter runtime with GPU acceleration enabled.  "
   ]
  },
  {
   "cell_type": "markdown",
   "metadata": {
    "collapsed": false,
    "jupyter": {
     "outputs_hidden": false
    }
   },
   "source": [
    "## The Bio-inspired Robotics Benchmark (BRB)\n",
    "The Bio-Inspired Robotics Benchmark represents a significant stride in the convergence of robotics and experimental biology, offering a unique platform that leverages the MuJoCo physics simulator to create a collection of bio-inspired robotics simulation environments. This initiative is more than just a technical tool; it serves as a crucible for cross-disciplinary dialogue and innovation, uniting two fields that, while distinct, share a common goal of understanding and emulating complex biological systems.\n",
    "\n",
    "In the realm of robotics, this benchmark addresses a pivotal challenge: the design and control of bio-inspired robots. These robots, inspired by the intricacies of biological organisms, present novel hurdles that contemporary optimization methodologies struggle to surmount. By providing a benchmark specifically tailored to these challenges, the initiative not only facilitates the validation of existing methodologies but also catalyzes the development of new approaches. This is crucial for advancing the field, as it pushes the boundaries of what we can achieve in robotic design and control, drawing inspiration from the most sophisticated systems found in nature.\n",
    "\n",
    "On the biological front, the application of robotics serves as a powerful comparative method. It offers a more controlled environment for conducting comparative studies, essential for dissecting complex behaviors, ecological interactions, and the evolutionary histories of organisms. In essence, robotics becomes a lens through which biologists can observe and understand the myriad of interacting elements that constitute life's diversity. This perspective is invaluable, as it transcends traditional observational methods, allowing for more precise and insightful analyses.\n",
    "\n",
    "Overall, the Bio-Inspired Robotics Benchmark is a testament to the symbiotic potential of robotics and biology. It not only advances our technical capabilities in creating machines that mimic life but also deepens our understanding of the biological phenomena that inspire these creations. This benchmark is a stepping stone towards a future where the interplay between robotics and biology yields innovations that are as profound as they are transformative. \n",
    "\n",
    "\n",
    "The Bio-Inspired Robotics Benchmark distinguishes itself with its capability to effortlessly simulate various morphological variations of bio-inspired robots. This flexibility is largely enabled by the use of the [Framework for Parameterized Robot Specifications (FPRS)](https://github.com/Co-Evolve/fprs), a framework that centralizes the adaptable definition of a robot's morphology. In FPRS, a 'Specification' acts as a comprehensive bundle, encapsulating all the modifiable parameters that define the robot's form and structure. This approach to morphology parameterization not only simplifies the modification process but also enhances the reproducibility and comparability of different morphological setups within the BRB.\n",
    "\n",
    "The implementation of environments within the BRB adheres to framework defined in the [mujoco-utils package](https://github.com/Co-Evolve/mujoco-utils/tree/new-framework). This framework defines an environment as a combination of a parameterized morphology, as defined by FPRS, and a configurable arena. Both the morphology and the arena in this context are essentially generators for MJCF (MuJoCo XML) files, allowing for dynamic and customizable environment creation. This design philosophy ensures that each environment within the BRB is both flexible and specific to the needs of the experiment at hand.\n",
    "\n",
    "Furthermore, the BRB environments are designed to be compatible with the [Gymnasium interface](https://gymnasium.farama.org/content/basic_usage/). This compatibility is significant as it allows for seamless integration with a wide range of existing machine learning and robotics research tools, fostering ease of use and accessibility for researchers from various fields.\n",
    "\n",
    "In terms of simulation capabilities, the BRB offers environments in both native MuJoCo and MuJoCo XLA (MJX) formats. This dual availability caters to diverse computational needs and preferences, ensuring that researchers can select the simulation environment that best suits their specific requirements, whether it's the high-fidelity physics of native MuJoCo or the accelerated computation offered by MuJoCo XLA.\n",
    "\n",
    "In summary, the BRB's unique approach to morphology parameterization through FPRS, adherence to the mujoco-utils framework for environment implementation, compatibility with the gymnasium interface, and availability in both MuJoCo and MJX formats, collectively contribute to its status as a versatile and powerful tool for bio-inspired robotics research. This tool not only facilitates a deeper exploration of robotic morphologies but also bridges the gap between theoretical research and practical application in the field of bio-inspired robotics."
   ]
  },
  {
   "cell_type": "markdown",
   "metadata": {
    "id": "fVurZ9tFTzLC"
   },
   "source": [
    "### BRB installation"
   ]
  },
  {
   "cell_type": "markdown",
   "metadata": {
    "collapsed": false,
    "jupyter": {
     "outputs_hidden": false
    }
   },
   "source": [
    "Before continuing, check if the following points towards your conda environment. If not, follow these [steps](https://medium.com/@nrk25693/how-to-add-your-conda-environment-to-your-jupyter-notebook-in-just-4-steps-abeab8b8d084)."
   ]
  },
  {
   "cell_type": "code",
   "execution_count": 1,
   "metadata": {
    "ExecuteTime": {
     "end_time": "2024-01-16T14:13:07.400430Z",
     "start_time": "2024-01-16T14:13:07.396653Z"
    }
   },
   "outputs": [
    {
     "name": "stdout",
     "output_type": "stream",
     "text": [
      "/Users/driesmarzougui/miniforge3/envs/SEL3-2024/bin/python\n"
     ]
    }
   ],
   "source": [
    "import sys\n",
    "\n",
    "print(sys.executable)"
   ]
  },
  {
   "cell_type": "markdown",
   "metadata": {
    "collapsed": false,
    "jupyter": {
     "outputs_hidden": false
    }
   },
   "source": [
    "Install the BRB package and its dependencies."
   ]
  },
  {
   "cell_type": "code",
   "execution_count": 2,
   "metadata": {
    "ExecuteTime": {
     "end_time": "2024-01-16T14:13:07.532396Z",
     "start_time": "2024-01-16T14:13:07.400638Z"
    },
    "colab": {
     "base_uri": "https://localhost:8080/",
     "height": 1000
    },
    "id": "DgMIXEQ7SDGX",
    "outputId": "c3f8d6fd-7c63-401c-f46f-aca2b7e4e372"
   },
   "outputs": [],
   "source": [
    "try:\n",
    "    import brb\n",
    "except ImportError:\n",
    "    !{sys.executable} -m pip install git+https://github.com/Co-Evolve/brb@new-framework"
   ]
  },
  {
   "cell_type": "markdown",
   "metadata": {
    "collapsed": false,
    "jupyter": {
     "outputs_hidden": false
    }
   },
   "source": [
    "Check if the underlying MuJoCo installation was successful. This will also check if Jax is able to find the GPU. If not, a warning will be printed."
   ]
  },
  {
   "cell_type": "code",
   "execution_count": 3,
   "metadata": {
    "ExecuteTime": {
     "end_time": "2024-01-16T14:13:07.584628Z",
     "start_time": "2024-01-16T14:13:07.519018Z"
    },
    "colab": {
     "base_uri": "https://localhost:8080/"
    },
    "editable": true,
    "id": "t8x-3cSlT-QM",
    "outputId": "4e58291d-c73d-44bd-8332-4da59915e96c",
    "slideshow": {
     "slide_type": ""
    },
    "tags": []
   },
   "outputs": [
    {
     "name": "stderr",
     "output_type": "stream",
     "text": [
      "WARNING:root:Failed to initialize GPU. Everything will run on the cpu.\n"
     ]
    },
    {
     "name": "stdout",
     "output_type": "stream",
     "text": [
      "Checking that the mujoco installation succeeded:\n",
      "MuJoCo installation successful.\n"
     ]
    }
   ],
   "source": [
    "import os\n",
    "import subprocess\n",
    "import logging\n",
    "\n",
    "try:\n",
    "    if subprocess.run('nvidia-smi').returncode:\n",
    "        raise RuntimeError(\n",
    "                'Cannot communicate with GPU. '\n",
    "                'Make sure you are using a GPU Colab runtime. '\n",
    "                'Go to the Runtime menu and select Choose runtime type.'\n",
    "                )\n",
    "\n",
    "    # Add an ICD config so that glvnd can pick up the Nvidia EGL driver.\n",
    "    # This is usually installed as part of an Nvidia driver package, but the Colab\n",
    "    # kernel doesn't install its driver via APT, and as a result the ICD is missing.\n",
    "    # (https://github.com/NVIDIA/libglvnd/blob/master/src/EGL/icd_enumeration.md)\n",
    "    NVIDIA_ICD_CONFIG_PATH = '/usr/share/glvnd/egl_vendor.d/10_nvidia.json'\n",
    "    if not os.path.exists(NVIDIA_ICD_CONFIG_PATH):\n",
    "        with open(NVIDIA_ICD_CONFIG_PATH, 'w') as f:\n",
    "            f.write(\n",
    "                    \"\"\"{\n",
    "                            \"file_format_version\" : \"1.0.0\",\n",
    "                            \"ICD\" : {\n",
    "                                \"library_path\" : \"libEGL_nvidia.so.0\"\n",
    "                            }\n",
    "                        }\n",
    "                        \"\"\"\n",
    "                    )\n",
    "\n",
    "    # Configure MuJoCo to use the EGL rendering backend (requires GPU)\n",
    "    print('Setting environment variable to use GPU rendering:')\n",
    "    %env MUJOCO_GL=egl\n",
    "\n",
    "    # Check if jax finds the GPU\n",
    "    import jax\n",
    "\n",
    "    print(jax.devices('gpu'))\n",
    "except Exception:\n",
    "    logging.warning(\"Failed to initialize GPU. Everything will run on the cpu.\")\n",
    "\n",
    "try:\n",
    "    print('Checking that the mujoco installation succeeded:')\n",
    "    import mujoco\n",
    "\n",
    "    mujoco.MjModel.from_xml_string('<mujoco/>')\n",
    "except Exception as e:\n",
    "    raise e from RuntimeError(\n",
    "            'Something went wrong during installation. Check the shell output above '\n",
    "            'for more information.\\n'\n",
    "            'If using a hosted Colab runtime, make sure you enable GPU acceleration '\n",
    "            'by going to the Runtime menu and selecting \"Choose runtime type\".'\n",
    "            )\n",
    "\n",
    "print('MuJoCo installation successful.')"
   ]
  },
  {
   "cell_type": "markdown",
   "metadata": {
    "collapsed": false,
    "jupyter": {
     "outputs_hidden": false
    }
   },
   "source": [
    "Some packages and utility functions for visualization."
   ]
  },
  {
   "cell_type": "code",
   "execution_count": 4,
   "metadata": {
    "ExecuteTime": {
     "end_time": "2024-01-16T14:13:09.788363Z",
     "start_time": "2024-01-16T14:13:07.558652Z"
    },
    "collapsed": false,
    "jupyter": {
     "outputs_hidden": false
    }
   },
   "outputs": [
    {
     "name": "stdout",
     "output_type": "stream",
     "text": [
      "Installing mediapy:\n"
     ]
    }
   ],
   "source": [
    "from mujoco_utils.environment.base import MuJoCoEnvironmentConfiguration\n",
    "from mujoco_utils.mjcf_utils import MJCFRootComponent\n",
    "import numpy as np\n",
    "import jax.numpy as jnp\n",
    "from typing import Union, List\n",
    "\n",
    "# Graphics and plotting.\n",
    "print('Installing mediapy:')\n",
    "ffmpeg_v = !command -v ffmpeg\n",
    "assert \"command not found\" not in ffmpeg_v, f\"Please install FFmpeg for visualizations.\"\n",
    "!{sys.executable} -m pip install -q mediapy\n",
    "import mediapy as media\n",
    "\n",
    "# More legible printing from numpy.\n",
    "np.set_printoptions(precision=3, suppress=True, linewidth=100)\n",
    "jnp.set_printoptions(precision=3, suppress=True, linewidth=100)\n",
    "\n",
    "def visualize_mjcf(\n",
    "        mjcf: MJCFRootComponent\n",
    "        ) -> None:\n",
    "    model = mujoco.MjModel.from_xml_string(mjcf.get_mjcf_str())\n",
    "    data = mujoco.MjData(model)\n",
    "    renderer = mujoco.Renderer(model)\n",
    "    mujoco.mj_forward(model, data)\n",
    "    renderer.update_scene(data)\n",
    "    media.show_image(renderer.render())\n",
    "\n",
    "\n",
    "def post_environment_render(\n",
    "        render_output: Union[np.ndarray, List[np.ndarray]],\n",
    "        environment_configuration: MuJoCoEnvironmentConfiguration\n",
    "        ) -> np.ndarray:\n",
    "    if len(environment_configuration.camera_ids) > 1:\n",
    "        render_output = [np.concatenate(env_frames, axis=1) for env_frames in render_output]\n",
    "\n",
    "    return render_output[:, :, ::-1]  # RGB to BGR"
   ]
  },
  {
   "cell_type": "markdown",
   "metadata": {
    "id": "Y8ilIik5Vp7L"
   },
   "source": [
    "## The Brittle Star Environment\n",
    "> “The whole of the brittle stars are curious and restless beings. They can never remain in the same attitude for the tenth part of a second, but are constantly twisting their long arms, as if they were indeed the serpents with which Medusa’s head was surrounded.” -- J. G. Wood, 1898\n",
    "\n",
    "The Brittle Star Robot environment within the Bio-Inspired Robotics Benchmark (BRB) presents an intriguing case study, embodying the intersection of natural biological systems and robotic engineering. To introduce this environment, it's essential to first understand the biological entity that inspired it: the brittle star.\n",
    "\n",
    "![](https://github.com/Co-Evolve/SEL3-2024/blob/develop/tutorials/assets/brittle_stars_species.jpg?raw=true)\n",
    "(Image src: https://doi.org/10.1016/j.jsb.2020.107481)"
   ]
  },
  {
   "cell_type": "markdown",
   "metadata": {
    "collapsed": false,
    "jupyter": {
     "outputs_hidden": false
    }
   },
   "source": [
    "### The Brittle Star\n",
    "Brittle stars, belonging to the class Ophiuroidea, are remarkable echinoderms distinguished by their distinctively slender arms and central disk. They inhabit various marine environments, showcasing a fascinating array of behaviors and adaptations that have captivated biologists for decades. One of the most striking features of brittle stars is their locomotion. Unlike their close relatives, the starfish, brittle stars move with a unique, elegant undulating motion of their arms. This locomotion is not only efficient but also highly adaptable, allowing them to navigate complex underwater terrains with agility and precision.\n",
    "\n",
    "In addition to locomotion, brittle stars use their arms to hold onto substrates, coiling their flexible arms tightly around structurally complex objects such as kelp, sponges, or corals, with spines located along the arms aiding in the anchoring process.\n",
    "\n",
    "From an evolutionary standpoint, brittle stars represent a significant lineage, offering insights into the adaptability and resilience of marine life. Their ability to regenerate lost limbs and their sensory capabilities, which include responding to light without distinct eyes, are just a few examples of their remarkable biological traits. These characteristics make them an excellent subject for bio-inspired robotics, as they provide a template for designing robots that are both flexible and resilient, capable of navigating and adapting to diverse environments.\n",
    "\n",
    "#### Morphology\n",
    "![](https://github.com/Co-Evolve/SEL3-2024/blob/develop/tutorials/assets/brittle_stars_arm_anatomy.jpg?raw=true)\n",
    "(Image src: https://doi.org/10.1016/j.jsb.2020.107481) \n",
    "\n",
    "At the core of a brittle star's anatomy is the central disk, which varies in size from as small as 3mm to as large as 50mm. This disk is not just a structural component but also serves as a crucial hub for the organism's nervous system and, in some species, reproductive organs. \n",
    "\n",
    "Brittle stars possess five arms that are symmetrically arranged in a pentaradial fashion around the central disk. This pentaradial symmetry is a hallmark of echinoderms and is crucial for the brittle star's locomotion and interaction with its environment. These arms typically span about two to twenty times the diameter of the central disk. In terms of mobility, the arms of brittle stars are capable of both in-plane and out-of-plane bending.\n",
    "\n",
    "Structurally, each arm consists of a chain of segments, each one consisting out of a vertebra and 4 muscle groups and completely enclosed by plates. This skeletal structure provides both support and flexibility, enabling the arms to move fluidly while maintaining structural integrity.\n",
    "\n",
    "![](https://github.com/Co-Evolve/SEL3-2024/blob/develop/tutorials/assets/brittle_stars_muscles.jpg?raw=true)\n",
    "(Image src: https://doi.org/10.3389/fnbot.2019.00104)\n",
    "\n",
    "Lastly, the arms of brittle stars are adorned with soft spines. These spines play a crucial role in anchoring and interacting with the environment. They provide stability and traction on various surfaces, aiding in locomotion and foraging activities.\n",
    "\n",
    "#### Nervous system\n",
    "![](https://github.com/Co-Evolve/SEL3-2024/blob/develop/tutorials/assets/brittle_stars_nervous_system.jpg?raw=true)\n",
    "(Image src: http://dx.doi.org/10.3389/fnbot.2019.00066)\n",
    "\n",
    "The nervous system of the brittle star is a fascinating aspect of its biology, characterized by its decentralized nature. This decentralized nervous system is quite different from the central nervous systems found in vertebrates and even some invertebrates. In brittle stars, the nervous system is primarily composed of a nerve ring that encircles the central disk, from which branches extend into each arm.\n",
    "\n",
    "The nerve ring acts as a central hub, integrating sensory inputs and coordinating the movements of the arms. Unlike centralized nervous systems where a brain or a similar central organ exerts control, the nerve ring in brittle stars does not function as a central command center. Instead, it serves more as a conduit or a relay station, facilitating communication across the organism's body.\n",
    "\n",
    "From this nerve ring, nerve branches run along each arm, allowing for localized control and sensory perception within each limb. This structure is crucial for the brittle star's survival, as it enables each arm to react independently to stimuli. For instance, if one arm encounters a predator or a harmful stimulus, it can respond immediately and appropriately, without the need for centralized processing. \n",
    "\n",
    "\n",
    "#### Behavioural studies \n",
    "Several modes of locomotion have been observed in brittle star species, with one species often exhibiting multiple modes. A common mode is the ['breast stroke' or 'rowing'](https://www.youtube.com/watch?v=X8UEST-flCM), where the brittle star moves forward led by an arm, uses two lateral arms as rowers, and drags the remaining two arms passively. This mode is documented in various studies. Another mode, known as 'paddling' or 'reverse rowing,' involves dragging the rearmost arm while the other four arms actively row. These modes, which involve bilaterally coordinated movements, allow the brittle star to crawl in a specific direction. However, as the role of each arm changes with the direction of movement, brittle stars do not maintain fixed front-back and left-right axes.\n",
    "\n",
    "The following biological works provide valuable insights into the behavior and control mechanisms of brittle stars, which provides a source of inspiration for their artificial counterpart. Here's a summary of each paper's findings:\n",
    "\n",
    "- **Flexible coordination of flexible limbs: decentralized control scheme for inter- and intra-limb coordination in brittle stars’ locomotion**\n",
    "    - Brittle stars display distinct roles for their arms: forelimbs, hindlimbs, and a center limb. This specialization allows for effective locomotion.\n",
    "    - When all arms are shortened, brittle stars maintain their inter-arm coordination pattern, similar to when they are intact.\n",
    "    - If some arms are removed, they still move effectively by coordinating the degrees of freedom in the remaining arms.\n",
    "    - In the presence of obstacles, arms either push against objects to assist propulsion or avoid objects that hinder propulsion.\n",
    "    - An arm completely detached from its disc is incapable of coordinated locomotion, indicating the importance of the proximal ends of the arms in the central disk for locomotion.\n",
    "- **The function of the ophiuroid nerve ring: how a decentralized nervous system controls coordinated locomotion**\n",
    "    - Nerve cut experiments reveal that the longest axons in the circumoral nerve ring do not extend beyond a fifth of its total length, suggesting limited direct connections between distant nodes.\n",
    "    - Coordinated locomotion persists even with a single nerve ring cut, implying bidirectional connections between adjacent arms.\n",
    "    - Arms adjacent to a nerve cut are less likely to lead in locomotion, suggesting that leading arms are those with better information propagation capabilities.\n",
    "- **Decentralized Control Mechanism for Determination of Moving Direction in Brittle Stars With Penta-Radially Symmetric body**\n",
    "    - When the nerve ring is cut in one place, movement tends to be in the opposite direction of the cut, and coordination is maintained except for arms adjacent to the cut.\n",
    "    - With two cuts in the nerve ring, only neurally connected arms coordinate, while disconnected ones do not.\n",
    "    - Complete severance of nerve ring connections between arms results in a lack of coordination and thus no locomotion.\n",
    "    - If the nerve ring is cut on both sides of the same arm, the neurally isolated arm does not coordinate with others, highlighting the role of sensory input in coordination.\n",
    "- **A brittle star-like robot capable of immediately adapting to unexpected physical damage**\n",
    "    - Amputation experiments show varying roles for arms: center limb for orientation, forelimbs for propulsion, and minimal role for hindlimbs.\n",
    "    - If arms are amputated, the robot adapts by reassigning roles, like using remaining arms for reverse rowing or as a trailing arm.\n",
    "    - With three arms removed and no adjacent arms remaining, the direction-orienting arm swings to pull the body forward, while other arms play minimal roles in propulsion.\n",
    "    - If only one arm remains, it swings left and right to pull the body forward.\n",
    "    - When ground contacts of the arms are deprived, the subjects lose coordination in their arms.\n",
    "\n",
    "#### What makes it interesting for robotics?\n",
    "The brittle star presents an intriguing case study for robotics due to several key characteristics:\n",
    "\n",
    "1. Adaptive Locomotion in Unpredictable and Unstructured Environments: Brittle stars excel at navigating through unpredictable and unstructured environments. Their ability to adapt their locomotion patterns in response to varying terrain and obstacles makes them an excellent model for developing robots that can operate effectively in complex and dynamic settings.\n",
    "2. Prehensile Arms Enabling Manipulation: The arms of brittle stars are not only locomotive appendages but also prehensile, meaning they have the ability to grasp and manipulate objects, such as prey. This feature is highly valuable in robotics, offering insights into designing robotic limbs that can perform intricate manipulation tasks.\n",
    "3. Robustness to Damage: Thanks to their modular and redundant design, brittle stars are highly robust to damage. Each arm can operate independently, which means that the loss or impairment of one arm does not significantly hinder the overall functionality. This characteristic is crucial for creating resilient robotic systems that can maintain operation even when parts of them are damaged.\n",
    "4. Integration of Strength and Flexibility in Arms: The arms of a brittle star embody a unique combination of strength and flexibility. This integration is key to their versatile functionality, allowing for both powerful movements and delicate handling. Replicating this in robotics could lead to the development of robotic limbs that are both strong and dexterous, capable of performing a wide range of tasks."
   ]
  },
  {
   "cell_type": "markdown",
   "metadata": {
    "collapsed": false,
    "jupyter": {
     "outputs_hidden": false
    }
   },
   "source": [
    "### In-silico brittle star morphology\n",
    "The in-silico model of the brittle star morphology provides an abstract virtual twin. As discussed above, every morphology in the BRB is parameterized via [FPRS](https://github.com/Co-Evolve/fprs) and the brittle star's morphology specification can be found [here](https://github.com/Co-Evolve/brb/blob/brittle-star/brb/brittle_star/morphology/specification/specification.py). Default parameter values can be found [here](https://github.com/Co-Evolve/brb/blob/brittle-star/brb/brittle_star/morphology/specification/default.py). In our case, the most important configuration parameters are the number of arms, and the number of segments that each arm has.\n",
    "\n",
    "![](https://github.com/Co-Evolve/SEL3-2024/blob/develop/tutorials/assets/brittle_stars_in_silico.png?raw=true)\n",
    "Two example in-silico brittle star morphologies.\n",
    "\n",
    "Every segment has two degrees of freedom (DoF), one for in-plane motion and one for out-of-plane motion.\n",
    "\n",
    "In terms of sensing, the following sensors are implemented. These sensors define the base set of observations that every brittle star environment returns as observations (further discussed below). \n",
    "- Proprioception\n",
    "    - Joint positions (two per segment, in-plane and out-of-plane, in radians)\n",
    "    - Joint velocities (two per segment, in-plane and out-of-plane, in radians / second)\n",
    "    - Central disk's position (w.r.t. world frame)\n",
    "    - Central disk's rotation (w.r.t. world frame, in radians)\n",
    "    - Central disk's velocity (w.r.t. world frame, in m/s)\n",
    "    - Central disk's angular velocity (w.r.t. world frame, in radians/s)\n",
    "- Exteroception\n",
    "    - Touch (per segment, binary)\n",
    "\n",
    "\n",
    "In terms of actuation, the following actuators are implemented (two per segment, one for the in-plane DoF and one for the out-of-plane DoF). The brittle star's morphology specification defines which one of the two is to be used:\n",
    "- Position control\n",
    "- Torque control"
   ]
  },
  {
   "cell_type": "markdown",
   "metadata": {
    "collapsed": false,
    "jupyter": {
     "outputs_hidden": false
    }
   },
   "source": [
    "### Environment variants\n",
    "The brittle star environment comes with three locomotion-orientated tasks that provide a curriculum of increasing difficulty: \n",
    "1. Undirected locomotion (simple): Move the brittle star away as far as possible from its starting position.\n",
    "    - Reward per timestep: $distance\\_current\\_timestep - distance\\_previous\\_timestep$. The reward will thus be positive if the distance from its starting position has increased in the current timestep, and negative if this distance has decreased.\n",
    "2. Targeted locomotion (intermediate): Move the brittle star towards a randomly spawned target.\n",
    "    - Reward per timestep: $distance\\_previous\\_timestep - distance\\_current\\_timestep$. The reward will thus be positive if the distance to the target has decreased in the current timestep, and negative if this distance has increased.\n",
    "    - Additional observations:\n",
    "        - Unit direction on the horizontal XY plane from the central disk to the target.\n",
    "        - The distance in XY plane from the central disk to the target.\n",
    "3. Light escape (hard): Move the brittle star towards darker spots in the environment.\n",
    "    - Reward per timestep: $light\\_income\\_previous\\_timestep - light\\_income\\_current\\_timestep$. The reward will thus be positive if the measured light income has decreased in the current timestep, and negative if the ight income has increased.\n",
    "    - Additional observations:\n",
    "        - The amount of light each segment takes in.\n",
    "\n",
    "\n",
    "![](https://github.com/Co-Evolve/SEL3-2024/blob/develop/tutorials/assets/britlte_stars_environments.png?raw=true)\n",
    "From left to right: the undirected locomotion, the targeted locomotion (target is the red sphere), and the light escape (with light noise) environments."
   ]
  },
  {
   "cell_type": "markdown",
   "metadata": {
    "id": "A3wIqNI7TycP"
   },
   "source": [
    "## Creating the environment"
   ]
  },
  {
   "cell_type": "markdown",
   "metadata": {
    "id": "zMqhYwKzVdpA"
   },
   "source": [
    "### 1. Creating the morphology \n",
    "The first step is to create the Brittle Star morphology. In essence, this comes down to providing an instance of a [BrittleStarMorphologySpecification](https://github.com/Co-Evolve/brb/blob/new-framework/brb/brittle_star/mjcf/morphology/specification/specification.py#L78) to the [MJCFBrittleStarMorphology](https://github.com/Co-Evolve/brb/blob/new-framework/brb/brittle_star/mjcf/morphology/morphology.py) class. The `MJCFBrittleStarMorphology` can then use the specified morphological parameters to generate the corresponding MuJoCo MJCF. "
   ]
  },
  {
   "cell_type": "code",
   "execution_count": 5,
   "metadata": {
    "ExecuteTime": {
     "end_time": "2024-01-16T14:26:30.496205Z",
     "start_time": "2024-01-16T14:26:30.485686Z"
    },
    "collapsed": false,
    "jupyter": {
     "outputs_hidden": false
    }
   },
   "outputs": [],
   "source": [
    "from mujoco_utils.environment.mjx_env import MJXGymEnvWrapper\n",
    "import gymnasium\n",
    "from brb.brittle_star.mjcf.morphology.specification.default import default_brittle_star_morphology_specification\n",
    "from brb.brittle_star.mjcf.morphology.morphology import MJCFBrittleStarMorphology\n",
    "from brb.brittle_star.mjcf.morphology.specification.specification import BrittleStarMorphologySpecification\n",
    "\n",
    "\n",
    "def create_morphology(\n",
    "        morphology_specification: BrittleStarMorphologySpecification\n",
    "        ) -> MJCFBrittleStarMorphology:\n",
    "    morphology = MJCFBrittleStarMorphology(\n",
    "            specification=morphology_specification\n",
    "            )\n",
    "    return morphology"
   ]
  },
  {
   "cell_type": "code",
   "execution_count": 6,
   "metadata": {
    "ExecuteTime": {
     "end_time": "2024-01-16T14:13:10.067427Z",
     "start_time": "2024-01-16T14:13:09.949751Z"
    },
    "id": "tWclyg93YAuw"
   },
   "outputs": [
    {
     "data": {
      "text/html": [
       "<table class=\"show_images\" style=\"border-spacing:0px;\"><tr><td style=\"padding:1px;\"><img width=\"320\" height=\"240\" style=\"image-rendering:auto; object-fit:cover;\" src=\"data:image/png;base64,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\"/></td></tr></table>"
      ],
      "text/plain": [
       "<IPython.core.display.HTML object>"
      ]
     },
     "metadata": {},
     "output_type": "display_data"
    }
   ],
   "source": [
    "morphology_specification = default_brittle_star_morphology_specification(\n",
    "        num_arms=5, num_segments_per_arm=4, use_p_control=True, use_torque_control=False\n",
    "        )\n",
    "morphology = create_morphology(morphology_specification=morphology_specification)\n",
    "visualize_mjcf(mjcf=morphology)"
   ]
  },
  {
   "cell_type": "markdown",
   "metadata": {
    "collapsed": false,
    "jupyter": {
     "outputs_hidden": false
    }
   },
   "source": [
    "We can also specify a different amount of segments per arm."
   ]
  },
  {
   "cell_type": "code",
   "execution_count": 7,
   "metadata": {
    "ExecuteTime": {
     "end_time": "2024-01-16T14:13:10.128371Z",
     "start_time": "2024-01-16T14:13:10.084320Z"
    },
    "collapsed": false,
    "jupyter": {
     "outputs_hidden": false
    }
   },
   "outputs": [
    {
     "data": {
      "text/html": [
       "<table class=\"show_images\" style=\"border-spacing:0px;\"><tr><td style=\"padding:1px;\"><img width=\"320\" height=\"240\" style=\"image-rendering:auto; object-fit:cover;\" src=\"data:image/png;base64,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\"/></td></tr></table>"
      ],
      "text/plain": [
       "<IPython.core.display.HTML object>"
      ]
     },
     "metadata": {},
     "output_type": "display_data"
    }
   ],
   "source": [
    "morphology_specification = default_brittle_star_morphology_specification(\n",
    "        num_arms=5, num_segments_per_arm=[1, 2, 3, 4, 5], use_p_control=True, use_torque_control=False\n",
    "        )\n",
    "morphology = create_morphology(morphology_specification=morphology_specification)\n",
    "visualize_mjcf(mjcf=morphology)"
   ]
  },
  {
   "cell_type": "markdown",
   "metadata": {
    "id": "FsqQr6u6Vj4O"
   },
   "source": [
    "### 2. Creating the arena\n",
    "Similarly to the morphology, the next step is to configure and create the AquariumArena in which we will put our brittle star. This arena uses a [simplified fluid model](https://mujoco.readthedocs.io/en/stable/computation/fluid.html#inertia-model) to simulate an aquatic environment."
   ]
  },
  {
   "cell_type": "code",
   "execution_count": 8,
   "metadata": {
    "ExecuteTime": {
     "end_time": "2024-01-16T14:13:10.129098Z",
     "start_time": "2024-01-16T14:13:10.116474Z"
    },
    "id": "qq9gGgDBYm7U"
   },
   "outputs": [],
   "source": [
    "from brb.brittle_star.mjcf.arena.aquarium import AquariumArenaConfiguration, MJCFAquariumArena\n",
    "\n",
    "\n",
    "def create_arena(\n",
    "        arena_configuration: AquariumArenaConfiguration\n",
    "        ) -> MJCFAquariumArena:\n",
    "    arena = MJCFAquariumArena(\n",
    "            configuration=arena_configuration\n",
    "            )\n",
    "    return arena"
   ]
  },
  {
   "cell_type": "code",
   "execution_count": 9,
   "metadata": {
    "ExecuteTime": {
     "end_time": "2024-01-16T14:13:10.164682Z",
     "start_time": "2024-01-16T14:13:10.122376Z"
    },
    "collapsed": false,
    "jupyter": {
     "outputs_hidden": false
    }
   },
   "outputs": [
    {
     "data": {
      "text/html": [
       "<table class=\"show_images\" style=\"border-spacing:0px;\"><tr><td style=\"padding:1px;\"><img width=\"320\" height=\"240\" style=\"image-rendering:auto; object-fit:cover;\" src=\"data:image/png;base64,iVBORw0KGgoAAAANSUhEUgAAAUAAAADwCAIAAAD+Tyo8AAAHMklEQVR4nO3d3W7byAGGYXo3/okjO00bIHEOetJeQ6+iN9iL2gK9gBboyaZGgzhbUaakyFYPuLAlkvpJa4n6nOdBDhwhQCYUX4gzmkGO5vN5AWT6oe8BAP87AUMwAUMwAUMwAUMwAUMwAUMwAUMwAUMwAUMwAUMwAUMwAUMwAUMwAUMwAUMwAUMwAUMwAUMwAUMwAUMwAUMwAUMwAUMwAUMwAUMwAUMwAUMwAUMwAUMwAUMwAUMwAUMwAUMwAUMwAUMwAUMwAUMwAUMwAUMwAUMwAUMwAUMwAUMwAUMwAUMwAUMwAUMwAUMwAUMwAUMwAUMwAUMwAUMwAUMwAUMwAUMwAUMwAUMwAUMwAUMwAUMwAUMwAUMwAUMwAUMwAUMwAUMwAUMwAUMwAUMwAUMwAUMwAUMwAUMwAUMwAUMwAUMwAUMwAUMwAUMwAUMwAUMwAUMwAUMwAUMwAUMwAUMwAUMwAUMwAUOwF30PIEZZTf/+8818ft/3QJ6z4bC8vLz8w4c3g5cnfY8lg4C/waQaXX/6/OH9u74H8mzd3c0m1aisXgl4SwLe1vXNaDq+PTs26dih6aR6Udz1PYokbsdvMBnfTsdV36N4zsrhqCiK65tR3wOJIeCtlNW0rKaTajQs3Vs7dHl+/J+bf/c9iiQC3takGhVFceoRepeGZVkUxaQa/etz2fdYMrgdt/LwUHd6/GN9k/HkhmV5evxjURTT8W3fY4kh4G0Nv3z69QdP0btR11sbjb/2OJIgAt5KWU0ffr48P+5xJM/Yx4/X9Q+T8e3iBWcNAW9W30z1HLgoinLoEXonHtYX6kut4W0IeLN6/fnhtx6hd2Q6efyKblKNBLwNAW82Gn9dXFa5PD+2jvXkGpd0Or41Dd6GgDcrq+lkeV3Uh/AuLC5imQZvScAbNCbAtbdvLnsazrO1+PxcmAZvzV7ozRr1FkVx8re/nI0/9jKY5+p3Z1fXV39efMWphm34BN6gc1+uep9c+5LazrENAW/2sIWjpt4daV9Ypxo2EvA69RmGvkfxvTirfl78rVMN2xDwZo058Oubn/oayXfIqYb1BLzO9c2ovYLFjpy2HqGHPoQ3EfAG7aUUc+Ad6bywtnOsJ+B12ls41LtTjctrO8dGAl6pcwsHO9VYx7KdYyMBr9Q4w1CzgrVnTjWsJ+CVzL72r72O5VTDegJeqaymjS0chTnwjnVeXp/Aawi4W+dNo949aFzkejuHhlcR8EqTypfAPWisY9UEvIqAu3XuwrWC1QvbOdYQ8ErtCTB70F7HKpxqWE3AHVadYTAH3oP2RZ44V7iagFdqTIDVuzfN/VjVqHCqYQUBd+g8w3DatbjCLrTXsawmriLgbs4wHBTbOVYRcIf2GQb26fWXv7Zf9E1SJwE3rTrD4BO4R7ZzrCLgps4zDOrdM3sqtyTgps65lhWsPWuvY9nO0UnATc4wHCzbOdoEvMRD2oFor2PVy4reoAYBLzsqiqOOLRw+gXs3qUbFUVGOBbxEwEuuPzuBdCh+0zo64q1pE3BTewuHFawDMa1uTYMbBLykHE8nlT1YB6F9LMnumjYBP6rnV74EPhAdx5LqUw03TjU88t+LPrr+PBoOy49flpZJTma/FD/8sa8hfeca70VRFJfD8t2bV70M5jAJ+NH52Yu72ez+brb44v3dbDazjb4fL8t/jF7+fvGVu9lsOBq/fzPoa0iHRsCP5vfzwavz+Xy++OLx9GZ+f9/XkL538/vG2zF4df7+txd9DecAmQM/+vD2siiKD1fvF188nv3S03BoXvyLwaAoiovz056Gc4gEvKR9c5wIuD+Ni3919U69DQJeMjg/Gwwe10jU2ztvwXoCbqqf0zgQJ1+/PPx8MRhcvX3d31gOkYCXNKbBr6p/9jocHpkAdxJwk1vkoDysY5kAd/I1UtPiNPjAJmBHe/y75pv/yF4svgWD87MeR3KYfAI3XZyf1k9rfdR7tPbX9zmSX9+Ii8HAJ3CbgJvqu6TxbfBTO4gw/g97Hf/J1y8mwKsIuEN9ozzdClZuqN9qV/9SE+BVzIE7DM7Prt6/+/T1TxcXvlLq39mwLEyAVzhq7DWlNryd9D0ElvgE7iRgCGYODMEEDMEEDMEEDMEEDMEEDMEEDMEEDMEEDMEEDMEEDMEEDMEEDMEEDMEEDMEEDMEEDMEEDMEEDMEEDMEEDMEEDMEEDMEEDMEEDMEEDMEEDMEEDMEEDMEEDMEEDMEEDMEEDMEEDMEEDMEEDMEEDMEEDMEEDMEEDMEEDMEEDMEEDMEEDMEEDMEEDMEEDMEEDMEEDMEEDMEEDMEEDMEEDMEEDMEEDMEEDMEEDMEEDMEEDMEEDMEEDMEEDMEEDMEEDMEEDMEEDMEEDMEEDMEEDMEEDMEEDMEEDMEEDMEEDMEEDMEEDMEEDMEEDMEEDMEEDMEEDMEEDMEEDMEEDMEEDMEEDMEEDMH+C5wVfvNWGEe+AAAAAElFTkSuQmCC\"/></td></tr></table>"
      ],
      "text/plain": [
       "<IPython.core.display.HTML object>"
      ]
     },
     "metadata": {},
     "output_type": "display_data"
    }
   ],
   "source": [
    "arena_configuration = AquariumArenaConfiguration(\n",
    "        size=(10, 5), sand_ground_color=True, attach_target=False, wall_height=1.5, wall_thickness=0.1\n",
    "        )\n",
    "arena = create_arena(arena_configuration=arena_configuration)\n",
    "visualize_mjcf(mjcf=arena)"
   ]
  },
  {
   "cell_type": "markdown",
   "metadata": {
    "id": "tCGQvuiHVo91"
   },
   "source": [
    "### 3. Creating the environment\n",
    "Now we can create the actual environment that combines the above morphology and arena. As discussed above, we have three different environment versions (each specifying a specific task) in which we can put our brittle star. Each version has a specific EnvironmentConfiguration."
   ]
  },
  {
   "cell_type": "code",
   "execution_count": 10,
   "metadata": {
    "ExecuteTime": {
     "end_time": "2024-01-16T14:13:10.165406Z",
     "start_time": "2024-01-16T14:13:10.149923Z"
    },
    "id": "YWHuHyaqZZd8"
   },
   "outputs": [],
   "source": [
    "from brb.brittle_star.environment.light.mjc_env import BrittleStarLightEnvironmentConfiguration\n",
    "from brb.brittle_star.environment.target.mjc_env import BrittleStarTargetEnvironmentConfiguration\n",
    "from brb.brittle_star.environment.locomotion.mjc_env import BrittleStarLocomotionEnvironmentConfiguration\n",
    "\n",
    "locomotion_environment_configuration = BrittleStarLocomotionEnvironmentConfiguration(\n",
    "         # If this value is > 0 then we will add randomly sampled noise to the initial joint positions and velocities \n",
    "        joint_randomization_noise_scale=0.0,\n",
    "        # Visualization mode \n",
    "        render_mode=\"rgb_array\",\n",
    "        # Number of seconds per episode \n",
    "        simulation_time=5,\n",
    "        # Number of physics substeps to do per control step \n",
    "        num_physics_steps_per_control_step=10\n",
    "        )\n",
    "target_locomotion_environment_configuration = BrittleStarTargetEnvironmentConfiguration(\n",
    "        # Distance to put our target at (targets are spawned on a circle around the starting location with this given radius).\n",
    "        target_distance=3.0,\n",
    "        joint_randomization_noise_scale=0.0,\n",
    "        render_mode=\"rgb_array\",\n",
    "        simulation_time=5,\n",
    "        num_physics_steps_per_control_step=10\n",
    "        )\n",
    "light_escape_environment_configuration = BrittleStarLightEnvironmentConfiguration(\n",
    "        # If this value is > 0, we will add perlin noise to the generated light map. Otherwise, the light map is a simple linear gradient.\n",
    "        #   Please only provide integer factors of 200.\n",
    "        light_perlin_noise_scale=0,\n",
    "        joint_randomization_noise_scale=0,\n",
    "        render_mode=\"rgb_array\",\n",
    "        simulation_time=5,\n",
    "        num_physics_steps_per_control_step=10\n",
    "        )"
   ]
  },
  {
   "cell_type": "markdown",
   "metadata": {
    "id": "fKGuNkH3WRdI"
   },
   "source": [
    "#### Creator\n",
    "We can now define a function that takes in a certain morphological specification, the arena configuration and the environment configuration and returns the actual environment. Note that we have added an additional argument to this function,`backend`, which can be used to choose between instantiating the MJC (native MuJoCo) or the MJX (JAX-based MuJoCo) implementation of the environment.\n",
    "\n",
    "This function also accepts a `num_environments` argument, which can be ignored for now. We will discuss this in the 'vectorization' section below."
   ]
  },
  {
   "cell_type": "code",
   "execution_count": 11,
   "metadata": {
    "ExecuteTime": {
     "end_time": "2024-01-16T14:13:10.165925Z",
     "start_time": "2024-01-16T14:13:10.157588Z"
    },
    "id": "_4R9PmCtWEdJ"
   },
   "outputs": [],
   "source": [
    "from mujoco_utils.environment.mjc_env import MJCEnv\n",
    "from brb.brittle_star.environment.light.mjc_env import BrittleStarLightMJCEnvironment\n",
    "from brb.brittle_star.environment.target.mjc_env import BrittleStarTargetMJCEnvironment\n",
    "from brb.brittle_star.environment.locomotion.mjc_env import BrittleStarLocomotionMJCEnvironment\n",
    "from brb.brittle_star.environment.light.mjx_env import BrittleStarLightMJXEnvironment\n",
    "from brb.brittle_star.environment.target.mjx_env import BrittleStarTargetMJXEnvironment\n",
    "from brb.brittle_star.environment.locomotion.mjx_env import BrittleStarLocomotionMJXEnvironment\n",
    "from mujoco_utils.environment.base import MuJoCoEnvironmentConfiguration\n",
    "\n",
    "\n",
    "def create_environment(\n",
    "        morphology_specification: BrittleStarMorphologySpecification,\n",
    "        arena_configuration: AquariumArenaConfiguration,\n",
    "        environment_configuration: MuJoCoEnvironmentConfiguration,\n",
    "        backend: str,\n",
    "        num_environments: int = 1\n",
    "        ) -> Union[MJCEnv, MJXGymEnvWrapper]:\n",
    "    assert backend in [\"MJC\", \"MJX\"], \"Please specify a valid backend; Either 'MJC' or 'MJX'\"\n",
    "\n",
    "    def _create_env() -> Union[MJCEnv, gymnasium.vector.AsyncVectorEnv, MJXGymEnvWrapper]:\n",
    "        morphology = create_morphology(\n",
    "                morphology_specification=morphology_specification\n",
    "                )\n",
    "        arena = create_arena(\n",
    "                arena_configuration=arena_configuration\n",
    "                )\n",
    "        if isinstance(environment_configuration, BrittleStarLocomotionEnvironmentConfiguration):\n",
    "            env_class = BrittleStarLocomotionMJCEnvironment if backend == \"MJC\" else BrittleStarLocomotionMJXEnvironment\n",
    "        elif isinstance(environment_configuration, BrittleStarTargetEnvironmentConfiguration):\n",
    "            env_class = BrittleStarTargetMJCEnvironment if backend == \"MJC\" else BrittleStarTargetMJXEnvironment\n",
    "        else:\n",
    "            env_class = BrittleStarLightMJCEnvironment if backend == \"MJC\" else BrittleStarLightMJXEnvironment\n",
    "\n",
    "        env = env_class(morphology=morphology, arena=arena, configuration=environment_configuration)\n",
    "        return env\n",
    "\n",
    "    if backend == \"MJC\":\n",
    "        if num_environments > 1:\n",
    "            return gymnasium.vector.AsyncVectorEnv(\n",
    "                    [_create_env for _ in range(num_environments)]\n",
    "                    )\n",
    "        else:\n",
    "            return _create_env()\n",
    "    else:\n",
    "        # MJXGymEnvWrapper takes care of the handling the consequences of functional programming made necessary by Jax \n",
    "        return MJXGymEnvWrapper(env=_create_env(), num_envs=num_environments)"
   ]
  },
  {
   "cell_type": "markdown",
   "metadata": {
    "collapsed": false,
    "jupyter": {
     "outputs_hidden": false
    }
   },
   "source": [
    "Given the above utility functions, the next code snippet instantiates the environment. \n",
    "Use this to test the influence of different parameters and configurations."
   ]
  },
  {
   "cell_type": "code",
   "execution_count": 12,
   "metadata": {
    "ExecuteTime": {
     "end_time": "2024-01-16T14:13:10.232653Z",
     "start_time": "2024-01-16T14:13:10.191154Z"
    },
    "collapsed": false,
    "jupyter": {
     "outputs_hidden": false
    }
   },
   "outputs": [
    {
     "data": {
      "text/html": [
       "<table class=\"show_images\" style=\"border-spacing:0px;\"><tr><td style=\"padding:1px;\"><img width=\"320\" height=\"240\" style=\"image-rendering:auto; object-fit:cover;\" src=\"data:image/png;base64,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\"/></td></tr></table>"
      ],
      "text/plain": [
       "<IPython.core.display.HTML object>"
      ]
     },
     "metadata": {},
     "output_type": "display_data"
    }
   ],
   "source": [
    "morphology_specification = default_brittle_star_morphology_specification(\n",
    "        num_arms=5, num_segments_per_arm=4, use_p_control=True, use_torque_control=False\n",
    "        )\n",
    "arena_configuration = AquariumArenaConfiguration(\n",
    "        size=(10, 5), sand_ground_color=True, attach_target=False, wall_height=1.5, wall_thickness=0.1\n",
    "        )\n",
    "environment_configuration = BrittleStarLightEnvironmentConfiguration(\n",
    "        joint_randomization_noise_scale=0.0,\n",
    "        light_perlin_noise_scale=0,\n",
    "        render_mode=\"rgb_array\",\n",
    "        simulation_time=5,\n",
    "        num_physics_steps_per_control_step=10\n",
    "        )\n",
    "env = create_environment(\n",
    "        morphology_specification=morphology_specification,\n",
    "        arena_configuration=arena_configuration,\n",
    "        environment_configuration=environment_configuration,\n",
    "        backend=\"MJC\"\n",
    "        )\n",
    "\n",
    "env.reset()  # Always need to reset the environment before doing anything else with it\n",
    "frame = env.render()\n",
    "media.show_image(post_environment_render(frame, environment_configuration=environment_configuration))\n",
    "env.close() # always close the environment after using it!"
   ]
  },
  {
   "cell_type": "markdown",
   "metadata": {
    "collapsed": false,
    "jupyter": {
     "outputs_hidden": false
    }
   },
   "source": [
    "## Using the environment\n",
    "In this section we will check how we can now actually use the environments. Let's start by instantiating both an MJC and MJX variant."
   ]
  },
  {
   "cell_type": "code",
   "execution_count": 13,
   "metadata": {
    "ExecuteTime": {
     "end_time": "2024-01-16T14:13:10.516186Z",
     "start_time": "2024-01-16T14:13:10.289479Z"
    },
    "collapsed": false,
    "jupyter": {
     "outputs_hidden": false
    }
   },
   "outputs": [],
   "source": [
    "mjc_env = create_environment(\n",
    "        morphology_specification=morphology_specification,\n",
    "        arena_configuration=arena_configuration,\n",
    "        environment_configuration=environment_configuration,\n",
    "        backend=\"MJC\"\n",
    "        )\n",
    "mjx_env = create_environment(\n",
    "        morphology_specification=morphology_specification,\n",
    "        arena_configuration=arena_configuration,\n",
    "        environment_configuration=environment_configuration,\n",
    "        backend=\"MJX\"\n",
    "        )"
   ]
  },
  {
   "cell_type": "markdown",
   "metadata": {
    "id": "HGaNtSd-GK5k"
   },
   "source": [
    "### Observation space\n",
    "The observation describes the dimensionality and range of the observations that the environment returns upon reset and after taking a step. As both the MJC and MJX variants implement the same environment, although with a different backend, they have the same observation space."
   ]
  },
  {
   "cell_type": "code",
   "execution_count": 14,
   "metadata": {
    "ExecuteTime": {
     "end_time": "2024-01-16T14:13:10.524801Z",
     "start_time": "2024-01-16T14:13:10.518603Z"
    },
    "colab": {
     "base_uri": "https://localhost:8080/"
    },
    "id": "VOu3oM4ZS1mm",
    "outputId": "4088bc68-107d-4684-b0db-46e56763b0e2"
   },
   "outputs": [
    {
     "name": "stdout",
     "output_type": "stream",
     "text": [
      "Dict('disk_angular_velocity': Box(-inf, inf, (3,), float32), 'disk_linear_velocity': Box(-inf, inf, (3,), float32), 'disk_position': Box(-inf, inf, (3,), float32), 'disk_rotation': Box(-3.1415927, 3.1415927, (3,), float32), 'in_plane_joint_position': Box(-0.5235988, 0.5235988, (20,), float32), 'in_plane_joint_velocity': Box(-inf, inf, (20,), float32), 'out_of_plane_joint_position': Box(-0.5235988, 0.5235988, (20,), float32), 'out_of_plane_joint_velocity': Box(-inf, inf, (20,), float32), 'segment_contact': Box(0.0, 1.0, (20,), float32), 'segment_light_intake': Box(0.0, 1.0, (20,), float32))\n",
      "\n",
      "Dict('disk_angular_velocity': Box(-inf, inf, (3,), float32), 'disk_linear_velocity': Box(-inf, inf, (3,), float32), 'disk_position': Box(-inf, inf, (3,), float32), 'disk_rotation': Box(-3.1415927, 3.1415927, (3,), float32), 'in_plane_joint_position': Box(-0.5235988, 0.5235988, (20,), float32), 'in_plane_joint_velocity': Box(-inf, inf, (20,), float32), 'out_of_plane_joint_position': Box(-0.5235988, 0.5235988, (20,), float32), 'out_of_plane_joint_velocity': Box(-inf, inf, (20,), float32), 'segment_contact': Box(0.0, 1.0, (20,), float32), 'segment_light_intake': Box(0.0, 1.0, (20,), float32))\n"
     ]
    }
   ],
   "source": [
    "print(mjc_env.observation_space)\n",
    "print()\n",
    "print(mjx_env.observation_space)"
   ]
  },
  {
   "cell_type": "markdown",
   "metadata": {
    "id": "Gd65GNHyGMlY"
   },
   "source": [
    "### Action space\n",
    "The action space describes the dimensionality and range of actions the environment expects in order to take a step. In essence, the environment maps each given action to the control signal of an actuator. Each joint is given an actuator that can control the joints position (either directly through position actuators or indirectly through torque actuators). For the in-plane joints, a positive actuator signal means that the segment will point leftwards (when looking at the segment from the central disc), and rightwards for a negative actuator signal. For the out-of-plane joints, a positive actuator signal means that the segment will point upwards and downwards for a negative actuator signal. "
   ]
  },
  {
   "cell_type": "code",
   "execution_count": 15,
   "metadata": {
    "ExecuteTime": {
     "end_time": "2024-01-16T14:13:10.525387Z",
     "start_time": "2024-01-16T14:13:10.520878Z"
    },
    "colab": {
     "base_uri": "https://localhost:8080/"
    },
    "id": "Tc9zKb81bEwB",
    "outputId": "496a166e-56cd-4c9b-9331-264fe9e168d9"
   },
   "outputs": [
    {
     "name": "stdout",
     "output_type": "stream",
     "text": [
      "Box(-0.5235988, 0.5235988, (40,), float32)\n",
      "\n",
      "Box(-0.5235988, 0.5235988, (40,), float32)\n"
     ]
    }
   ],
   "source": [
    "print(mjc_env.action_space)\n",
    "print()\n",
    "print(mjx_env.action_space)"
   ]
  },
  {
   "cell_type": "markdown",
   "metadata": {
    "collapsed": false,
    "jupyter": {
     "outputs_hidden": false
    }
   },
   "source": [
    "To help in knowing which action is mapped to which actuator, the following call returns a list of actuator names such that `actions[i]` is mapped to `actuator[i]`. "
   ]
  },
  {
   "cell_type": "code",
   "execution_count": 16,
   "metadata": {
    "ExecuteTime": {
     "end_time": "2024-01-16T14:13:10.527728Z",
     "start_time": "2024-01-16T14:13:10.523617Z"
    },
    "collapsed": false,
    "jupyter": {
     "outputs_hidden": false
    }
   },
   "outputs": [
    {
     "name": "stdout",
     "output_type": "stream",
     "text": [
      "['BrittleStarMorphology/arm_0_segment_0_in_plane_joint_p_control', 'BrittleStarMorphology/arm_0_segment_0_out_of_plane_joint_p_control', 'BrittleStarMorphology/arm_0_segment_1_in_plane_joint_p_control', 'BrittleStarMorphology/arm_0_segment_1_out_of_plane_joint_p_control', 'BrittleStarMorphology/arm_0_segment_2_in_plane_joint_p_control', 'BrittleStarMorphology/arm_0_segment_2_out_of_plane_joint_p_control', 'BrittleStarMorphology/arm_0_segment_3_in_plane_joint_p_control', 'BrittleStarMorphology/arm_0_segment_3_out_of_plane_joint_p_control', 'BrittleStarMorphology/arm_1_segment_0_in_plane_joint_p_control', 'BrittleStarMorphology/arm_1_segment_0_out_of_plane_joint_p_control', 'BrittleStarMorphology/arm_1_segment_1_in_plane_joint_p_control', 'BrittleStarMorphology/arm_1_segment_1_out_of_plane_joint_p_control', 'BrittleStarMorphology/arm_1_segment_2_in_plane_joint_p_control', 'BrittleStarMorphology/arm_1_segment_2_out_of_plane_joint_p_control', 'BrittleStarMorphology/arm_1_segment_3_in_plane_joint_p_control', 'BrittleStarMorphology/arm_1_segment_3_out_of_plane_joint_p_control', 'BrittleStarMorphology/arm_2_segment_0_in_plane_joint_p_control', 'BrittleStarMorphology/arm_2_segment_0_out_of_plane_joint_p_control', 'BrittleStarMorphology/arm_2_segment_1_in_plane_joint_p_control', 'BrittleStarMorphology/arm_2_segment_1_out_of_plane_joint_p_control', 'BrittleStarMorphology/arm_2_segment_2_in_plane_joint_p_control', 'BrittleStarMorphology/arm_2_segment_2_out_of_plane_joint_p_control', 'BrittleStarMorphology/arm_2_segment_3_in_plane_joint_p_control', 'BrittleStarMorphology/arm_2_segment_3_out_of_plane_joint_p_control', 'BrittleStarMorphology/arm_3_segment_0_in_plane_joint_p_control', 'BrittleStarMorphology/arm_3_segment_0_out_of_plane_joint_p_control', 'BrittleStarMorphology/arm_3_segment_1_in_plane_joint_p_control', 'BrittleStarMorphology/arm_3_segment_1_out_of_plane_joint_p_control', 'BrittleStarMorphology/arm_3_segment_2_in_plane_joint_p_control', 'BrittleStarMorphology/arm_3_segment_2_out_of_plane_joint_p_control', 'BrittleStarMorphology/arm_3_segment_3_in_plane_joint_p_control', 'BrittleStarMorphology/arm_3_segment_3_out_of_plane_joint_p_control', 'BrittleStarMorphology/arm_4_segment_0_in_plane_joint_p_control', 'BrittleStarMorphology/arm_4_segment_0_out_of_plane_joint_p_control', 'BrittleStarMorphology/arm_4_segment_1_in_plane_joint_p_control', 'BrittleStarMorphology/arm_4_segment_1_out_of_plane_joint_p_control', 'BrittleStarMorphology/arm_4_segment_2_in_plane_joint_p_control', 'BrittleStarMorphology/arm_4_segment_2_out_of_plane_joint_p_control', 'BrittleStarMorphology/arm_4_segment_3_in_plane_joint_p_control', 'BrittleStarMorphology/arm_4_segment_3_out_of_plane_joint_p_control']\n"
     ]
    }
   ],
   "source": [
    "print(mjc_env.actuators)"
   ]
  },
  {
   "cell_type": "markdown",
   "metadata": {
    "collapsed": false,
    "jupyter": {
     "outputs_hidden": false
    }
   },
   "source": [
    "Todo: discuss frame of reference for IP and OOP joints:\n",
    "* IP -> looking from proximal to distal of the arm -> positive angle means left, negative means right\n",
    "* OOP -> positive means up, negative means down"
   ]
  },
  {
   "cell_type": "markdown",
   "metadata": {
    "collapsed": false,
    "jupyter": {
     "outputs_hidden": false
    }
   },
   "source": [
    "### Running and visualizing an episode\n",
    "Now we will run the simulation environment and visualize it. As shown below, this happens in a similar manner for both the MJC and the MJX variants, as both follow the [Gymnasium interface](https://gymnasium.farama.org/content/basic_usage/). The only difference is that MJC handles numpy arrays, while MJX handles jax arrays.\n",
    "\n",
    "TODO: DISCUSS CAMERA_IDS for rendering from different perspectives"
   ]
  },
  {
   "cell_type": "markdown",
   "metadata": {
    "collapsed": false,
    "jupyter": {
     "outputs_hidden": false
    }
   },
   "source": [
    "#### MJC"
   ]
  },
  {
   "cell_type": "code",
   "execution_count": 17,
   "metadata": {
    "ExecuteTime": {
     "end_time": "2024-01-16T14:13:11.313666Z",
     "start_time": "2024-01-16T14:13:10.526630Z"
    },
    "collapsed": false,
    "jupyter": {
     "outputs_hidden": false
    }
   },
   "outputs": [
    {
     "data": {
      "text/html": [
       "<table class=\"show_videos\" style=\"border-spacing:0px;\"><tr><td style=\"padding:1px;\"><video controls width=\"320\" height=\"240\" style=\"object-fit:cover;\" loop autoplay muted>\n",
       "      <source src=\"data:video/mp4;base64,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\" type=\"video/mp4\"/>\n",
       "      This browser does not support the video tag.\n",
       "      </video></td></tr></table>"
      ],
      "text/plain": [
       "<IPython.core.display.HTML object>"
      ]
     },
     "metadata": {},
     "output_type": "display_data"
    }
   ],
   "source": [
    "done = False\n",
    "frames = []\n",
    "obs, info = mjc_env.reset()\n",
    "while not done:\n",
    "    actions = mjc_env.action_space.sample()\n",
    "    obs, reward, terminated, truncated, info = mjc_env.step(actions=actions)\n",
    "    frame = post_environment_render(mjc_env.render(), environment_configuration=environment_configuration)\n",
    "    frames.append(frame)\n",
    "    done = terminated | truncated\n",
    "media.show_video(images=frames)"
   ]
  },
  {
   "cell_type": "markdown",
   "metadata": {
    "collapsed": false,
    "jupyter": {
     "outputs_hidden": false
    }
   },
   "source": [
    "#### MJX\n",
    "Expect this cell to run longer the first time than the MJC variant (this is because the first environment calls trigger a JIT compilation)."
   ]
  },
  {
   "cell_type": "code",
   "execution_count": 18,
   "metadata": {
    "ExecuteTime": {
     "end_time": "2024-01-16T14:14:49.368408Z",
     "start_time": "2024-01-16T14:13:11.332419Z"
    },
    "collapsed": false,
    "jupyter": {
     "outputs_hidden": false
    }
   },
   "outputs": [
    {
     "data": {
      "text/html": [
       "<table class=\"show_videos\" style=\"border-spacing:0px;\"><tr><td style=\"padding:1px;\"><video controls width=\"320\" height=\"240\" style=\"object-fit:cover;\" loop autoplay muted>\n",
       "      <source src=\"data:video/mp4;base64,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\" type=\"video/mp4\"/>\n",
       "      This browser does not support the video tag.\n",
       "      </video></td></tr></table>"
      ],
      "text/plain": [
       "<IPython.core.display.HTML object>"
      ]
     },
     "metadata": {},
     "output_type": "display_data"
    }
   ],
   "source": [
    "done = False\n",
    "frames = []\n",
    "obs, info = mjx_env.reset()\n",
    "while not done:\n",
    "    actions = jnp.array(mjx_env.action_space.sample())\n",
    "    obs, reward, terminated, truncated, info = mjx_env.step(actions=actions)\n",
    "    frame = post_environment_render(mjx_env.render(), environment_configuration=environment_configuration)\n",
    "    frames.append(frame)\n",
    "    done = terminated | truncated\n",
    "media.show_video(images=frames)"
   ]
  },
  {
   "cell_type": "markdown",
   "metadata": {
    "id": "fOmP560VbMd3"
   },
   "source": [
    "Avoid memory leaks and always close your environment after using!"
   ]
  },
  {
   "cell_type": "code",
   "execution_count": 19,
   "metadata": {
    "ExecuteTime": {
     "end_time": "2024-01-16T14:14:49.378390Z",
     "start_time": "2024-01-16T14:14:49.368473Z"
    },
    "collapsed": false,
    "jupyter": {
     "outputs_hidden": false
    }
   },
   "outputs": [],
   "source": [
    "mjc_env.close()\n",
    "mjx_env.close()"
   ]
  },
  {
   "cell_type": "markdown",
   "metadata": {
    "collapsed": false,
    "jupyter": {
     "outputs_hidden": false
    }
   },
   "source": [
    "### Vectorization\n",
    "During optimization we often want multiple environments to run in parallel as this increases data collection speed. For instance with evolutionary optimization, this allows to evaluate multiple candidate solutions in parallel. Alternatively in the reinforcement learning setting, this can be used to simultaneously collect data from slightly different environment versions if we use randomization or noise."
   ]
  },
  {
   "cell_type": "markdown",
   "metadata": {
    "collapsed": false,
    "jupyter": {
     "outputs_hidden": false
    }
   },
   "source": [
    "#### MJC\n",
    "Given its nature, the MJC environment relies on multiprocessing on the CPU. As we conform to the Gymnasium interface, this can be done by using [Gymnasium's AsyncVectorEnv](https://gymnasium.farama.org/api/vector/#async-vector-env). When vectorizing over the CPU, we often use one environment instance for CPU core available. Nevertheless, we can't always expect a linear increase in speed with an increasing number of environment instances. Therefore it is always a good idea to test and compare multiple amounts."
   ]
  },
  {
   "cell_type": "code",
   "execution_count": 20,
   "metadata": {
    "ExecuteTime": {
     "end_time": "2024-01-16T14:14:50.893682Z",
     "start_time": "2024-01-16T14:14:49.380376Z"
    },
    "collapsed": false,
    "jupyter": {
     "outputs_hidden": false
    }
   },
   "outputs": [],
   "source": [
    "num_environments = 10\n",
    "\n",
    "morphology_specification = default_brittle_star_morphology_specification(\n",
    "        num_arms=5, num_segments_per_arm=4, use_p_control=True, use_torque_control=False\n",
    "        )\n",
    "arena_configuration = AquariumArenaConfiguration(\n",
    "        size=(10, 5), sand_ground_color=True, attach_target=False, wall_height=1.5, wall_thickness=0.1\n",
    "        )\n",
    "environment_configuration = BrittleStarLightEnvironmentConfiguration(\n",
    "        # Introduce variability between different instances of the environment\n",
    "        joint_randomization_noise_scale=0.01,\n",
    "        light_perlin_noise_scale=10,\n",
    "        render_mode=\"rgb_array\",\n",
    "        simulation_time=5,\n",
    "        num_physics_steps_per_control_step=10\n",
    "        )\n",
    "\n",
    "mjc_vectorized_env = create_environment(\n",
    "        morphology_specification=morphology_specification,\n",
    "        arena_configuration=arena_configuration,\n",
    "        environment_configuration=environment_configuration,\n",
    "        backend='MJC',\n",
    "        # Often set to the number of CPU cores available\n",
    "        num_environments=2\n",
    "        )"
   ]
  },
  {
   "cell_type": "markdown",
   "metadata": {
    "collapsed": false,
    "jupyter": {
     "outputs_hidden": false
    }
   },
   "source": [
    "As illustrated below by the adapted `observation_space` and `action_space`, our environment will now return a batched version of the original observations, and expect a batched version of the original actions. Each sample in these batches corresponds to the observations and actions of a single underlying environment."
   ]
  },
  {
   "cell_type": "code",
   "execution_count": 21,
   "metadata": {
    "ExecuteTime": {
     "end_time": "2024-01-16T14:14:50.896428Z",
     "start_time": "2024-01-16T14:14:50.891762Z"
    },
    "collapsed": false,
    "jupyter": {
     "outputs_hidden": false
    }
   },
   "outputs": [
    {
     "name": "stdout",
     "output_type": "stream",
     "text": [
      "Dict('disk_angular_velocity': Box(-inf, inf, (2, 3), float32), 'disk_linear_velocity': Box(-inf, inf, (2, 3), float32), 'disk_position': Box(-inf, inf, (2, 3), float32), 'disk_rotation': Box(-3.1415927, 3.1415927, (2, 3), float32), 'in_plane_joint_position': Box(-0.5235988, 0.5235988, (2, 20), float32), 'in_plane_joint_velocity': Box(-inf, inf, (2, 20), float32), 'out_of_plane_joint_position': Box(-0.5235988, 0.5235988, (2, 20), float32), 'out_of_plane_joint_velocity': Box(-inf, inf, (2, 20), float32), 'segment_contact': Box(0.0, 1.0, (2, 20), float32), 'segment_light_intake': Box(0.0, 1.0, (2, 20), float32))\n",
      "Box(-0.5235988, 0.5235988, (2, 40), float32)\n"
     ]
    }
   ],
   "source": [
    "print(mjc_vectorized_env.observation_space)\n",
    "print(mjc_vectorized_env.action_space)"
   ]
  },
  {
   "cell_type": "markdown",
   "metadata": {
    "collapsed": false,
    "jupyter": {
     "outputs_hidden": false
    }
   },
   "source": [
    "TODO: DO A STEP / RENDER WITH THIS VECTORIZED ENVIRONEMTN"
   ]
  },
  {
   "cell_type": "code",
   "execution_count": 22,
   "metadata": {
    "ExecuteTime": {
     "end_time": "2024-01-16T14:14:51.070066Z",
     "start_time": "2024-01-16T14:14:50.898400Z"
    },
    "collapsed": false,
    "jupyter": {
     "outputs_hidden": false
    }
   },
   "outputs": [],
   "source": [
    "mjc_vectorized_env.close()"
   ]
  },
  {
   "cell_type": "markdown",
   "metadata": {
    "collapsed": false,
    "jupyter": {
     "outputs_hidden": false
    }
   },
   "source": [
    "#### MJX\n",
    "\n",
    "The MJX environment can also be vectorized on the CPU, but it's main performance advantage comes from parallelization on the GPU (which JAX enables). MJX basically implements environment / physics steps as operator over big Jax arrays (e.g. an array of all current joint positions, one with all current joint velocities, ...). To parallelize, it just adds an additional batch dimension over these arrays. The [MJXGymEnvWrapper](https://github.com/Co-Evolve/mujoco-utils/blob/new-framework/mujoco_utils/environment/mjx_env.py#L330) implements this for us. When vectorizing over the GPU, we often run one environment instance per CUDA core available (this can be found on your GPU's datasheet). The cool thing is that a single GPU has a lot more of these cores than the number of CPU cores your computer (or even a regular cluster) has. \n",
    "\n",
    "As a rule-of-thumb:\n",
    "- Use MJC when you want to run a single environment (e.g. to do a quick test or to visualize a single rollout).\n",
    "- Use MJX when you (1) have a GPU available, and (2) are doing an optimization.\n",
    "- Read: https://mujoco.readthedocs.io/en/stable/mjx.html#mjx-the-sharp-bits"
   ]
  },
  {
   "cell_type": "code",
   "execution_count": 23,
   "metadata": {
    "ExecuteTime": {
     "end_time": "2024-01-16T14:14:51.155701Z",
     "start_time": "2024-01-16T14:14:51.100118Z"
    },
    "collapsed": false,
    "jupyter": {
     "outputs_hidden": false
    }
   },
   "outputs": [],
   "source": [
    "mjx_vectorized_env = create_environment(\n",
    "        morphology_specification=morphology_specification,\n",
    "        arena_configuration=arena_configuration,\n",
    "        environment_configuration=environment_configuration,\n",
    "        backend='MJX',\n",
    "        # Set to the available number of GPU CUDA cores (often >1000) \n",
    "        num_environments=2\n",
    "        ) "
   ]
  },
  {
   "cell_type": "code",
   "execution_count": 24,
   "metadata": {
    "ExecuteTime": {
     "end_time": "2024-01-16T14:14:51.158290Z",
     "start_time": "2024-01-16T14:14:51.155106Z"
    },
    "collapsed": false,
    "jupyter": {
     "outputs_hidden": false
    }
   },
   "outputs": [
    {
     "name": "stdout",
     "output_type": "stream",
     "text": [
      "Dict('disk_angular_velocity': Box(-inf, inf, (2, 3), float32), 'disk_linear_velocity': Box(-inf, inf, (2, 3), float32), 'disk_position': Box(-inf, inf, (2, 3), float32), 'disk_rotation': Box(-3.1415927, 3.1415927, (2, 3), float32), 'in_plane_joint_position': Box(-0.5235988, 0.5235988, (2, 20), float32), 'in_plane_joint_velocity': Box(-inf, inf, (2, 20), float32), 'out_of_plane_joint_position': Box(-0.5235988, 0.5235988, (2, 20), float32), 'out_of_plane_joint_velocity': Box(-inf, inf, (2, 20), float32), 'segment_contact': Box(0.0, 1.0, (2, 20), float32), 'segment_light_intake': Box(0.0, 1.0, (2, 20), float32))\n",
      "Box(-0.5235988, 0.5235988, (2, 40), float32)\n"
     ]
    }
   ],
   "source": [
    "print(mjc_vectorized_env.observation_space)\n",
    "print(mjc_vectorized_env.action_space)"
   ]
  },
  {
   "cell_type": "code",
   "execution_count": 25,
   "metadata": {
    "ExecuteTime": {
     "end_time": "2024-01-16T14:14:51.160667Z",
     "start_time": "2024-01-16T14:14:51.157942Z"
    },
    "collapsed": false,
    "jupyter": {
     "outputs_hidden": false
    }
   },
   "outputs": [],
   "source": [
    "# TODO: DO A STEP / RENDER WITH THIS VECTORIZED ENVIRONEMTN"
   ]
  },
  {
   "cell_type": "code",
   "execution_count": 26,
   "metadata": {
    "ExecuteTime": {
     "end_time": "2024-01-16T14:14:51.162393Z",
     "start_time": "2024-01-16T14:14:51.160411Z"
    },
    "collapsed": false,
    "jupyter": {
     "outputs_hidden": false
    }
   },
   "outputs": [],
   "source": [
    "mjx_vectorized_env.close()"
   ]
  },
  {
   "cell_type": "markdown",
   "metadata": {
    "collapsed": false,
    "jupyter": {
     "outputs_hidden": false
    }
   },
   "source": [
    "## Literature\n",
    "TODO"
   ]
  },
  {
   "cell_type": "code",
   "execution_count": null,
   "metadata": {
    "ExecuteTime": {
     "end_time": "2024-01-16T14:14:51.164041Z",
     "start_time": "2024-01-16T14:14:51.162123Z"
    },
    "collapsed": false,
    "jupyter": {
     "outputs_hidden": false
    }
   },
   "outputs": [],
   "source": []
  }
 ],
 "metadata": {
  "accelerator": "GPU",
  "colab": {
   "gpuType": "T4",
   "provenance": [],
   "toc_visible": true
  },
  "kernelspec": {
   "display_name": "Python 3 (ipykernel)",
   "language": "python",
   "name": "python3"
  },
  "language_info": {
   "codemirror_mode": {
    "name": "ipython",
    "version": 3
   },
   "file_extension": ".py",
   "mimetype": "text/x-python",
   "name": "python",
   "nbconvert_exporter": "python",
   "pygments_lexer": "ipython3",
   "version": "3.11.7"
  }
 },
 "nbformat": 4,
 "nbformat_minor": 4
}
